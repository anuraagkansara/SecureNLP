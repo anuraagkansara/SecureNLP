{
  "nbformat": 4,
  "nbformat_minor": 0,
  "metadata": {
    "colab": {
      "name": "T2_BERT",
      "provenance": [],
      "collapsed_sections": [],
      "mount_file_id": "1nsxQWYWL96InjdgIfKEhRlmXjGCb7uaB",
      "authorship_tag": "ABX9TyOJW8jBRL84FrIl0Fdj3gQd",
      "include_colab_link": true
    },
    "kernelspec": {
      "name": "python3",
      "display_name": "Python 3"
    },
    "accelerator": "GPU"
  },
  "cells": [
    {
      "cell_type": "markdown",
      "metadata": {
        "id": "view-in-github",
        "colab_type": "text"
      },
      "source": [
        "<a href=\"https://colab.research.google.com/github/anuraagkansara/SecureNLP/blob/master/code/T2_BERT.ipynb\" target=\"_parent\"><img src=\"https://colab.research.google.com/assets/colab-badge.svg\" alt=\"Open In Colab\"/></a>"
      ]
    },
    {
      "cell_type": "code",
      "metadata": {
        "id": "6cPTH5MdF1Zm",
        "colab_type": "code",
        "outputId": "f6201ce3-ba4d-4911-b876-4b85b02ae582",
        "colab": {
          "base_uri": "https://localhost:8080/",
          "height": 34
        }
      },
      "source": [
        "!git clone https://github.com/anuraagkansara/SecureNLP.git"
      ],
      "execution_count": 157,
      "outputs": [
        {
          "output_type": "stream",
          "text": [
            "fatal: destination path 'SecureNLP' already exists and is not an empty directory.\n"
          ],
          "name": "stdout"
        }
      ]
    },
    {
      "cell_type": "code",
      "metadata": {
        "id": "REJwGWv_Iu_j",
        "colab_type": "code",
        "outputId": "a3594723-883a-4c12-87cc-d3e44b5f8665",
        "colab": {
          "base_uri": "https://localhost:8080/",
          "height": 564
        }
      },
      "source": [
        "!pip install seqeval\n",
        "!pip install transformers"
      ],
      "execution_count": 158,
      "outputs": [
        {
          "output_type": "stream",
          "text": [
            "Requirement already satisfied: seqeval in /usr/local/lib/python3.6/dist-packages (0.0.12)\n",
            "Requirement already satisfied: numpy>=1.14.0 in /usr/local/lib/python3.6/dist-packages (from seqeval) (1.17.5)\n",
            "Requirement already satisfied: Keras>=2.2.4 in /usr/local/lib/python3.6/dist-packages (from seqeval) (2.2.5)\n",
            "Requirement already satisfied: h5py in /usr/local/lib/python3.6/dist-packages (from Keras>=2.2.4->seqeval) (2.8.0)\n",
            "Requirement already satisfied: pyyaml in /usr/local/lib/python3.6/dist-packages (from Keras>=2.2.4->seqeval) (3.13)\n",
            "Requirement already satisfied: keras-preprocessing>=1.1.0 in /usr/local/lib/python3.6/dist-packages (from Keras>=2.2.4->seqeval) (1.1.0)\n",
            "Requirement already satisfied: keras-applications>=1.0.8 in /usr/local/lib/python3.6/dist-packages (from Keras>=2.2.4->seqeval) (1.0.8)\n",
            "Requirement already satisfied: six>=1.9.0 in /usr/local/lib/python3.6/dist-packages (from Keras>=2.2.4->seqeval) (1.12.0)\n",
            "Requirement already satisfied: scipy>=0.14 in /usr/local/lib/python3.6/dist-packages (from Keras>=2.2.4->seqeval) (1.4.1)\n",
            "Requirement already satisfied: transformers in /usr/local/lib/python3.6/dist-packages (2.5.0)\n",
            "Requirement already satisfied: requests in /usr/local/lib/python3.6/dist-packages (from transformers) (2.21.0)\n",
            "Requirement already satisfied: sacremoses in /usr/local/lib/python3.6/dist-packages (from transformers) (0.0.38)\n",
            "Requirement already satisfied: numpy in /usr/local/lib/python3.6/dist-packages (from transformers) (1.17.5)\n",
            "Requirement already satisfied: filelock in /usr/local/lib/python3.6/dist-packages (from transformers) (3.0.12)\n",
            "Requirement already satisfied: regex!=2019.12.17 in /usr/local/lib/python3.6/dist-packages (from transformers) (2019.12.20)\n",
            "Requirement already satisfied: tqdm>=4.27 in /usr/local/lib/python3.6/dist-packages (from transformers) (4.28.1)\n",
            "Requirement already satisfied: boto3 in /usr/local/lib/python3.6/dist-packages (from transformers) (1.11.15)\n",
            "Requirement already satisfied: sentencepiece in /usr/local/lib/python3.6/dist-packages (from transformers) (0.1.85)\n",
            "Requirement already satisfied: tokenizers==0.5.0 in /usr/local/lib/python3.6/dist-packages (from transformers) (0.5.0)\n",
            "Requirement already satisfied: idna<2.9,>=2.5 in /usr/local/lib/python3.6/dist-packages (from requests->transformers) (2.8)\n",
            "Requirement already satisfied: urllib3<1.25,>=1.21.1 in /usr/local/lib/python3.6/dist-packages (from requests->transformers) (1.24.3)\n",
            "Requirement already satisfied: certifi>=2017.4.17 in /usr/local/lib/python3.6/dist-packages (from requests->transformers) (2019.11.28)\n",
            "Requirement already satisfied: chardet<3.1.0,>=3.0.2 in /usr/local/lib/python3.6/dist-packages (from requests->transformers) (3.0.4)\n",
            "Requirement already satisfied: joblib in /usr/local/lib/python3.6/dist-packages (from sacremoses->transformers) (0.14.1)\n",
            "Requirement already satisfied: click in /usr/local/lib/python3.6/dist-packages (from sacremoses->transformers) (7.0)\n",
            "Requirement already satisfied: six in /usr/local/lib/python3.6/dist-packages (from sacremoses->transformers) (1.12.0)\n",
            "Requirement already satisfied: s3transfer<0.4.0,>=0.3.0 in /usr/local/lib/python3.6/dist-packages (from boto3->transformers) (0.3.3)\n",
            "Requirement already satisfied: jmespath<1.0.0,>=0.7.1 in /usr/local/lib/python3.6/dist-packages (from boto3->transformers) (0.9.4)\n",
            "Requirement already satisfied: botocore<1.15.0,>=1.14.15 in /usr/local/lib/python3.6/dist-packages (from boto3->transformers) (1.14.15)\n",
            "Requirement already satisfied: docutils<0.16,>=0.10 in /usr/local/lib/python3.6/dist-packages (from botocore<1.15.0,>=1.14.15->boto3->transformers) (0.15.2)\n",
            "Requirement already satisfied: python-dateutil<3.0.0,>=2.1 in /usr/local/lib/python3.6/dist-packages (from botocore<1.15.0,>=1.14.15->boto3->transformers) (2.6.1)\n"
          ],
          "name": "stdout"
        }
      ]
    },
    {
      "cell_type": "code",
      "metadata": {
        "id": "IjGWaVlvIxI5",
        "colab_type": "code",
        "colab": {}
      },
      "source": [
        "import pandas as pd\n",
        "import math\n",
        "import numpy as np\n",
        "from seqeval.metrics import f1_score\n",
        "from seqeval.metrics import classification_report,accuracy_score,f1_score\n",
        "import torch.nn.functional as F"
      ],
      "execution_count": 0,
      "outputs": []
    },
    {
      "cell_type": "code",
      "metadata": {
        "id": "KM0sAMmOI0si",
        "colab_type": "code",
        "colab": {}
      },
      "source": [
        "import torch\n",
        "import os\n",
        "from tqdm import tqdm,trange\n",
        "from torch.optim import Adam\n",
        "from torch.utils.data import TensorDataset, DataLoader, RandomSampler, SequentialSampler\n",
        "from keras.preprocessing.sequence import pad_sequences\n",
        "from sklearn.model_selection import train_test_split\n",
        "from transformers import BertTokenizer, BertConfig\n",
        "from transformers import BertForTokenClassification, AdamW"
      ],
      "execution_count": 0,
      "outputs": []
    },
    {
      "cell_type": "code",
      "metadata": {
        "id": "4rHEjwkII24b",
        "colab_type": "code",
        "colab": {}
      },
      "source": [
        "data_path = \"SecureNLP/train/tokenized\"\n"
      ],
      "execution_count": 0,
      "outputs": []
    },
    {
      "cell_type": "code",
      "metadata": {
        "id": "P1yFShKjkGQ5",
        "colab_type": "code",
        "colab": {}
      },
      "source": [
        "\n",
        "def sentenceRead(path, sep):\n",
        "    total_sentences = 0\n",
        "    filenames = os.listdir(path)                    # gets all the files in the folder where data is present\n",
        "    sentences = []                                  # initialize empty list named sentence\n",
        "    for filename in filenames:\n",
        "        with open(path + filename) as file:                               \n",
        "            lines = file.read()                     # reads entire file from a folder\n",
        "        lines = lines.split(sep)                    # split the sentence by newline\n",
        "        for line in lines:              \n",
        "            l = [] \n",
        "            total_sentences += 1                                 # inilialize empty list to hold the single lines\n",
        "            for i in line.splitlines():             # for x in a single line of a sentence\n",
        "                # if len(i) < 1:\n",
        "                #   continue\n",
        "                w = i.split(' ')                    # split x into two parts...... one having the word and another having the iob tag\n",
        "                if w[0] == \"''\":                    # if we found no word on the line of a sentence, then make w[0] as \"\n",
        "                    w[0] = '\"'                      # the data is such that after every sentence (full stop),\n",
        "                if len(w) == 2:                     # we have only a newline character in a line, followed by a word in next line \n",
        "                    k = []\n",
        "                    k.append(total_sentences)\n",
        "                    k.append(w[0])\n",
        "                    k.append(w[1])\n",
        "                    sentences.append(k)           # only when we have a 'word' and a 'iob' tag in w (making len(w) == 2), we will append\n",
        "\n",
        "            # if sum([x[1] == 'O' for x in l]) < len(l): # number of 'Os' found are less than length of the sentence, then add that sentence\n",
        "            #  sentences.append(l)                         # to the list, since number of 'Os' are less means we have other iob tags too.\n",
        "    return sentences,total_sentences                         # append  only those sentences which have tags other than 'O' as well\n"
      ],
      "execution_count": 0,
      "outputs": []
    },
    {
      "cell_type": "code",
      "metadata": {
        "id": "u2Av0oswxe-x",
        "colab_type": "code",
        "colab": {}
      },
      "source": [
        "train,train_count = sentenceRead(\"SecureNLP/train/tokenized/\", \" \\n\")   #training data"
      ],
      "execution_count": 0,
      "outputs": []
    },
    {
      "cell_type": "code",
      "metadata": {
        "id": "jPFS-pewV1Yh",
        "colab_type": "code",
        "colab": {}
      },
      "source": [
        "dev,dev_count = sentenceRead(\"SecureNLP/dev/tokenized/\", \" \\n\")\n",
        "test = []\n",
        "test_count = 0\n",
        "for i in [1, 2, 3]:\n",
        "    x, tc = sentenceRead(f\"SecureNLP/test_{i}/tokenized/\", \"\\n\\n\")\n",
        "    test_count += tc \n",
        "    test.extend(x)  #adds another list to end of previous list\n",
        "train.extend(test)\n",
        "train.extend(dev)"
      ],
      "execution_count": 0,
      "outputs": []
    },
    {
      "cell_type": "code",
      "metadata": {
        "id": "RywZa51vxijI",
        "colab_type": "code",
        "colab": {}
      },
      "source": [
        "df_data = pd.DataFrame(train, columns = [\"Sentence #\",'Word', 'Tag']) \n",
        "df_data.insert(2,\"POS\",\"None\")"
      ],
      "execution_count": 0,
      "outputs": []
    },
    {
      "cell_type": "code",
      "metadata": {
        "id": "_Qy73gHunviV",
        "colab_type": "code",
        "colab": {}
      },
      "source": [
        "# Working with testing data\n",
        "\n",
        "total_sentences = 0\n",
        "sentencesout = list()\n",
        "# tokenout = []\n",
        "with open('SecureNLP/Task2.test') as fileout:                               \n",
        "  linesout = fileout.read()  \n",
        "linesout = linesout.split('\\n\\t\\n')\n",
        "# print(linesout[0])\n",
        "for line in linesout:\n",
        "  \n",
        "  l = []     \n",
        "  t=[]                             # inilialize empty list to hold the single lines\n",
        "  total_sentences += 1\n",
        "  for i in line.splitlines():             # for x in a single line of a sentence\n",
        "      # if len(i) < 1:\n",
        "      #   continue\n",
        "      w = i.split('\\t')                    # split x into two parts...... one having the word and another having the iob tag\n",
        "      if w[0] == \"''\":                    # if we found no word on the line of a sentence, then make w[0] as \"\n",
        "          w[0] = '\"'                      # the data is such that after every sentence (full stop),\n",
        "      if len(w) == 2:                     # we have only a newline character in a line, followed by a word in next line\n",
        "        k = []\n",
        "        k.append(total_sentences)\n",
        "        k.append(w[0])\n",
        "        k.append(w[1])\n",
        "        sentencesout.append(k)           # only when we have a 'word' and a 'iob' tag in w (making len(w) == 2), we will append\n",
        "  # t = np.array(t)                       # converts entire list 'l' into numpy array\n",
        "  # if sum([x[1] == 'O' for x in l]) < len(l): # number of 'Os' found are less than length of the sentence, then add that sentence \n",
        "  # tokenout.append(t) \n",
        "\n",
        "df_test = pd.DataFrame(sentencesout, columns = ['Sentence #','Word', 'Tag']) \n",
        "df_test.insert(2,\"POS\",\"None\")\n",
        "# sen_no_test = []\n",
        "# num = 1\n",
        "# for i in df_test['Word']:\n",
        "#   sen_no_test.append(\"Sentence: \"+str(num))\n",
        "#   if i == '.':\n",
        "#     num += 1\n",
        "# df_test.insert(0,\"Sentence #\",sen_no_test)"
      ],
      "execution_count": 0,
      "outputs": []
    },
    {
      "cell_type": "code",
      "metadata": {
        "id": "ZIgaM2Fvn4-B",
        "colab_type": "code",
        "outputId": "a762702f-b1cb-4d5b-e547-a15d5829699a",
        "colab": {
          "base_uri": "https://localhost:8080/",
          "height": 142
        }
      },
      "source": [
        "# df_test = df_test[:-1]\n",
        "df_test.tail(5)\n",
        "df_data[df_data['Word'] == 'Alliance']\n",
        "# df_test[df_test['Sentence #'] == 'Sentence: 99']\n",
        "# df_test"
      ],
      "execution_count": 243,
      "outputs": [
        {
          "output_type": "execute_result",
          "data": {
            "text/html": [
              "<div>\n",
              "<style scoped>\n",
              "    .dataframe tbody tr th:only-of-type {\n",
              "        vertical-align: middle;\n",
              "    }\n",
              "\n",
              "    .dataframe tbody tr th {\n",
              "        vertical-align: top;\n",
              "    }\n",
              "\n",
              "    .dataframe thead th {\n",
              "        text-align: right;\n",
              "    }\n",
              "</style>\n",
              "<table border=\"1\" class=\"dataframe\">\n",
              "  <thead>\n",
              "    <tr style=\"text-align: right;\">\n",
              "      <th></th>\n",
              "      <th>Sentence #</th>\n",
              "      <th>Word</th>\n",
              "      <th>POS</th>\n",
              "      <th>Tag</th>\n",
              "    </tr>\n",
              "  </thead>\n",
              "  <tbody>\n",
              "    <tr>\n",
              "      <th>194</th>\n",
              "      <td>10</td>\n",
              "      <td>Alliance</td>\n",
              "      <td>None</td>\n",
              "      <td>O</td>\n",
              "    </tr>\n",
              "    <tr>\n",
              "      <th>221</th>\n",
              "      <td>10</td>\n",
              "      <td>Alliance</td>\n",
              "      <td>None</td>\n",
              "      <td>I-Entity</td>\n",
              "    </tr>\n",
              "    <tr>\n",
              "      <th>171744</th>\n",
              "      <td>6089</td>\n",
              "      <td>Alliance</td>\n",
              "      <td>None</td>\n",
              "      <td>O</td>\n",
              "    </tr>\n",
              "  </tbody>\n",
              "</table>\n",
              "</div>"
            ],
            "text/plain": [
              "        Sentence #      Word   POS       Tag\n",
              "194             10  Alliance  None         O\n",
              "221             10  Alliance  None  I-Entity\n",
              "171744        6089  Alliance  None         O"
            ]
          },
          "metadata": {
            "tags": []
          },
          "execution_count": 243
        }
      ]
    },
    {
      "cell_type": "code",
      "metadata": {
        "id": "AJ2lfIghByQd",
        "colab_type": "code",
        "outputId": "8503b3d3-e9dc-403d-b917-0e3b4609501e",
        "colab": {
          "base_uri": "https://localhost:8080/",
          "height": 51
        }
      },
      "source": [
        "df_data.Tag.unique()"
      ],
      "execution_count": 244,
      "outputs": [
        {
          "output_type": "execute_result",
          "data": {
            "text/plain": [
              "array(['O', 'B-Entity', 'I-Entity', 'B-Action', 'B-Modifier', 'I-Action',\n",
              "       'I-Modifier'], dtype=object)"
            ]
          },
          "metadata": {
            "tags": []
          },
          "execution_count": 244
        }
      ]
    },
    {
      "cell_type": "code",
      "metadata": {
        "id": "auszBCv2CT_v",
        "colab_type": "code",
        "outputId": "d2f93d17-9974-4f11-9dea-d093bd471cb0",
        "colab": {
          "base_uri": "https://localhost:8080/",
          "height": 153
        }
      },
      "source": [
        "df_data.Tag.value_counts()\n"
      ],
      "execution_count": 245,
      "outputs": [
        {
          "output_type": "execute_result",
          "data": {
            "text/plain": [
              "O             332239\n",
              "I-Entity       23333\n",
              "B-Entity        8503\n",
              "B-Action        3990\n",
              "B-Modifier      2498\n",
              "I-Action         824\n",
              "I-Modifier       138\n",
              "Name: Tag, dtype: int64"
            ]
          },
          "metadata": {
            "tags": []
          },
          "execution_count": 245
        }
      ]
    },
    {
      "cell_type": "code",
      "metadata": {
        "id": "gL2uTJ0jCYTp",
        "colab_type": "code",
        "colab": {}
      },
      "source": [
        "class SentenceGetter(object):\n",
        "    \n",
        "    def __init__(self, data):\n",
        "        self.n_sent = 1\n",
        "        self.data = data\n",
        "        self.empty = False\n",
        "        agg_func = lambda s: [(w, p, t) for w, p, t in zip(s[\"Word\"].values.tolist(),\n",
        "                                                           s[\"POS\"].values.tolist(),\n",
        "                                                           s[\"Tag\"].values.tolist())]\n",
        "        # print(self.data)\n",
        "        self.grouped = self.data.groupby(\"Sentence #\").apply(agg_func)\n",
        "        self.sentences = [s for s in self.grouped]\n",
        "        \n",
        "\n",
        "    def get_next(self):\n",
        "        try:\n",
        "            s = self.grouped[\"{}\".format(self.n_sent)]\n",
        "            self.n_sent += 1\n",
        "            print(\"inside getnext\")\n",
        "            return s\n",
        "        except:\n",
        "            return None"
      ],
      "execution_count": 0,
      "outputs": []
    },
    {
      "cell_type": "code",
      "metadata": {
        "id": "bpHbdARSCd2J",
        "colab_type": "code",
        "colab": {}
      },
      "source": [
        "getter = SentenceGetter(df_data)"
      ],
      "execution_count": 0,
      "outputs": []
    },
    {
      "cell_type": "code",
      "metadata": {
        "id": "y7ZZ9Y2qoBkU",
        "colab_type": "code",
        "colab": {}
      },
      "source": [
        "getter_test = SentenceGetter(df_test)"
      ],
      "execution_count": 0,
      "outputs": []
    },
    {
      "cell_type": "code",
      "metadata": {
        "id": "7cueXRDAIZaX",
        "colab_type": "code",
        "colab": {}
      },
      "source": [
        "# df_data.head(50)"
      ],
      "execution_count": 0,
      "outputs": []
    },
    {
      "cell_type": "code",
      "metadata": {
        "id": "2pmTrxwYCelp",
        "colab_type": "code",
        "colab": {}
      },
      "source": [
        "sentences = [[s[0] for s in sent] for sent in getter.sentences]\n",
        "# sentences[:5]"
      ],
      "execution_count": 0,
      "outputs": []
    },
    {
      "cell_type": "code",
      "metadata": {
        "id": "HneqK27VoM_H",
        "colab_type": "code",
        "outputId": "e3605014-3a46-421b-8eb3-2826b68b2fde",
        "colab": {
          "base_uri": "https://localhost:8080/",
          "height": 34
        }
      },
      "source": [
        "sentences_test = [[s[0] for s in sent] for sent in getter_test.sentences]\n",
        "# sentences_test[:4]\n",
        "len(sentences_test)"
      ],
      "execution_count": 251,
      "outputs": [
        {
          "output_type": "execute_result",
          "data": {
            "text/plain": [
              "618"
            ]
          },
          "metadata": {
            "tags": []
          },
          "execution_count": 251
        }
      ]
    },
    {
      "cell_type": "code",
      "metadata": {
        "id": "8vTBTOxbCejo",
        "colab_type": "code",
        "outputId": "74d3eb9c-067c-4bc8-9349-48c804ca963a",
        "colab": {
          "base_uri": "https://localhost:8080/",
          "height": 71
        }
      },
      "source": [
        "poses = [[s[1] for s in sent] for sent in getter.sentences]\n",
        "print(poses[0])\n",
        "labels = [[s[2] for s in sent] for sent in getter.sentences]\n",
        "print(labels[0])"
      ],
      "execution_count": 252,
      "outputs": [
        {
          "output_type": "stream",
          "text": [
            "['None', 'None', 'None', 'None', 'None', 'None', 'None', 'None', 'None', 'None', 'None', 'None', 'None', 'None', 'None', 'None', 'None', 'None', 'None', 'None', 'None', 'None', 'None', 'None', 'None', 'None', 'None', 'None', 'None', 'None', 'None', 'None', 'None', 'None', 'None', 'None', 'None', 'None', 'None', 'None', 'None', 'None', 'None', 'None', 'None', 'None', 'None', 'None', 'None', 'None', 'None', 'None', 'None', 'None', 'None', 'None', 'None', 'None', 'None', 'None', 'None', 'None', 'None', 'None', 'None', 'None', 'None', 'None', 'None', 'None', 'None', 'None', 'None', 'None', 'None', 'None', 'None', 'None', 'None', 'None', 'None', 'None', 'None', 'None', 'None', 'None', 'None', 'None', 'None', 'None', 'None', 'None', 'None', 'None', 'None', 'None', 'None', 'None', 'None', 'None', 'None', 'None', 'None', 'None', 'None', 'None', 'None', 'None', 'None', 'None', 'None', 'None', 'None', 'None', 'None', 'None', 'None', 'None', 'None', 'None', 'None', 'None', 'None', 'None', 'None', 'None', 'None', 'None', 'None', 'None', 'None', 'None', 'None', 'None', 'None', 'None', 'None', 'None', 'None', 'None', 'None', 'None', 'None', 'None', 'None', 'None', 'None', 'None', 'None', 'None', 'None', 'None', 'None', 'None', 'None', 'None', 'None', 'None', 'None', 'None', 'None']\n",
            "['O', 'O', 'O', 'O', 'O', 'O', 'O', 'O', 'O', 'O', 'O', 'O', 'O', 'O', 'O', 'O', 'O', 'O', 'O', 'O', 'O', 'O', 'O', 'O', 'O', 'O', 'O', 'O', 'O', 'O', 'O', 'O', 'O', 'O', 'O', 'O', 'O', 'O', 'O', 'O', 'O', 'O', 'O', 'O', 'O', 'O', 'O', 'O', 'O', 'O', 'O', 'O', 'O', 'O', 'O', 'O', 'O', 'O', 'O', 'O', 'O', 'O', 'O', 'O', 'O', 'O', 'B-Entity', 'I-Entity', 'I-Entity', 'I-Entity', 'I-Entity', 'I-Entity', 'B-Action', 'O', 'B-Entity', 'I-Entity', 'I-Entity', 'O', 'O', 'O', 'O', 'O', 'O', 'O', 'O', 'O', 'O', 'O', 'O', 'O', 'O', 'O', 'O', 'O', 'O', 'O', 'O', 'O', 'O', 'O', 'O', 'O', 'O', 'O', 'O', 'O', 'O', 'O', 'O', 'O', 'O', 'O', 'O', 'O', 'O', 'O', 'O', 'O', 'O', 'O', 'O', 'O', 'O', 'O', 'O', 'O', 'O', 'O', 'O', 'O', 'O', 'O', 'O', 'O', 'O', 'O', 'O', 'O', 'O', 'O', 'O', 'O', 'O', 'O', 'O', 'O', 'O', 'O', 'O', 'O', 'O', 'O', 'O', 'O', 'O', 'O', 'O', 'O', 'O', 'O', 'O']\n"
          ],
          "name": "stdout"
        }
      ]
    },
    {
      "cell_type": "code",
      "metadata": {
        "id": "aEzNEl72ojRQ",
        "colab_type": "code",
        "outputId": "e1bbe54e-6a13-499a-f2fc-b0afc65cd66c",
        "colab": {
          "base_uri": "https://localhost:8080/",
          "height": 51
        }
      },
      "source": [
        "poses_test = [[s[1] for s in sent] for sent in getter_test.sentences]\n",
        "print(poses_test[0])\n",
        "labels_test = [[s[2] for s in sent] for sent in getter_test.sentences]\n",
        "print(labels_test[0])"
      ],
      "execution_count": 253,
      "outputs": [
        {
          "output_type": "stream",
          "text": [
            "['None', 'None', 'None', 'None', 'None', 'None', 'None', 'None', 'None', 'None', 'None', 'None', 'None', 'None', 'None']\n",
            "['O', 'O', 'O', 'O', 'O', 'O', 'O', 'O', 'O', 'O', 'O', 'O', 'O', 'O', 'O']\n"
          ],
          "name": "stdout"
        }
      ]
    },
    {
      "cell_type": "code",
      "metadata": {
        "id": "t1WEBUtdCehp",
        "colab_type": "code",
        "colab": {}
      },
      "source": [
        "tags_vals = list(set(df_data[\"Tag\"].values))\n"
      ],
      "execution_count": 0,
      "outputs": []
    },
    {
      "cell_type": "code",
      "metadata": {
        "id": "DmJX2FXnotSW",
        "colab_type": "code",
        "colab": {}
      },
      "source": [
        "tags_vals_test = list(set(df_test[\"Tag\"].values))\n"
      ],
      "execution_count": 0,
      "outputs": []
    },
    {
      "cell_type": "code",
      "metadata": {
        "id": "deOEQbYFCedk",
        "colab_type": "code",
        "colab": {}
      },
      "source": [
        "tags_vals.append('X')\n",
        "tags_vals.append('[CLS]')\n",
        "tags_vals.append('[SEP]')\n",
        "tags_vals = set(tags_vals)\n"
      ],
      "execution_count": 0,
      "outputs": []
    },
    {
      "cell_type": "code",
      "metadata": {
        "id": "eUG4ySO7o1ly",
        "colab_type": "code",
        "colab": {}
      },
      "source": [
        "tags_vals_test.append('X')\n",
        "tags_vals_test.append('[CLS]')\n",
        "tags_vals_test.append('[SEP]')\n",
        "tags_vals_test = set(tags_vals_test)\n"
      ],
      "execution_count": 0,
      "outputs": []
    },
    {
      "cell_type": "code",
      "metadata": {
        "id": "pfWCnFcoDDss",
        "colab_type": "code",
        "outputId": "8884e8ca-20a7-461b-fab5-eb32b204f97f",
        "colab": {
          "base_uri": "https://localhost:8080/",
          "height": 153
        }
      },
      "source": [
        "df_data.Tag.value_counts()"
      ],
      "execution_count": 258,
      "outputs": [
        {
          "output_type": "execute_result",
          "data": {
            "text/plain": [
              "O             332239\n",
              "I-Entity       23333\n",
              "B-Entity        8503\n",
              "B-Action        3990\n",
              "B-Modifier      2498\n",
              "I-Action         824\n",
              "I-Modifier       138\n",
              "Name: Tag, dtype: int64"
            ]
          },
          "metadata": {
            "tags": []
          },
          "execution_count": 258
        }
      ]
    },
    {
      "cell_type": "code",
      "metadata": {
        "id": "UfrgB1AUpDyZ",
        "colab_type": "code",
        "outputId": "bbe9f493-eb23-4e9f-bddb-61689d360da7",
        "colab": {
          "base_uri": "https://localhost:8080/",
          "height": 136
        }
      },
      "source": [
        "df_test.Tag.value_counts()"
      ],
      "execution_count": 259,
      "outputs": [
        {
          "output_type": "execute_result",
          "data": {
            "text/plain": [
              "O             12119\n",
              "I-Entity        499\n",
              "B-Entity        249\n",
              "B-Action        125\n",
              "B-Modifier       79\n",
              "I-Action          9\n",
              "Name: Tag, dtype: int64"
            ]
          },
          "metadata": {
            "tags": []
          },
          "execution_count": 259
        }
      ]
    },
    {
      "cell_type": "code",
      "metadata": {
        "id": "qEMaF4asC6DH",
        "colab_type": "code",
        "colab": {}
      },
      "source": [
        "# Set a dict for mapping id to tag name\n",
        "#tag2idx = {t: i for i, t in enumerate(tags_vals)}\n",
        "\n",
        "# Recommend to set it by manual define, good for reusing\n",
        "tag2idx={'I-Entity': 1,\n",
        " 'B-Entity': 2,\n",
        " 'B-Action': 0,\n",
        " 'B-Modifier': 3,\n",
        " 'I-Action': 4,\n",
        " 'I-Modifier': 5,\n",
        " 'O' : 6,\n",
        " 'X' : 9,\n",
        " '[CLS]':7,\n",
        " '[SEP]':8}"
      ],
      "execution_count": 0,
      "outputs": []
    },
    {
      "cell_type": "code",
      "metadata": {
        "id": "4nPbV75LDd6C",
        "colab_type": "code",
        "outputId": "dde3beb9-839a-49b1-e17d-860d1bd9739e",
        "colab": {
          "base_uri": "https://localhost:8080/",
          "height": 187
        }
      },
      "source": [
        "tag2idx"
      ],
      "execution_count": 261,
      "outputs": [
        {
          "output_type": "execute_result",
          "data": {
            "text/plain": [
              "{'B-Action': 0,\n",
              " 'B-Entity': 2,\n",
              " 'B-Modifier': 3,\n",
              " 'I-Action': 4,\n",
              " 'I-Entity': 1,\n",
              " 'I-Modifier': 5,\n",
              " 'O': 6,\n",
              " 'X': 9,\n",
              " '[CLS]': 7,\n",
              " '[SEP]': 8}"
            ]
          },
          "metadata": {
            "tags": []
          },
          "execution_count": 261
        }
      ]
    },
    {
      "cell_type": "code",
      "metadata": {
        "id": "GlT3nMkQDjFB",
        "colab_type": "code",
        "outputId": "0ab07d71-3f42-48cb-9585-3fe94ff8a984",
        "colab": {
          "base_uri": "https://localhost:8080/",
          "height": 187
        }
      },
      "source": [
        "# Mapping index to name\n",
        "tag2name={tag2idx[key] : key for key in tag2idx.keys()}\n",
        "tag2name"
      ],
      "execution_count": 262,
      "outputs": [
        {
          "output_type": "execute_result",
          "data": {
            "text/plain": [
              "{0: 'B-Action',\n",
              " 1: 'I-Entity',\n",
              " 2: 'B-Entity',\n",
              " 3: 'B-Modifier',\n",
              " 4: 'I-Action',\n",
              " 5: 'I-Modifier',\n",
              " 6: 'O',\n",
              " 7: '[CLS]',\n",
              " 8: '[SEP]',\n",
              " 9: 'X'}"
            ]
          },
          "metadata": {
            "tags": []
          },
          "execution_count": 262
        }
      ]
    },
    {
      "cell_type": "code",
      "metadata": {
        "id": "p2pfa-zDDtsC",
        "colab_type": "code",
        "colab": {}
      },
      "source": [
        "device = torch.device(\"cuda\" if torch.cuda.is_available() else \"cpu\")\n",
        "n_gpu = torch.cuda.device_count()"
      ],
      "execution_count": 0,
      "outputs": []
    },
    {
      "cell_type": "code",
      "metadata": {
        "id": "kuRYxLDFDyMQ",
        "colab_type": "code",
        "colab": {}
      },
      "source": [
        "vocabulary = 'drive/My Drive/NLP project/vocab.txt'"
      ],
      "execution_count": 0,
      "outputs": []
    },
    {
      "cell_type": "code",
      "metadata": {
        "id": "VxrJOZ4REBy5",
        "colab_type": "code",
        "colab": {}
      },
      "source": [
        "# Len of the sentence must be not bigger than the training model\n",
        "# See model's 'max_position_embeddings' = 512\n",
        "max_len  = 45"
      ],
      "execution_count": 0,
      "outputs": []
    },
    {
      "cell_type": "code",
      "metadata": {
        "id": "9APGClwGEEqw",
        "colab_type": "code",
        "colab": {}
      },
      "source": [
        "# load tokenizer, with manual file address or pretrained address\n",
        "tokenizer=BertTokenizer(vocab_file=vocabulary,do_lower_case=False)"
      ],
      "execution_count": 0,
      "outputs": []
    },
    {
      "cell_type": "code",
      "metadata": {
        "id": "dbpKNPJFEHNo",
        "colab_type": "code",
        "outputId": "88cdceab-3af4-42fb-aebd-0f50e4c67648",
        "colab": {
          "base_uri": "https://localhost:8080/",
          "height": 377
        }
      },
      "source": [
        "tokenized_texts = []\n",
        "word_piece_labels = []\n",
        "i_inc = 0\n",
        "for word_list,label in (zip(sentences,labels)):\n",
        "    temp_lable = []\n",
        "    temp_token = []\n",
        "    \n",
        "    # Add [CLS] at the front \n",
        "    temp_lable.append('[CLS]')\n",
        "    temp_token.append('[CLS]')\n",
        "    \n",
        "    for word,lab in zip(word_list,label):\n",
        "        token_list = tokenizer.tokenize(word)\n",
        "        for m,token in enumerate(token_list):\n",
        "            temp_token.append(token)\n",
        "            if m==0:\n",
        "                temp_lable.append(lab)\n",
        "            else:\n",
        "                temp_lable.append('X')  \n",
        "                \n",
        "    # Add [SEP] at the end\n",
        "    temp_lable.append('[SEP]')\n",
        "    temp_token.append('[SEP]')\n",
        "    \n",
        "    tokenized_texts.append(temp_token)\n",
        "    word_piece_labels.append(temp_lable)\n",
        "    \n",
        "    if 5 > i_inc:\n",
        "        print(\"No.%d,len:%d\"%(i_inc,len(temp_token)))\n",
        "        print(\"texts:%s\"%(\" \".join(temp_token)))\n",
        "        print(\"No.%d,len:%d\"%(i_inc,len(temp_lable)))\n",
        "        print(\"lables:%s\"%(\" \".join(temp_lable)))\n",
        "    i_inc +=1"
      ],
      "execution_count": 267,
      "outputs": [
        {
          "output_type": "stream",
          "text": [
            "No.0,len:200\n",
            "texts:[CLS] Post ##ed on October 9 , 2014 by Steven Ada ##ir Over the last few months , Vol ##ex ##ity has been tracking a particularly remarkable advanced persistent threat ( AP ##T ) operation involving strategic web compromise ##s of websites in Hong Kong and Japan . The experts of G D ##AT ##A ' s Security ##L ##ab ##s discovered a c ##y ##ber - espionage campaign that perfectly ex ##em ##p ##li ##fies the way how targeted attacks work . E ##qua ##tion ##D ##rug is one of the main espionage platforms used by the E ##qua ##tion Group ] , a highly sophisticated threat actor that has been engaged in multiple C ##NE ( computer network exploitation ) operations dating back to 2001 , and perhaps as early as 1996 . Over the last few months , the Crow ##d ##S ##tri ##ke Intelligence team has been tracking a campaign of highly targeted events focused on entities in the U . S . A c ##y ##ber ##es ##pion ##age campaign against a range of targets , mainly in the energy sector , gave attackers the ability to mount sabotage operations against their victims . [SEP]\n",
            "No.0,len:200\n",
            "lables:[CLS] O X O O O O O O O O X O O O O O O O X X O O O O O O O O O O O X O O O O O O X O O O O O O O O O O O O O X X O X O X X X O O O X X O O O O O O X X X X O O O O O O O O X X X X O B-Entity I-Entity I-Entity I-Entity I-Entity I-Entity B-Action O B-Entity I-Entity X X I-Entity O O O O O O O O O O O O O O X O O O O O O O O O O O O O O O O O O O O O O O O O O X X X X O O O O O O O O O O O O O O O O O X X X O O X X X X X O O O O O O O O O O O O O O O O O O O O O O O O O [SEP]\n",
            "No.1,len:125\n",
            "texts:[CLS] In both countries , the compromised websites have been particularly notable for their relevance to current events and the high profile nature of the organizations involved . The purpose of this campaign was to steal valuable documents from the targeted entity . ( See full report here [ PDF ] [ 2 ] ) . Defense Industrial Base ( D ##IB ) , healthcare , government , and technology sectors . The attackers , known to S ##yman ##tec as Dragon ##fly , managed to compromise a number of strategically important organizations for spying purposes and , if they had used the sabotage capabilities open to them , could have caused damage or disruption to the energy supply in the affected countries . [SEP]\n",
            "No.1,len:125\n",
            "lables:[CLS] O O O O O O O O O O O O O O O O O O O O O O O O O O O O O O O O O O O O O O O O O O O O O O O O O X X X O O O O O O O O X O O O O O O O O O O O O O O O O X X O O X O O O O O O O O O O O O O O O O O O O O O O O O O O O O O O O O O O O O O O O O O [SEP]\n",
            "No.2,len:129\n",
            "texts:[CLS] In particular the Hong Kong compromise ##s appear to come on the heels of the O ##cc ##up ##y Central Campaign shifting into high gear . We en ##ti ##tle this operation \" Too ##H ##ash \" . E ##qua ##tion ##D ##rug , which is still in use , dates back to 2003 , although the more modern Gray ##F ##ish platform is being pushed to new victims . This campaign infected victims with Sa ##ku ##la ma ##l ##ware variants that were signed with stolen certificates . The Dragon ##fly group , which is also known by other vendors as En ##er ##get ##ic Bear , are a capable group who are evolving over time and targeting primarily the energy sector and related industries . [SEP]\n",
            "No.2,len:129\n",
            "lables:[CLS] O O O O O O X O O O O O O O O O X X X O O O O O O O O O X X O O O O X X O O O X X X X O O O O O O O O O O O O O O O O O X X O O O O O O O O O O O O O B-Entity X X I-Entity X X I-Entity O B-Action I-Action B-Modifier O B-Entity O O O X O O O O O O O O O O O X X X O O O O O O O O O O O O O O O O O O O O O [SEP]\n",
            "No.3,len:173\n",
            "texts:[CLS] These compromise ##s were discovered following the identification of ma ##lic ##ious Java ##Script that had been added to legitimate code on the impacted websites . The attackers ' m ##odus opera ##ndi is to carry out spear p ##his ##hing using a ma ##lic ##ious Microsoft Office document as an attachment . E ##qua ##tion ##D ##rug represents the main espionage platform from the # E ##qua ##tion ##AP ##T Group T ##weet [ 3 ] It ' s important to note that E ##qua ##tion ##D ##rug is not just a Trojan , but a full espionage platform , which includes a framework for conducting c ##y ##ber ##es ##pion ##age activities by deploy ##ing specific modules on the machines of selected victims . Investigation into this activity led to associations with the ad ##vers ##ary known to Crow ##d ##S ##tri ##ke as DE ##EP PA ##ND ##A . They have been in operation since at least 2011 but may have been active even longer than that . [SEP]\n",
            "No.3,len:173\n",
            "lables:[CLS] O O X O O O O O O B-Entity X X I-Entity X O O O B-Action B-Modifier O B-Entity O O O O O O B-Entity O O X O X O O B-Action I-Action O B-Entity X X B-Modifier O B-Entity X X I-Entity I-Entity I-Entity I-Entity I-Entity I-Entity O B-Entity X X X X B-Action O B-Entity I-Entity I-Entity I-Entity I-Entity I-Entity I-Entity X X X X I-Entity O X X X O O O X O O O O O X X X X O O O O O O O O O O O O O O O O O O O X X X X X O O O X O O O O O O O O O O O O O O O O O O O X X O O O X X X X O O X O X X O O O O O O O O O O O O O O O O O O O O [SEP]\n",
            "No.4,len:138\n",
            "texts:[CLS] This code meant that visitors were potentially subjected to exploit and ma ##lic ##ious Java Apple ##ts designed to install ma ##l ##ware on their systems . The attackers do not choose their targets in ##dis ##c ##rim ##inate ##ly , which we derive from the fact that they sent specially crafted C ##V documents , probably to human resources management employees . The concept of a c ##y ##ber ##es ##pion ##age platform is neither new nor unique . On 31 July 2014 , an ex ##ec ##uta ##ble was identified , which , at the time , was not detected by any anti - virus products . Dragon ##fly initially targeted defense and aviation companies in the US and Canada before shifting its focus to US and European energy firms in early 2013 . [SEP]\n",
            "No.4,len:138\n",
            "lables:[CLS] O O O O O O O O O O O B-Entity X X I-Entity I-Entity X O O B-Action B-Entity X X O O O O O O O O O O O O X X X X X O O O O O O O O O O O O O X O O O O O O O O O O O O O O X X X X X O O O O O O O O O O O O O O X X X O O O O O O O O O O O O O O O O O O O O X O O O O O O O O O O O O O O O O O O O O O O O O O [SEP]\n"
          ],
          "name": "stdout"
        }
      ]
    },
    {
      "cell_type": "code",
      "metadata": {
        "id": "OyEipqhspzCj",
        "colab_type": "code",
        "outputId": "cf2538c1-fc23-47a1-9437-444d3ed206d9",
        "colab": {
          "base_uri": "https://localhost:8080/",
          "height": 377
        }
      },
      "source": [
        "tokenized_texts_test = []\n",
        "word_piece_labels_test = []\n",
        "i_inc = 0\n",
        "for word_list,label in (zip(sentences_test,labels_test)):\n",
        "    temp_lable_test = []\n",
        "    temp_token_test = []\n",
        "    \n",
        "    # Add [CLS] at the front \n",
        "    temp_lable_test.append('[CLS]')\n",
        "    temp_token_test.append('[CLS]')\n",
        "    \n",
        "    for word,lab in zip(word_list,label):\n",
        "        token_list = tokenizer.tokenize(word)\n",
        "        for m,token in enumerate(token_list):\n",
        "            temp_token_test.append(token)\n",
        "            if m==0:\n",
        "                temp_lable_test.append(lab)\n",
        "            else:\n",
        "                temp_lable_test.append('X')  \n",
        "                \n",
        "    # Add [SEP] at the end\n",
        "    temp_lable_test.append('[SEP]')\n",
        "    temp_token_test.append('[SEP]')\n",
        "    \n",
        "    tokenized_texts_test.append(temp_token_test)\n",
        "    word_piece_labels_test.append(temp_lable_test)\n",
        "    \n",
        "    if 5 > i_inc:\n",
        "        print(\"No.%d,len:%d\"%(i_inc,len(temp_token_test)))\n",
        "        print(\"texts:%s\"%(\" \".join(temp_token_test)))\n",
        "        print(\"No.%d,len:%d\"%(i_inc,len(temp_lable_test)))\n",
        "        print(\"lables:%s\"%(\" \".join(temp_lable_test)))\n",
        "    i_inc +=1"
      ],
      "execution_count": 268,
      "outputs": [
        {
          "output_type": "stream",
          "text": [
            "No.0,len:18\n",
            "texts:[CLS] Low - profile information - stealing Trojan is used only against high - value targets . [SEP]\n",
            "No.0,len:18\n",
            "lables:[CLS] O O O O O O O O O O O O X O O O [SEP]\n",
            "No.1,len:34\n",
            "texts:[CLS] S ##yman ##tec has uncovered an el ##usive Trojan used by the c ##y ##ber ##es ##pion ##age group behind the € œ ##D ##uke € family of ma ##l ##ware . [SEP]\n",
            "No.1,len:34\n",
            "lables:[CLS] O X X O O O O X O O O O O X X X X X O O O O O X X O O O O X X O [SEP]\n",
            "No.2,len:44\n",
            "texts:[CLS] Sea ##du ##ke ( detected by S ##yman ##tec as Trojan . Sea ##du ##ke ) is a low - profile information - stealing Trojan which appears to be reserved for attacks against a small number of high - value targets . [SEP]\n",
            "No.2,len:44\n",
            "lables:[CLS] O X X O O O O X X O O O O X X O O O O O O O X O O O O O O O O O O O O O O O O O O O [SEP]\n",
            "No.3,len:21\n",
            "texts:[CLS] Sea ##du ##ke has been used in attacks against a number of major , government - level targets . [SEP]\n",
            "No.3,len:21\n",
            "lables:[CLS] O X X O O O O O O O O O O O O O O O O [SEP]\n",
            "No.4,len:41\n",
            "texts:[CLS] The ma ##l ##ware hides behind numerous layers of encryption and o ##b ##fu ##sca ##tion and is capable of quietly stealing and ex ##fi ##lt ##rating sensitive information such as email from the victim € [UNK] computer . [SEP]\n",
            "No.4,len:41\n",
            "lables:[CLS] O O X X O O O O O O O O X X X X O O O O O O O O X X X O O O O O O O O O O O O [SEP]\n"
          ],
          "name": "stdout"
        }
      ]
    },
    {
      "cell_type": "code",
      "metadata": {
        "id": "ABdmFpkpEJdQ",
        "colab_type": "code",
        "outputId": "b93f654b-7c99-4c4a-94b9-4f7c17f9757a",
        "colab": {
          "base_uri": "https://localhost:8080/",
          "height": 85
        }
      },
      "source": [
        "# Make text token into id\n",
        "input_ids = pad_sequences([tokenizer.convert_tokens_to_ids(txt) for txt in tokenized_texts],\n",
        "                          maxlen=max_len, dtype=\"long\", truncating=\"post\", padding=\"post\")\n",
        "print(input_ids[0])"
      ],
      "execution_count": 269,
      "outputs": [
        {
          "output_type": "stream",
          "text": [
            "[  101  3799  1174  1113  1357   130   117  1387  1118  6536 19222  3161\n",
            "  3278  1103  1314  1374  1808   117  5713 11708  1785  1144  1151 10066\n",
            "   170  2521  9495  3682 15970  4433   113 10997  1942   114  2805  5336\n",
            "  7061  5127 13018  1116  1104 12045  1107  3475  3462]\n"
          ],
          "name": "stdout"
        }
      ]
    },
    {
      "cell_type": "code",
      "metadata": {
        "id": "7LViPEY_riQ7",
        "colab_type": "code",
        "outputId": "31c11771-f037-411b-e5ce-6cb0f59da5f2",
        "colab": {
          "base_uri": "https://localhost:8080/",
          "height": 85
        }
      },
      "source": [
        "# Make text token into id\n",
        "input_ids_test = pad_sequences([tokenizer.convert_tokens_to_ids(txt) for txt in tokenized_texts_test],\n",
        "                          maxlen=max_len, dtype=\"long\", truncating=\"post\", padding=\"post\")\n",
        "print(input_ids_test[0])"
      ],
      "execution_count": 270,
      "outputs": [
        {
          "output_type": "stream",
          "text": [
            "[  101  8274   118  6168  1869   118 11569 28099  1110  1215  1178  1222\n",
            "  1344   118  2860  7539   119   102     0     0     0     0     0     0\n",
            "     0     0     0     0     0     0     0     0     0     0     0     0\n",
            "     0     0     0     0     0     0     0     0     0]\n"
          ],
          "name": "stdout"
        }
      ]
    },
    {
      "cell_type": "code",
      "metadata": {
        "id": "GM703kqpEPWI",
        "colab_type": "code",
        "outputId": "e83113fd-30d4-4425-9924-94a76f128d22",
        "colab": {
          "base_uri": "https://localhost:8080/",
          "height": 51
        }
      },
      "source": [
        "# Make label into id, pad with \"O\" meaning others\n",
        "tags = pad_sequences([[tag2idx.get(l) for l in lab] for lab in word_piece_labels],\n",
        "                     maxlen=max_len, value=tag2idx[\"O\"], padding=\"post\",\n",
        "                     dtype=\"long\", truncating=\"post\")\n",
        "print(tags[0])"
      ],
      "execution_count": 271,
      "outputs": [
        {
          "output_type": "stream",
          "text": [
            "[7 6 9 6 6 6 6 6 6 6 6 9 6 6 6 6 6 6 6 9 9 6 6 6 6 6 6 6 6 6 6 6 9 6 6 6 6\n",
            " 6 6 9 6 6 6 6 6]\n"
          ],
          "name": "stdout"
        }
      ]
    },
    {
      "cell_type": "code",
      "metadata": {
        "id": "d5rjWq7CrsIU",
        "colab_type": "code",
        "outputId": "c9dddd5d-58dc-4bcb-8ca7-04593e8705b5",
        "colab": {
          "base_uri": "https://localhost:8080/",
          "height": 51
        }
      },
      "source": [
        "# Make label into id, pad with \"O\" meaning others\n",
        "tags_test = pad_sequences([[tag2idx.get(l) for l in lab] for lab in word_piece_labels_test],\n",
        "                     maxlen=max_len, value=tag2idx[\"O\"], padding=\"post\",\n",
        "                     dtype=\"long\", truncating=\"post\")\n",
        "print(tags_test[0])"
      ],
      "execution_count": 272,
      "outputs": [
        {
          "output_type": "stream",
          "text": [
            "[7 6 6 6 6 6 6 6 6 6 6 6 6 9 6 6 6 8 6 6 6 6 6 6 6 6 6 6 6 6 6 6 6 6 6 6 6\n",
            " 6 6 6 6 6 6 6 6]\n"
          ],
          "name": "stdout"
        }
      ]
    },
    {
      "cell_type": "code",
      "metadata": {
        "id": "OO8E46r9EaCZ",
        "colab_type": "code",
        "colab": {}
      },
      "source": [
        "# For fine tune of predict, with token mask is 1,pad token is 0\n",
        "attention_masks = [[int(i>0) for i in ii] for ii in input_ids]\n",
        "# attention_masks[0]"
      ],
      "execution_count": 0,
      "outputs": []
    },
    {
      "cell_type": "code",
      "metadata": {
        "id": "7Uz0Z_ntr1BK",
        "colab_type": "code",
        "colab": {}
      },
      "source": [
        "# For fine tune of predict, with token mask is 1,pad token is 0\n",
        "attention_masks_test = [[int(i>0) for i in ii] for ii in input_ids_test]\n",
        "# attention_masks_test[0]"
      ],
      "execution_count": 0,
      "outputs": []
    },
    {
      "cell_type": "code",
      "metadata": {
        "id": "rNp4JB9nFS5r",
        "colab_type": "code",
        "colab": {}
      },
      "source": [
        "# Since only one sentence, all the segment set to 0\n",
        "segment_ids = [[0] * len(input_id) for input_id in input_ids]\n",
        "# segment_ids[0]"
      ],
      "execution_count": 0,
      "outputs": []
    },
    {
      "cell_type": "code",
      "metadata": {
        "id": "jN0yHUmzsGJY",
        "colab_type": "code",
        "colab": {}
      },
      "source": [
        "# Since only one sentence, all the segment set to 0\n",
        "segment_ids_test = [[0] * len(input_id) for input_id in input_ids_test]\n",
        "# segment_ids[0]"
      ],
      "execution_count": 0,
      "outputs": []
    },
    {
      "cell_type": "code",
      "metadata": {
        "id": "92EuZS8FFVx_",
        "colab_type": "code",
        "colab": {}
      },
      "source": [
        "tr_inputs, val_inputs, tr_tags, val_tags,tr_masks, val_masks,tr_segs, val_segs = train_test_split(input_ids, tags,attention_masks,segment_ids, \n",
        "                                                            random_state=4, test_size=0.30)"
      ],
      "execution_count": 0,
      "outputs": []
    },
    {
      "cell_type": "code",
      "metadata": {
        "id": "WZpGMngPFZAb",
        "colab_type": "code",
        "outputId": "dffaaf70-b305-42cb-8168-61159fbbec8d",
        "colab": {
          "base_uri": "https://localhost:8080/",
          "height": 34
        }
      },
      "source": [
        "len(tr_inputs),len(val_inputs),len(tr_segs),len(val_segs)"
      ],
      "execution_count": 278,
      "outputs": [
        {
          "output_type": "execute_result",
          "data": {
            "text/plain": [
              "(6619, 2838, 6619, 2838)"
            ]
          },
          "metadata": {
            "tags": []
          },
          "execution_count": 278
        }
      ]
    },
    {
      "cell_type": "code",
      "metadata": {
        "id": "3upoVRApelJ9",
        "colab_type": "code",
        "outputId": "edba91bf-d0bb-4f3c-909a-11aa4c125ec2",
        "colab": {
          "base_uri": "https://localhost:8080/",
          "height": 34
        }
      },
      "source": [
        "len(input_ids_test)\n",
        "len(tags_test)\n",
        "len(attention_masks_test)\n",
        "len(segment_ids_test)"
      ],
      "execution_count": 279,
      "outputs": [
        {
          "output_type": "execute_result",
          "data": {
            "text/plain": [
              "618"
            ]
          },
          "metadata": {
            "tags": []
          },
          "execution_count": 279
        }
      ]
    },
    {
      "cell_type": "code",
      "metadata": {
        "id": "v1528Xm7g7lg",
        "colab_type": "code",
        "colab": {}
      },
      "source": [
        "# print(input_ids)\n",
        "# print()\n",
        "# print(val_inputs)\n",
        "# print()\n",
        "# print(val_masks)\n",
        "# print()\n",
        "# print(val_tags)\n",
        "\n",
        "test_inputs = torch.tensor(input_ids_test)\n",
        "test_tags = torch.tensor(tags_test)\n",
        "test_masks = torch.tensor(attention_masks_test)\n",
        "test_segs = torch.tensor(segment_ids_test)"
      ],
      "execution_count": 0,
      "outputs": []
    },
    {
      "cell_type": "code",
      "metadata": {
        "id": "Q6mqSFSBFdZY",
        "colab_type": "code",
        "colab": {}
      },
      "source": [
        "tr_inputs = torch.tensor(tr_inputs)\n",
        "val_inputs = torch.tensor(val_inputs)\n",
        "tr_tags = torch.tensor(tr_tags)\n",
        "val_tags = torch.tensor(val_tags)\n",
        "tr_masks = torch.tensor(tr_masks)\n",
        "val_masks = torch.tensor(val_masks)\n",
        "tr_segs = torch.tensor(tr_segs)\n",
        "val_segs = torch.tensor(val_segs)"
      ],
      "execution_count": 0,
      "outputs": []
    },
    {
      "cell_type": "code",
      "metadata": {
        "id": "6w5yhZokFlDA",
        "colab_type": "code",
        "colab": {}
      },
      "source": [
        "batch_num = 32"
      ],
      "execution_count": 0,
      "outputs": []
    },
    {
      "cell_type": "code",
      "metadata": {
        "id": "pkwlG8dkFoM4",
        "colab_type": "code",
        "colab": {}
      },
      "source": [
        "# Only set token embedding, attention embedding, no segment embedding\n",
        "train_data = TensorDataset(tr_inputs, tr_masks, tr_tags)\n",
        "train_sampler = RandomSampler(train_data)\n",
        "# Drop last can make batch training better for the last one\n",
        "train_dataloader = DataLoader(train_data, sampler=train_sampler, batch_size=batch_num)\n",
        "\n",
        "valid_data = TensorDataset(val_inputs, val_masks, val_tags)\n",
        "valid_sampler = SequentialSampler(valid_data)\n",
        "valid_dataloader = DataLoader(valid_data, sampler=valid_sampler, batch_size=batch_num)"
      ],
      "execution_count": 0,
      "outputs": []
    },
    {
      "cell_type": "code",
      "metadata": {
        "id": "AUQA2RexszcT",
        "colab_type": "code",
        "colab": {}
      },
      "source": [
        "# Only set token embedding, attention embedding, no segment embedding\n",
        "\n",
        "test_data = TensorDataset(test_inputs, test_masks, test_tags)\n",
        "test_sampler = SequentialSampler(test_data)\n",
        "test_dataloader = DataLoader(test_data, sampler=valid_sampler, batch_size=batch_num)"
      ],
      "execution_count": 0,
      "outputs": []
    },
    {
      "cell_type": "code",
      "metadata": {
        "id": "VgRbHWeBgtjP",
        "colab_type": "code",
        "colab": {}
      },
      "source": [
        ""
      ],
      "execution_count": 0,
      "outputs": []
    },
    {
      "cell_type": "code",
      "metadata": {
        "id": "HP1dAuEUFqZ4",
        "colab_type": "code",
        "colab": {}
      },
      "source": [
        "model_file_address = 'drive/My Drive/NLP project'"
      ],
      "execution_count": 0,
      "outputs": []
    },
    {
      "cell_type": "code",
      "metadata": {
        "id": "S3BpPY6PFvy4",
        "colab_type": "code",
        "colab": {}
      },
      "source": [
        "# Will load config and weight with from_pretrained()\n",
        "model = BertForTokenClassification.from_pretrained(model_file_address,num_labels=len(tag2idx))"
      ],
      "execution_count": 0,
      "outputs": []
    },
    {
      "cell_type": "code",
      "metadata": {
        "id": "e5ZVkKJ0LJSW",
        "colab_type": "code",
        "colab": {}
      },
      "source": [
        "model;"
      ],
      "execution_count": 0,
      "outputs": []
    },
    {
      "cell_type": "code",
      "metadata": {
        "id": "CiXrpXeELJEh",
        "colab_type": "code",
        "colab": {}
      },
      "source": [
        "# Set model to GPU,if you are using GPU machine\n",
        "model.cuda();"
      ],
      "execution_count": 0,
      "outputs": []
    },
    {
      "cell_type": "code",
      "metadata": {
        "id": "5F9B_MxQLP9m",
        "colab_type": "code",
        "colab": {}
      },
      "source": [
        "# Set epoch and grad max num\n",
        "epochs = 5\n",
        "max_grad_norm = 1.0"
      ],
      "execution_count": 0,
      "outputs": []
    },
    {
      "cell_type": "code",
      "metadata": {
        "id": "s3dNXR0ELaNW",
        "colab_type": "code",
        "colab": {}
      },
      "source": [
        "# Cacluate train optimiazaion num\n",
        "num_train_optimization_steps = int( math.ceil(len(tr_inputs) / batch_num) / 1) * epochs"
      ],
      "execution_count": 0,
      "outputs": []
    },
    {
      "cell_type": "code",
      "metadata": {
        "id": "Fgdcub8wLcnN",
        "colab_type": "code",
        "colab": {}
      },
      "source": [
        "# True: fine tuning all the layers \n",
        "# False: only fine tuning the classifier layers\n",
        "FULL_FINETUNING = True"
      ],
      "execution_count": 0,
      "outputs": []
    },
    {
      "cell_type": "code",
      "metadata": {
        "id": "3K8rfhjyLe_q",
        "colab_type": "code",
        "colab": {}
      },
      "source": [
        "if FULL_FINETUNING:\n",
        "    # Fine tune model all layer parameters\n",
        "    param_optimizer = list(model.named_parameters())\n",
        "    no_decay = ['bias', 'gamma', 'beta']\n",
        "    optimizer_grouped_parameters = [\n",
        "        {'params': [p for n, p in param_optimizer if not any(nd in n for nd in no_decay)],\n",
        "         'weight_decay_rate': 0.01},\n",
        "        {'params': [p for n, p in param_optimizer if any(nd in n for nd in no_decay)],\n",
        "         'weight_decay_rate': 0.0}\n",
        "    ]\n",
        "else:\n",
        "    # Only fine tune classifier parameters\n",
        "    param_optimizer = list(model.classifier.named_parameters()) \n",
        "    optimizer_grouped_parameters = [{\"params\": [p for n, p in param_optimizer]}]\n",
        "optimizer = AdamW(optimizer_grouped_parameters, lr=3e-5)"
      ],
      "execution_count": 0,
      "outputs": []
    },
    {
      "cell_type": "code",
      "metadata": {
        "id": "hFCZCpvPLw57",
        "colab_type": "code",
        "colab": {}
      },
      "source": [
        "# TRAIN loop\n",
        "model.train();"
      ],
      "execution_count": 0,
      "outputs": []
    },
    {
      "cell_type": "code",
      "metadata": {
        "id": "qLY3G4f_Lxxv",
        "colab_type": "code",
        "outputId": "a6a98849-4c8a-43bb-c0b1-43c9f7a81626",
        "colab": {
          "base_uri": "https://localhost:8080/",
          "height": 187
        }
      },
      "source": [
        "print(\"***** Running training *****\")\n",
        "print(\"  Num examples = %d\"%(len(tr_inputs)))\n",
        "print(\"  Batch size = %d\"%(batch_num))\n",
        "print(\"  Num steps = %d\"%(num_train_optimization_steps))\n",
        "for _ in trange(epochs,desc=\"Epoch\"):\n",
        "    tr_loss = 0\n",
        "    nb_tr_examples, nb_tr_steps = 0, 0\n",
        "    for step, batch in enumerate(train_dataloader):\n",
        "        # add batch to gpu\n",
        "        batch = tuple(t.to(device) for t in batch)\n",
        "        b_input_ids, b_input_mask, b_labels = batch\n",
        "        \n",
        "        # forward pass\n",
        "        outputs = model(b_input_ids, token_type_ids=None,\n",
        "        attention_mask=b_input_mask, labels=b_labels)\n",
        "        loss, scores = outputs[:2]\n",
        "        if n_gpu>1:\n",
        "            # When multi gpu, average it\n",
        "            loss = loss.mean()\n",
        "        \n",
        "        # backward pass\n",
        "        loss.backward()\n",
        "        \n",
        "        # track train loss\n",
        "        tr_loss += loss.item()\n",
        "        nb_tr_examples += b_input_ids.size(0)\n",
        "        nb_tr_steps += 1\n",
        "        \n",
        "        # gradient clipping\n",
        "        torch.nn.utils.clip_grad_norm_(parameters=model.parameters(), max_norm=max_grad_norm)\n",
        "        \n",
        "        # update parameters\n",
        "        optimizer.step()\n",
        "        optimizer.zero_grad()\n",
        "        \n",
        "    # print train loss per epoch\n",
        "    print(\"Train loss: {}\".format(tr_loss/nb_tr_steps))"
      ],
      "execution_count": 311,
      "outputs": [
        {
          "output_type": "stream",
          "text": [
            "\rEpoch:   0%|          | 0/5 [00:00<?, ?it/s]"
          ],
          "name": "stderr"
        },
        {
          "output_type": "stream",
          "text": [
            "***** Running training *****\n",
            "  Num examples = 6619\n",
            "  Batch size = 32\n",
            "  Num steps = 1035\n"
          ],
          "name": "stdout"
        },
        {
          "output_type": "stream",
          "text": [
            "\rEpoch:  20%|██        | 1/5 [01:07<04:30, 67.52s/it]"
          ],
          "name": "stderr"
        },
        {
          "output_type": "stream",
          "text": [
            "Train loss: 0.00844154477564861\n"
          ],
          "name": "stdout"
        },
        {
          "output_type": "stream",
          "text": [
            "\rEpoch:  40%|████      | 2/5 [02:15<03:23, 67.77s/it]"
          ],
          "name": "stderr"
        },
        {
          "output_type": "stream",
          "text": [
            "Train loss: 0.008489717905699828\n"
          ],
          "name": "stdout"
        },
        {
          "output_type": "stream",
          "text": [
            "\rEpoch:  60%|██████    | 3/5 [03:25<02:16, 68.21s/it]"
          ],
          "name": "stderr"
        },
        {
          "output_type": "stream",
          "text": [
            "Train loss: 0.008513737697399488\n"
          ],
          "name": "stdout"
        },
        {
          "output_type": "stream",
          "text": [
            "\rEpoch:  80%|████████  | 4/5 [04:34<01:08, 68.58s/it]"
          ],
          "name": "stderr"
        },
        {
          "output_type": "stream",
          "text": [
            "Train loss: 0.008517878119252253\n"
          ],
          "name": "stdout"
        },
        {
          "output_type": "stream",
          "text": [
            "\rEpoch: 100%|██████████| 5/5 [05:44<00:00, 68.85s/it]"
          ],
          "name": "stderr"
        },
        {
          "output_type": "stream",
          "text": [
            "Train loss: 0.008483695965215275\n"
          ],
          "name": "stdout"
        },
        {
          "output_type": "stream",
          "text": [
            "\n"
          ],
          "name": "stderr"
        }
      ]
    },
    {
      "cell_type": "code",
      "metadata": {
        "id": "qU_cAHppQZK9",
        "colab_type": "code",
        "colab": {}
      },
      "source": [
        "bert_out_address = 'drive/My Drive/NLP project'"
      ],
      "execution_count": 0,
      "outputs": []
    },
    {
      "cell_type": "code",
      "metadata": {
        "id": "78qeH6HcQfAc",
        "colab_type": "code",
        "colab": {}
      },
      "source": [
        "# Make dir if not exits\n",
        "if not os.path.exists(bert_out_address):\n",
        "        os.makedirs(bert_out_address)"
      ],
      "execution_count": 0,
      "outputs": []
    },
    {
      "cell_type": "code",
      "metadata": {
        "id": "-15XITfIQhdg",
        "colab_type": "code",
        "colab": {}
      },
      "source": [
        "# Save a trained model, configuration and tokenizer\n",
        "model_to_save = model.module if hasattr(model, 'module') else model  # Only save the model it-self"
      ],
      "execution_count": 0,
      "outputs": []
    },
    {
      "cell_type": "code",
      "metadata": {
        "id": "Wjk8Uu0VQjMf",
        "colab_type": "code",
        "colab": {}
      },
      "source": [
        "# If we save using the predefined names, we can load using `from_pretrained`\n",
        "output_model_file = os.path.join(bert_out_address, \"pytorch_model.bin\")\n",
        "output_config_file = os.path.join(bert_out_address, \"config.json\")"
      ],
      "execution_count": 0,
      "outputs": []
    },
    {
      "cell_type": "code",
      "metadata": {
        "id": "bzGoiJjaQlcZ",
        "colab_type": "code",
        "outputId": "f4d50cfc-76eb-48e5-a344-914d55263eb1",
        "colab": {
          "base_uri": "https://localhost:8080/",
          "height": 34
        }
      },
      "source": [
        "# Save model into file\n",
        "torch.save(model_to_save.state_dict(), output_model_file)\n",
        "model_to_save.config.to_json_file(output_config_file)\n",
        "tokenizer.save_vocabulary(bert_out_address)"
      ],
      "execution_count": 316,
      "outputs": [
        {
          "output_type": "execute_result",
          "data": {
            "text/plain": [
              "('drive/My Drive/NLP project/vocab.txt',)"
            ]
          },
          "metadata": {
            "tags": []
          },
          "execution_count": 316
        }
      ]
    },
    {
      "cell_type": "code",
      "metadata": {
        "id": "6lY8tNMYQlZh",
        "colab_type": "code",
        "colab": {}
      },
      "source": [
        "model = BertForTokenClassification.from_pretrained(bert_out_address,num_labels=len(tag2idx))"
      ],
      "execution_count": 0,
      "outputs": []
    },
    {
      "cell_type": "code",
      "metadata": {
        "id": "YB8I7ijFQlUn",
        "colab_type": "code",
        "colab": {}
      },
      "source": [
        "# Set model to GPU\n",
        "model.cuda();"
      ],
      "execution_count": 0,
      "outputs": []
    },
    {
      "cell_type": "code",
      "metadata": {
        "id": "0shbiE4CQlFx",
        "colab_type": "code",
        "colab": {}
      },
      "source": [
        "if n_gpu >1:\n",
        "    model = torch.nn.DataParallel(model)"
      ],
      "execution_count": 0,
      "outputs": []
    },
    {
      "cell_type": "code",
      "metadata": {
        "id": "yVhmCknFQt4g",
        "colab_type": "code",
        "colab": {}
      },
      "source": [
        "# Evalue loop\n",
        "model.eval();"
      ],
      "execution_count": 0,
      "outputs": []
    },
    {
      "cell_type": "code",
      "metadata": {
        "id": "1ztE5dFpQt1s",
        "colab_type": "code",
        "outputId": "fb884607-2f14-4caa-976f-1dd0abbb70f2",
        "colab": {
          "base_uri": "https://localhost:8080/",
          "height": 323
        }
      },
      "source": [
        "eval_loss, eval_accuracy = 0, 0\n",
        "nb_eval_steps, nb_eval_examples = 0, 0\n",
        "y_true = []\n",
        "y_pred = []\n",
        "\n",
        "print(\"***** Running evaluation *****\")\n",
        "print(\"  Num examples ={}\".format(len(val_inputs)))\n",
        "print(\"  Batch size = {}\".format(batch_num))\n",
        "for step, batch in enumerate(valid_dataloader):\n",
        "\n",
        "    batch = tuple(t.to(device) for t in batch)\n",
        "    input_ids, input_mask, label_ids = batch\n",
        "    \n",
        "#     if step > 2:\n",
        "#         break\n",
        "    \n",
        "    with torch.no_grad():\n",
        "        outputs = model(input_ids, token_type_ids=None,\n",
        "        attention_mask=input_mask,)\n",
        "        # For eval mode, the first result of outputs is logits\n",
        "        logits = outputs[0] \n",
        "    \n",
        "    # Get NER predict result\n",
        "    logits = torch.argmax(F.log_softmax(logits,dim=2),dim=2)\n",
        "    logits = logits.detach().cpu().numpy()\n",
        "    \n",
        "    \n",
        "    # Get NER true result\n",
        "    label_ids = label_ids.to('cpu').numpy()\n",
        "    \n",
        "    \n",
        "    # Only predict the real word, mark=0, will not calculate\n",
        "    input_mask = input_mask.to('cpu').numpy()\n",
        "    \n",
        "    # Compare the valuable predict result\n",
        "    for i,mask in enumerate(input_mask):\n",
        "        # Real one\n",
        "        temp_1 = []\n",
        "        # Predict one\n",
        "        temp_2 = []\n",
        "        \n",
        "        for j, m in enumerate(mask):\n",
        "            # Mark=0, meaning its a pad word, dont compare\n",
        "            if m:\n",
        "                if tag2name[label_ids[i][j]] != \"X\" and tag2name[label_ids[i][j]] != \"[CLS]\" and tag2name[label_ids[i][j]] != \"[SEP]\" : # Exclude the X label\n",
        "                    temp_1.append(tag2name[label_ids[i][j]])\n",
        "                    temp_2.append(tag2name[logits[i][j]])\n",
        "            else:\n",
        "                break\n",
        "        \n",
        "            \n",
        "        y_true.append(temp_1)\n",
        "        y_pred.append(temp_2)\n",
        "\n",
        "\n",
        "\n",
        "print(\"f1 socre: %f\"%(f1_score(y_true, y_pred)))\n",
        "print(\"Accuracy score: %f\"%(accuracy_score(y_true, y_pred)))\n",
        "\n",
        "# Get acc , recall, F1 result report\n",
        "report = classification_report(y_true, y_pred,digits=4)\n",
        "\n",
        "# Save the report into file\n",
        "output_eval_file = os.path.join(bert_out_address, \"eval_results.txt\")\n",
        "with open(output_eval_file, \"w\") as writer:\n",
        "    print(\"***** Eval results *****\")\n",
        "    print(\"\\n%s\"%(report))\n",
        "    print(\"f1 socre: %f\"%(f1_score(y_true, y_pred)))\n",
        "    print(\"Accuracy score: %f\"%(accuracy_score(y_true, y_pred)))\n",
        "    \n",
        "    writer.write(\"f1 socre:\\n\")\n",
        "    writer.write(str(f1_score(y_true, y_pred)))\n",
        "    writer.write(\"\\n\\nAccuracy score:\\n\")\n",
        "    writer.write(str(accuracy_score(y_true, y_pred)))\n",
        "    writer.write(\"\\n\\n\")  \n",
        "    writer.write(report)"
      ],
      "execution_count": 321,
      "outputs": [
        {
          "output_type": "stream",
          "text": [
            "***** Running evaluation *****\n",
            "  Num examples =2838\n",
            "  Batch size = 32\n",
            "f1 socre: 0.459845\n",
            "Accuracy score: 0.890770\n",
            "***** Eval results *****\n",
            "\n",
            "           precision    recall  f1-score   support\n",
            "\n",
            "   Entity     0.3645    0.4638    0.4082      1973\n",
            " Modifier     0.5230    0.6263    0.5700       562\n",
            "   Action     0.5067    0.6227    0.5587       917\n",
            "\n",
            "micro avg     0.4047    0.5324    0.4598      3452\n",
            "macro avg     0.4281    0.5324    0.4745      3452\n",
            "\n",
            "f1 socre: 0.459845\n",
            "Accuracy score: 0.890770\n"
          ],
          "name": "stdout"
        }
      ]
    },
    {
      "cell_type": "code",
      "metadata": {
        "id": "_jI6BPC2EaIo",
        "colab_type": "code",
        "outputId": "084c90d4-0e93-436a-a01a-9b84be73d464",
        "colab": {
          "base_uri": "https://localhost:8080/",
          "height": 34
        }
      },
      "source": [
        "type(test_dataloader)\n",
        "type(train_dataloader)"
      ],
      "execution_count": 322,
      "outputs": [
        {
          "output_type": "execute_result",
          "data": {
            "text/plain": [
              "torch.utils.data.dataloader.DataLoader"
            ]
          },
          "metadata": {
            "tags": []
          },
          "execution_count": 322
        }
      ]
    },
    {
      "cell_type": "code",
      "metadata": {
        "id": "AQkLEB_7teuf",
        "colab_type": "code",
        "outputId": "6500665e-5892-4734-bf6c-9c09af42d263",
        "colab": {
          "base_uri": "https://localhost:8080/",
          "height": 646
        }
      },
      "source": [
        "eval_loss, eval_accuracy = 0, 0\n",
        "nb_eval_steps, nb_eval_examples = 0, 0\n",
        "y_true_test = []\n",
        "y_pred_test = []\n",
        "\n",
        "print(\"***** Running evaluation *****\")\n",
        "print(\"  Num examples ={}\".format(len(test_inputs)))\n",
        "print(\"  Batch size = {}\".format(batch_num))\n",
        "for step, batch in enumerate(test_dataloader):\n",
        "    print(step)\n",
        "    batch = tuple(t.to(device) for t in batch)\n",
        "    input_ids, input_mask, label_ids = batch\n",
        "\n",
        "#     if step > 2:\n",
        "#         break\n",
        "    \n",
        "    with torch.no_grad():\n",
        "        outputs = model(input_ids, token_type_ids=None,\n",
        "        attention_mask=input_mask,)\n",
        "        # For eval mode, the first result of outputs is logits\n",
        "        logits = outputs[0] \n",
        "    \n",
        "    # Get NER predict result\n",
        "    logits = torch.argmax(F.log_softmax(logits,dim=2),dim=2)\n",
        "    logits = logits.detach().cpu().numpy()\n",
        "    \n",
        "    \n",
        "    # Get NER true result\n",
        "    label_ids = label_ids.to('cpu').numpy()\n",
        "    \n",
        "    \n",
        "    # Only predict the real word, mark=0, will not calculate\n",
        "    input_mask = input_mask.to('cpu').numpy()\n",
        "    \n",
        "    # Compare the valuable predict result\n",
        "    for i,mask in enumerate(input_mask):\n",
        "        # Real one\n",
        "        temp_1 = []\n",
        "        # Predict one\n",
        "        temp_2 = []\n",
        "        \n",
        "        for j, m in enumerate(mask):\n",
        "            # Mark=0, meaning its a pad word, dont compare\n",
        "            if m:\n",
        "                if tag2name[label_ids[i][j]] != \"X\" and tag2name[label_ids[i][j]] != \"[CLS]\" and tag2name[label_ids[i][j]] != \"[SEP]\" : # Exclude the X label\n",
        "                    temp_1.append(tag2name[label_ids[i][j]])\n",
        "                    temp_2.append(tag2name[logits[i][j]])\n",
        "            else:\n",
        "                break\n",
        "        \n",
        "            \n",
        "        y_true_test.append(temp_1)\n",
        "        y_pred_test.append(temp_2)\n",
        "    if step == 18:\n",
        "      break\n",
        "\n",
        "\n",
        "print(\"f1 socre: %f\"%(f1_score(y_true_test, y_pred_test)))\n",
        "print(\"Accuracy score: %f\"%(accuracy_score(y_true_test, y_pred_test)))\n",
        "\n",
        "# Get acc , recall, F1 result report\n",
        "report = classification_report(y_true_test, y_pred_test,digits=4)\n",
        "\n",
        "# Save the report into file\n",
        "output_eval_file = os.path.join(bert_out_address, \"eval_results.txt\")\n",
        "with open(output_eval_file, \"w\") as writer:\n",
        "    print(\"***** Eval results *****\")\n",
        "    print(\"\\n%s\"%(report))\n",
        "    print(\"f1 socre: %f\"%(f1_score(y_true_test, y_pred_test)))\n",
        "    print(\"Accuracy score: %f\"%(accuracy_score(y_true_test, y_pred_test)))\n",
        "    \n",
        "    writer.write(\"f1 socre:\\n\")\n",
        "    writer.write(str(f1_score(y_true_test, y_pred_test)))\n",
        "    writer.write(\"\\n\\nAccuracy score:\\n\")\n",
        "    writer.write(str(accuracy_score(y_true_test, y_pred_test)))\n",
        "    writer.write(\"\\n\\n\")  \n",
        "    writer.write(report)"
      ],
      "execution_count": 323,
      "outputs": [
        {
          "output_type": "stream",
          "text": [
            "***** Running evaluation *****\n",
            "  Num examples =618\n",
            "  Batch size = 32\n",
            "0\n",
            "1\n",
            "2\n",
            "3\n",
            "4\n",
            "5\n",
            "6\n",
            "7\n",
            "8\n",
            "9\n",
            "10\n",
            "11\n",
            "12\n",
            "13\n",
            "14\n",
            "15\n",
            "16\n",
            "17\n",
            "18\n",
            "f1 socre: 0.346362\n",
            "Accuracy score: 0.841175\n",
            "***** Eval results *****\n",
            "\n",
            "           precision    recall  f1-score   support\n",
            "\n",
            "   Entity     0.2054    0.5812    0.3036       234\n",
            "   Action     0.3023    0.7845    0.4365       116\n",
            " Modifier     0.3408    0.8133    0.4803        75\n",
            "\n",
            "micro avg     0.2326    0.6776    0.3464       425\n",
            "macro avg     0.2558    0.6776    0.3710       425\n",
            "\n",
            "f1 socre: 0.346362\n",
            "Accuracy score: 0.841175\n"
          ],
          "name": "stdout"
        }
      ]
    },
    {
      "cell_type": "code",
      "metadata": {
        "id": "dzfB2o6wf0Qo",
        "colab_type": "code",
        "outputId": "be2d6432-cb06-4a5f-c61c-24963e5b9117",
        "colab": {
          "base_uri": "https://localhost:8080/",
          "height": 88
        }
      },
      "source": [
        "print(y_pred_test)\n",
        "print()\n",
        "print(y_true_test)"
      ],
      "execution_count": 324,
      "outputs": [
        {
          "output_type": "stream",
          "text": [
            "[['O', 'O', 'O', 'O', 'O', 'O', 'O', 'O', 'O', 'O', 'O', 'O', 'O', 'O', 'O'], ['O', 'O', 'O', 'O', 'O', 'O', 'O', 'O', 'O', 'O', 'O', 'O', 'O', 'O', 'O', 'O', 'O', 'O', 'O', 'O'], ['O', 'O', 'O', 'O', 'O', 'O', 'O', 'X', 'X', 'O', 'O', 'O', 'O', 'O', 'O', 'I-Entity', 'O', 'O', 'O', 'O', 'O', 'O', 'O', 'O', 'O', 'O', 'O', 'O', 'O', 'O', 'O', 'X', 'O', 'O', 'O'], ['O', 'O', 'O', 'O', 'O', 'O', 'O', 'O', 'O', 'O', 'O', 'O', 'O', 'X', 'O', 'O', 'O'], ['B-Entity', 'I-Entity', 'O', 'O', 'O', 'O', 'O', 'O', 'O', 'O', 'O', 'O', 'O', 'O', 'O', 'B-Action', 'O', 'B-Action', 'B-Entity', 'I-Entity', 'I-Entity', 'I-Entity', 'I-Entity', 'I-Entity', 'I-Entity', 'I-Entity', 'I-Entity', 'I-Entity', 'I-Entity', 'O'], ['O', 'O', 'O', 'O', 'O', 'O', 'O', 'O', 'O', 'O', 'O', 'O', 'O', 'O', 'O', 'O', 'O', 'O', 'O'], ['O', 'O', 'O', 'O', 'O', 'O', 'O', 'O', 'O', 'O', 'O', 'O', 'O', 'O', 'O', 'O', 'O', 'O', 'O', 'O', 'O', 'O', 'O', 'O', 'O', 'O', 'O', 'O', 'O', 'X', 'O', 'O', 'O', 'O'], ['O', 'O', 'O', 'O', 'O', 'O', 'O', 'O', 'O', 'O', 'O', 'O', 'O', 'O', 'O', 'O', 'O', 'O', 'O', 'O', 'O', 'O', 'O'], ['B-Entity', 'I-Entity', 'B-Action', 'I-Action', 'I-Action', 'I-Action', 'B-Modifier', 'I-Entity', 'O', 'O', 'B-Modifier', 'O', 'I-Entity', 'I-Entity', 'I-Entity', 'I-Entity', 'I-Entity', 'I-Entity', 'I-Entity', 'I-Entity', 'O', 'B-Entity', 'I-Entity', 'O', 'B-Action', 'B-Entity', 'O'], ['O', 'O', 'O', 'O', 'O', 'O', 'O', 'O', 'O', 'O', 'O', 'O', 'O', 'O', 'O', 'O', 'O', 'O', 'X', 'X', 'O', 'O', 'O', 'O', 'O', 'O', 'O', 'O', 'O', 'O', 'O', 'O', 'O', 'O', 'O', 'O', 'O'], ['O', 'O', 'O', 'I-Entity', 'I-Entity', 'I-Entity', 'I-Entity', 'O', 'O', 'O', 'O', 'O', 'O', 'O', 'O', 'O', 'O', 'O', 'O', 'O', 'X', 'X', 'O', 'O', 'O', 'O', 'O', 'X', 'X', 'O', 'O', 'O'], ['O', 'O', 'O', 'O', 'O', 'O', 'O', 'O', 'O', 'O', 'O', 'O', 'O', 'O', 'O', 'O', 'O', 'O', 'O', 'O', 'O', 'O', 'O', 'O', 'O', 'O', 'O', 'O', 'O', 'O', 'O', 'O', 'O', 'O', 'O', 'O', 'O'], ['O', 'O', 'O', 'O', 'O', 'O', 'O', 'O', 'O', 'O', 'O', 'O', 'O', 'O', 'O', 'O', 'O', 'O', 'O'], ['O', 'O', 'O', 'O', 'O', 'O', 'O', 'O', 'O', 'O', 'O', 'O', 'O', 'O', 'X', 'X', 'O', 'O', 'O', 'O', 'O', 'O', 'O', 'O', 'O', 'O', 'O', 'O', 'O', 'O', 'O', 'O', 'O', 'O'], ['O', 'O', 'O', 'O', 'O', 'O', 'B-Entity', 'I-Entity', 'I-Entity', 'O', 'O', 'B-Action', 'B-Entity', 'B-Modifier', 'B-Entity', 'I-Entity', 'I-Entity', 'I-Entity', 'X', 'I-Entity', 'I-Entity', 'I-Entity', 'I-Entity', 'X', 'I-Entity', 'O', 'O', 'X', 'X', 'O', 'O', 'O'], ['O', 'O', 'O', 'O', 'O', 'O', 'O', 'O', 'O'], ['O', 'O', 'O', 'O', 'O', 'O', 'O', 'O', 'O', 'O', 'O', 'O', 'O', 'O', 'O', 'O', 'O', 'O', 'O', 'O', 'O', 'O', 'O', 'O'], ['O', 'O', 'O', 'O', 'O', 'O', 'O', 'O', 'O', 'O', 'X', 'X', 'O', 'O', 'O', 'O', 'O', 'O', 'O', 'O', 'O', 'O', 'O', 'O', 'O', 'O', 'O', 'O', 'O', 'O', 'O'], ['O', 'O', 'O', 'O'], ['O', 'O', 'O', 'O', 'O', 'O', 'O', 'O', 'O', 'O', 'O', 'O', 'O', 'O', 'O', 'O', 'O', 'O', 'X', 'X', 'O', 'O', 'O', 'O', 'O', 'O', 'O', 'O', 'O', 'O', 'O', 'O'], ['B-Entity', 'O', 'O', 'O', 'O', 'O', 'O', 'B-Action', 'O', 'B-Action', 'B-Entity', 'I-Entity', 'I-Entity', 'I-Entity', 'I-Entity', 'O'], ['O', 'O', 'O', 'B-Entity', 'I-Entity', 'I-Entity', 'O', 'O', 'B-Action', 'O', 'I-Entity', 'B-Modifier', 'O', 'I-Entity', 'O', 'O', 'O', 'X', 'X', 'O', 'O', 'O', 'O', 'O', 'X', 'X', 'O'], ['O', 'O', 'O', 'O', 'O', 'O', 'O', 'O', 'O', 'O', 'O', 'O', 'O', 'O', 'O', 'O', 'O', 'O', 'O'], ['O', 'O', 'O', 'O', 'O', 'O', 'O', 'O', 'B-Entity', 'X', 'X', 'I-Entity', 'O', 'B-Action', 'B-Entity', 'X', 'X', 'B-Modifier', 'O', 'B-Entity', 'I-Entity', 'O'], ['O', 'O', 'O', 'O', 'O', 'O', 'X', 'O', 'O', 'O', 'O', 'O', 'O', 'O', 'O', 'O', 'O', 'O', 'O', 'O', 'O', 'O', 'O', 'O', 'O', 'O', 'O', 'O', 'O', 'X', 'O', 'O', 'O'], ['O', 'O', 'O', 'O', 'O', 'O', 'O', 'O', 'O', 'O', 'O', 'O', 'O', 'O', 'O', 'O', 'O', 'O', 'O', 'O', 'O', 'O', 'O', 'O', 'O', 'O', 'O'], ['O', 'O', 'O', 'O', 'O', 'O', 'O', 'O', 'O', 'O', 'O', 'O', 'O', 'O'], ['O', 'O', 'O', 'O', 'O', 'O', 'O', 'O', 'O', 'O', 'O'], ['O', 'O', 'O', 'O', 'O', 'O', 'O', 'O', 'O', 'O', 'O', 'O', 'O', 'O', 'O', 'O', 'O', 'O', 'O', 'O', 'O'], ['O', 'O', 'O', 'O', 'O', 'O', 'O', 'O', 'O', 'O', 'O', 'O', 'O', 'O', 'O', 'O', 'O', 'O', 'O', 'O', 'O', 'O'], ['O', 'O', 'O', 'O', 'O', 'O', 'O', 'O', 'O', 'O', 'O', 'O', 'O', 'O'], ['O', 'O', 'O', 'O', 'O', 'O', 'O', 'O', 'O', 'O', 'O', 'O', 'O', 'O', 'O', 'O', 'O', 'O', 'O', 'O', 'O'], ['O', 'O', 'X', 'O', 'O', 'O', 'O', 'O', 'O', 'O', 'O', 'O', 'O', 'O'], ['O', 'O', 'O', 'O', 'O', 'O', 'O', 'O', 'O', 'O', 'O', 'O', 'O', 'O', 'O', 'O', 'O', 'O', 'O', 'O', 'O', 'O', 'O', 'O', 'O', 'O', 'O', 'O', 'O', 'O', 'O', 'O', 'O', 'O'], ['O', 'O', 'O', 'O', 'O', 'O', 'O', 'O', 'O'], ['B-Entity', 'I-Entity', 'I-Entity', 'I-Entity', 'O', 'O', 'O', 'O', 'O', 'O', 'B-Action', 'O', 'B-Action', 'B-Entity', 'B-Entity', 'I-Entity', 'I-Entity', 'I-Entity', 'B-Modifier', 'B-Entity', 'I-Entity', 'I-Entity', 'O'], ['O', 'O', 'O', 'O', 'O', 'O', 'O', 'O', 'O', 'O', 'O', 'O', 'O', 'O', 'O', 'O', 'O', 'O', 'O'], ['B-Entity', 'I-Entity', 'B-Action', 'B-Entity', 'B-Modifier', 'B-Entity', 'B-Entity', 'O', 'B-Action', 'B-Entity', 'B-Modifier', 'B-Entity', 'I-Entity', 'O', 'O', 'B-Entity', 'I-Entity', 'I-Entity', 'B-Modifier', 'O', 'I-Entity', 'I-Entity', 'O'], ['B-Entity', 'O', 'O', 'B-Action', 'O', 'I-Entity', 'B-Modifier', 'O', 'O', 'I-Entity', 'I-Entity', 'I-Entity', 'I-Entity', 'I-Entity', 'I-Entity', 'I-Entity', 'I-Entity', 'O'], ['O', 'O', 'O', 'O', 'O', 'O', 'O', 'O', 'O', 'O', 'B-Entity', 'O', 'B-Action', 'O', 'B-Action', 'B-Entity', 'B-Modifier', 'O', 'B-Entity', 'I-Entity', 'O'], ['O', 'O', 'O', 'I-Entity', 'O', 'O', 'O', 'O', 'O', 'O', 'O', 'O', 'O', 'O', 'O'], ['O', 'O', 'O', 'O', 'O', 'O', 'O', 'O', 'O', 'O', 'O', 'O', 'O', 'O', 'X', 'X', 'O', 'O', 'O', 'O', 'O', 'O'], ['O', 'O', 'O', 'B-Entity', 'I-Entity', 'B-Action', 'B-Entity', 'B-Entity', 'I-Entity', 'I-Entity', 'B-Modifier', 'I-Modifier', 'O', 'I-Entity', 'X', 'X', 'X', 'I-Entity', 'I-Entity', 'I-Entity', 'I-Entity', 'O', 'O', 'O', 'O', 'O', 'O', 'O', 'O', 'O'], ['B-Entity', 'O', 'B-Action', 'B-Modifier', 'O', 'B-Entity', 'I-Entity', 'B-Modifier', 'O', 'I-Entity', 'I-Entity', 'B-Modifier', 'O', 'O', 'O', 'O', 'O', 'I-Entity', 'O', 'O', 'O', 'O', 'O', 'O', 'O', 'O'], ['O', 'O', 'O', 'O', 'O', 'O', 'O', 'O', 'O', 'O', 'O', 'O', 'O', 'O', 'O', 'O', 'O', 'O', 'O', 'O', 'O', 'O', 'O', 'O'], ['B-Entity', 'B-Action', 'B-Entity', 'I-Entity', 'I-Entity', 'O', 'O', 'I-Entity', 'O', 'B-Entity', 'I-Entity', 'O'], ['B-Entity', 'O', 'O', 'O', 'O', 'B-Action', 'B-Entity', 'I-Entity', 'X', 'X', 'I-Entity', 'O', 'B-Action', 'B-Entity', 'I-Entity', 'O', 'B-Action', 'B-Entity', 'O', 'B-Action', 'B-Entity', 'O', 'O', 'B-Action', 'I-Action', 'B-Entity', 'I-Entity', 'B-Modifier', 'B-Entity', 'I-Entity', 'O'], ['O', 'O', 'X', 'X', 'O', 'O', 'O', 'O', 'O', 'O', 'O', 'O'], ['O', 'O', 'O', 'O', 'O', 'O', 'O', 'O', 'O'], ['O', 'I-Entity', 'O', 'O', 'B-Action', 'B-Entity', 'I-Entity', 'I-Entity', 'I-Entity', 'I-Entity', 'O'], ['B-Entity', 'O', 'B-Action', 'B-Entity', 'I-Entity', 'B-Modifier', 'B-Entity', 'I-Entity', 'B-Modifier', 'B-Entity', 'I-Entity', 'I-Entity', 'O'], ['O', 'O', 'O', 'O', 'O', 'O', 'O', 'O', 'O', 'O', 'O', 'O', 'O', 'O', 'O', 'O'], ['O', 'O', 'O', 'O', 'O', 'O', 'O', 'O', 'O', 'O', 'O', 'O', 'O', 'O', 'O', 'O', 'O', 'O', 'O', 'O', 'O', 'O', 'O', 'O', 'O', 'O', 'O', 'O'], ['O', 'O', 'O', 'O', 'O', 'O', 'X', 'X', 'O', 'O', 'O', 'O', 'O', 'O', 'O', 'O', 'O', 'O', 'O', 'O'], ['O', 'O', 'O', 'O', 'O', 'O', 'O', 'O', 'O', 'O', 'O', 'O', 'O', 'O', 'O', 'O', 'O', 'O', 'O'], ['O', 'O', 'O', 'O', 'O', 'O', 'O', 'O', 'O', 'O', 'O', 'O', 'X', 'O', 'O', 'O', 'O', 'O', 'O'], ['O', 'O', 'O', 'O', 'O', 'O', 'O', 'O', 'O', 'O', 'O', 'O', 'O', 'O', 'O', 'O', 'O'], ['O', 'O', 'O', 'O', 'O', 'O', 'O', 'O', 'O', 'O', 'O'], ['O', 'O', 'O', 'O', 'O', 'O', 'O', 'O', 'O', 'O', 'O', 'O', 'O', 'O', 'O', 'O', 'O', 'O', 'O', 'O', 'O', 'O', 'O', 'O', 'O', 'O'], ['O', 'O', 'O', 'O', 'O', 'O', 'O', 'O', 'O', 'O', 'O'], ['O', 'O', 'O', 'O', 'O', 'O', 'O', 'O', 'O', 'O', 'O', 'O', 'O', 'O', 'O', 'O', 'O', 'O', 'O', 'O', 'O', 'O', 'O', 'O', 'O', 'O', 'O', 'O', 'O', 'O', 'O', 'O', 'O'], ['O', 'O', 'O', 'O', 'O', 'O', 'O', 'O', 'O', 'O', 'O', 'O', 'O', 'O', 'O', 'O', 'O', 'O', 'O', 'O', 'O', 'O', 'O', 'O'], ['O', 'O', 'O', 'O', 'O', 'O', 'O', 'O', 'O', 'O', 'O', 'O', 'O', 'O', 'O', 'O', 'O', 'O', 'O', 'O', 'O', 'O', 'O', 'O', 'O', 'O', 'O', 'O', 'O', 'O', 'O', 'O', 'O', 'O', 'O', 'O', 'O', 'O'], ['O', 'O', 'O', 'B-Entity', 'O', 'O', 'O', 'B-Action', 'B-Entity', 'I-Entity', 'I-Entity', 'I-Entity', 'I-Entity', 'B-Modifier', 'B-Entity', 'I-Entity', 'I-Entity', 'I-Entity', 'I-Entity', 'I-Entity', 'O'], ['O', 'O', 'O', 'O', 'O', 'O', 'O', 'O', 'O', 'O', 'O', 'O', 'O', 'O', 'O', 'O', 'O', 'O', 'O', 'O', 'O', 'O', 'O', 'O', 'O', 'O', 'O', 'O', 'O', 'O', 'O', 'O', 'O', 'O', 'O', 'O', 'O'], ['O', 'I-Entity', 'I-Entity', 'I-Entity', 'B-Action', 'I-Action', 'B-Modifier', 'O', 'I-Entity', 'I-Entity', 'O', 'O', 'O', 'O', 'O', 'O', 'O', 'O', 'O', 'B-Action', 'B-Entity', 'O'], ['O', 'O', 'O', 'O', 'O', 'O', 'O', 'O', 'O', 'O', 'O', 'B-Action', 'B-Entity', 'O', 'O', 'O', 'O', 'O'], ['O', 'I-Entity', 'I-Entity', 'O', 'O', 'O', 'O', 'O', 'O', 'O', 'O', 'O', 'O', 'O', 'O', 'O', 'O', 'X', 'X', 'O', 'O', 'B-Action', 'B-Entity', 'I-Entity', 'O', 'O', 'O', 'O', 'O', 'O', 'O', 'O', 'O', 'O', 'O', 'B-Action', 'O', 'B-Action', 'O'], ['O', 'I-Entity', 'I-Entity', 'B-Action', 'I-Action', 'B-Entity', 'I-Entity', 'I-Entity', 'I-Entity', 'I-Entity', 'I-Entity', 'I-Entity', 'O', 'O', 'O', 'O', 'O', 'O', 'O', 'O', 'O', 'O', 'O', 'O', 'O', 'O', 'O', 'O', 'O', 'O', 'O', 'O', 'O', 'O', 'O'], ['O', 'O', 'O', 'O', 'O', 'O', 'O', 'O', 'O', 'O', 'O', 'O', 'O', 'O', 'O', 'O', 'O', 'O'], ['O', 'O', 'B-Entity', 'O', 'O', 'O', 'O', 'O', 'B-Action', 'B-Entity', 'I-Entity', 'I-Entity', 'I-Entity', 'O', 'O', 'O', 'O', 'O', 'O', 'O', 'O', 'O', 'O', 'O', 'O', 'O', 'O', 'O', 'O', 'O', 'O', 'O', 'O', 'O', 'O', 'O'], ['O', 'O', 'O', 'O', 'O', 'O', 'O', 'O', 'O'], ['O', 'O', 'O', 'O', 'O', 'O', 'O', 'O', 'O', 'O', 'O', 'O', 'O', 'O', 'B-Entity', 'I-Entity', 'O', 'B-Action', 'O', 'B-Entity', 'O', 'B-Action', 'B-Entity', 'O'], ['B-Entity', 'I-Entity', 'O', 'B-Action', 'B-Entity', 'I-Entity', 'I-Entity', 'I-Entity', 'B-Modifier', 'O', 'I-Entity', 'I-Entity', 'I-Entity', 'I-Entity', 'O', 'O', 'O', 'O', 'X', 'O', 'O'], ['O', 'O', 'O', 'O', 'O', 'O', 'O', 'O', 'O', 'O', 'O', 'O', 'O', 'O', 'O', 'O', 'O', 'O', 'O', 'O'], ['B-Entity', 'I-Entity', 'B-Action', 'O', 'I-Entity', 'I-Entity', 'B-Modifier', 'B-Entity', 'I-Entity', 'I-Entity', 'O', 'O', 'O', 'O', 'I-Entity', 'I-Entity', 'O'], ['O', 'I-Entity', 'I-Entity', 'I-Entity', 'O', 'O', 'B-Modifier', 'O', 'I-Entity', 'O', 'O', 'O', 'O', 'O', 'O', 'O', 'O', 'O', 'O', 'O', 'B-Action', 'O', 'B-Entity', 'I-Entity', 'I-Entity', 'O', 'O', 'O', 'B-Action', 'O', 'I-Entity', 'I-Entity', 'I-Entity', 'O'], ['O', 'B-Entity', 'I-Entity', 'O', 'O', 'O', 'O', 'O', 'B-Entity', 'O', 'O', 'O', 'O', 'B-Action', 'B-Modifier', 'O', 'B-Entity', 'I-Entity', 'O', 'O', 'O', 'O', 'B-Action', 'B-Entity', 'X', 'I-Entity', 'O'], ['B-Entity', 'I-Entity', 'I-Entity', 'B-Action', 'I-Action', 'I-Action', 'O', 'B-Entity', 'I-Entity', 'B-Modifier', 'B-Entity', 'O'], ['O', 'O', 'O', 'O', 'O', 'O', 'O', 'O', 'O', 'O', 'O', 'O', 'O', 'O', 'O', 'O', 'O', 'O', 'O', 'O', 'O'], ['O', 'O', 'O', 'O', 'O', 'O', 'O', 'O', 'O', 'O', 'O', 'O', 'O', 'O', 'O', 'O', 'O', 'O', 'O'], ['B-Entity', 'I-Entity', 'I-Entity', 'I-Entity', 'I-Entity', 'I-Entity', 'B-Action', 'I-Action', 'O', 'O', 'O', 'O', 'O', 'O', 'O', 'O', 'O', 'O', 'O', 'O', 'O', 'O', 'O', 'O', 'O', 'O', 'O', 'O', 'O', 'O', 'O', 'O'], ['O', 'I-Entity', 'O', 'O', 'O', 'B-Modifier', 'O', 'I-Entity', 'I-Entity', 'O', 'O', 'O', 'O', 'O', 'O', 'O', 'O', 'O', 'O'], ['O', 'O', 'O', 'O', 'O', 'O', 'O', 'O', 'O', 'O', 'O', 'O', 'O', 'O', 'O', 'O', 'O', 'O', 'O', 'O', 'O', 'O', 'O', 'O', 'O', 'O', 'O', 'O', 'O'], ['O', 'O', 'I-Entity', 'O', 'B-Action', 'I-Action', 'B-Modifier', 'O', 'B-Entity', 'I-Entity', 'I-Entity', 'I-Entity', 'I-Entity', 'I-Entity', 'I-Entity', 'O', 'O', 'O', 'O', 'O', 'O'], ['O', 'O', 'O', 'O', 'O', 'O', 'O', 'O', 'O', 'O', 'O', 'O', 'O', 'O', 'O', 'O', 'O', 'O', 'O', 'O', 'O'], ['O', 'O', 'O', 'I-Entity', 'O', 'O', 'O', 'O', 'B-Entity', 'O', 'B-Action', 'O', 'I-Entity', 'I-Entity', 'I-Entity', 'I-Entity', 'O', 'O', 'O', 'O', 'O', 'O', 'O', 'O', 'O'], ['O', 'O', 'O', 'B-Entity', 'I-Entity', 'O', 'O', 'O', 'O', 'O', 'O', 'O', 'O', 'O', 'O', 'O', 'O', 'O', 'O', 'O', 'O', 'O'], ['O', 'I-Entity', 'B-Action', 'I-Action', 'O', 'O', 'O', 'O', 'O', 'O', 'O', 'O', 'O', 'O'], ['B-Modifier', 'O', 'B-Entity', 'I-Entity', 'I-Entity', 'B-Entity', 'B-Action', 'I-Action', 'O'], ['O', 'O', 'O', 'O', 'O', 'O', 'O', 'O', 'O', 'O', 'O', 'O', 'O', 'O', 'O', 'O', 'O', 'O', 'O', 'O', 'O'], ['O', 'O', 'O', 'O', 'O', 'O', 'O', 'O', 'O', 'O', 'O', 'O', 'O', 'O', 'O', 'O', 'O', 'O', 'O', 'O', 'O', 'O', 'O', 'O', 'O', 'O', 'O', 'O', 'O', 'O', 'O', 'O', 'O'], ['B-Entity', 'I-Entity', 'I-Entity', 'I-Entity', 'O', 'I-Action', 'I-Action', 'I-Action', 'I-Action', 'O'], ['O', 'O', 'B-Entity', 'I-Entity', 'B-Action', 'I-Action', 'I-Action', 'O', 'B-Entity', 'X', 'X', 'B-Modifier', 'B-Entity', 'O'], ['B-Entity', 'I-Entity', 'O', 'O', 'O', 'O', 'O', 'B-Action', 'B-Modifier', 'O', 'I-Entity', 'I-Entity', 'O'], ['B-Entity', 'O', 'O', 'O', 'O', 'O', 'O', 'B-Action', 'B-Entity', 'I-Entity', 'I-Entity', 'I-Entity', 'O', 'O', 'I-Entity', 'I-Entity', 'I-Entity', 'I-Entity', 'O', 'B-Action', 'B-Entity', 'I-Entity', 'O', 'B-Action', 'B-Entity', 'I-Entity', 'B-Modifier', 'B-Entity', 'I-Entity', 'X', 'X', 'I-Entity', 'I-Entity', 'I-Entity', 'O'], ['O', 'O', 'O', 'O', 'O', 'O', 'O', 'O', 'O', 'O', 'O', 'O', 'O', 'O', 'O', 'O', 'O', 'O', 'O', 'O', 'O', 'O', 'O', 'O', 'O', 'O', 'O', 'O'], ['O', 'O', 'O', 'O', 'O', 'O', 'O', 'O', 'O', 'O', 'O', 'O', 'O', 'O', 'O', 'O', 'O', 'O', 'O', 'O', 'O', 'O', 'O', 'O', 'O', 'O', 'O', 'O', 'O', 'O', 'O', 'O', 'O', 'O', 'O', 'O', 'O', 'O'], ['O', 'O', 'O', 'O', 'O', 'O', 'O', 'O', 'O', 'O', 'O', 'O'], ['O', 'O', 'I-Entity', 'B-Action', 'I-Entity', 'I-Entity', 'I-Entity', 'I-Entity', 'I-Entity', 'I-Entity', 'I-Entity', 'I-Entity', 'I-Entity', 'I-Entity', 'I-Entity', 'O', 'O', 'B-Action', 'B-Entity', 'I-Entity', 'I-Entity', 'X', 'I-Entity', 'I-Entity', 'I-Entity', 'I-Entity', 'I-Entity', 'I-Entity', 'O'], ['O', 'O', 'O', 'O', 'O', 'B-Entity', 'I-Entity', 'B-Action', 'I-Action', 'O', 'O', 'I-Entity', 'I-Entity', 'I-Entity', 'I-Entity', 'I-Entity', 'B-Action', 'I-Action', 'B-Modifier', 'O', 'I-Entity', 'I-Entity', 'O', 'B-Modifier', 'O', 'I-Entity', 'B-Entity', 'I-Entity', 'I-Entity', 'I-Entity'], ['O', 'O', 'O', 'O', 'O', 'O', 'O', 'O', 'O'], ['O', 'O', 'I-Entity', 'I-Entity', 'I-Entity', 'I-Entity', 'I-Entity', 'I-Entity', 'I-Entity', 'I-Entity', 'I-Entity', 'I-Entity', 'O', 'B-Entity', 'O', 'X', 'I-Entity', 'I-Entity', 'I-Entity', 'I-Entity', 'I-Entity', 'I-Entity', 'O', 'O', 'B-Action', 'B-Action', 'O', 'B-Entity', 'X', 'X', 'B-Modifier', 'B-Entity', 'O'], ['O', 'I-Entity', 'B-Action', 'B-Entity', 'I-Entity', 'O', 'B-Action', 'I-Entity', 'I-Entity', 'I-Entity', 'O', 'O', 'O', 'O', 'O', 'O', 'O', 'O', 'O', 'O', 'O'], ['O', 'O', 'O', 'O', 'O', 'O', 'O', 'O', 'O', 'O', 'O', 'O', 'O', 'O', 'O', 'O', 'O', 'O', 'O', 'O', 'O', 'O', 'O', 'O', 'O', 'O', 'O', 'O', 'O', 'O', 'O', 'O', 'O', 'O', 'O'], ['O', 'B-Entity', 'I-Entity', 'O', 'B-Action', 'I-Action', 'B-Modifier', 'O', 'I-Entity', 'I-Entity', 'B-Entity', 'O', 'B-Action', 'I-Action', 'B-Modifier', 'O', 'I-Entity', 'I-Entity', 'I-Entity', 'I-Entity', 'O', 'O', 'O', 'O', 'O', 'O', 'O', 'O', 'O', 'B-Entity', 'I-Entity', 'O', 'B-Action', 'B-Entity', 'I-Entity', 'I-Entity', 'I-Entity', 'I-Entity', 'B-Modifier', 'O', 'I-Entity'], ['O', 'O', 'O', 'O', 'O', 'O', 'O', 'O', 'O', 'O', 'O', 'O', 'O', 'O', 'O', 'O', 'O', 'O', 'O', 'O', 'O', 'O', 'O', 'O', 'O', 'O', 'O', 'O', 'O'], ['B-Entity', 'I-Entity', 'I-Entity', 'I-Entity', 'I-Entity', 'O', 'I-Action', 'O', 'B-Action', 'B-Modifier', 'I-Modifier', 'O', 'B-Entity', 'I-Entity', 'I-Entity', 'I-Entity', 'O'], ['O', 'O', 'O', 'O', 'O', 'O', 'O', 'O', 'O', 'O', 'O', 'O'], ['O', 'O', 'O', 'O', 'O'], ['B-Entity', 'I-Entity', 'O', 'I-Action', 'B-Modifier', 'O', 'O', 'I-Entity', 'I-Entity', 'O', 'O', 'B-Action', 'B-Modifier', 'O', 'B-Entity', 'I-Entity', 'I-Entity', 'I-Entity', 'O'], ['O', 'O', 'O'], ['O', 'O', 'O', 'O', 'O', 'O', 'O', 'O', 'O', 'O', 'O', 'O', 'O', 'O', 'O', 'O', 'O', 'O', 'O', 'O', 'O', 'O', 'O', 'O', 'O', 'O', 'O', 'O'], ['O', 'O', 'O', 'O', 'O', 'O', 'O', 'O', 'O', 'O', 'O', 'O', 'O', 'O', 'O', 'O', 'O', 'O', 'O'], ['O', 'O', 'O', 'O', 'O', 'O', 'O', 'O', 'O', 'O', 'O', 'O', 'O', 'O', 'O', 'O', 'O', 'O'], ['O', 'O', 'O', 'O', 'O', 'O', 'O', 'O', 'O', 'O', 'O', 'O', 'O', 'O', 'O', 'O', 'O', 'O'], ['O', 'O', 'O', 'O', 'O', 'O', 'O', 'O', 'O', 'O', 'O', 'O', 'O', 'O', 'O', 'O', 'O', 'O'], ['O', 'O', 'O', 'O', 'O', 'O', 'O', 'O', 'O', 'O', 'O', 'O', 'O', 'O', 'O', 'O', 'O', 'O'], ['O', 'O', 'O', 'O', 'O', 'O', 'O', 'O', 'O', 'O', 'O', 'O', 'O', 'O', 'O', 'O', 'O', 'O'], ['O', 'O', 'O', 'O', 'O', 'O', 'O', 'O', 'O', 'X', 'O', 'O', 'O', 'O', 'O', 'O', 'O', 'O', 'O', 'O'], ['O', 'O', 'O', 'O', 'O', 'O', 'O', 'O', 'O', 'O', 'O', 'O', 'O', 'O', 'O', 'O', 'O', 'O', 'O'], ['O', 'O', 'O', 'O', 'O', 'O', 'O', 'O', 'O', 'O', 'O', 'O', 'O', 'O', 'O', 'O', 'O', 'O'], ['O', 'O', 'O', 'O', 'O', 'O', 'O', 'O', 'O', 'O', 'O', 'O', 'O', 'O', 'O', 'O', 'O', 'O'], ['O', 'O', 'O', 'O', 'O', 'O', 'O', 'O', 'O', 'O', 'O', 'O', 'O', 'O', 'O', 'O', 'O', 'O', 'O', 'O', 'O', 'O', 'O', 'O', 'O'], ['O', 'O', 'O', 'O', 'O', 'O', 'O', 'O', 'O', 'O', 'O', 'O', 'O', 'O', 'O', 'O', 'O', 'O'], ['O', 'O', 'O', 'O', 'O', 'O', 'O', 'O', 'O', 'O', 'O', 'O', 'O', 'O', 'O', 'O', 'O', 'O'], ['O', 'O', 'O', 'O', 'O', 'O', 'O', 'O', 'O', 'O', 'O', 'O', 'O', 'O', 'O', 'O', 'O', 'O'], ['O', 'O', 'O', 'O', 'O', 'O', 'O', 'O', 'O', 'O', 'O', 'O', 'O', 'O', 'O', 'O', 'O', 'O'], ['O', 'O', 'O', 'O', 'O', 'O', 'O', 'O', 'O', 'O', 'O', 'O', 'O', 'O', 'O', 'O', 'O', 'O'], ['O', 'O', 'O', 'O', 'O', 'O', 'O', 'O', 'O', 'X', 'O', 'O', 'O', 'O', 'O', 'O', 'O', 'O', 'X'], ['O', 'O', 'O', 'O', 'O', 'O', 'O', 'O', 'O', 'O', 'O', 'O', 'O', 'O', 'O', 'O', 'O', 'O', 'O', 'O', 'O', 'B-Entity', 'O', 'B-Action', 'B-Entity', 'I-Entity', 'I-Entity', 'I-Entity', 'O', 'O'], ['O', 'O', 'O', 'O', 'O', 'O', 'O', 'O', 'O', 'O', 'O', 'O', 'O', 'O', 'O', 'O'], ['O', 'O', 'O', 'O', 'O', 'O', 'O', 'O', 'O', 'O', 'O', 'O', 'O', 'O', 'O', 'O', 'O', 'O', 'O', 'O', 'O', 'O', 'O', 'O', 'O', 'O', 'O', 'O', 'O', 'O', 'O'], ['O', 'O', 'O', 'O', 'O', 'O', 'X', 'O', 'O', 'O', 'O', 'O', 'O', 'O', 'O', 'O', 'O', 'O', 'O', 'O', 'O', 'O', 'O', 'B-Entity', 'I-Entity', 'O', 'O', 'O'], ['O', 'O', 'O', 'O', 'O', 'O', 'O', 'O', 'O', 'O', 'O', 'O', 'O', 'O', 'O', 'O', 'O', 'O', 'O', 'O', 'O', 'O', 'O', 'O', 'O', 'O', 'O', 'O'], ['O', 'O', 'O', 'O', 'O', 'O', 'O', 'O', 'O', 'I-Entity', 'I-Entity', 'O', 'O', 'O', 'O', 'O', 'O', 'O', 'O', 'O', 'O'], ['B-Entity', 'I-Entity', 'O', 'O', 'O', 'O', 'O', 'O', 'O', 'O', 'O'], ['O', 'O', 'O', 'O', 'O', 'O', 'O', 'O', 'O', 'O', 'O', 'O', 'O', 'O', 'O', 'O', 'O', 'O', 'O', 'O', 'O', 'O', 'O', 'O', 'O', 'O', 'O', 'O', 'O', 'O'], ['O', 'O', 'O', 'O', 'O', 'O', 'O', 'O', 'O', 'O', 'O', 'O', 'O', 'O', 'O', 'O', 'O', 'O', 'O', 'O', 'O'], ['O', 'O', 'O', 'O', 'O', 'O', 'O', 'O', 'O', 'O', 'O', 'O', 'O', 'O', 'O', 'O', 'O', 'O'], ['O', 'O', 'O', 'O', 'O', 'O', 'O', 'O', 'O', 'O', 'O', 'O', 'O', 'O'], ['O', 'O', 'O', 'O', 'O', 'O', 'O', 'O', 'O', 'O', 'O', 'O', 'O', 'O', 'O', 'O', 'O', 'O', 'O', 'O', 'O', 'O', 'O', 'O', 'O', 'O', 'O', 'O', 'O', 'O', 'O', 'O'], ['O', 'O', 'O', 'O'], ['O', 'O', 'O', 'O', 'O', 'O', 'O', 'O', 'O', 'O', 'O', 'O', 'O', 'O', 'O', 'O', 'O', 'O', 'O', 'O', 'O', 'O'], ['B-Modifier', 'B-Entity', 'B-Entity', 'I-Entity', 'O', 'B-Entity', 'I-Entity', 'B-Action', 'B-Modifier', 'B-Entity', 'I-Entity', 'O'], ['O', 'O', 'O', 'O', 'B-Entity', 'I-Entity', 'I-Entity', 'B-Action', 'B-Entity', 'I-Entity', 'I-Entity', 'I-Entity', 'O', 'O', 'O', 'B-Action', 'B-Entity', 'I-Entity', 'O'], ['B-Modifier', 'B-Entity', 'I-Entity', 'I-Entity', 'O', 'B-Entity', 'B-Action', 'B-Modifier', 'B-Entity', 'I-Entity', 'I-Entity', 'I-Entity', 'I-Entity', 'I-Entity', 'O'], ['B-Entity', 'I-Entity', 'B-Action', 'B-Entity', 'I-Entity', 'O', 'B-Entity', 'I-Entity', 'O', 'B-Action', 'B-Entity', 'B-Modifier', 'B-Entity', 'I-Entity', 'O'], ['O', 'O', 'O', 'O', 'O', 'O', 'O', 'O', 'O', 'O', 'O', 'O', 'O', 'O', 'O', 'O', 'O'], ['O', 'O', 'O', 'O', 'O', 'O', 'O', 'O', 'O', 'O', 'O'], ['O', 'O', 'O', 'O', 'O', 'O', 'O', 'O', 'O', 'O', 'O', 'O', 'O', 'O', 'X', 'X', 'O'], ['O', 'O', 'O', 'O', 'O', 'O', 'O', 'O', 'O', 'O', 'O', 'O', 'O', 'O', 'O', 'O', 'O', 'X', 'X', 'O'], ['O', 'O', 'O', 'O', 'O', 'O', 'O', 'O', 'O', 'O', 'O', 'O', 'O', 'O', 'O', 'O', 'I-Entity', 'O', 'O'], ['O', 'O', 'O', 'O', 'O', 'O', 'O', 'O', 'O', 'O', 'O', 'O', 'O', 'O', 'O', 'O', 'O', 'O', 'O'], ['B-Entity', 'O', 'O', 'O', 'O', 'O', 'O', 'B-Action', 'O', 'I-Entity', 'O', 'B-Action', 'B-Entity', 'I-Entity', 'O'], ['O', 'O', 'O', 'O', 'O', 'O', 'O', 'O', 'O', 'O'], ['O', 'O', 'O', 'O', 'O', 'O', 'O', 'O', 'O', 'O', 'O', 'O'], ['O', 'O', 'O', 'O', 'O', 'O', 'O', 'O', 'O', 'O', 'O', 'O', 'O', 'O', 'O', 'O', 'O'], ['O', 'I-Entity', 'I-Entity', 'I-Entity', 'B-Action', 'O', 'O', 'I-Entity', 'O', 'O', 'O', 'O', 'O', 'O', 'O', 'O', 'O', 'O', 'O', 'X', 'O', 'O', 'O'], ['O', 'O', 'O', 'O', 'O', 'B-Action', 'O', 'O', 'O', 'O', 'O', 'O', 'O', 'O', 'O', 'O', 'O', 'O', 'O', 'O'], ['B-Modifier', 'B-Entity', 'I-Entity', 'I-Entity', 'I-Action', 'O', 'B-Entity', 'I-Entity', 'B-Action', 'B-Entity', 'I-Entity', 'B-Modifier', 'O', 'I-Entity', 'O'], ['B-Entity', 'I-Entity', 'B-Action', 'B-Modifier', 'B-Entity', 'I-Entity', 'I-Entity', 'I-Entity', 'I-Entity', 'I-Entity', 'I-Entity', 'I-Entity', 'I-Entity', 'I-Entity', 'O', 'B-Modifier', 'O', 'B-Entity', 'I-Entity', 'I-Entity', 'O'], ['O', 'O', 'O', 'O', 'O', 'O', 'O', 'O', 'O', 'O', 'O', 'O', 'O', 'O', 'O', 'O', 'O', 'O', 'O', 'O', 'O', 'O'], ['O', 'O', 'O', 'O', 'O', 'O', 'B-Entity', 'O', 'O', 'O', 'O', 'O', 'O', 'O', 'O', 'O', 'O', 'O', 'O', 'O'], ['O', 'O', 'O', 'O', 'O', 'O', 'O', 'O', 'O', 'O', 'O', 'O', 'O', 'O', 'O'], ['O', 'I-Entity', 'I-Entity', 'X', 'X', 'I-Entity', 'O', 'O', 'B-Action', 'I-Action', 'O', 'I-Modifier', 'B-Entity', 'I-Entity', 'I-Entity', 'O', 'B-Action', 'O', 'I-Entity', 'I-Entity', 'O', 'O', 'B-Action', 'B-Modifier', 'B-Entity', 'B-Entity', 'B-Modifier', 'B-Entity', 'O'], ['O', 'O', 'O', 'O', 'O', 'O', 'B-Entity', 'I-Entity', 'I-Entity', 'I-Entity', 'I-Entity', 'O', 'O', 'O', 'O', 'O', 'O', 'O', 'O', 'O', 'B-Action', 'O', 'I-Entity', 'I-Entity'], ['O', 'O', 'O', 'B-Action', 'O', 'I-Entity', 'I-Entity', 'I-Entity', 'B-Modifier', 'O', 'B-Entity', 'I-Entity', 'B-Modifier', 'B-Entity', 'I-Entity', 'I-Entity', 'O'], ['O', 'O', 'O', 'O', 'O', 'O', 'O', 'O', 'O', 'O', 'O', 'B-Entity', 'I-Entity', 'I-Entity', 'O', 'O', 'O', 'B-Action', 'I-Action', 'O', 'O', 'B-Entity', 'I-Entity', 'I-Entity', 'I-Entity', 'I-Entity', 'B-Modifier', 'B-Entity', 'I-Entity', 'I-Entity', 'I-Entity', 'O'], ['O', 'O', 'O', 'O', 'O', 'O', 'O', 'O', 'O', 'O', 'O', 'O', 'O', 'O', 'O', 'O'], ['O', 'O', 'O', 'O', 'O', 'O', 'O', 'O', 'O', 'O', 'O', 'O', 'O', 'O', 'B-Entity', 'O', 'O', 'O', 'O', 'O', 'O', 'O', 'O', 'O', 'O', 'O', 'O', 'B-Entity', 'I-Entity', 'O', 'B-Action', 'B-Entity', 'I-Entity', 'I-Entity', 'I-Entity', 'I-Entity', 'I-Entity', 'I-Entity', 'I-Entity', 'I-Entity', 'O'], ['O', 'O', 'B-Entity', 'I-Entity', 'B-Action', 'B-Entity', 'I-Entity', 'I-Entity', 'I-Entity', 'I-Entity', 'I-Entity', 'O', 'O', 'O', 'O', 'O', 'O', 'O', 'O', 'O', 'O', 'I-Entity', 'I-Entity', 'I-Entity', 'I-Entity', 'O', 'I-Entity', 'O'], ['O', 'O', 'O', 'O', 'B-Entity', 'I-Entity', 'I-Entity', 'O', 'I-Entity', 'I-Entity', 'X', 'X', 'I-Entity', 'O', 'O', 'O', 'O', 'O', 'O', 'O', 'O', 'O', 'O', 'O', 'O', 'O', 'O', 'O', 'O', 'O', 'O', 'O'], ['O', 'O', 'O', 'O', 'O', 'O', 'O', 'O', 'O', 'O', 'O', 'O', 'O', 'O'], ['O', 'O', 'O', 'O', 'O', 'O', 'O', 'O', 'O', 'O', 'O', 'O', 'O', 'O', 'O', 'O', 'O', 'O', 'O', 'O', 'O', 'O', 'O', 'O', 'O'], ['O', 'O', 'O', 'O', 'B-Entity', 'I-Entity', 'I-Entity', 'B-Action', 'B-Entity', 'I-Entity', 'I-Entity', 'O'], ['O', 'O', 'O', 'B-Action', 'B-Modifier', 'B-Entity', 'I-Entity', 'I-Entity', 'I-Entity', 'I-Entity', 'I-Entity', 'I-Entity', 'I-Entity', 'X', 'I-Entity', 'I-Entity', 'O', 'X', 'I-Entity', 'O', 'O', 'O', 'O', 'B-Action', 'B-Modifier', 'B-Entity', 'X', 'X', 'O', 'O'], ['B-Entity', 'I-Entity', 'B-Action', 'O', 'I-Entity', 'I-Entity', 'I-Entity', 'O', 'O', 'O', 'O', 'O', 'O', 'O', 'O', 'O', 'O', 'O', 'O', 'O'], ['O', 'B-Entity', 'O', 'O', 'O', 'O', 'O', 'O', 'O', 'O', 'O', 'O', 'O', 'O', 'O', 'O', 'O', 'O', 'O', 'O', 'O', 'O', 'O', 'O', 'O'], ['B-Entity', 'O', 'O', 'O', 'I-Entity', 'O', 'I-Entity', 'I-Entity', 'O', 'B-Action', 'B-Modifier', 'O', 'B-Entity', 'I-Entity', 'O', 'X', 'I-Entity', 'O'], ['O', 'O', 'O', 'O', 'O', 'O', 'O', 'O', 'O', 'O', 'O', 'O', 'O', 'O', 'O', 'O', 'O', 'O', 'O', 'O', 'O', 'O', 'O', 'O'], ['O', 'O', 'O', 'O', 'O', 'O', 'O', 'O', 'O', 'O', 'O', 'O', 'O', 'O', 'O', 'O', 'I-Entity', 'I-Entity', 'I-Entity', 'O', 'O', 'O', 'O', 'B-Action', 'O', 'B-Action', 'O', 'B-Entity', 'O', 'O', 'O', 'O', 'O', 'O'], ['O', 'O', 'O', 'O', 'O', 'O', 'O', 'O', 'O', 'O', 'O', 'O', 'O'], ['B-Entity', 'I-Entity', 'O', 'B-Action', 'B-Modifier', 'O', 'I-Entity', 'I-Entity', 'O', 'O', 'O', 'O', 'O', 'O', 'O', 'O', 'O', 'O', 'O', 'O', 'O', 'O', 'O', 'B-Action', 'B-Entity', 'O'], ['O', 'O', 'B-Entity', 'I-Entity', 'O', 'B-Action', 'B-Entity', 'I-Entity', 'B-Modifier', 'B-Entity', 'I-Entity', 'I-Entity', 'O'], ['O', 'O', 'O', 'O', 'O', 'O', 'B-Modifier', 'O', 'O', 'O', 'O', 'O', 'O', 'O', 'O', 'O', 'O', 'O', 'O', 'O', 'O', 'O', 'O', 'X', 'X', 'O', 'O', 'X', 'X'], ['O', 'O', 'O', 'O', 'O', 'O', 'O', 'O', 'O', 'O', 'O', 'O'], ['O', 'O', 'O', 'O', 'O', 'O', 'O', 'O', 'O', 'O', 'O', 'O', 'O', 'O', 'O', 'O', 'O', 'O', 'O'], ['O', 'O', 'O', 'O', 'O', 'O', 'O', 'O', 'O', 'O', 'O', 'I-Entity', 'O', 'O', 'O', 'O', 'O', 'O', 'O', 'I-Entity', 'I-Entity', 'I-Entity', 'B-Action', 'B-Entity', 'I-Entity', 'I-Entity', 'O'], ['O', 'O', 'O', 'O', 'O', 'O', 'O', 'O', 'O', 'O', 'O', 'O', 'O', 'O'], ['O', 'O', 'O', 'O', 'O', 'O', 'O', 'O', 'O', 'O', 'O', 'O', 'O', 'O', 'O', 'O', 'O', 'O', 'O'], ['O', 'O', 'O', 'O', 'O', 'O', 'O', 'O', 'B-Entity', 'I-Entity', 'I-Entity', 'I-Entity', 'I-Entity', 'I-Entity', 'O', 'B-Action', 'B-Modifier', 'O', 'I-Entity', 'I-Entity', 'I-Entity', 'I-Entity', 'I-Entity', 'I-Entity', 'O'], ['B-Entity', 'I-Entity', 'I-Entity', 'B-Action', 'B-Entity', 'I-Entity', 'O', 'O', 'O', 'O', 'B-Action', 'B-Entity', 'B-Modifier', 'B-Entity', 'O'], ['B-Entity', 'I-Entity', 'B-Action', 'B-Entity', 'I-Entity', 'I-Entity', 'I-Entity', 'I-Entity', 'O', 'B-Action', 'I-Entity', 'O', 'I-Action', 'B-Modifier', 'B-Entity', 'I-Entity', 'O', 'B-Action', 'B-Entity', 'I-Entity', 'I-Entity', 'B-Modifier', 'B-Entity', 'I-Entity', 'I-Entity', 'I-Entity', 'O'], ['O', 'O', 'O', 'O', 'O', 'O', 'O', 'O', 'O', 'O', 'O', 'O', 'O', 'O', 'O', 'O', 'O', 'O', 'O', 'O', 'O', 'O', 'O', 'O', 'O', 'O', 'O', 'O', 'O', 'O', 'O'], ['O', 'O', 'O', 'O', 'O', 'O', 'O', 'O', 'O', 'O', 'O', 'O', 'O', 'O', 'O'], ['O', 'O', 'O', 'O', 'O', 'O', 'O', 'O', 'O', 'O', 'O', 'O', 'O', 'O', 'O', 'O', 'O', 'O', 'O', 'O', 'O'], ['O', 'O', 'B-Entity', 'I-Entity', 'I-Entity', 'I-Entity', 'O', 'O', 'B-Action', 'O', 'O', 'I-Entity', 'I-Entity', 'O', 'B-Modifier', 'O', 'I-Entity', 'O'], ['O', 'O', 'O', 'O', 'O', 'O', 'O', 'O', 'O', 'O', 'O', 'O', 'O', 'O', 'O', 'O'], ['B-Entity', 'I-Entity', 'B-Action', 'B-Entity', 'I-Entity', 'I-Entity', 'I-Entity', 'I-Entity', 'I-Entity', 'I-Entity', 'B-Entity', 'I-Entity', 'I-Entity', 'I-Entity', 'I-Entity', 'I-Entity', 'O'], ['O', 'O', 'O', 'O', 'O', 'O', 'O', 'O', 'O', 'O', 'O', 'O', 'O'], ['O', 'O', 'O', 'O', 'O', 'O', 'O', 'O', 'O'], ['O', 'O', 'O', 'O', 'B-Entity', 'I-Entity', 'O', 'O', 'B-Action', 'O', 'B-Action', 'O', 'B-Entity', 'I-Entity', 'B-Modifier', 'O', 'B-Entity', 'O'], ['B-Entity', 'O', 'B-Entity', 'O', 'B-Entity', 'I-Entity', 'O', 'B-Action', 'B-Modifier', 'O', 'B-Entity', 'O'], ['O', 'O', 'O', 'O', 'O', 'O', 'B-Entity', 'I-Entity', 'B-Action', 'B-Entity', 'B-Modifier', 'O', 'I-Entity', 'I-Entity', 'O', 'B-Action', 'O', 'I-Entity', 'I-Entity', 'I-Entity', 'I-Entity', 'B-Modifier', 'O', 'I-Entity', 'I-Entity', 'I-Entity', 'I-Entity', 'I-Entity', 'I-Entity'], ['O', 'O', 'O', 'O', 'O', 'O', 'O', 'O', 'O', 'O', 'O', 'O', 'O', 'O', 'O', 'O', 'O', 'O', 'O'], ['O', 'O', 'O', 'O', 'O', 'O', 'B-Entity', 'O', 'O', 'O', 'O', 'O', 'O', 'O', 'O', 'O', 'O', 'B-Action', 'B-Modifier', 'O', 'B-Entity', 'B-Modifier', 'O', 'I-Entity', 'O'], ['O', 'O', 'O', 'B-Action', 'B-Modifier', 'B-Entity', 'I-Entity', 'I-Entity', 'O', 'B-Entity', 'B-Action', 'B-Entity', 'B-Modifier', 'B-Entity', 'I-Entity', 'I-Entity', 'O', 'B-Action', 'O', 'I-Entity', 'I-Entity', 'I-Entity', 'O'], ['O', 'O', 'O', 'O', 'O', 'O', 'O', 'O', 'O', 'O', 'O', 'O'], ['O', 'O', 'X', 'X', 'O', 'O', 'O', 'I-Entity', 'I-Entity', 'O', 'O', 'O', 'B-Action', 'B-Entity', 'B-Entity', 'O', 'O', 'O', 'I-Entity', 'O'], ['O', 'O', 'O', 'O', 'O', 'O', 'O', 'O', 'O', 'O', 'O', 'O', 'O', 'O', 'O', 'O'], ['O', 'O', 'O', 'O', 'O', 'O', 'O', 'O', 'O', 'O', 'O', 'O', 'O'], ['O', 'O', 'O', 'O', 'O', 'O', 'O', 'O', 'O', 'O', 'O', 'O', 'O', 'O', 'O', 'O', 'O', 'O'], ['O', 'O', 'O', 'O', 'O', 'O', 'O', 'O', 'O', 'O', 'O', 'O', 'O', 'O'], ['O', 'O', 'O', 'O', 'O', 'O', 'O', 'O', 'O', 'O', 'O', 'O', 'O', 'O', 'O', 'O', 'O', 'O', 'O', 'O', 'O', 'O', 'O', 'O', 'O', 'O', 'O', 'O', 'X', 'O', 'O', 'O', 'O', 'O', 'O', 'O', 'O'], ['B-Entity', 'I-Entity', 'B-Action', 'I-Action', 'B-Modifier', 'B-Entity', 'O', 'B-Action', 'B-Modifier', 'B-Entity', 'O'], ['O', 'O', 'O', 'O', 'O', 'O', 'O', 'O', 'O', 'O', 'O', 'O', 'O', 'O', 'O', 'O', 'O', 'O', 'O', 'O', 'O', 'O', 'O', 'O', 'O', 'O'], ['B-Entity', 'B-Action', 'O', 'I-Entity', 'I-Entity', 'O', 'I-Entity', 'O', 'O', 'O', 'I-Entity', 'I-Entity', 'I-Entity', 'B-Modifier', 'O', 'I-Entity', 'I-Entity', 'I-Entity', 'O'], ['O', 'O', 'O', 'O', 'O', 'O', 'O', 'O', 'O', 'O', 'O', 'O', 'O', 'O', 'O', 'O', 'O', 'O', 'O', 'O', 'O', 'O', 'O', 'O', 'O', 'O', 'O', 'O', 'O', 'O', 'O', 'O', 'O', 'O', 'O', 'O', 'O', 'O', 'O'], ['O', 'B-Entity', 'I-Entity', 'O', 'O', 'O', 'O', 'O', 'O', 'O', 'O', 'B-Modifier', 'O', 'O', 'O', 'O', 'O', 'O', 'O', 'O', 'O', 'O', 'O', 'O', 'O', 'O'], ['O', 'O', 'O', 'O', 'O', 'O', 'O', 'O', 'O', 'O', 'O', 'O', 'O', 'O', 'O', 'O'], ['O', 'O', 'O', 'O', 'O', 'O', 'O', 'O', 'O', 'O', 'O', 'O', 'O', 'O', 'O', 'O', 'O', 'O', 'O'], ['O', 'B-Action', 'B-Modifier', 'O', 'B-Entity', 'I-Entity', 'I-Entity', 'O', 'B-Entity', 'I-Entity', 'I-Entity', 'I-Entity', 'O', 'B-Entity', 'I-Entity', 'B-Action', 'I-Action', 'O', 'O', 'O', 'B-Action', 'B-Modifier', 'O', 'I-Entity', 'I-Entity', 'I-Entity', 'O', 'B-Action'], ['B-Entity', 'I-Entity', 'O', 'O', 'O', 'O', 'O', 'O', 'O', 'O', 'B-Action', 'B-Entity', 'B-Modifier', 'I-Entity', 'I-Entity', 'I-Entity', 'I-Entity', 'O', 'I-Entity', 'I-Entity', 'B-Modifier', 'B-Entity', 'I-Entity', 'I-Entity', 'O', 'B-Action', 'B-Entity', 'O', 'B-Action', 'B-Entity', 'O', 'O', 'O'], ['O', 'O', 'O', 'O', 'O', 'O', 'O', 'I-Entity', 'I-Entity', 'I-Entity', 'B-Action', 'O', 'O', 'O', 'I-Entity', 'I-Entity', 'I-Entity', 'I-Entity', 'I-Entity', 'O'], ['O', 'O', 'O', 'O', 'O', 'O', 'O', 'O', 'O', 'O', 'O', 'O', 'O', 'O', 'O', 'O'], ['O', 'I-Entity', 'B-Action', 'B-Entity', 'I-Entity', 'I-Entity', 'I-Entity', 'I-Entity', 'I-Entity', 'O', 'I-Entity', 'I-Entity', 'I-Entity', 'I-Entity', 'I-Entity', 'I-Entity', 'I-Entity', 'I-Entity', 'I-Entity', 'O', 'O', 'I-Entity', 'I-Entity', 'I-Entity', 'I-Entity', 'I-Entity', 'I-Entity', 'I-Entity', 'I-Entity', 'X', 'I-Entity', 'O'], ['B-Entity', 'I-Entity', 'I-Entity', 'B-Action', 'I-Action', 'O', 'B-Action', 'O', 'B-Action', 'B-Modifier', 'B-Entity', 'I-Entity', 'I-Entity', 'I-Entity', 'O', 'O', 'B-Action', 'O', 'B-Action', 'B-Modifier', 'O', 'B-Entity', 'O', 'B-Entity', 'I-Entity', 'I-Entity', 'X', 'X'], ['B-Entity', 'I-Entity', 'I-Entity', 'I-Entity', 'I-Entity', 'B-Action', 'I-Action', 'B-Modifier', 'B-Entity', 'I-Entity', 'I-Entity', 'I-Entity', 'B-Modifier', 'O', 'I-Entity', 'O', 'I-Entity', 'O', 'O', 'O', 'O', 'O', 'O'], ['O', 'I-Entity', 'I-Entity', 'B-Action', 'I-Action', 'B-Modifier', 'B-Entity', 'I-Entity', 'I-Entity', 'I-Entity', 'I-Entity', 'O', 'O', 'O', 'O', 'O', 'O', 'O', 'O', 'O', 'O'], ['O', 'O', 'O', 'O', 'O', 'O', 'O', 'O', 'O', 'O', 'O', 'O', 'O', 'O', 'O', 'O', 'B-Entity', 'I-Entity', 'O', 'O', 'O', 'B-Action', 'O', 'B-Entity', 'I-Entity', 'I-Entity', 'I-Entity', 'I-Entity', 'I-Entity', 'I-Entity', 'I-Entity', 'I-Entity', 'I-Entity', 'O', 'B-Action', 'O', 'B-Modifier', 'O'], ['O', 'O', 'O', 'I-Entity', 'I-Entity', 'O', 'B-Entity', 'O', 'O', 'O', 'O', 'O'], ['B-Entity', 'I-Entity', 'B-Action', 'O', 'I-Entity', 'I-Entity', 'I-Entity', 'I-Entity', 'I-Entity', 'I-Entity', 'I-Entity', 'I-Entity', 'O', 'O', 'B-Action', 'B-Entity', 'B-Modifier', 'O', 'B-Entity', 'I-Entity', 'I-Entity', 'O'], ['O', 'O', 'O', 'O'], ['B-Entity', 'I-Entity', 'B-Action', 'B-Entity', 'I-Entity', 'I-Entity', 'I-Entity', 'I-Entity', 'I-Entity', 'I-Entity', 'O', 'B-Action', 'B-Entity', 'B-Modifier', 'O', 'B-Entity', 'I-Entity', 'I-Entity', 'O'], ['O', 'O', 'O', 'O', 'O', 'O', 'O', 'O', 'O', 'O', 'O', 'B-Action', 'O', 'O', 'O', 'O', 'O', 'O', 'O', 'O', 'O', 'O', 'O', 'O'], ['O', 'I-Entity', 'B-Action', 'O', 'O', 'B-Entity', 'I-Entity', 'I-Entity', 'O', 'O', 'X', 'X', 'X', 'X', 'X', 'X'], ['B-Entity', 'I-Entity', 'B-Action', 'I-Action', 'B-Modifier', 'O', 'I-Entity', 'I-Entity', 'I-Entity', 'O', 'O', 'O', 'O', 'B-Action', 'O', 'O', 'I-Entity', 'I-Entity', 'B-Modifier', 'O', 'I-Entity', 'I-Entity', 'I-Entity'], ['O', 'O', 'O', 'O', 'O', 'O', 'O', 'O', 'O', 'O', 'O', 'O', 'O', 'O', 'O'], ['B-Entity', 'I-Entity', 'O', 'O', 'O', 'B-Action', 'B-Entity', 'I-Entity', 'I-Entity', 'O', 'B-Action', 'B-Modifier', 'B-Entity', 'I-Entity', 'I-Entity', 'I-Entity', 'I-Entity', 'I-Entity', 'I-Entity', 'I-Entity', 'X', 'I-Entity', 'I-Entity', 'O'], ['B-Entity', 'I-Entity', 'I-Entity', 'I-Entity', 'O', 'I-Action', 'I-Action', 'B-Modifier', 'O', 'B-Entity', 'I-Entity', 'I-Entity', 'O'], ['O', 'X', 'X', 'O', 'O', 'O', 'O', 'O', 'O', 'O', 'O', 'O', 'O', 'O', 'O', 'O', 'O', 'O'], ['O', 'O', 'O', 'O', 'O', 'O', 'O', 'O', 'O', 'O', 'O', 'O', 'O', 'O', 'O'], ['B-Entity', 'B-Action', 'B-Entity', 'B-Modifier', 'B-Entity', 'I-Entity', 'I-Entity', 'I-Entity', 'I-Entity', 'I-Entity', 'I-Entity', 'I-Entity', 'I-Entity', 'I-Entity', 'O', 'B-Action', 'B-Modifier', 'O', 'I-Entity', 'B-Modifier', 'B-Entity', 'I-Entity', 'I-Entity', 'I-Entity', 'O'], ['B-Entity', 'B-Action', 'B-Entity', 'I-Entity', 'I-Entity', 'I-Entity', 'I-Entity', 'I-Entity', 'I-Entity', 'B-Modifier', 'O', 'I-Entity', 'I-Entity', 'I-Entity', 'I-Entity', 'I-Entity', 'I-Entity', 'I-Entity', 'I-Entity', 'I-Entity', 'I-Entity', 'O', 'B-Entity', 'I-Entity', 'I-Entity'], ['O', 'B-Entity', 'O', 'O', 'O', 'O', 'O', 'B-Action', 'B-Entity', 'B-Modifier', 'O', 'O'], ['O', 'O', 'O', 'O', 'O', 'O', 'O', 'O', 'O', 'O', 'B-Entity', 'I-Entity', 'O', 'O', 'O', 'B-Action', 'O', 'B-Action', 'B-Entity', 'O', 'O', 'O', 'O', 'O', 'O', 'O'], ['O', 'O', 'O', 'O', 'O', 'O', 'O', 'O', 'O', 'O', 'O', 'O'], ['B-Entity', 'I-Entity', 'O', 'O', 'O', 'O', 'O', 'O', 'O', 'O', 'O', 'O', 'O', 'O', 'O', 'O', 'B-Entity', 'B-Action', 'B-Entity', 'B-Entity', 'O', 'B-Entity', 'I-Entity', 'I-Entity', 'I-Entity', 'I-Entity', 'I-Entity', 'I-Entity', 'I-Entity', 'I-Entity', 'I-Entity', 'I-Entity', 'I-Entity', 'O'], ['B-Entity', 'I-Entity', 'I-Entity', 'I-Entity', 'I-Entity', 'B-Action', 'O', 'B-Action', 'B-Entity', 'B-Modifier', 'O', 'B-Entity', 'I-Entity', 'I-Entity', 'I-Entity', 'O'], ['O', 'B-Entity', 'B-Action', 'O', 'I-Entity', 'I-Entity', 'I-Entity', 'I-Entity', 'I-Entity', 'O', 'O', 'O', 'O', 'O', 'B-Entity', 'I-Entity', 'B-Action', 'B-Action', 'B-Modifier', 'B-Entity', 'I-Entity', 'I-Entity', 'I-Entity', 'X', 'I-Entity', 'O'], ['O', 'O', 'O', 'B-Entity', 'B-Action', 'O', 'B-Modifier', 'O', 'I-Entity', 'I-Entity', 'I-Entity', 'O', 'B-Action', 'B-Modifier', 'O', 'O', 'O'], ['B-Modifier', 'O', 'O', 'I-Entity', 'I-Entity', 'O', 'O', 'B-Entity', 'I-Entity', 'O', 'O', 'O', 'O'], ['O', 'O', 'O', 'B-Entity', 'B-Action', 'B-Modifier', 'B-Entity', 'O', 'O'], ['O', 'O', 'O', 'O', 'O', 'O', 'O', 'B-Action', 'B-Entity', 'I-Entity', 'B-Modifier', 'B-Entity', 'X', 'I-Entity', 'O', 'B-Action', 'B-Entity', 'I-Entity', 'B-Modifier', 'B-Entity', 'I-Entity', 'O'], ['B-Entity', 'B-Action', 'O', 'B-Entity', 'B-Modifier', 'B-Entity', 'I-Entity', 'I-Entity', 'I-Entity', 'I-Entity', 'X', 'X', 'X', 'X', 'I-Entity', 'O'], ['O', 'O', 'O', 'O', 'O', 'O', 'O', 'O', 'O', 'O', 'O', 'O'], ['O', 'O', 'O', 'B-Entity', 'I-Entity', 'O', 'B-Action', 'O', 'O', 'O', 'O', 'O', 'O', 'O', 'O', 'O', 'O', 'O', 'O', 'X', 'O', 'O'], ['B-Modifier', 'O', 'O', 'O', 'O', 'O', 'O', 'O', 'B-Entity', 'I-Entity', 'O', 'O', 'O', 'O', 'O', 'O', 'O', 'O', 'O', 'O', 'O', 'O', 'O', 'O', 'O'], ['B-Entity', 'I-Entity', 'I-Entity', 'B-Action', 'I-Action', 'B-Modifier', 'B-Entity', 'I-Entity', 'O', 'O', 'B-Action', 'I-Action', 'B-Modifier', 'B-Entity', 'I-Entity', 'I-Entity', 'I-Entity', 'I-Entity', 'I-Entity', 'I-Entity', 'I-Entity', 'I-Entity', 'O'], ['O', 'I-Entity', 'I-Entity', 'I-Entity', 'I-Entity', 'O', 'O', 'I-Action', 'B-Modifier', 'O', 'B-Entity', 'O', 'O', 'O', 'O', 'O', 'O', 'O'], ['O', 'O', 'O', 'O', 'O', 'O', 'O', 'O', 'O', 'O', 'O', 'O'], ['O', 'O', 'O', 'O', 'O', 'O', 'O', 'O', 'O', 'O', 'O', 'O', 'O', 'O', 'O'], ['B-Entity', 'I-Entity', 'I-Entity', 'I-Entity', 'I-Entity', 'O', 'O', 'O', 'O', 'O', 'O', 'O', 'I-Entity', 'I-Entity', 'O'], ['B-Entity', 'I-Entity', 'B-Action', 'O', 'B-Entity', 'O', 'B-Action', 'O', 'I-Entity', 'I-Entity', 'I-Entity', 'I-Entity', 'I-Entity', 'I-Entity', 'I-Entity', 'I-Entity', 'I-Entity', 'I-Entity', 'I-Entity', 'I-Entity', 'I-Entity', 'O', 'O', 'O', 'B-Action', 'B-Modifier', 'O', 'I-Entity', 'B-Modifier', 'O', 'O', 'I-Entity', 'I-Entity', 'O'], ['O', 'O', 'O', 'O', 'O', 'O', 'O', 'O', 'O', 'O', 'O', 'O', 'O', 'O', 'O', 'O', 'O', 'O', 'O', 'O', 'O', 'O'], ['B-Entity', 'I-Entity', 'B-Action', 'O', 'I-Entity', 'O', 'O'], ['O', 'O', 'O', 'O', 'O', 'O', 'O', 'O', 'O', 'O', 'O', 'O', 'O', 'O', 'O', 'O', 'O', 'O', 'O', 'O', 'O', 'O', 'O', 'O', 'O', 'O', 'O', 'O', 'O', 'O', 'O', 'O'], ['O', 'O', 'O', 'O', 'O', 'O', 'O', 'O', 'O', 'O', 'O', 'O', 'O', 'O', 'O', 'I-Action', 'B-Modifier', 'O', 'B-Entity', 'I-Entity', 'O'], ['O', 'O', 'O', 'O', 'O', 'O', 'O', 'O', 'O', 'O', 'O'], ['B-Entity', 'B-Action', 'B-Entity', 'I-Entity', 'I-Entity', 'O', 'B-Action', 'B-Modifier', 'O', 'I-Entity', 'O', 'O', 'B-Action', 'B-Modifier', 'B-Entity', 'O'], ['B-Entity', 'O', 'B-Action', 'O', 'B-Action', 'B-Entity', 'I-Entity', 'O', 'B-Action', 'O', 'B-Action', 'B-Entity', 'O', 'B-Action', 'B-Entity', 'I-Entity', 'O', 'B-Action', 'B-Entity', 'I-Entity', 'O', 'B-Action', 'B-Entity', 'O', 'B-Action', 'B-Entity', 'I-Entity', 'O'], ['O', 'O', 'O', 'O', 'B-Entity', 'O', 'B-Action', 'B-Entity', 'B-Modifier', 'B-Entity', 'I-Entity', 'I-Entity', 'I-Entity', 'I-Entity', 'B-Modifier', 'O', 'I-Entity', 'I-Entity', 'O', 'B-Action', 'O', 'I-Entity', 'I-Entity', 'B-Modifier', 'O', 'I-Entity', 'I-Entity', 'I-Entity', 'I-Entity', 'O'], ['B-Entity', 'I-Entity', 'O', 'B-Action', 'B-Modifier', 'O', 'I-Entity', 'I-Entity', 'O', 'B-Action', 'I-Action', 'O', 'I-Entity', 'I-Entity', 'I-Entity', 'I-Entity', 'I-Entity', 'I-Entity', 'I-Entity', 'O'], ['O', 'O', 'O', 'O', 'O', 'O', 'O', 'O', 'O', 'O', 'O', 'O'], ['O', 'O', 'O', 'B-Entity', 'B-Action', 'B-Entity', 'B-Modifier', 'B-Entity', 'I-Entity', 'I-Entity', 'I-Entity', 'I-Entity', 'O', 'B-Action', 'O', 'I-Entity', 'I-Entity', 'B-Modifier', 'B-Entity', 'I-Entity', 'I-Entity', 'I-Entity', 'O'], ['O', 'O', 'O', 'O', 'O', 'O', 'O', 'O', 'O', 'O', 'O', 'O', 'O', 'O', 'O', 'O', 'O'], ['B-Entity', 'O', 'B-Action', 'O', 'I-Entity', 'I-Entity', 'O', 'O', 'B-Entity', 'I-Entity', 'B-Action', 'O', 'B-Entity', 'I-Entity', 'O', 'B-Action', 'I-Action', 'O'], ['O', 'B-Action', 'O', 'O', 'I-Entity', 'I-Entity', 'I-Entity', 'I-Entity', 'O', 'O', 'O', 'B-Entity', 'B-Action', 'O', 'I-Entity', 'I-Entity', 'I-Entity', 'B-Modifier', 'O', 'I-Entity', 'I-Entity', 'O'], ['O', 'O', 'O', 'O', 'O', 'O', 'O', 'O'], ['B-Entity', 'I-Entity', 'O', 'O', 'O', 'B-Action', 'O', 'I-Action', 'O', 'I-Entity', 'I-Entity', 'I-Entity', 'O', 'O', 'O', 'O', 'O', 'O', 'O', 'O', 'B-Action', 'B-Entity', 'O', 'O'], ['O', 'I-Entity', 'I-Entity', 'I-Entity', 'I-Entity', 'O', 'I-Action', 'B-Modifier', 'O', 'B-Entity', 'I-Entity', 'O'], ['O', 'O', 'O', 'O', 'O', 'O', 'O', 'O', 'O', 'O', 'O', 'O', 'O', 'O', 'O', 'O', 'O', 'O', 'O', 'O', 'O', 'O', 'O', 'O', 'O', 'O', 'O', 'O', 'O', 'O', 'O', 'O', 'O', 'O', 'O', 'O', 'O', 'O', 'O'], ['O', 'O', 'O', 'O', 'O', 'B-Action', 'O', 'I-Entity', 'I-Entity', 'I-Entity', 'O', 'O', 'O', 'O', 'O', 'O', 'O', 'O', 'O', 'O', 'O', 'O', 'O', 'O', 'O', 'O'], ['O', 'O', 'O', 'O', 'O', 'O', 'O', 'O', 'O', 'O'], ['O', 'O', 'O', 'O'], ['O', 'O', 'I-Entity', 'I-Entity', 'I-Entity', 'O', 'O', 'O', 'O', 'O', 'O', 'O', 'O', 'O', 'O', 'O', 'O'], ['O', 'O', 'O', 'O', 'O', 'O', 'O', 'O', 'O', 'O', 'O', 'O', 'O', 'O', 'O', 'O', 'O', 'O', 'O'], ['O', 'O', 'O', 'O', 'O', 'O', 'O', 'O', 'O', 'O', 'O', 'O', 'O', 'O', 'O', 'O', 'O', 'O', 'O', 'O', 'O', 'O', 'O', 'O', 'O', 'O', 'O', 'O', 'O', 'O', 'O', 'O', 'O', 'O', 'O', 'O'], ['O', 'O', 'O', 'O', 'O', 'O', 'O', 'O', 'O', 'O', 'O', 'O', 'O', 'O', 'O', 'O', 'O', 'O', 'O'], ['O', 'O', 'O', 'O', 'O', 'O', 'O', 'O', 'O', 'O', 'O', 'O', 'O', 'O', 'O', 'O', 'O'], ['O', 'O', 'O', 'O', 'O', 'O', 'O', 'O', 'O', 'O', 'O', 'O', 'O', 'O', 'O', 'O', 'O'], ['O', 'O', 'O', 'O', 'O', 'O', 'O', 'O', 'O', 'O', 'O', 'O', 'O', 'O', 'O'], ['B-Entity', 'I-Entity', 'I-Entity', 'B-Action', 'I-Action', 'B-Modifier', 'B-Entity', 'O', 'O', 'O', 'O', 'O', 'O'], ['B-Entity', 'I-Entity', 'B-Action', 'B-Modifier', 'B-Entity', 'I-Entity', 'I-Entity', 'O', 'O', 'O', 'B-Entity', 'I-Entity', 'I-Entity', 'O'], ['O', 'O', 'O', 'O', 'O', 'O', 'O'], ['O', 'O'], ['O', 'O', 'O', 'O', 'O'], ['O', 'O'], ['O', 'O', 'O', 'O', 'O', 'O', 'O', 'O', 'O', 'O', 'O', 'O', 'O', 'O', 'O', 'O', 'O', 'O', 'O', 'O', 'O', 'O', 'O'], ['O', 'O', 'O', 'O', 'O', 'X', 'O', 'O', 'O', 'O', 'O', 'O', 'O', 'X', 'O', 'O', 'O', 'O', 'O', 'X'], ['O', 'O', 'O', 'O', 'X', 'O', 'O', 'O', 'O', 'O', 'O', 'O', 'O', 'O', 'O', 'O', 'O', 'O', 'O', 'O', 'O'], ['O', 'O'], ['O', 'O', 'O', 'O', 'O', 'O', 'X', 'X', 'X', 'O', 'O', 'B-Entity', 'I-Entity', 'I-Entity', 'B-Action', 'I-Action', 'B-Modifier', 'O', 'I-Entity', 'I-Entity', 'I-Entity', 'I-Entity', 'I-Entity', 'O', 'O', 'O', 'O', 'I-Entity', 'I-Entity', 'O'], ['O', 'O', 'O', 'O', 'O', 'O', 'O', 'O', 'O', 'O', 'O', 'O', 'O'], ['O', 'O'], ['O', 'O', 'O', 'O', 'O', 'O', 'O', 'O', 'O'], ['O', 'O', 'O', 'O', 'O', 'O', 'O', 'O', 'O', 'O', 'O', 'O', 'O', 'O', 'O', 'O', 'O', 'O', 'O', 'O', 'O', 'O', 'O', 'O', 'O'], ['O', 'B-Entity', 'I-Entity', 'I-Entity', 'B-Action', 'I-Action', 'B-Modifier', 'O', 'B-Entity', 'O', 'B-Action', 'B-Modifier', 'O', 'O', 'O', 'O', 'X', 'X', 'I-Entity', 'O', 'O', 'O', 'O', 'O', 'O', 'O', 'X', 'X', 'I-Entity', 'O', 'O', 'O', 'O', 'O'], ['O', 'O', 'O', 'O', 'O', 'O', 'O', 'O', 'O'], ['O', 'O', 'O', 'O', 'O', 'O', 'O', 'O', 'O', 'O', 'O', 'O', 'O'], ['O'], ['O', 'O', 'O', 'O', 'O', 'O', 'O', 'B-Entity', 'I-Entity', 'X', 'X', 'O', 'B-Action', 'B-Modifier', 'O', 'O', 'I-Entity', 'O', 'I-Entity', 'O', 'X', 'X', 'O', 'O', 'X', 'X', 'O', 'O', 'O', 'O', 'O', 'O', 'O', 'O', 'O'], ['O', 'O', 'O', 'O', 'O', 'O', 'O', 'O', 'O', 'O', 'O', 'O', 'O', 'O', 'O', 'O', 'O'], ['O', 'O', 'O', 'O', 'O', 'O', 'O', 'O', 'O', 'O'], ['O', 'O', 'O', 'O', 'O', 'O', 'O', 'O', 'O', 'O', 'O', 'O', 'O', 'O', 'O', 'O', 'O', 'O', 'O', 'O', 'O', 'O', 'O'], ['O', 'O', 'O', 'O', 'O', 'O', 'O', 'O', 'O', 'O', 'O', 'O', 'O', 'O', 'O', 'O', 'O', 'O', 'O', 'O'], ['O', 'O', 'O', 'O', 'O', 'O', 'O', 'O', 'O', 'O', 'O', 'O', 'O', 'O', 'O', 'O', 'O', 'O'], ['O', 'O', 'O', 'O', 'O', 'O', 'O', 'O', 'O', 'O', 'O', 'O', 'O', 'O', 'O', 'O', 'B-Action', 'B-Modifier', 'O', 'B-Entity', 'O', 'O', 'O', 'O', 'O', 'O', 'O', 'O'], ['O', 'O', 'O', 'O', 'O', 'O', 'O', 'O', 'O', 'O', 'O', 'O', 'O', 'O', 'O', 'O', 'O', 'O'], ['O', 'O', 'O', 'O', 'O', 'O', 'O', 'O', 'O', 'O', 'O', 'O', 'O', 'O', 'O', 'O', 'O', 'O', 'O', 'O', 'O', 'O', 'O', 'O'], ['O', 'O', 'O', 'O', 'X', 'O', 'O', 'O', 'O', 'O', 'O', 'O', 'O', 'O', 'O', 'O', 'O', 'O', 'O', 'O', 'O', 'O', 'O', 'O', 'O', 'O', 'O', 'O', 'O', 'O', 'O', 'O', 'O', 'O'], ['O', 'O', 'O', 'O', 'O', 'O', 'O', 'O', 'O', 'O', 'O', 'O', 'O', 'O'], ['O', 'O', 'O', 'O', 'O', 'O', 'O', 'O', 'O', 'O', 'O', 'O', 'O', 'O', 'O', 'O', 'O', 'O', 'O', 'O'], ['O', 'O', 'O', 'O', 'O', 'O', 'O', 'O', 'O', 'O', 'O', 'O', 'O', 'O', 'O', 'O', 'O', 'O', 'O'], ['O', 'O', 'O', 'O', 'O', 'O', 'O', 'O', 'O', 'O'], ['O', 'I-Entity', 'I-Entity', 'B-Action', 'B-Entity', 'I-Entity', 'I-Entity', 'I-Entity', 'B-Action', 'B-Modifier', 'B-Entity', 'I-Entity', 'O'], ['O', 'O', 'O', 'O', 'O', 'O', 'O', 'O', 'O', 'O', 'O', 'O', 'O', 'O'], ['O', 'O', 'O', 'O', 'O', 'O', 'O', 'O', 'O'], ['O', 'O', 'O', 'O', 'O', 'O', 'O', 'O', 'O', 'O', 'O', 'O', 'O', 'O', 'O', 'O', 'O'], ['O', 'O', 'O', 'O', 'O', 'O', 'O', 'O', 'O', 'X', 'X', 'O', 'O', 'O', 'O', 'O', 'O'], ['O', 'O', 'O', 'O', 'O', 'O', 'O', 'O', 'O', 'O', 'O', 'O', 'O'], ['O', 'O', 'O', 'O', 'O', 'O', 'O', 'O', 'O', 'O', 'O', 'O', 'O', 'O', 'O', 'O', 'O', 'O', 'O', 'O', 'O', 'O', 'O', 'O', 'O', 'O'], ['O', 'O', 'O', 'O', 'O', 'O', 'O', 'O', 'O', 'O', 'O', 'O', 'O', 'O', 'O', 'O', 'O', 'O', 'O', 'O', 'O'], ['O', 'O', 'O', 'O', 'O', 'O', 'O', 'O', 'O', 'O', 'O', 'O', 'O', 'O', 'O', 'O'], ['O', 'O', 'O', 'O', 'O', 'B-Entity', 'I-Entity', 'I-Entity', 'I-Entity', 'I-Entity', 'I-Entity', 'I-Entity', 'B-Action', 'I-Action', 'I-Action', 'B-Modifier', 'O', 'B-Entity', 'I-Entity', 'O'], ['O', 'O', 'O', 'O', 'O', 'O', 'O', 'O', 'O', 'O', 'O', 'O', 'O', 'O', 'O', 'O', 'O', 'O', 'O', 'O'], ['O', 'I-Entity', 'I-Entity', 'B-Action', 'B-Modifier', 'O', 'I-Entity', 'I-Entity', 'I-Entity', 'I-Entity', 'I-Entity', 'O', 'O', 'O', 'O', 'O', 'O', 'O', 'O', 'O', 'O', 'O', 'O', 'O', 'O'], ['B-Entity', 'I-Entity', 'I-Entity', 'I-Entity', 'I-Entity', 'B-Action', 'B-Modifier', 'B-Entity', 'I-Entity', 'I-Entity', 'I-Entity', 'I-Entity', 'I-Entity', 'O', 'O', 'O', 'O', 'O', 'O', 'O', 'O', 'O', 'O', 'O', 'O'], ['O', 'O', 'O', 'O', 'O', 'O', 'O', 'O', 'O', 'O', 'O', 'O', 'O', 'O', 'O', 'O', 'O', 'O', 'O', 'O', 'O', 'O'], ['O', 'O', 'O', 'O', 'O', 'O'], ['O', 'O', 'O', 'O', 'O', 'O', 'O', 'O', 'I-Entity', 'I-Entity', 'O', 'O', 'O', 'O'], ['O', 'O', 'O', 'O', 'O', 'O', 'O', 'O', 'O', 'O', 'O', 'O', 'O'], ['O', 'O', 'O', 'O', 'B-Modifier', 'O', 'O', 'O', 'O', 'O', 'O', 'O'], ['O', 'O', 'O', 'O', 'O', 'O', 'O', 'O', 'O', 'O', 'O', 'O', 'O', 'O', 'O', 'O', 'O'], ['O', 'O', 'O', 'O', 'O', 'O', 'O', 'O', 'O', 'O', 'O'], ['O', 'O', 'O', 'O', 'O', 'O', 'O', 'O', 'O', 'O', 'O', 'O', 'O', 'O', 'O', 'O', 'O', 'O', 'O', 'O', 'O', 'O'], ['B-Entity', 'I-Entity', 'I-Entity', 'B-Action', 'I-Action', 'B-Modifier', 'B-Entity', 'I-Entity', 'I-Entity', 'O'], ['O', 'O', 'O', 'O', 'O', 'O', 'O', 'O', 'O', 'O', 'O', 'O', 'O', 'O', 'O', 'O', 'O'], ['O', 'O', 'O', 'O', 'O', 'O', 'O', 'O', 'O', 'O', 'O', 'O', 'O', 'O', 'O', 'O', 'O', 'O', 'O', 'O', 'O', 'O', 'O', 'O', 'O', 'O', 'O', 'O', 'O', 'O', 'O', 'O'], ['O', 'O', 'O', 'O', 'O'], ['O', 'O', 'O', 'O', 'O', 'O', 'O', 'O', 'O', 'O', 'O', 'O', 'O', 'O', 'O', 'O', 'O', 'O', 'O', 'O', 'O', 'O', 'O', 'O'], ['O', 'O', 'O', 'O', 'O', 'O', 'O', 'O', 'O', 'O', 'O', 'O', 'O', 'O', 'O', 'O', 'O', 'O'], ['O', 'O', 'O', 'O', 'O', 'O', 'O', 'O', 'O', 'O', 'O', 'O', 'O', 'O', 'O', 'O', 'O', 'O', 'O', 'O', 'O'], ['O', 'O', 'O', 'O', 'O', 'O', 'O', 'O', 'O', 'O', 'O', 'O', 'O'], ['O', 'O', 'O', 'O', 'O', 'O', 'O', 'O', 'O', 'O', 'O', 'O', 'O', 'O', 'O', 'O'], ['O', 'O', 'O', 'O', 'O', 'O', 'O', 'O', 'O', 'O', 'O', 'O', 'O', 'O', 'O', 'O', 'O', 'O', 'O', 'O', 'O', 'O', 'O', 'O', 'O', 'O', 'O', 'O', 'O', 'O', 'O', 'O', 'O', 'O', 'O', 'O'], ['O', 'O', 'O', 'O', 'O', 'O', 'O', 'O', 'O', 'O'], ['O', 'O', 'O', 'O', 'O', 'O', 'O', 'O', 'O', 'O', 'O', 'O', 'O', 'O', 'O', 'O', 'O', 'O', 'O', 'O'], ['B-Entity', 'B-Action', 'I-Action', 'B-Modifier', 'B-Entity', 'I-Entity', 'I-Entity', 'I-Entity', 'I-Entity', 'I-Entity', 'I-Entity', 'O'], ['O', 'O', 'O', 'O'], ['O', 'O', 'O', 'O', 'O', 'O', 'O', 'O', 'O', 'O', 'O', 'O', 'O', 'O'], ['O', 'O', 'O', 'O', 'O', 'O', 'O', 'O', 'O', 'O', 'O'], ['O', 'O', 'O', 'O', 'O', 'O', 'O', 'O', 'O', 'O', 'O', 'O', 'O', 'O', 'O', 'O', 'O', 'O', 'O', 'O', 'O', 'O', 'O', 'O', 'O', 'O', 'O', 'O', 'O'], ['O', 'O'], ['O', 'O', 'O', 'O', 'O', 'O', 'O', 'O'], ['O', 'O', 'O', 'O', 'O', 'O', 'O', 'O'], ['O', 'O', 'O', 'O', 'O', 'O', 'O', 'O', 'O', 'O', 'O'], ['B-Entity', 'I-Entity', 'I-Entity', 'I-Entity', 'B-Action', 'O', 'I-Entity', 'I-Entity', 'I-Entity', 'B-Modifier', 'B-Entity', 'I-Entity', 'I-Entity', 'O'], ['O', 'O', 'O', 'O', 'O', 'O', 'O', 'O', 'O'], ['O', 'O', 'O', 'O', 'O', 'O', 'O', 'O', 'X', 'X', 'O', 'O', 'O', 'O', 'O', 'O', 'O', 'O', 'O', 'O', 'O', 'O', 'O', 'O', 'O', 'O', 'O', 'O', 'O', 'O', 'B-Action', 'O', 'O', 'O', 'O', 'I-Entity', 'O', 'O', 'O', 'O', 'O'], ['O', 'O', 'O', 'O', 'O', 'O', 'O', 'O', 'O', 'O', 'O', 'O', 'O', 'O', 'O', 'O', 'O', 'O', 'O', 'O', 'O', 'O', 'O', 'O', 'O', 'O', 'O', 'O', 'O', 'O', 'O', 'O', 'O', 'O'], ['O', 'O', 'O', 'O', 'O', 'O', 'O', 'O', 'O', 'O', 'O', 'O', 'O', 'O', 'O'], ['O', 'O', 'O', 'O', 'O', 'O', 'O', 'O', 'O', 'O', 'O', 'O', 'O', 'O', 'O', 'O', 'O', 'O'], ['O', 'O', 'O', 'O', 'O', 'O', 'O', 'O', 'O', 'O', 'O', 'O', 'O', 'O', 'O', 'O', 'O', 'O', 'O', 'O', 'O', 'O', 'O', 'O', 'O', 'O', 'O', 'O', 'O', 'O', 'O', 'O', 'O', 'O', 'O', 'O', 'O', 'O', 'O'], ['O', 'O', 'O', 'O', 'O', 'O', 'O', 'O', 'O', 'O', 'O', 'O', 'X', 'X', 'O', 'O', 'O', 'O', 'O', 'O', 'O', 'O', 'O', 'O', 'O', 'O', 'O', 'O', 'O'], ['O', 'O', 'O', 'O', 'O', 'O', 'O', 'O', 'O', 'O', 'O', 'O', 'O', 'O', 'O', 'O', 'O', 'O', 'O', 'O', 'O', 'O', 'O', 'O', 'O', 'O', 'O', 'O', 'O'], ['O', 'O', 'O', 'O', 'O', 'O', 'O', 'O', 'O', 'O', 'O', 'O', 'O', 'O', 'O', 'O', 'O', 'O', 'O', 'O', 'O', 'O', 'O', 'O', 'O', 'O', 'O', 'O', 'O', 'O', 'O', 'O', 'O', 'O', 'O', 'O'], ['O', 'O', 'O', 'O', 'O', 'O', 'O', 'O', 'O', 'O', 'O', 'O', 'O', 'O', 'O', 'O', 'O', 'O', 'O', 'O', 'O', 'O', 'O', 'O', 'O', 'O'], ['O', 'O', 'O', 'O', 'O', 'O', 'O', 'O', 'O', 'O', 'O'], ['O', 'O', 'O', 'O', 'O', 'O', 'O', 'O', 'O', 'O', 'O', 'O', 'O', 'O', 'O', 'O', 'O', 'O', 'O'], ['O', 'O', 'O', 'O', 'O', 'O', 'O', 'O', 'O', 'O', 'O', 'O', 'O', 'O', 'O', 'O', 'O', 'O', 'O'], ['O', 'O', 'O', 'O', 'O', 'O', 'O', 'O', 'O', 'O', 'O', 'O', 'O', 'O', 'O', 'O', 'O', 'O', 'O'], ['O', 'O', 'O', 'O', 'O', 'O', 'O', 'O', 'O', 'O', 'O', 'O', 'O', 'O', 'O', 'O', 'O', 'O', 'O', 'O', 'O', 'O', 'O', 'O', 'O', 'O'], ['O', 'O', 'O', 'O', 'O', 'O', 'O', 'O', 'O', 'O', 'O', 'O', 'O', 'O', 'B-Action', 'O', 'O', 'O', 'O', 'O'], ['O', 'O', 'B-Entity', 'O', 'B-Action', 'B-Entity', 'I-Entity', 'I-Entity', 'I-Entity', 'I-Entity', 'I-Entity', 'I-Entity', 'I-Entity', 'I-Entity', 'I-Entity', 'O', 'O', 'O', 'O', 'O', 'I-Entity', 'I-Entity', 'O'], ['O', 'O', 'O', 'O', 'O', 'O', 'O', 'O', 'O', 'O'], ['O', 'O', 'O', 'O', 'O', 'O', 'O', 'O', 'O', 'O', 'O', 'O', 'O', 'O', 'O', 'O', 'O', 'O', 'O'], ['B-Entity', 'I-Entity', 'O', 'O', 'O', 'O', 'B-Action', 'B-Entity', 'I-Entity', 'I-Entity', 'I-Entity', 'O', 'O'], ['B-Entity', 'B-Action', 'B-Entity', 'I-Entity', 'I-Entity', 'I-Entity', 'B-Modifier', 'B-Entity', 'I-Entity', 'I-Entity', 'I-Entity', 'B-Modifier', 'B-Entity', 'I-Entity', 'O', 'O', 'O', 'O', 'I-Entity', 'I-Entity', 'O'], ['O', 'O', 'O', 'O', 'O', 'O', 'O', 'O', 'O', 'O', 'O', 'O', 'O', 'O', 'O', 'O', 'O', 'O', 'O', 'O', 'O', 'O', 'O', 'O', 'O'], ['O', 'O', 'O', 'O', 'O', 'O', 'O', 'O', 'O', 'O', 'O', 'O', 'O'], ['O', 'O', 'O', 'O', 'O', 'O', 'O', 'I-Entity', 'O', 'O', 'O', 'O', 'O', 'O', 'O', 'O', 'O', 'O', 'O', 'O', 'O', 'O', 'O', 'O', 'O'], ['O', 'O', 'O', 'O', 'O', 'O', 'O', 'O', 'O', 'O', 'O', 'O', 'O', 'O', 'O', 'O', 'O', 'O', 'O', 'O', 'O', 'O', 'O', 'O', 'O', 'O', 'O', 'O', 'O', 'X', 'X', 'X', 'X', 'O', 'O'], ['O', 'O', 'O', 'O', 'O', 'O', 'O', 'O', 'O', 'O', 'O', 'O', 'O', 'O', 'O', 'O', 'O', 'O', 'O', 'O', 'O', 'O', 'O', 'O', 'O', 'O', 'O', 'O', 'O', 'O', 'O', 'O', 'O', 'O', 'O', 'O', 'O'], ['O', 'O', 'O', 'O', 'O', 'O', 'O'], ['O', 'O', 'O', 'O', 'O', 'O', 'O', 'O', 'O', 'O', 'X', 'X', 'O', 'O', 'O', 'O', 'O', 'O', 'O', 'O', 'O', 'O', 'O'], ['O', 'O', 'O', 'B-Entity', 'I-Entity', 'O', 'O', 'B-Action', 'B-Entity', 'I-Entity', 'B-Modifier', 'O', 'I-Entity', 'I-Entity', 'O'], ['O', 'O', 'O', 'O', 'O', 'O', 'O', 'O'], ['B-Entity', 'I-Entity', 'O', 'O', 'O', 'O', 'O', 'B-Action', 'B-Modifier', 'B-Entity', 'I-Entity', 'B-Modifier', 'O', 'I-Entity', 'I-Entity', 'I-Entity', 'I-Entity', 'I-Entity', 'I-Entity', 'I-Entity', 'O'], ['O', 'O', 'O', 'O', 'O', 'O', 'O', 'O', 'O', 'O', 'O', 'O', 'O', 'O', 'O', 'O', 'B-Entity', 'B-Action', 'O', 'O', 'B-Entity', 'O', 'O', 'O', 'O', 'O', 'O', 'O', 'O', 'O'], ['O', 'O', 'O', 'O', 'O', 'O', 'O', 'O', 'O', 'O', 'O', 'O', 'O', 'O', 'O'], ['O', 'O', 'O', 'O', 'O', 'O', 'O', 'O', 'O', 'O'], ['O', 'O', 'O', 'O', 'O', 'O', 'O', 'O', 'O', 'O', 'O', 'O', 'O', 'O', 'O', 'O', 'O', 'O', 'O', 'O', 'O', 'O', 'O', 'O', 'O', 'O', 'O', 'O', 'O', 'O', 'O', 'O', 'O', 'O', 'O', 'O', 'O', 'O'], ['O', 'I-Entity', 'I-Entity', 'B-Action', 'B-Entity', 'I-Entity', 'X', 'X', 'I-Entity', 'O', 'I-Entity', 'I-Entity', 'I-Entity', 'I-Entity', 'X', 'X', 'O', 'O', 'B-Action', 'B-Entity', 'I-Entity', 'I-Entity', 'I-Entity', 'I-Entity', 'I-Entity', 'I-Entity', 'I-Entity', 'I-Entity', 'O', 'B-Modifier', 'B-Entity', 'I-Entity', 'I-Entity', 'I-Entity', 'I-Entity', 'O'], ['O', 'O', 'O', 'O', 'O', 'O', 'O', 'O', 'O', 'O', 'O', 'O'], ['B-Entity', 'B-Action', 'O', 'I-Entity', 'X', 'X', 'O', 'O', 'O', 'B-Entity', 'I-Entity', 'O', 'B-Entity', 'I-Entity', 'O', 'O', 'I-Entity', 'O', 'O', 'O'], ['O', 'O', 'B-Entity', 'I-Entity', 'O', 'I-Entity', 'I-Entity', 'I-Entity', 'I-Entity', 'O', 'O', 'O', 'O', 'B-Action', 'B-Entity', 'I-Entity', 'O'], ['O', 'O', 'O', 'O', 'O', 'O', 'O', 'O', 'O', 'O', 'O', 'O'], ['O', 'O', 'O', 'O', 'O', 'O', 'O', 'O', 'O', 'O', 'O', 'O', 'O', 'O', 'O', 'O', 'O', 'O', 'O', 'O', 'O', 'O', 'O', 'O', 'O', 'O', 'O'], ['O', 'O', 'O', 'O', 'O', 'O', 'O', 'O', 'O', 'O', 'O', 'O', 'O', 'O', 'O', 'O', 'O', 'O', 'O', 'O', 'O', 'I-Entity', 'I-Entity', 'B-Action', 'O', 'I-Entity', 'I-Entity', 'O', 'B-Entity', 'X', 'X'], ['O', 'O', 'O', 'O', 'O', 'O', 'O', 'O', 'O', 'O', 'O', 'O', 'O', 'O', 'O'], ['O', 'O', 'O', 'O', 'O', 'O', 'O', 'O', 'O', 'O', 'O', 'O', 'O', 'O', 'O', 'O'], ['O', 'O', 'O', 'O', 'O', 'O', 'O', 'O', 'O', 'O', 'O', 'O', 'O', 'O', 'O', 'O', 'O', 'O', 'O'], ['O', 'O', 'O', 'O', 'O', 'O', 'O', 'O', 'O', 'O', 'O', 'O'], ['O', 'O', 'O', 'O', 'O', 'O', 'O', 'O', 'O', 'O'], ['O', 'O', 'O', 'O', 'O', 'O', 'O', 'O', 'O', 'O', 'O', 'O', 'O', 'O', 'O', 'O', 'O', 'O', 'O', 'O', 'O', 'O', 'O', 'O', 'O'], ['O', 'O', 'O', 'O', 'O', 'O', 'O', 'O', 'O', 'O', 'O', 'O', 'O', 'O', 'O', 'O', 'O', 'O', 'O', 'O', 'O', 'O', 'O', 'O', 'O', 'O', 'O', 'O', 'O', 'O', 'O', 'O', 'O', 'O'], ['O', 'O', 'O', 'O', 'O', 'O', 'O', 'O', 'O', 'O', 'O', 'O', 'O', 'O', 'O', 'O', 'O', 'O', 'O', 'O', 'O', 'O', 'O', 'O', 'O', 'O', 'O', 'O', 'O', 'X', 'X', 'O', 'O'], ['O', 'O', 'O', 'O', 'O', 'O', 'O', 'O', 'O', 'O', 'O', 'O', 'O', 'O', 'O', 'O', 'O', 'O', 'O', 'O', 'O', 'O', 'O', 'O', 'O', 'O', 'O', 'O', 'O', 'O', 'O', 'O', 'O', 'X', 'O', 'O'], ['O', 'O', 'O', 'O', 'O', 'O', 'O', 'O', 'O', 'O', 'O', 'O', 'O', 'O', 'O', 'O', 'O', 'O', 'O', 'O', 'O', 'O', 'O', 'O', 'O', 'O', 'O', 'O', 'O', 'O', 'O'], ['O', 'O', 'X', 'O', 'O', 'O', 'O', 'O', 'O', 'O', 'O', 'O', 'O', 'O'], ['O', 'O', 'O', 'O', 'O', 'O', 'O', 'O', 'O'], ['O', 'B-Action', 'B-Entity', 'I-Entity', 'B-Modifier', 'B-Entity', 'I-Entity', 'I-Entity', 'O', 'O', 'B-Action', 'O', 'I-Entity', 'O', 'B-Entity', 'I-Entity', 'O', 'O', 'B-Action', 'O', 'B-Entity', 'I-Entity', 'I-Entity', 'I-Entity', 'O'], ['O', 'O', 'O', 'B-Entity', 'I-Entity', 'I-Entity', 'I-Entity', 'B-Action', 'I-Action', 'B-Modifier', 'B-Entity', 'I-Entity', 'O'], ['O', 'O', 'O', 'O', 'O', 'O', 'O', 'O', 'O', 'O', 'O', 'O', 'O', 'O'], ['O', 'O', 'O', 'O', 'O', 'O', 'O', 'O', 'O', 'O', 'O', 'O', 'B-Entity', 'B-Action', 'I-Action', 'B-Modifier', 'B-Entity', 'I-Entity', 'I-Entity', 'X', 'X', 'O'], ['O', 'O', 'O', 'O', 'O', 'O', 'O', 'B-Entity', 'O', 'I-Entity', 'O', 'O', 'O', 'O', 'O', 'O', 'O', 'O', 'O'], ['O', 'O', 'O', 'O', 'O', 'O', 'O', 'O', 'O', 'O', 'O', 'O', 'O', 'O'], ['O', 'O', 'O', 'O', 'O', 'O', 'O', 'O', 'O', 'O', 'O', 'O', 'O', 'O'], ['O', 'O', 'O', 'O', 'O', 'O', 'O', 'O', 'O', 'O', 'O'], ['O', 'O', 'O', 'O', 'O', 'O', 'O', 'O', 'O', 'O', 'O', 'O', 'O', 'O', 'O', 'O', 'O', 'O', 'O'], ['O', 'O', 'O', 'B-Action', 'O', 'I-Entity', 'O', 'B-Entity', 'O', 'O', 'O', 'O', 'O', 'O', 'O', 'O', 'O', 'O'], ['O', 'O', 'O', 'O', 'B-Entity', 'I-Entity', 'B-Action', 'B-Entity', 'I-Entity', 'I-Entity', 'O', 'O', 'O', 'O', 'O', 'O', 'B-Entity', 'I-Entity', 'I-Entity', 'O', 'B-Entity', 'I-Entity', 'X', 'B-Action', 'O', 'O', 'O', 'O', 'O', 'O', 'O', 'O', 'O', 'I-Entity', 'I-Entity', 'I-Entity', 'O', 'O'], ['O', 'O', 'O', 'O', 'O', 'O', 'O', 'O', 'O', 'O', 'O', 'O', 'O', 'O', 'O', 'O'], ['O', 'O', 'O', 'O', 'O', 'O', 'O', 'O', 'O', 'O', 'O', 'O', 'O', 'O', 'O', 'O', 'O', 'O', 'O', 'O', 'O', 'O', 'O', 'O', 'O'], ['O', 'O', 'O', 'O', 'O', 'O', 'O', 'O', 'O', 'O', 'O', 'O', 'O'], ['O', 'O', 'O', 'O', 'O', 'O', 'O', 'O', 'O', 'O', 'O', 'O', 'O', 'O', 'O', 'O', 'O', 'O', 'O', 'O', 'O', 'O', 'O', 'O', 'O', 'O', 'O', 'O', 'O', 'O', 'O', 'O', 'O', 'O', 'O', 'O', 'O', 'O', 'O'], ['O', 'O', 'O', 'O', 'O', 'O', 'O', 'O', 'O', 'O', 'O', 'O'], ['B-Modifier', 'I-Modifier', 'I-Modifier', 'B-Entity', 'I-Entity', 'I-Entity', 'I-Entity', 'O', 'B-Entity', 'I-Entity', 'I-Entity', 'B-Action', 'I-Action', 'O', 'O', 'O', 'O', 'O', 'O', 'O', 'O', 'O', 'O', 'O', 'O', 'O', 'O', 'O', 'O', 'O'], ['O', 'O', 'B-Entity', 'I-Entity', 'I-Entity', 'I-Entity', 'O', 'O', 'B-Action', 'B-Entity', 'I-Entity', 'I-Entity', 'O', 'O', 'O', 'O'], ['O', 'O', 'O', 'O', 'O', 'O', 'O', 'O', 'O', 'O', 'O', 'O'], ['O', 'O', 'O', 'O', 'O', 'O', 'O', 'O', 'O', 'O', 'O', 'O', 'O', 'O', 'O', 'O', 'O', 'O'], ['O', 'B-Action', 'I-Action', 'O', 'B-Entity', 'I-Entity', 'O'], ['B-Entity', 'I-Entity', 'I-Entity', 'I-Entity', 'I-Entity', 'I-Entity', 'B-Action', 'B-Entity', 'I-Entity', 'I-Entity', 'I-Entity', 'I-Entity', 'I-Entity', 'O'], ['O', 'O', 'O', 'O', 'O', 'O', 'O', 'O'], ['B-Entity', 'I-Entity', 'I-Entity', 'B-Action', 'I-Action', 'B-Modifier', 'O', 'I-Entity', 'I-Entity', 'I-Entity', 'I-Entity', 'I-Entity', 'I-Entity', 'O', 'O', 'O', 'O', 'O', 'O', 'O', 'O'], ['O', 'O', 'O', 'O', 'O', 'O', 'O', 'O', 'O', 'O', 'O', 'O', 'O', 'O', 'O', 'O'], ['O', 'O', 'O', 'O', 'O', 'O'], ['O', 'O', 'O', 'O', 'O', 'O', 'O', 'O', 'O', 'O', 'O', 'O', 'O', 'O', 'O', 'O', 'O', 'O', 'O', 'O', 'O', 'O', 'O', 'O', 'O', 'O', 'O'], ['O', 'O', 'O', 'O', 'O', 'O', 'O', 'O', 'O', 'O', 'O', 'O', 'O', 'O', 'O', 'O', 'O', 'O', 'O', 'O', 'O'], ['O', 'O', 'O', 'O', 'O', 'O', 'O', 'O', 'B-Action', 'O', 'O', 'O', 'O', 'O', 'O', 'O', 'O', 'O', 'O'], ['O', 'O', 'O', 'O', 'O', 'O', 'O', 'O', 'O', 'O', 'O', 'O', 'O', 'O', 'O', 'O'], ['O', 'O', 'O', 'O', 'O', 'O', 'O', 'O', 'O', 'O', 'O', 'O'], ['O', 'O', 'O', 'O', 'O', 'O', 'O', 'O', 'O', 'O', 'O', 'O', 'O', 'O', 'O', 'O', 'O', 'O', 'O'], ['O', 'O', 'O', 'O', 'O', 'O', 'O', 'O', 'O', 'O', 'O', 'O', 'O', 'O', 'O', 'O', 'O', 'O', 'O', 'O', 'O', 'O', 'O', 'O', 'O', 'O', 'O', 'O', 'O'], ['O', 'O', 'O', 'O', 'O', 'O', 'O', 'O', 'O', 'O', 'O', 'O', 'O', 'O', 'O', 'O', 'O', 'O', 'O', 'O', 'O', 'O', 'O', 'O', 'O', 'O', 'O', 'O', 'O', 'O', 'O', 'O'], ['O', 'O', 'O', 'O', 'O', 'O', 'O', 'O', 'O', 'O', 'O', 'O', 'O', 'O', 'O', 'O', 'O', 'O', 'O'], ['O', 'O', 'O', 'O', 'O', 'O', 'O', 'O', 'O', 'O', 'O', 'O', 'O', 'O', 'O', 'O', 'B-Entity', 'I-Entity', 'O', 'B-Action', 'O', 'I-Entity', 'O'], ['O', 'O', 'O', 'O', 'O', 'O', 'O', 'O', 'O', 'O', 'O', 'O', 'O', 'O', 'O', 'O', 'O', 'O', 'O', 'O', 'O'], ['B-Entity', 'B-Action', 'I-Action', 'B-Modifier', 'O', 'B-Entity', 'I-Entity', 'I-Entity', 'I-Entity', 'I-Entity', 'I-Entity', 'I-Entity', 'I-Entity', 'I-Entity', 'I-Entity', 'I-Entity', 'I-Entity', 'I-Entity', 'O'], ['O', 'O', 'O', 'O', 'O', 'O', 'O', 'O', 'O'], ['O', 'O', 'O', 'O', 'O', 'O', 'O', 'O', 'O', 'O', 'O', 'O', 'O', 'O', 'O', 'O'], ['O', 'O', 'O', 'O', 'O', 'O', 'O', 'O', 'O', 'O', 'O', 'O'], ['O', 'O', 'O', 'O', 'O', 'O', 'O', 'O', 'O', 'O', 'O', 'O', 'O', 'O', 'O', 'O', 'O', 'O', 'O', 'O', 'O', 'O', 'O', 'O', 'O', 'O', 'O', 'O', 'O', 'O', 'O'], ['O', 'O', 'O', 'O', 'O', 'O', 'O', 'O', 'O', 'O', 'O', 'O', 'O', 'O', 'O', 'O', 'O', 'O', 'O', 'O', 'I-Entity', 'I-Entity', 'I-Entity', 'I-Entity', 'O', 'O', 'O', 'O', 'O', 'O', 'O', 'O'], ['O', 'O', 'O', 'O', 'O', 'O', 'O', 'O', 'O', 'O', 'O', 'O', 'O', 'O', 'O', 'O', 'O', 'O', 'O', 'O', 'O', 'O', 'O'], ['O', 'O', 'O', 'O', 'O', 'O', 'O', 'O', 'O', 'O', 'O', 'O', 'O', 'O', 'O', 'O', 'O', 'O', 'O', 'O', 'O', 'O', 'O', 'O', 'O'], ['O', 'O', 'O', 'O', 'O', 'O', 'O', 'O', 'O', 'O', 'O', 'O', 'O', 'O', 'O', 'O'], ['O', 'O', 'O', 'B-Action', 'O', 'I-Entity', 'I-Entity', 'B-Modifier', 'O', 'I-Entity', 'O', 'O', 'O', 'O', 'O', 'O', 'O', 'O', 'O', 'O', 'O', 'O', 'O', 'O', 'O', 'O', 'O', 'O', 'O', 'O', 'O', 'O', 'O', 'O'], ['O', 'O', 'O', 'O', 'O', 'O', 'O', 'O', 'O', 'O', 'O', 'O', 'O', 'O', 'O', 'O', 'O', 'O', 'O', 'O'], ['O', 'O', 'O', 'O', 'O', 'O', 'O'], ['O', 'O', 'O', 'O', 'O', 'O', 'O', 'O', 'O', 'O', 'O', 'O', 'O', 'O', 'O', 'O', 'O', 'O'], ['B-Entity', 'I-Entity', 'I-Entity', 'I-Entity', 'I-Entity', 'B-Action', 'O', 'I-Entity', 'I-Entity', 'O', 'O', 'B-Action', 'B-Entity', 'I-Entity', 'O', 'O', 'O', 'O', 'O', 'O'], ['B-Entity', 'I-Entity', 'B-Action', 'I-Action', 'O'], ['O', 'O', 'O', 'O', 'O', 'O', 'O', 'O', 'O', 'O'], ['O', 'O', 'O', 'O', 'O', 'O', 'O', 'O', 'O', 'O', 'O', 'O'], ['O', 'O', 'O', 'O', 'O', 'O', 'O', 'O', 'O', 'O', 'O', 'O', 'O', 'O', 'O', 'O', 'O', 'O', 'O', 'O', 'O'], ['O', 'O', 'O', 'O', 'O', 'O', 'O', 'O', 'O', 'O', 'O'], ['B-Entity', 'I-Entity', 'B-Action', 'O', 'B-Modifier', 'B-Entity', 'I-Entity', 'I-Entity', 'I-Entity', 'I-Entity', 'I-Entity', 'I-Entity', 'O'], ['O', 'O', 'O', 'O', 'O', 'B-Entity', 'O', 'B-Action', 'O', 'O', 'O', 'I-Entity', 'O'], ['O', 'O', 'O', 'O', 'O', 'O', 'O', 'O', 'O', 'O'], ['O', 'O', 'O', 'O', 'O', 'O', 'O', 'O', 'O', 'O', 'O', 'O', 'O', 'O', 'O', 'O'], ['O', 'O', 'O', 'O', 'O', 'O', 'O', 'O', 'O', 'O'], ['B-Entity', 'I-Entity', 'O', 'O', 'O', 'B-Action', 'O', 'I-Entity', 'I-Entity', 'I-Entity', 'I-Entity', 'I-Entity', 'O'], ['O', 'O', 'I-Entity', 'B-Action', 'O', 'O', 'I-Entity', 'O', 'O', 'O', 'O', 'O', 'O', 'O', 'O', 'O', 'O', 'O'], ['O', 'O', 'O', 'O', 'O', 'O', 'O', 'B-Action', 'O', 'O', 'O', 'O'], ['B-Entity', 'I-Entity', 'I-Entity', 'B-Action', 'I-Action', 'O', 'B-Entity', 'I-Entity', 'I-Entity', 'I-Entity', 'I-Entity', 'O'], ['B-Entity', 'I-Entity', 'I-Entity', 'I-Entity', 'I-Entity', 'I-Entity', 'I-Entity', 'B-Action', 'I-Action', 'B-Modifier', 'B-Entity', 'I-Entity', 'I-Entity', 'I-Entity', 'I-Entity', 'O'], ['O', 'O', 'O', 'O', 'O', 'O', 'O', 'O', 'O', 'O'], ['O', 'O', 'O', 'O', 'O', 'O', 'O', 'O', 'O', 'O', 'O', 'O', 'O'], ['O', 'O', 'O', 'O', 'O', 'O', 'O', 'O', 'O', 'O', 'O', 'O', 'O', 'O', 'O', 'O', 'O', 'O', 'O', 'O', 'O', 'O', 'O', 'O', 'O', 'O', 'O', 'O', 'O', 'O', 'O', 'O', 'O'], ['O', 'O', 'O', 'O', 'O', 'O', 'O', 'O'], ['O', 'O', 'O', 'O', 'B-Entity', 'I-Entity', 'O', 'O', 'B-Action', 'B-Entity', 'O', 'I-Entity', 'I-Entity', 'I-Entity', 'I-Entity', 'O', 'O', 'B-Action', 'B-Entity', 'I-Entity', 'B-Modifier', 'B-Entity', 'I-Entity', 'I-Entity', 'O'], ['O', 'O', 'O', 'O', 'O', 'O', 'O', 'O', 'O', 'O', 'O', 'O', 'O', 'O', 'O', 'O', 'O', 'O'], ['O', 'O', 'O', 'O', 'O', 'O', 'O', 'O', 'O', 'O', 'O', 'O'], ['O', 'I-Entity', 'I-Entity', 'B-Action', 'B-Entity', 'I-Entity', 'I-Entity', 'I-Entity', 'I-Entity', 'I-Entity', 'I-Entity', 'O', 'B-Entity', 'I-Entity', 'I-Entity', 'I-Entity', 'O', 'O', 'B-Entity', 'B-Modifier', 'B-Entity', 'O'], ['O', 'O', 'O', 'O', 'O', 'O', 'O'], ['O', 'O', 'B-Entity', 'I-Entity', 'B-Action', 'I-Action', 'B-Modifier', 'O', 'I-Entity', 'I-Entity', 'I-Entity', 'I-Entity', 'I-Entity', 'I-Entity', 'I-Entity', 'I-Entity', 'I-Entity', 'I-Entity', 'I-Entity', 'I-Entity', 'I-Entity', 'I-Entity', 'I-Entity'], ['O', 'O', 'O', 'O', 'O', 'O', 'O', 'O', 'O', 'O', 'O', 'B-Entity', 'I-Entity', 'B-Action', 'I-Action', 'B-Modifier', 'B-Entity', 'O'], ['O', 'O', 'O', 'O', 'O', 'B-Entity', 'I-Entity', 'O', 'O', 'O', 'O', 'I-Entity', 'I-Entity', 'O'], ['O', 'O', 'O', 'O', 'O', 'O', 'O', 'O', 'O', 'O', 'O', 'O', 'O', 'O', 'O', 'O', 'O', 'O'], ['O', 'O', 'O', 'O', 'O', 'O', 'O', 'O', 'O', 'O', 'O', 'O', 'O', 'O', 'O', 'O', 'O', 'O', 'O'], ['O', 'O', 'O', 'O', 'O', 'O', 'O', 'O', 'O', 'O', 'O', 'O'], ['O', 'O', 'B-Entity', 'I-Entity', 'I-Entity', 'I-Entity', 'I-Entity', 'O', 'B-Action', 'O', 'B-Entity', 'I-Entity', 'O'], ['B-Entity', 'I-Entity', 'B-Action', 'B-Entity', 'I-Entity', 'O'], ['O', 'O', 'O', 'O', 'O', 'O', 'O', 'O', 'O', 'O', 'O', 'O', 'O', 'O', 'O'], ['O', 'O', 'O', 'O', 'O', 'O', 'O', 'O'], ['O', 'O', 'O', 'O', 'O', 'O', 'O', 'O', 'O', 'O', 'O'], ['O', 'O', 'O', 'O', 'O', 'O', 'O', 'O', 'O'], ['O', 'O', 'O', 'O', 'O', 'O', 'O', 'O', 'O', 'O', 'O', 'O', 'O', 'O', 'O', 'O', 'O', 'O', 'O', 'O', 'O', 'O', 'O', 'O', 'O'], ['O', 'O', 'O', 'O', 'O', 'O', 'O', 'O', 'O', 'O', 'O'], ['O', 'O', 'O', 'O', 'O', 'O', 'O'], ['O', 'O', 'O', 'O', 'O', 'O', 'O', 'O', 'O', 'O', 'O', 'O', 'O', 'O', 'O', 'O', 'O', 'O', 'O', 'O', 'O', 'O', 'O', 'O'], ['O', 'O', 'O', 'O', 'O', 'O', 'O', 'O', 'O', 'O', 'O', 'O'], ['O', 'O', 'O', 'O', 'O', 'O', 'O', 'O', 'O', 'O', 'O', 'O', 'O', 'O', 'O', 'O', 'O', 'O', 'O', 'O', 'O', 'O', 'O', 'O', 'O', 'O', 'O', 'O', 'O'], ['O', 'O', 'O', 'O', 'O', 'O', 'O'], ['O', 'O', 'O', 'O', 'O', 'O', 'O', 'O', 'O', 'O', 'O', 'O', 'O', 'O', 'O', 'O', 'O', 'O', 'O', 'O', 'O', 'O'], ['B-Entity', 'I-Entity', 'B-Action', 'O', 'I-Entity', 'O', 'O', 'O', 'O', 'O', 'O', 'O', 'B-Modifier', 'B-Entity', 'I-Entity', 'O', 'O', 'O', 'O', 'O', 'O', 'O', 'O', 'O', 'O'], ['O', 'O', 'O', 'O', 'O', 'O', 'O', 'O', 'O', 'O', 'O', 'O', 'O', 'O', 'O', 'O', 'O', 'O', 'O', 'O', 'O', 'O', 'O'], ['O', 'O', 'O', 'O', 'O', 'O', 'O', 'O', 'O', 'O', 'O'], ['O', 'O', 'O', 'O', 'O', 'O', 'O', 'O', 'O', 'O', 'O', 'O', 'O', 'O', 'O', 'O', 'O', 'O'], ['O', 'O', 'O', 'O', 'O', 'O', 'O', 'O', 'O', 'O', 'O', 'O', 'O', 'O', 'O', 'O', 'O', 'O'], ['O', 'O', 'O', 'O', 'O', 'O', 'O', 'O', 'O', 'O', 'O', 'O', 'O', 'O', 'O', 'O', 'O', 'O', 'O', 'O'], ['O', 'O', 'O', 'O', 'O', 'O', 'O', 'O', 'O', 'O', 'O', 'O', 'O', 'O', 'O', 'O', 'O', 'O', 'O', 'O', 'O', 'O'], ['O', 'O', 'B-Entity', 'O', 'O', 'O', 'O', 'O', 'O', 'O', 'O', 'O', 'O', 'I-Entity', 'I-Entity', 'O', 'O', 'O', 'O', 'O', 'O', 'O', 'O', 'O', 'O'], ['O', 'I-Entity', 'I-Entity', 'B-Action', 'O', 'I-Entity', 'I-Entity', 'O'], ['O', 'O', 'O', 'O', 'O', 'O', 'O', 'O', 'O', 'O', 'O'], ['O', 'O', 'O', 'O', 'O', 'O', 'O', 'O', 'O', 'O', 'O', 'O', 'O', 'O', 'O', 'O', 'O', 'O', 'O', 'O', 'O', 'O', 'O', 'O', 'O', 'O', 'O'], ['O', 'O', 'O', 'O', 'O', 'O', 'O', 'O', 'O', 'O', 'O', 'O', 'O', 'O', 'O', 'O', 'O', 'O', 'O', 'O', 'O', 'O', 'O', 'O', 'O', 'O', 'O', 'O', 'O', 'O', 'O', 'O', 'O'], ['O', 'O', 'O', 'O', 'O', 'O', 'O', 'O', 'O', 'O', 'O', 'O', 'O', 'O', 'O', 'O', 'O', 'O', 'O', 'O', 'O', 'O', 'O', 'O', 'O', 'O', 'O', 'O', 'O', 'O', 'O', 'O', 'O', 'O'], ['O', 'O', 'O', 'O', 'O', 'O', 'O', 'O', 'O', 'O', 'O', 'O', 'O', 'O', 'O', 'O', 'O', 'O', 'O', 'O', 'O', 'O', 'O', 'O', 'O', 'O', 'O', 'O', 'O', 'O', 'O', 'O', 'O', 'O', 'O', 'O', 'O', 'O', 'O'], ['O', 'I-Entity', 'O', 'O', 'O', 'O', 'B-Action', 'I-Action', 'O', 'O', 'O', 'I-Entity', 'I-Entity', 'I-Entity', 'I-Entity', 'O', 'B-Entity', 'I-Entity', 'O', 'B-Action', 'I-Action', 'O', 'O', 'I-Entity', 'I-Entity', 'O'], ['O', 'O', 'O', 'O', 'O', 'O', 'O', 'O', 'O', 'O', 'O', 'O', 'O', 'O', 'O', 'O', 'O', 'O', 'O', 'O', 'O', 'O', 'O', 'O', 'O', 'O', 'O', 'O', 'O', 'O', 'O', 'O', 'O', 'O', 'O'], ['O', 'O', 'O'], ['O', 'O', 'O'], ['O', 'O', 'O', 'O', 'O', 'O', 'O', 'O'], ['O', 'O', 'O', 'O', 'O', 'O', 'O', 'O', 'O', 'O', 'O', 'O', 'O', 'O'], ['O', 'O', 'O', 'O', 'O', 'O', 'O', 'O', 'O', 'O', 'O', 'O', 'O', 'O', 'O', 'O', 'O', 'O'], ['O', 'O', 'O', 'O', 'X', 'X', 'O', 'X', 'O', 'O', 'O', 'O', 'O', 'O', 'O', 'O', 'O', 'O', 'O', 'O', 'O', 'O', 'O', 'O', 'O', 'O', 'O', 'O', 'O', 'O', 'O'], ['O', 'O', 'O', 'O', 'O', 'O', 'O', 'O', 'O', 'O', 'O', 'O', 'O', 'O', 'O', 'O', 'O', 'O', 'O', 'O', 'O', 'O', 'O', 'O', 'O', 'O'], ['O', 'O', 'O', 'O', 'O', 'O', 'O', 'O', 'O', 'O', 'O', 'O', 'O', 'O', 'O', 'O', 'O', 'O', 'O', 'O', 'O'], ['O', 'O', 'O', 'O', 'O', 'O', 'O', 'O', 'O', 'O', 'O', 'O', 'O', 'O', 'O', 'O', 'O', 'O', 'O', 'O', 'O', 'O', 'O', 'O', 'O', 'O', 'O', 'O', 'O', 'O', 'O', 'O', 'O', 'O', 'O', 'O', 'O', 'O', 'O', 'O', 'O'], ['O', 'O', 'O', 'O', 'O', 'O', 'O', 'O', 'O', 'O', 'O', 'O', 'O', 'O', 'O', 'O', 'O', 'O', 'O', 'O', 'O', 'O'], ['O', 'O', 'I-Entity', 'O', 'O', 'I-Entity', 'O', 'B-Entity', 'I-Entity', 'O', 'O', 'O', 'O', 'O', 'O', 'O', 'O', 'O', 'O', 'O', 'O', 'O', 'O', 'O'], ['O', 'O', 'O', 'O', 'O', 'O', 'O', 'O', 'O', 'O', 'O', 'O', 'O', 'B-Entity', 'I-Entity', 'O', 'O', 'B-Action', 'B-Entity', 'I-Entity', 'O', 'O', 'B-Entity', 'I-Entity', 'O'], ['O', 'O', 'O', 'O', 'O', 'O', 'O', 'O', 'O', 'O', 'O', 'O', 'O', 'O', 'O', 'O', 'O', 'O', 'O', 'O', 'O', 'O', 'O', 'O'], ['O', 'O', 'O', 'O', 'O', 'O', 'O', 'O', 'O', 'O', 'O', 'O', 'O', 'O', 'O', 'O', 'O', 'O'], ['O', 'O', 'O', 'O', 'O', 'O', 'O', 'O', 'O', 'O', 'O', 'O', 'O', 'O', 'O', 'O', 'O', 'O', 'O', 'O', 'O', 'O', 'O', 'O', 'O', 'O'], ['O', 'O', 'B-Entity', 'I-Entity', 'O', 'O', 'I-Action', 'B-Modifier', 'B-Entity', 'I-Entity', 'I-Entity', 'I-Entity', 'I-Entity', 'I-Entity', 'I-Entity', 'O'], ['B-Action', 'O', 'I-Entity', 'I-Entity', 'B-Modifier', 'O', 'I-Entity', 'I-Entity', 'O', 'O', 'O', 'O', 'O', 'O'], ['O', 'O', 'O', 'O', 'O', 'O', 'O', 'O', 'O', 'O', 'O', 'O', 'O', 'O', 'O', 'O', 'O', 'O', 'O', 'O', 'O', 'O'], ['O', 'O', 'O', 'O', 'O', 'O', 'O', 'O', 'O', 'O', 'O', 'O', 'O', 'O', 'O', 'O', 'O', 'O', 'O', 'O', 'O'], ['O', 'O', 'O', 'O', 'O', 'O', 'O', 'O', 'O', 'O', 'O', 'O', 'O', 'O', 'O', 'O', 'O', 'O', 'O', 'O'], ['O', 'O', 'O', 'O', 'O', 'O', 'I-Entity', 'O', 'O', 'O', 'O', 'O', 'O', 'O', 'O', 'O', 'O', 'O', 'O', 'O', 'O', 'O', 'O', 'O'], ['O', 'O', 'O', 'O', 'O', 'O', 'O', 'O', 'O', 'O', 'O', 'O', 'O', 'O', 'O', 'O', 'O', 'O', 'O', 'O', 'O', 'O', 'O'], ['O', 'O', 'O', 'O', 'O', 'O', 'O', 'B-Entity', 'I-Entity', 'O', 'B-Action', 'B-Modifier', 'O', 'B-Entity', 'O', 'O', 'O', 'O', 'O', 'O', 'O', 'O', 'O', 'O', 'O', 'O', 'O', 'O', 'O', 'O', 'O', 'O', 'O', 'O', 'O'], ['O', 'O', 'O', 'O', 'O', 'O', 'O', 'O', 'O', 'O', 'O'], ['O', 'O', 'O', 'O', 'O', 'O', 'O', 'O', 'O', 'O', 'O', 'O', 'O'], ['O', 'O', 'O', 'O', 'O', 'O', 'O', 'O', 'O', 'O', 'O', 'O', 'O', 'O', 'O', 'O', 'O', 'O', 'O', 'O', 'O', 'O', 'O', 'O', 'O', 'O', 'O', 'O', 'O', 'O', 'O', 'O'], ['O', 'O', 'O', 'O', 'O', 'O', 'O', 'O', 'O', 'O', 'O', 'O', 'O', 'O', 'O', 'O', 'O'], ['O', 'O', 'O', 'O', 'O', 'O', 'O', 'O', 'O', 'O', 'O', 'O', 'O', 'O', 'O', 'O', 'O', 'O'], ['O', 'O', 'O', 'O', 'O', 'O', 'O', 'O', 'O', 'O', 'O', 'O', 'O', 'O', 'O', 'O', 'O', 'O', 'O', 'O', 'O', 'O', 'O', 'O', 'O', 'O', 'O', 'O', 'O'], ['O', 'O', 'O', 'I-Entity', 'I-Entity', 'I-Entity', 'I-Entity', 'O', 'B-Action', 'O', 'O', 'O', 'O', 'O', 'O', 'O'], ['O', 'O', 'O', 'O', 'O', 'O', 'O', 'O', 'O', 'O', 'O', 'O', 'O', 'I-Entity', 'O'], ['O', 'O', 'O', 'O', 'O', 'O', 'O', 'O', 'O', 'O', 'O'], ['O', 'O', 'O', 'B-Entity', 'I-Entity', 'O', 'O', 'O', 'O', 'O', 'O', 'O', 'O'], ['O', 'O', 'O', 'O', 'O', 'O', 'O', 'O', 'O', 'O', 'O', 'O', 'O', 'O', 'O', 'O', 'O', 'O', 'O', 'O', 'O', 'O', 'O', 'O', 'O', 'O', 'O', 'O', 'O', 'O', 'O', 'O', 'O', 'O', 'O', 'O', 'O', 'O'], ['O', 'O', 'O', 'O', 'O', 'O', 'O', 'O', 'O', 'O', 'O', 'O', 'O', 'O', 'O', 'O', 'O', 'O', 'O', 'O'], ['O', 'O', 'O', 'O', 'O', 'O', 'O', 'O', 'O', 'B-Entity', 'I-Entity', 'I-Entity', 'I-Entity', 'O', 'B-Action', 'B-Entity', 'I-Entity', 'B-Modifier', 'B-Action', 'B-Entity', 'I-Entity', 'I-Entity', 'X', 'X', 'O', 'I-Entity', 'I-Entity', 'I-Entity', 'I-Entity', 'I-Entity', 'I-Entity'], ['O', 'O', 'O', 'X', 'O', 'O', 'O'], ['O', 'O', 'B-Entity', 'I-Entity', 'I-Entity', 'O', 'O', 'O', 'O', 'O', 'O', 'O', 'O', 'O', 'O', 'O', 'O', 'O', 'O', 'O', 'O', 'O'], ['B-Entity', 'I-Entity', 'I-Entity', 'B-Action', 'B-Entity', 'I-Entity', 'I-Entity', 'I-Entity', 'B-Modifier', 'B-Entity', 'I-Entity', 'I-Entity', 'I-Entity', 'O'], ['B-Entity', 'B-Action', 'B-Entity', 'B-Action', 'B-Modifier', 'O', 'O', 'O', 'O', 'O', 'I-Entity', 'I-Entity', 'O', 'O', 'I-Entity', 'I-Entity', 'I-Entity', 'I-Entity', 'I-Entity', 'O'], ['O', 'O', 'O', 'O', 'O', 'O', 'O', 'O', 'O', 'O', 'O', 'O', 'O', 'O', 'O', 'O'], ['O', 'O', 'O', 'O', 'O', 'X', 'X', 'O', 'O', 'O', 'O', 'O', 'O', 'O', 'O', 'O', 'O', 'O'], ['O', 'O', 'B-Entity', 'I-Entity', 'B-Action', 'B-Modifier', 'O', 'O', 'O', 'O', 'O', 'O', 'O', 'O', 'O'], ['O', 'O', 'O', 'B-Entity', 'I-Entity', 'I-Entity', 'O', 'O', 'I-Entity', 'I-Entity', 'I-Entity', 'I-Entity', 'O', 'O', 'B-Action', 'B-Entity', 'I-Entity', 'I-Entity', 'O'], ['O', 'O', 'B-Entity', 'I-Entity', 'O', 'O', 'O', 'O', 'B-Action', 'O', 'I-Entity', 'I-Entity', 'I-Entity', 'I-Entity', 'I-Entity', 'I-Entity', 'I-Entity', 'I-Entity', 'B-Modifier', 'B-Entity', 'I-Entity', 'X', 'X', 'I-Entity', 'O', 'O', 'O', 'O', 'O', 'O', 'O', 'O'], ['O', 'O', 'O', 'O', 'O', 'O', 'O', 'O', 'O', 'O', 'O', 'O', 'O', 'O', 'O', 'O', 'O', 'O', 'O', 'O', 'O', 'O', 'X', 'O', 'O', 'O', 'O'], ['O', 'O', 'O', 'O', 'O', 'O', 'O', 'O', 'O', 'O', 'O', 'O', 'O', 'O', 'O', 'O', 'O', 'O', 'O', 'O', 'O', 'O', 'O', 'O'], ['O', 'O', 'O', 'O', 'O', 'O', 'O', 'O', 'O', 'O', 'O', 'O'], ['O', 'O', 'O', 'O', 'O', 'O', 'O', 'O', 'O', 'O', 'O', 'O', 'O'], ['O', 'O', 'O', 'O', 'O', 'O', 'O', 'O', 'O', 'O', 'O', 'O', 'O'], ['O', 'O', 'O', 'O', 'O', 'O', 'O', 'O', 'O', 'O', 'O', 'O'], ['O', 'O', 'O', 'O', 'O', 'O'], ['O', 'I-Entity', 'I-Entity', 'B-Action', 'O', 'B-Entity', 'I-Entity', 'O', 'O', 'O', 'O', 'O', 'O', 'O', 'O', 'O', 'O', 'O', 'O', 'O', 'O'], ['O', 'O', 'O', 'O', 'O', 'O', 'O', 'O', 'O', 'O', 'O', 'O'], ['O', 'O', 'O', 'O', 'O', 'O', 'O', 'O', 'O', 'O', 'O', 'O', 'O'], ['O', 'O', 'O', 'X', 'O', 'O', 'O', 'O', 'O', 'O', 'O'], ['O', 'O', 'O', 'O', 'B-Entity', 'O', 'B-Action', 'B-Modifier', 'O', 'B-Entity', 'I-Entity', 'O'], ['O', 'O', 'O', 'O', 'O', 'O', 'O', 'O', 'O', 'B-Entity', 'I-Entity', 'O', 'B-Action', 'O', 'B-Entity', 'I-Entity', 'I-Entity', 'I-Entity', 'I-Entity', 'B-Modifier', 'O', 'O', 'I-Entity', 'I-Entity', 'O'], ['O', 'O', 'O', 'O', 'O', 'O', 'O', 'O', 'O', 'O', 'O', 'O', 'O'], ['O', 'O', 'O', 'O', 'O', 'O', 'O', 'B-Entity', 'I-Entity', 'O', 'O', 'O', 'O', 'O', 'O', 'O', 'O', 'O', 'O', 'O', 'O', 'O', 'O', 'B-Action', 'O', 'B-Action', 'O', 'B-Modifier', 'O', 'O'], ['O', 'O', 'O', 'O', 'O', 'O', 'O', 'O', 'O', 'O', 'O', 'O', 'O', 'O', 'O', 'O', 'O', 'O', 'O', 'B-Entity', 'O', 'O', 'O', 'O', 'O'], ['O', 'X', 'O', 'O', 'O', 'O', 'O', 'O', 'O', 'O', 'O', 'O', 'O', 'O', 'O', 'O'], ['O', 'X', 'O', 'O', 'O', 'O', 'O', 'O', 'O', 'O', 'O', 'O', 'O', 'O', 'O', 'O', 'X', 'X', 'O', 'O', 'O', 'O'], ['O', 'O', 'O', 'O', 'O', 'B-Modifier', 'O', 'I-Entity', 'I-Entity', 'O', 'O', 'O', 'O', 'B-Modifier', 'O', 'O'], ['O', 'O', 'O', 'O', 'O', 'O', 'O', 'O', 'O', 'O', 'O', 'O', 'O', 'O', 'O', 'O', 'O'], ['B-Action', 'O', 'B-Entity', 'O', 'I-Entity', 'I-Entity', 'B-Entity', 'I-Entity', 'I-Entity', 'O', 'O', 'O', 'O', 'O', 'O', 'O', 'O', 'O', 'O', 'O', 'O', 'O', 'O', 'O', 'O', 'O', 'O'], ['O', 'O', 'B-Entity', 'O', 'O', 'O', 'O', 'O', 'O', 'O', 'O', 'O', 'B-Action', 'O', 'I-Entity', 'B-Modifier', 'B-Entity', 'I-Entity', 'B-Modifier', 'O', 'I-Entity', 'O', 'O', 'O', 'O', 'O', 'O', 'O', 'O'], ['O', 'B-Entity', 'I-Entity', 'B-Action', 'I-Action', 'O', 'B-Entity', 'I-Entity', 'B-Action', 'O', 'O', 'O', 'O'], ['O', 'O', 'O', 'O', 'O', 'O', 'O', 'O', 'O', 'O', 'O', 'B-Entity', 'I-Entity', 'B-Action', 'I-Action', 'O', 'B-Action', 'B-Modifier', 'B-Entity', 'O'], ['O', 'O', 'O', 'O', 'O', 'O', 'O', 'O', 'O', 'O', 'O', 'O', 'O', 'O', 'B-Entity', 'I-Entity', 'B-Modifier', 'O', 'B-Entity', 'B-Modifier', 'O', 'I-Entity'], ['O', 'O', 'B-Action', 'B-Entity', 'I-Entity', 'I-Entity', 'O', 'B-Action', 'B-Entity', 'B-Modifier', 'B-Entity', 'O'], ['O', 'O', 'O', 'O', 'O', 'O', 'O', 'O', 'O'], ['O', 'O', 'O', 'O', 'O'], ['O', 'O', 'B-Action', 'B-Entity', 'O', 'B-Entity', 'O', 'B-Entity', 'O', 'I-Entity', 'O', 'O', 'I-Entity', 'I-Entity', 'O', 'O', 'O', 'O', 'O', 'O', 'O', 'O', 'O', 'O', 'O']]\n",
            "\n",
            "[['O', 'O', 'O', 'O', 'O', 'O', 'O', 'O', 'O', 'O', 'O', 'O', 'O', 'O', 'O'], ['O', 'O', 'O', 'O', 'O', 'O', 'O', 'O', 'O', 'O', 'O', 'O', 'O', 'O', 'O', 'O', 'O', 'O', 'O', 'O'], ['O', 'O', 'O', 'O', 'O', 'O', 'O', 'O', 'O', 'O', 'O', 'O', 'O', 'O', 'O', 'O', 'O', 'O', 'O', 'O', 'O', 'O', 'O', 'O', 'O', 'O', 'O', 'O', 'O', 'O', 'O', 'O', 'O', 'O', 'O'], ['O', 'O', 'O', 'O', 'O', 'O', 'O', 'O', 'O', 'O', 'O', 'O', 'O', 'O', 'O', 'O', 'O'], ['O', 'O', 'O', 'O', 'O', 'O', 'O', 'O', 'O', 'O', 'O', 'O', 'O', 'O', 'O', 'O', 'O', 'O', 'O', 'O', 'O', 'O', 'O', 'O', 'O', 'O', 'O', 'O', 'O', 'O'], ['O', 'O', 'O', 'O', 'O', 'O', 'O', 'O', 'O', 'O', 'O', 'O', 'O', 'O', 'O', 'O', 'O', 'O', 'O'], ['O', 'O', 'O', 'O', 'O', 'O', 'O', 'O', 'O', 'O', 'O', 'O', 'O', 'O', 'O', 'O', 'O', 'O', 'O', 'O', 'O', 'O', 'O', 'O', 'O', 'O', 'O', 'O', 'O', 'O', 'O', 'O', 'O', 'O'], ['O', 'O', 'O', 'O', 'O', 'O', 'O', 'O', 'O', 'O', 'O', 'O', 'O', 'O', 'O', 'O', 'O', 'O', 'O', 'O', 'O', 'O', 'O'], ['O', 'O', 'O', 'O', 'O', 'O', 'O', 'O', 'O', 'O', 'B-Modifier', 'O', 'B-Entity', 'I-Entity', 'I-Entity', 'I-Entity', 'I-Entity', 'I-Entity', 'I-Entity', 'I-Entity', 'O', 'B-Entity', 'I-Entity', 'O', 'B-Action', 'B-Entity', 'O'], ['O', 'O', 'O', 'O', 'O', 'O', 'O', 'O', 'O', 'O', 'O', 'O', 'O', 'O', 'O', 'O', 'O', 'O', 'O', 'O', 'O', 'O', 'O', 'O', 'O', 'O', 'O', 'O', 'O', 'O', 'O', 'O', 'O', 'O', 'O', 'O', 'O'], ['O', 'O', 'O', 'O', 'O', 'O', 'O', 'O', 'O', 'O', 'O', 'O', 'O', 'O', 'O', 'O', 'O', 'O', 'O', 'O', 'O', 'O', 'O', 'O', 'O', 'O', 'O', 'O', 'O', 'O', 'O', 'O'], ['O', 'O', 'O', 'O', 'O', 'O', 'O', 'O', 'O', 'O', 'O', 'O', 'O', 'O', 'O', 'O', 'O', 'O', 'O', 'O', 'O', 'O', 'O', 'O', 'O', 'O', 'O', 'O', 'O', 'O', 'O', 'O', 'O', 'O', 'O', 'O', 'O'], ['O', 'O', 'O', 'O', 'O', 'O', 'O', 'O', 'O', 'O', 'O', 'O', 'O', 'O', 'O', 'O', 'O', 'O', 'O'], ['O', 'O', 'O', 'O', 'O', 'O', 'O', 'O', 'O', 'O', 'O', 'O', 'O', 'O', 'O', 'O', 'O', 'O', 'O', 'O', 'O', 'O', 'O', 'O', 'O', 'O', 'O', 'O', 'O', 'O', 'O', 'O', 'O', 'O'], ['O', 'O', 'O', 'O', 'O', 'O', 'B-Entity', 'I-Entity', 'I-Entity', 'O', 'O', 'B-Action', 'B-Entity', 'B-Modifier', 'O', 'B-Entity', 'I-Entity', 'I-Entity', 'I-Entity', 'I-Entity', 'I-Entity', 'I-Entity', 'I-Entity', 'I-Entity', 'I-Entity', 'I-Entity', 'I-Entity', 'I-Entity', 'I-Entity', 'I-Entity', 'I-Entity', 'I-Entity'], ['O', 'O', 'O', 'O', 'O', 'O', 'O', 'O', 'O'], ['O', 'O', 'O', 'O', 'O', 'O', 'O', 'O', 'O', 'O', 'O', 'O', 'O', 'O', 'O', 'O', 'O', 'O', 'O', 'O', 'O', 'O', 'O', 'O'], ['O', 'O', 'O', 'O', 'O', 'O', 'O', 'O', 'O', 'O', 'O', 'O', 'O', 'O', 'O', 'O', 'O', 'O', 'O', 'O', 'O', 'O', 'O', 'O', 'O', 'O', 'O', 'O', 'O', 'O', 'O'], ['O', 'O', 'O', 'O'], ['O', 'O', 'O', 'O', 'O', 'O', 'O', 'O', 'O', 'O', 'O', 'O', 'O', 'O', 'O', 'O', 'O', 'O', 'O', 'O', 'O', 'O', 'O', 'O', 'O', 'O', 'O', 'O', 'O', 'O', 'O', 'O'], ['O', 'O', 'O', 'O', 'O', 'O', 'O', 'O', 'O', 'O', 'O', 'O', 'O', 'O', 'O', 'O'], ['O', 'O', 'O', 'O', 'O', 'O', 'O', 'O', 'O', 'O', 'O', 'O', 'O', 'O', 'O', 'O', 'O', 'O', 'O', 'O', 'O', 'O', 'O', 'O', 'O', 'O', 'O'], ['O', 'O', 'O', 'O', 'O', 'O', 'O', 'O', 'O', 'O', 'O', 'O', 'O', 'O', 'O', 'O', 'O', 'O', 'O'], ['O', 'O', 'O', 'O', 'O', 'B-Entity', 'I-Entity', 'B-Action', 'O', 'B-Entity', 'I-Entity', 'I-Entity', 'B-Modifier', 'O', 'B-Entity', 'I-Entity', 'I-Entity', 'I-Entity', 'I-Entity', 'I-Entity', 'I-Entity', 'O'], ['O', 'O', 'O', 'O', 'O', 'O', 'O', 'O', 'O', 'O', 'O', 'O', 'O', 'O', 'O', 'O', 'O', 'O', 'O', 'O', 'O', 'O', 'O', 'O', 'O', 'O', 'O', 'O', 'O', 'O', 'O', 'O', 'O'], ['O', 'O', 'O', 'O', 'O', 'O', 'O', 'O', 'O', 'O', 'O', 'O', 'O', 'O', 'O', 'O', 'O', 'O', 'O', 'O', 'O', 'O', 'O', 'O', 'O', 'O', 'O'], ['O', 'O', 'O', 'O', 'O', 'O', 'O', 'O', 'O', 'O', 'O', 'O', 'O', 'O'], ['O', 'O', 'O', 'O', 'O', 'O', 'O', 'O', 'O', 'O', 'O'], ['O', 'O', 'O', 'O', 'O', 'O', 'O', 'O', 'O', 'O', 'O', 'O', 'O', 'O', 'O', 'O', 'O', 'O', 'O', 'O', 'O'], ['O', 'O', 'O', 'O', 'O', 'O', 'O', 'O', 'O', 'O', 'O', 'O', 'O', 'O', 'O', 'O', 'O', 'O', 'O', 'O', 'O', 'O'], ['O', 'O', 'O', 'O', 'O', 'O', 'O', 'O', 'O', 'O', 'O', 'O', 'O', 'O'], ['O', 'O', 'O', 'O', 'O', 'O', 'O', 'O', 'O', 'O', 'O', 'O', 'O', 'O', 'O', 'O', 'O', 'O', 'O', 'O', 'O'], ['O', 'O', 'O', 'O', 'O', 'O', 'O', 'O', 'O', 'O', 'O', 'O', 'O', 'O'], ['O', 'O', 'O', 'O', 'O', 'O', 'O', 'O', 'O', 'O', 'O', 'O', 'O', 'O', 'O', 'O', 'O', 'O', 'O', 'O', 'O', 'O', 'O', 'O', 'O', 'O', 'O', 'O', 'O', 'O', 'O', 'O', 'O', 'O'], ['O', 'O', 'O', 'O', 'O', 'O', 'O', 'O', 'O'], ['O', 'O', 'O', 'O', 'O', 'O', 'O', 'O', 'O', 'O', 'O', 'O', 'O', 'O', 'O', 'O', 'O', 'O', 'O', 'O', 'O', 'O', 'O'], ['O', 'O', 'O', 'O', 'O', 'O', 'O', 'O', 'O', 'O', 'O', 'O', 'O', 'O', 'O', 'O', 'O', 'O', 'O'], ['O', 'B-Entity', 'B-Action', 'B-Entity', 'B-Modifier', 'O', 'B-Entity', 'O', 'O', 'O', 'O', 'O', 'O', 'O', 'O', 'O', 'O', 'O', 'O', 'O', 'O', 'O', 'O'], ['B-Entity', 'O', 'O', 'B-Action', 'O', 'B-Entity', 'B-Modifier', 'O', 'B-Entity', 'I-Entity', 'I-Entity', 'I-Entity', 'I-Entity', 'I-Entity', 'I-Entity', 'I-Entity', 'I-Entity', 'O'], ['O', 'O', 'O', 'O', 'O', 'O', 'O', 'O', 'O', 'O', 'B-Entity', 'O', 'B-Action', 'O', 'B-Action', 'B-Entity', 'B-Modifier', 'O', 'B-Entity', 'I-Entity', 'O'], ['O', 'O', 'O', 'O', 'O', 'O', 'O', 'O', 'O', 'O', 'O', 'O', 'O', 'O', 'O'], ['O', 'O', 'O', 'O', 'O', 'O', 'O', 'O', 'O', 'O', 'O', 'O', 'O', 'O', 'O', 'O', 'O', 'O', 'O', 'O', 'O', 'O'], ['O', 'O', 'O', 'B-Entity', 'I-Entity', 'B-Action', 'O', 'O', 'O', 'B-Entity', 'O', 'B-Modifier', 'O', 'B-Entity', 'I-Entity', 'I-Entity', 'I-Entity', 'I-Entity', 'I-Entity', 'I-Entity', 'I-Entity', 'O', 'O', 'O', 'O', 'O', 'O', 'O', 'O', 'O'], ['O', 'O', 'O', 'O', 'O', 'O', 'O', 'O', 'O', 'O', 'O', 'O', 'O', 'O', 'O', 'O', 'O', 'O', 'O', 'O', 'O', 'O', 'O', 'O', 'O', 'O'], ['O', 'O', 'O', 'O', 'O', 'O', 'O', 'O', 'O', 'O', 'O', 'O', 'O', 'O', 'O', 'O', 'O', 'O', 'O', 'O', 'O', 'O', 'O', 'O'], ['O', 'O', 'O', 'O', 'O', 'O', 'O', 'O', 'O', 'O', 'O', 'O'], ['B-Entity', 'O', 'O', 'O', 'O', 'B-Action', 'O', 'B-Entity', 'I-Entity', 'I-Entity', 'I-Entity', 'O', 'B-Action', 'O', 'B-Entity', 'O', 'B-Action', 'B-Entity', 'O', 'B-Action', 'B-Entity', 'O', 'O', 'B-Action', 'I-Action', 'O', 'B-Entity', 'B-Modifier', 'O', 'B-Entity', 'O'], ['O', 'O', 'O', 'O', 'O', 'O', 'O', 'O', 'O', 'O', 'O', 'O'], ['O', 'O', 'O', 'O', 'O', 'O', 'O', 'O', 'O'], ['O', 'O', 'O', 'O', 'O', 'O', 'O', 'O', 'O', 'O', 'O'], ['O', 'O', 'O', 'O', 'O', 'O', 'O', 'O', 'O', 'O', 'O', 'O', 'O'], ['O', 'O', 'O', 'O', 'O', 'O', 'O', 'O', 'O', 'O', 'O', 'O', 'O', 'O', 'O', 'O'], ['O', 'O', 'O', 'O', 'O', 'O', 'O', 'O', 'O', 'O', 'O', 'O', 'O', 'O', 'O', 'O', 'O', 'O', 'O', 'O', 'O', 'O', 'O', 'O', 'O', 'O', 'O', 'O'], ['O', 'O', 'O', 'O', 'O', 'O', 'O', 'O', 'O', 'O', 'O', 'O', 'O', 'O', 'O', 'O', 'O', 'O', 'O', 'O'], ['O', 'O', 'O', 'O', 'O', 'O', 'O', 'O', 'O', 'O', 'O', 'O', 'O', 'O', 'O', 'O', 'O', 'O', 'O'], ['O', 'O', 'O', 'O', 'O', 'O', 'O', 'O', 'O', 'O', 'O', 'O', 'O', 'O', 'O', 'O', 'O', 'O', 'O'], ['O', 'O', 'O', 'O', 'O', 'O', 'O', 'O', 'O', 'O', 'O', 'O', 'O', 'O', 'O', 'O', 'O'], ['O', 'O', 'O', 'O', 'O', 'O', 'O', 'O', 'O', 'O', 'O'], ['O', 'O', 'O', 'O', 'O', 'O', 'O', 'O', 'O', 'O', 'O', 'O', 'O', 'O', 'O', 'O', 'O', 'O', 'O', 'O', 'O', 'O', 'O', 'O', 'O', 'O'], ['O', 'O', 'O', 'O', 'O', 'O', 'O', 'O', 'O', 'O', 'O'], ['O', 'O', 'O', 'O', 'O', 'O', 'O', 'O', 'O', 'O', 'O', 'O', 'O', 'O', 'O', 'O', 'O', 'O', 'O', 'O', 'O', 'O', 'O', 'O', 'O', 'O', 'O', 'O', 'O', 'O', 'O', 'O', 'O'], ['O', 'O', 'O', 'O', 'O', 'O', 'O', 'O', 'O', 'O', 'O', 'O', 'O', 'O', 'O', 'O', 'O', 'O', 'O', 'O', 'O', 'O', 'O', 'O'], ['O', 'O', 'O', 'O', 'O', 'O', 'O', 'O', 'O', 'O', 'O', 'O', 'O', 'O', 'O', 'O', 'O', 'O', 'O', 'O', 'O', 'O', 'O', 'O', 'O', 'O', 'O', 'O', 'O', 'O', 'O', 'O', 'O', 'O', 'O', 'O', 'O', 'O'], ['O', 'O', 'O', 'O', 'O', 'O', 'O', 'O', 'O', 'O', 'O', 'O', 'O', 'O', 'O', 'O', 'O', 'O', 'O', 'O', 'O'], ['O', 'O', 'O', 'O', 'O', 'O', 'O', 'O', 'O', 'O', 'O', 'O', 'O', 'O', 'O', 'O', 'O', 'O', 'O', 'O', 'O', 'O', 'O', 'O', 'O', 'O', 'O', 'O', 'O', 'O', 'O', 'O', 'O', 'O', 'O', 'O', 'O'], ['O', 'O', 'O', 'O', 'O', 'O', 'O', 'O', 'O', 'O', 'O', 'O', 'O', 'O', 'O', 'O', 'O', 'O', 'O', 'O', 'O', 'O'], ['O', 'O', 'O', 'O', 'O', 'O', 'O', 'O', 'O', 'O', 'O', 'O', 'O', 'O', 'O', 'O', 'O', 'O'], ['O', 'O', 'O', 'O', 'O', 'O', 'O', 'O', 'O', 'O', 'O', 'O', 'O', 'O', 'O', 'O', 'O', 'O', 'O', 'O', 'O', 'O', 'O', 'O', 'O', 'O', 'O', 'O', 'O', 'O', 'O', 'O', 'O', 'O', 'O', 'O', 'O', 'O', 'O'], ['O', 'O', 'O', 'O', 'O', 'O', 'O', 'O', 'O', 'O', 'O', 'O', 'O', 'O', 'O', 'O', 'O', 'O', 'O', 'O', 'O', 'O', 'O', 'O', 'O', 'O', 'O', 'O', 'O', 'O', 'O', 'O', 'O', 'O', 'O'], ['O', 'O', 'O', 'O', 'O', 'O', 'O', 'O', 'O', 'O', 'O', 'O', 'O', 'O', 'O', 'O', 'O', 'O'], ['O', 'O', 'B-Entity', 'O', 'O', 'O', 'O', 'O', 'B-Action', 'O', 'B-Entity', 'I-Entity', 'I-Entity', 'O', 'O', 'O', 'O', 'O', 'O', 'O', 'O', 'O', 'O', 'O', 'O', 'O', 'O', 'O', 'O', 'O', 'O', 'O', 'O', 'O', 'O', 'O'], ['O', 'O', 'O', 'O', 'O', 'O', 'O', 'O', 'O'], ['O', 'O', 'O', 'O', 'O', 'O', 'O', 'O', 'O', 'O', 'O', 'O', 'O', 'B-Entity', 'I-Entity', 'I-Entity', 'O', 'B-Action', 'O', 'B-Entity', 'O', 'B-Action', 'B-Entity', 'O'], ['O', 'O', 'O', 'O', 'O', 'O', 'O', 'O', 'O', 'O', 'O', 'O', 'O', 'O', 'O', 'O', 'O', 'O', 'O', 'O', 'O'], ['O', 'O', 'O', 'O', 'O', 'O', 'O', 'O', 'O', 'O', 'O', 'O', 'O', 'O', 'O', 'O', 'O', 'O', 'O', 'O'], ['O', 'B-Entity', 'B-Action', 'O', 'B-Entity', 'I-Entity', 'B-Modifier', 'O', 'B-Entity', 'I-Entity', 'O', 'B-Action', 'B-Entity', 'O', 'O', 'O', 'O'], ['O', 'B-Entity', 'I-Entity', 'I-Entity', 'O', 'O', 'O', 'O', 'O', 'O', 'O', 'O', 'O', 'O', 'O', 'O', 'O', 'O', 'O', 'O', 'B-Action', 'O', 'B-Entity', 'I-Entity', 'I-Entity', 'O', 'B-Entity', 'I-Entity', 'I-Entity', 'I-Entity', 'I-Entity', 'I-Entity', 'I-Entity', 'O'], ['O', 'B-Entity', 'I-Entity', 'O', 'O', 'O', 'O', 'O', 'O', 'O', 'O', 'O', 'O', 'B-Action', 'B-Modifier', 'O', 'B-Entity', 'I-Entity', 'O', 'B-Action', 'O', 'B-Entity', 'I-Entity', 'I-Entity', 'I-Entity', 'I-Entity', 'O'], ['O', 'O', 'O', 'O', 'O', 'O', 'O', 'O', 'O', 'O', 'O', 'O'], ['O', 'O', 'B-Entity', 'I-Entity', 'B-Action', 'O', 'B-Entity', 'I-Entity', 'I-Entity', 'O', 'O', 'O', 'O', 'O', 'O', 'O', 'O', 'O', 'O', 'O', 'O'], ['O', 'O', 'O', 'O', 'O', 'O', 'O', 'O', 'O', 'O', 'O', 'O', 'O', 'O', 'O', 'O', 'O', 'O', 'O'], ['O', 'O', 'O', 'O', 'O', 'O', 'O', 'O', 'O', 'O', 'O', 'O', 'O', 'O', 'O', 'O', 'O', 'O', 'O', 'O', 'O', 'O', 'O', 'O', 'O', 'O', 'O', 'O', 'O', 'O', 'O', 'O'], ['O', 'O', 'O', 'O', 'O', 'O', 'O', 'O', 'O', 'O', 'O', 'O', 'O', 'O', 'O', 'O', 'O', 'O', 'O'], ['O', 'O', 'O', 'O', 'O', 'O', 'O', 'O', 'O', 'O', 'O', 'O', 'O', 'O', 'O', 'O', 'O', 'O', 'O', 'O', 'O', 'O', 'O', 'O', 'O', 'O', 'O', 'O', 'O'], ['O', 'O', 'O', 'O', 'O', 'O', 'O', 'O', 'O', 'O', 'O', 'O', 'O', 'O', 'O', 'O', 'O', 'O', 'O', 'O', 'O'], ['O', 'O', 'O', 'O', 'O', 'O', 'O', 'O', 'O', 'O', 'O', 'O', 'O', 'O', 'O', 'O', 'O', 'O', 'O', 'O', 'O'], ['O', 'O', 'O', 'O', 'O', 'O', 'O', 'O', 'B-Entity', 'O', 'B-Action', 'O', 'B-Entity', 'I-Entity', 'I-Entity', 'I-Entity', 'O', 'O', 'O', 'O', 'O', 'O', 'O', 'O', 'O'], ['O', 'O', 'O', 'B-Entity', 'I-Entity', 'O', 'O', 'O', 'O', 'O', 'O', 'O', 'B-Action', 'O', 'B-Modifier', 'O', 'B-Entity', 'B-Modifier', 'O', 'B-Entity', 'I-Entity', 'O'], ['O', 'O', 'O', 'O', 'O', 'O', 'O', 'O', 'O', 'O', 'O', 'O', 'O', 'O'], ['B-Modifier', 'O', 'B-Entity', 'I-Entity', 'I-Entity', 'B-Entity', 'O', 'B-Action', 'O'], ['O', 'O', 'O', 'O', 'O', 'O', 'O', 'O', 'O', 'O', 'O', 'O', 'O', 'O', 'O', 'O', 'O', 'O', 'O', 'O', 'O'], ['O', 'O', 'O', 'O', 'O', 'O', 'O', 'O', 'O', 'O', 'O', 'O', 'O', 'O', 'O', 'O', 'O', 'O', 'O', 'O', 'O', 'O', 'O', 'O', 'O', 'O', 'O', 'O', 'O', 'O', 'O', 'O', 'O'], ['O', 'O', 'O', 'O', 'O', 'O', 'O', 'O', 'O', 'O'], ['O', 'O', 'O', 'O', 'O', 'O', 'O', 'O', 'O', 'O', 'O', 'O', 'O', 'O'], ['O', 'O', 'O', 'O', 'O', 'O', 'O', 'O', 'O', 'O', 'O', 'O', 'O'], ['B-Entity', 'O', 'O', 'O', 'O', 'O', 'O', 'O', 'O', 'O', 'O', 'O', 'O', 'O', 'O', 'O', 'O', 'O', 'O', 'O', 'O', 'O', 'O', 'B-Action', 'O', 'B-Entity', 'B-Modifier', 'O', 'B-Entity', 'I-Entity', 'I-Entity', 'I-Entity', 'I-Entity', 'I-Entity', 'O'], ['O', 'O', 'O', 'O', 'O', 'O', 'O', 'O', 'O', 'O', 'O', 'O', 'O', 'O', 'O', 'O', 'O', 'O', 'O', 'O', 'O', 'O', 'O', 'O', 'O', 'O', 'O', 'O'], ['O', 'O', 'O', 'O', 'O', 'O', 'O', 'O', 'O', 'O', 'O', 'O', 'O', 'O', 'O', 'O', 'O', 'O', 'O', 'O', 'O', 'O', 'O', 'O', 'O', 'O', 'O', 'O', 'O', 'O', 'O', 'O', 'O', 'O', 'O', 'O', 'O', 'O'], ['O', 'O', 'O', 'O', 'O', 'O', 'O', 'O', 'O', 'O', 'O', 'O'], ['O', 'B-Entity', 'I-Entity', 'I-Entity', 'I-Entity', 'I-Entity', 'I-Entity', 'I-Entity', 'I-Entity', 'I-Entity', 'I-Entity', 'I-Entity', 'I-Entity', 'I-Entity', 'I-Entity', 'O', 'O', 'B-Action', 'O', 'B-Entity', 'I-Entity', 'I-Entity', 'I-Entity', 'I-Entity', 'I-Entity', 'I-Entity', 'I-Entity', 'I-Entity', 'O'], ['O', 'O', 'O', 'O', 'O', 'O', 'O', 'O', 'O', 'O', 'O', 'O', 'O', 'O', 'O', 'O', 'O', 'O', 'O', 'O', 'O', 'O', 'O', 'O', 'O', 'O', 'O', 'O', 'O', 'O'], ['O', 'O', 'O', 'O', 'O', 'O', 'O', 'O', 'O'], ['O', 'O', 'O', 'O', 'O', 'O', 'O', 'O', 'O', 'O', 'O', 'O', 'O', 'O', 'O', 'O', 'O', 'O', 'O', 'O', 'O', 'O', 'O', 'O', 'O', 'O', 'O', 'O', 'O', 'O', 'O', 'O', 'O'], ['O', 'O', 'O', 'B-Entity', 'I-Entity', 'O', 'B-Action', 'O', 'B-Entity', 'I-Entity', 'O', 'O', 'O', 'O', 'O', 'O', 'O', 'O', 'O', 'O', 'O'], ['O', 'O', 'O', 'O', 'O', 'O', 'O', 'O', 'O', 'O', 'O', 'O', 'O', 'O', 'O', 'O', 'O', 'O', 'O', 'O', 'O', 'O', 'O', 'O', 'O', 'O', 'O', 'O', 'O', 'O', 'O', 'O', 'O', 'O', 'O'], ['O', 'B-Entity', 'I-Entity', 'O', 'O', 'O', 'O', 'O', 'O', 'O', 'B-Entity', 'O', 'B-Action', 'I-Action', 'B-Modifier', 'O', 'B-Entity', 'I-Entity', 'I-Entity', 'I-Entity', 'O', 'O', 'O', 'O', 'O', 'O', 'O', 'B-Action', 'B-Modifier', 'O', 'B-Entity', 'B-Modifier', 'O', 'B-Entity', 'I-Entity', 'I-Entity', 'I-Entity', 'I-Entity', 'I-Entity', 'I-Entity', 'I-Entity'], ['O', 'O', 'O', 'O', 'O', 'O', 'O', 'O', 'O', 'O', 'O', 'O', 'O', 'O', 'O', 'O', 'O', 'O', 'O', 'O', 'O', 'O', 'O', 'O', 'O', 'O', 'O', 'O', 'O'], ['O', 'B-Entity', 'I-Entity', 'I-Entity', 'I-Entity', 'O', 'B-Action', 'O', 'B-Action', 'I-Action', 'B-Modifier', 'O', 'B-Entity', 'I-Entity', 'I-Entity', 'I-Entity', 'O'], ['O', 'O', 'O', 'O', 'O', 'O', 'O', 'O', 'O', 'O', 'O', 'O'], ['O', 'O', 'O', 'O', 'O'], ['O', 'B-Entity', 'O', 'B-Action', 'B-Modifier', 'O', 'B-Entity', 'I-Entity', 'I-Entity', 'O', 'O', 'B-Action', 'B-Modifier', 'O', 'B-Entity', 'I-Entity', 'I-Entity', 'I-Entity', 'O'], ['O', 'O', 'O'], ['O', 'O', 'O', 'O', 'O', 'O', 'O', 'O', 'O', 'O', 'O', 'O', 'O', 'O', 'O', 'O', 'O', 'O', 'O', 'O', 'O', 'O', 'O', 'O', 'O', 'O', 'O', 'O'], ['O', 'O', 'O', 'O', 'O', 'O', 'O', 'O', 'O', 'O', 'O', 'O', 'O', 'O', 'O', 'O', 'O', 'O', 'O'], ['O', 'O', 'O', 'O', 'O', 'O', 'O', 'O', 'O', 'O', 'O', 'O', 'O', 'O', 'O', 'O', 'O', 'O'], ['O', 'O', 'O', 'O', 'O', 'O', 'O', 'O', 'O', 'O', 'O', 'O', 'O', 'O', 'O', 'O', 'O', 'O'], ['O', 'O', 'O', 'O', 'O', 'O', 'O', 'O', 'O', 'O', 'O', 'O', 'O', 'O', 'O', 'O', 'O', 'O'], ['O', 'O', 'O', 'O', 'O', 'O', 'O', 'O', 'O', 'O', 'O', 'O', 'O', 'O', 'O', 'O', 'O', 'O'], ['O', 'O', 'O', 'O', 'O', 'O', 'O', 'O', 'O', 'O', 'O', 'O', 'O', 'O', 'O', 'O', 'O', 'O'], ['O', 'O', 'O', 'O', 'O', 'O', 'O', 'O', 'O', 'O', 'O', 'O', 'O', 'O', 'O', 'O', 'O', 'O', 'O', 'O'], ['O', 'O', 'O', 'O', 'O', 'O', 'O', 'O', 'O', 'O', 'O', 'O', 'O', 'O', 'O', 'O', 'O', 'O', 'O'], ['O', 'O', 'O', 'O', 'O', 'O', 'O', 'O', 'O', 'O', 'O', 'O', 'O', 'O', 'O', 'O', 'O', 'O'], ['O', 'O', 'O', 'O', 'O', 'O', 'O', 'O', 'O', 'O', 'O', 'O', 'O', 'O', 'O', 'O', 'O', 'O'], ['O', 'O', 'O', 'O', 'O', 'O', 'O', 'O', 'O', 'O', 'O', 'O', 'O', 'O', 'O', 'O', 'O', 'O', 'O', 'O', 'O', 'O', 'O', 'O', 'O'], ['O', 'O', 'O', 'O', 'O', 'O', 'O', 'O', 'O', 'O', 'O', 'O', 'O', 'O', 'O', 'O', 'O', 'O'], ['O', 'O', 'O', 'O', 'O', 'O', 'O', 'O', 'O', 'O', 'O', 'O', 'O', 'O', 'O', 'O', 'O', 'O'], ['O', 'O', 'O', 'O', 'O', 'O', 'O', 'O', 'O', 'O', 'O', 'O', 'O', 'O', 'O', 'O', 'O', 'O'], ['O', 'O', 'O', 'O', 'O', 'O', 'O', 'O', 'O', 'O', 'O', 'O', 'O', 'O', 'O', 'O', 'O', 'O'], ['O', 'O', 'O', 'O', 'O', 'O', 'O', 'O', 'O', 'O', 'O', 'O', 'O', 'O', 'O', 'O', 'O', 'O'], ['O', 'O', 'O', 'O', 'O', 'O', 'O', 'O', 'O', 'O', 'O', 'O', 'O', 'O', 'O', 'O', 'O', 'O', 'O'], ['O', 'O', 'O', 'O', 'O', 'O', 'O', 'O', 'O', 'O', 'O', 'O', 'O', 'O', 'O', 'O', 'O', 'O', 'O', 'O', 'O', 'O', 'O', 'O', 'O', 'O', 'O', 'O', 'O', 'O'], ['O', 'O', 'O', 'O', 'O', 'O', 'O', 'O', 'O', 'O', 'O', 'O', 'O', 'O', 'O', 'O'], ['O', 'O', 'O', 'O', 'O', 'O', 'O', 'O', 'O', 'O', 'O', 'O', 'O', 'O', 'O', 'O', 'O', 'O', 'O', 'O', 'O', 'O', 'O', 'O', 'O', 'O', 'O', 'O', 'O', 'O', 'O'], ['O', 'O', 'O', 'O', 'O', 'O', 'O', 'O', 'O', 'O', 'O', 'O', 'O', 'O', 'O', 'O', 'O', 'O', 'O', 'O', 'O', 'O', 'O', 'O', 'O', 'O', 'O', 'O'], ['O', 'O', 'O', 'O', 'O', 'O', 'O', 'O', 'O', 'O', 'O', 'O', 'O', 'O', 'O', 'O', 'O', 'O', 'O', 'O', 'O', 'O', 'O', 'O', 'O', 'O', 'O', 'O'], ['O', 'O', 'O', 'O', 'O', 'O', 'O', 'O', 'O', 'O', 'O', 'O', 'O', 'O', 'O', 'O', 'O', 'O', 'O', 'O', 'O'], ['O', 'O', 'O', 'O', 'O', 'O', 'O', 'O', 'O', 'O', 'O'], ['O', 'O', 'O', 'O', 'O', 'O', 'O', 'O', 'O', 'O', 'O', 'O', 'O', 'O', 'O', 'O', 'O', 'O', 'O', 'O', 'O', 'O', 'O', 'O', 'O', 'O', 'O', 'O', 'O', 'O'], ['O', 'O', 'O', 'O', 'O', 'O', 'O', 'O', 'O', 'O', 'O', 'O', 'O', 'O', 'O', 'O', 'O', 'O', 'O', 'O', 'O'], ['O', 'O', 'O', 'O', 'O', 'O', 'O', 'O', 'O', 'O', 'O', 'O', 'O', 'O', 'O', 'O', 'O', 'O'], ['O', 'O', 'O', 'O', 'O', 'O', 'O', 'O', 'O', 'O', 'O', 'O', 'O', 'O'], ['O', 'O', 'O', 'O', 'O', 'O', 'O', 'O', 'O', 'O', 'O', 'O', 'O', 'O', 'O', 'O', 'O', 'O', 'O', 'O', 'O', 'O', 'O', 'O', 'O', 'O', 'O', 'O', 'O', 'O', 'O', 'O'], ['O', 'O', 'O', 'O'], ['O', 'O', 'O', 'O', 'O', 'O', 'O', 'O', 'O', 'O', 'O', 'O', 'O', 'O', 'O', 'O', 'O', 'O', 'O', 'O', 'O', 'O'], ['O', 'O', 'O', 'O', 'O', 'O', 'O', 'O', 'O', 'O', 'O', 'O'], ['O', 'O', 'O', 'O', 'O', 'O', 'O', 'O', 'O', 'O', 'O', 'O', 'O', 'O', 'O', 'O', 'O', 'O', 'O'], ['B-Modifier', 'O', 'B-Entity', 'I-Entity', 'O', 'O', 'B-Action', 'B-Modifier', 'O', 'B-Entity', 'I-Entity', 'I-Entity', 'I-Entity', 'I-Entity', 'O'], ['O', 'B-Entity', 'O', 'O', 'O', 'O', 'O', 'O', 'O', 'B-Action', 'B-Entity', 'B-Modifier', 'O', 'B-Entity', 'O'], ['O', 'O', 'O', 'O', 'O', 'O', 'O', 'O', 'O', 'O', 'O', 'O', 'O', 'O', 'O', 'O', 'O'], ['O', 'O', 'O', 'O', 'O', 'O', 'O', 'O', 'O', 'O', 'O'], ['O', 'O', 'O', 'O', 'O', 'O', 'O', 'O', 'O', 'O', 'O', 'O', 'O', 'O', 'O', 'O', 'O'], ['O', 'O', 'O', 'O', 'O', 'O', 'O', 'O', 'O', 'O', 'O', 'O', 'O', 'O', 'O', 'O', 'O', 'O', 'O', 'O'], ['O', 'O', 'O', 'O', 'O', 'O', 'O', 'O', 'O', 'O', 'O', 'O', 'O', 'O', 'O', 'O', 'O', 'O', 'O'], ['O', 'O', 'O', 'O', 'O', 'O', 'O', 'O', 'O', 'O', 'O', 'O', 'O', 'O', 'O', 'O', 'O', 'O', 'O'], ['O', 'O', 'O', 'O', 'O', 'O', 'O', 'O', 'O', 'O', 'O', 'O', 'O', 'O', 'O'], ['O', 'O', 'O', 'O', 'O', 'O', 'O', 'O', 'O', 'O'], ['O', 'O', 'O', 'O', 'O', 'O', 'O', 'O', 'O', 'O', 'O', 'O'], ['O', 'O', 'O', 'O', 'O', 'O', 'O', 'O', 'O', 'O', 'O', 'O', 'O', 'O', 'O', 'O', 'O'], ['O', 'O', 'O', 'O', 'O', 'O', 'O', 'O', 'O', 'O', 'O', 'O', 'O', 'O', 'O', 'O', 'O', 'O', 'O', 'O', 'O', 'O', 'O'], ['O', 'O', 'O', 'O', 'O', 'O', 'O', 'O', 'O', 'O', 'O', 'O', 'O', 'O', 'O', 'O', 'O', 'O', 'O', 'O'], ['O', 'O', 'O', 'O', 'O', 'O', 'B-Entity', 'I-Entity', 'B-Action', 'O', 'B-Entity', 'B-Modifier', 'O', 'B-Entity', 'O'], ['O', 'B-Entity', 'B-Action', 'B-Modifier', 'O', 'B-Entity', 'I-Entity', 'I-Entity', 'I-Entity', 'I-Entity', 'I-Entity', 'I-Entity', 'I-Entity', 'I-Entity', 'O', 'B-Modifier', 'O', 'B-Entity', 'I-Entity', 'I-Entity', 'O'], ['O', 'O', 'O', 'O', 'O', 'O', 'O', 'O', 'O', 'O', 'O', 'O', 'O', 'O', 'O', 'O', 'O', 'O', 'O', 'O', 'O', 'O'], ['O', 'O', 'O', 'O', 'O', 'O', 'O', 'O', 'O', 'O', 'O', 'O', 'O', 'O', 'O', 'O', 'O', 'O', 'O', 'O'], ['O', 'O', 'O', 'O', 'O', 'O', 'O', 'O', 'O', 'O', 'O', 'O', 'O', 'O', 'O'], ['O', 'B-Entity', 'I-Entity', 'I-Entity', 'I-Entity', 'I-Entity', 'O', 'O', 'O', 'O', 'O', 'O', 'O', 'O', 'O', 'O', 'O', 'O', 'O', 'O', 'O', 'O', 'B-Action', 'B-Modifier', 'O', 'B-Entity', 'B-Modifier', 'B-Entity', 'O'], ['O', 'O', 'O', 'O', 'O', 'O', 'B-Entity', 'I-Entity', 'I-Entity', 'I-Entity', 'I-Entity', 'O', 'O', 'O', 'O', 'O', 'O', 'O', 'O', 'O', 'B-Action', 'O', 'B-Entity', 'I-Entity'], ['O', 'O', 'O', 'B-Action', 'O', 'B-Entity', 'I-Entity', 'I-Entity', 'B-Modifier', 'O', 'B-Entity', 'I-Entity', 'I-Entity', 'I-Entity', 'I-Entity', 'I-Entity', 'O'], ['O', 'O', 'O', 'O', 'O', 'O', 'O', 'O', 'O', 'O', 'O', 'B-Entity', 'I-Entity', 'I-Entity', 'O', 'O', 'O', 'B-Action', 'O', 'B-Modifier', 'O', 'B-Entity', 'I-Entity', 'I-Entity', 'I-Entity', 'I-Entity', 'I-Entity', 'I-Entity', 'I-Entity', 'I-Entity', 'I-Entity', 'O'], ['O', 'O', 'O', 'O', 'O', 'O', 'O', 'O', 'O', 'O', 'O', 'O', 'O', 'O', 'O', 'O'], ['O', 'O', 'O', 'O', 'O', 'O', 'O', 'O', 'O', 'O', 'O', 'O', 'O', 'O', 'O', 'O', 'O', 'O', 'O', 'O', 'O', 'O', 'O', 'O', 'O', 'O', 'O', 'O', 'O', 'O', 'O', 'O', 'O', 'O', 'O', 'O', 'O', 'O', 'O', 'O', 'O'], ['O', 'O', 'O', 'O', 'O', 'O', 'O', 'O', 'O', 'O', 'O', 'O', 'O', 'O', 'O', 'O', 'O', 'O', 'O', 'O', 'O', 'O', 'O', 'O', 'O', 'O', 'O', 'O'], ['O', 'O', 'O', 'O', 'O', 'O', 'O', 'O', 'O', 'O', 'O', 'O', 'O', 'O', 'O', 'O', 'O', 'O', 'O', 'O', 'O', 'O', 'O', 'O', 'O', 'O', 'O', 'O', 'O', 'O', 'O', 'O'], ['O', 'O', 'O', 'O', 'O', 'O', 'O', 'O', 'O', 'O', 'O', 'O', 'O', 'O'], ['O', 'O', 'O', 'O', 'O', 'O', 'O', 'O', 'O', 'O', 'O', 'O', 'O', 'O', 'O', 'O', 'O', 'O', 'O', 'O', 'O', 'O', 'O', 'O', 'O'], ['O', 'O', 'O', 'O', 'O', 'O', 'O', 'O', 'O', 'O', 'O', 'O'], ['O', 'O', 'O', 'O', 'O', 'B-Entity', 'I-Entity', 'I-Entity', 'I-Entity', 'I-Entity', 'I-Entity', 'I-Entity', 'I-Entity', 'I-Entity', 'I-Entity', 'O', 'O', 'O', 'O', 'O', 'O', 'O', 'O', 'B-Action', 'B-Modifier', 'O', 'B-Entity', 'I-Entity', 'I-Entity', 'O'], ['O', 'O', 'O', 'O', 'O', 'O', 'O', 'O', 'O', 'O', 'O', 'O', 'O', 'O', 'O', 'O', 'O', 'O', 'O', 'O'], ['O', 'O', 'O', 'O', 'O', 'O', 'O', 'O', 'O', 'O', 'O', 'O', 'O', 'O', 'O', 'O', 'O', 'O', 'O', 'O', 'O', 'O', 'O', 'O', 'O'], ['O', 'O', 'O', 'O', 'O', 'O', 'O', 'O', 'O', 'B-Action', 'B-Modifier', 'O', 'B-Entity', 'I-Entity', 'I-Entity', 'I-Entity', 'I-Entity', 'O'], ['O', 'O', 'O', 'O', 'O', 'O', 'O', 'O', 'O', 'O', 'O', 'O', 'O', 'O', 'O', 'O', 'O', 'O', 'O', 'O', 'O', 'O', 'O', 'O'], ['O', 'O', 'O', 'O', 'O', 'O', 'O', 'O', 'O', 'O', 'O', 'O', 'O', 'O', 'O', 'O', 'O', 'O', 'O', 'O', 'O', 'O', 'O', 'O', 'O', 'O', 'O', 'O', 'O', 'O', 'O', 'O', 'O', 'O'], ['O', 'O', 'O', 'O', 'O', 'O', 'O', 'O', 'O', 'O', 'O', 'O', 'O'], ['O', 'O', 'O', 'O', 'O', 'O', 'O', 'O', 'O', 'O', 'O', 'O', 'O', 'O', 'O', 'O', 'O', 'O', 'O', 'O', 'O', 'O', 'O', 'O', 'O', 'O'], ['O', 'O', 'O', 'O', 'O', 'O', 'O', 'O', 'O', 'O', 'O', 'O', 'O'], ['O', 'O', 'O', 'O', 'O', 'O', 'O', 'O', 'O', 'O', 'O', 'O', 'O', 'O', 'O', 'O', 'O', 'O', 'O', 'O', 'O', 'O', 'O', 'O', 'O', 'O', 'O', 'O', 'O'], ['O', 'O', 'O', 'O', 'O', 'O', 'O', 'O', 'O', 'O', 'O', 'O'], ['O', 'O', 'O', 'O', 'O', 'O', 'O', 'O', 'O', 'O', 'O', 'O', 'O', 'O', 'O', 'O', 'O', 'O', 'O'], ['O', 'O', 'O', 'O', 'O', 'O', 'O', 'O', 'O', 'O', 'O', 'O', 'O', 'O', 'O', 'O', 'O', 'O', 'O', 'O', 'O', 'O', 'O', 'O', 'O', 'O', 'O'], ['O', 'O', 'O', 'O', 'O', 'O', 'O', 'O', 'O', 'O', 'O', 'O', 'O', 'O'], ['O', 'O', 'O', 'O', 'O', 'O', 'O', 'O', 'O', 'O', 'O', 'O', 'O', 'O', 'O', 'O', 'O', 'O', 'O'], ['O', 'O', 'O', 'O', 'O', 'O', 'O', 'O', 'O', 'O', 'O', 'O', 'O', 'O', 'O', 'O', 'O', 'O', 'O', 'O', 'O', 'O', 'O', 'O', 'O'], ['O', 'O', 'O', 'O', 'O', 'O', 'O', 'O', 'O', 'O', 'O', 'O', 'O', 'O', 'O'], ['O', 'O', 'O', 'O', 'O', 'O', 'O', 'O', 'O', 'O', 'O', 'O', 'O', 'O', 'O', 'O', 'O', 'O', 'O', 'O', 'O', 'O', 'O', 'O', 'O', 'O', 'O'], ['O', 'O', 'O', 'O', 'O', 'O', 'O', 'O', 'O', 'O', 'O', 'O', 'O', 'O', 'O', 'O', 'O', 'O', 'O', 'O', 'O', 'O', 'O', 'O', 'O', 'O', 'O', 'O', 'O', 'O', 'O'], ['O', 'O', 'O', 'O', 'O', 'O', 'O', 'O', 'O', 'O', 'O', 'O', 'O', 'O', 'O'], ['O', 'O', 'O', 'O', 'O', 'O', 'O', 'O', 'O', 'O', 'O', 'O', 'O', 'O', 'O', 'O', 'O', 'O', 'O', 'O', 'O'], ['O', 'O', 'O', 'O', 'O', 'O', 'O', 'O', 'O', 'O', 'O', 'O', 'O', 'O', 'O', 'O', 'O', 'O'], ['O', 'O', 'O', 'O', 'O', 'O', 'O', 'O', 'O', 'O', 'O', 'O', 'O', 'O', 'O', 'O'], ['O', 'O', 'O', 'O', 'O', 'O', 'O', 'O', 'O', 'O', 'O', 'O', 'O', 'O', 'O', 'O', 'O'], ['O', 'O', 'O', 'O', 'O', 'O', 'O', 'O', 'O', 'O', 'O', 'O', 'O'], ['O', 'O', 'O', 'O', 'O', 'O', 'O', 'O', 'O'], ['O', 'O', 'O', 'O', 'O', 'O', 'O', 'O', 'B-Action', 'O', 'B-Action', 'O', 'B-Entity', 'I-Entity', 'B-Modifier', 'O', 'B-Entity', 'O'], ['O', 'O', 'O', 'O', 'B-Entity', 'I-Entity', 'O', 'B-Action', 'B-Modifier', 'O', 'B-Entity', 'O'], ['O', 'O', 'O', 'O', 'O', 'O', 'B-Entity', 'I-Entity', 'B-Action', 'B-Entity', 'B-Modifier', 'O', 'B-Entity', 'I-Entity', 'O', 'B-Action', 'O', 'B-Entity', 'I-Entity', 'I-Entity', 'I-Entity', 'B-Modifier', 'O', 'B-Entity', 'I-Entity', 'I-Entity', 'I-Entity', 'I-Entity', 'I-Entity'], ['O', 'O', 'O', 'O', 'O', 'O', 'O', 'O', 'O', 'O', 'O', 'O', 'O', 'O', 'O', 'O', 'O', 'O', 'O'], ['O', 'O', 'O', 'O', 'O', 'O', 'O', 'O', 'O', 'O', 'O', 'O', 'O', 'O', 'O', 'O', 'O', 'B-Action', 'B-Modifier', 'O', 'B-Entity', 'B-Modifier', 'O', 'B-Entity', 'O'], ['O', 'O', 'O', 'B-Action', 'B-Modifier', 'O', 'B-Entity', 'I-Entity', 'O', 'B-Entity', 'B-Action', 'B-Entity', 'O', 'O', 'O', 'O', 'O', 'B-Action', 'O', 'B-Entity', 'I-Entity', 'I-Entity', 'O'], ['O', 'O', 'O', 'O', 'O', 'O', 'O', 'O', 'O', 'O', 'O', 'O'], ['O', 'O', 'O', 'O', 'O', 'O', 'O', 'O', 'O', 'O', 'O', 'O', 'O', 'O', 'O', 'O', 'O', 'O', 'O', 'O'], ['O', 'O', 'O', 'O', 'O', 'O', 'O', 'O', 'O', 'O', 'O', 'O', 'O', 'O', 'O', 'O'], ['O', 'O', 'O', 'O', 'B-Entity', 'I-Entity', 'O', 'B-Action', 'B-Modifier', 'O', 'B-Entity', 'I-Entity', 'O'], ['O', 'O', 'O', 'O', 'O', 'O', 'O', 'O', 'O', 'O', 'O', 'O', 'O', 'O', 'O', 'O', 'O', 'O'], ['O', 'O', 'O', 'O', 'O', 'O', 'O', 'O', 'O', 'O', 'O', 'O', 'O', 'O'], ['O', 'O', 'O', 'O', 'O', 'O', 'O', 'O', 'O', 'O', 'O', 'O', 'O', 'O', 'O', 'O', 'O', 'O', 'O', 'O', 'O', 'O', 'O', 'O', 'O', 'O', 'O', 'O', 'O', 'O', 'O', 'O', 'O', 'O', 'O', 'O', 'O'], ['O', 'O', 'O', 'O', 'O', 'O', 'O', 'O', 'O', 'O', 'O'], ['O', 'O', 'O', 'O', 'O', 'O', 'O', 'O', 'O', 'O', 'O', 'O', 'O', 'O', 'O', 'O', 'O', 'O', 'O', 'O', 'O', 'O', 'O', 'O', 'O', 'O'], ['B-Entity', 'B-Action', 'O', 'B-Entity', 'I-Entity', 'O', 'O', 'O', 'O', 'O', 'O', 'B-Entity', 'I-Entity', 'B-Modifier', 'O', 'B-Entity', 'I-Entity', 'I-Entity', 'O'], ['O', 'O', 'O', 'O', 'O', 'O', 'O', 'O', 'O', 'O', 'O', 'O', 'O', 'O', 'O', 'O', 'O', 'O', 'O', 'O', 'O', 'O', 'O', 'O', 'O', 'O', 'O', 'O', 'O', 'O', 'O', 'O', 'O', 'O', 'O', 'O', 'O', 'O', 'O'], ['O', 'O', 'O', 'O', 'O', 'O', 'O', 'O', 'O', 'O', 'O', 'O', 'O', 'O', 'O', 'O', 'O', 'O', 'O', 'O', 'O', 'O', 'O', 'O', 'O', 'O'], ['O', 'O', 'O', 'O', 'O', 'O', 'O', 'O', 'O', 'O', 'O', 'O', 'O', 'O', 'O', 'O'], ['O', 'O', 'O', 'O', 'O', 'O', 'O', 'O', 'O', 'O', 'O', 'O', 'O', 'O', 'O', 'O', 'O', 'O', 'O'], ['O', 'O', 'O', 'O', 'O', 'O', 'O', 'O', 'O', 'O', 'O', 'O', 'O', 'O', 'O', 'O', 'O', 'O', 'O', 'O', 'O', 'O', 'O', 'O', 'O', 'O', 'O', 'O'], ['O', 'O', 'O', 'O', 'O', 'O', 'O', 'O', 'O', 'O', 'B-Action', 'B-Entity', 'B-Modifier', 'O', 'B-Entity', 'I-Entity', 'I-Entity', 'I-Entity', 'I-Entity', 'I-Entity', 'I-Entity', 'I-Entity', 'I-Entity', 'I-Entity', 'O', 'B-Action', 'B-Entity', 'O', 'B-Action', 'B-Entity', 'O', 'O', 'O'], ['O', 'O', 'O', 'O', 'O', 'O', 'O', 'O', 'O', 'O', 'O', 'O', 'O', 'O', 'O', 'O', 'O', 'O', 'O', 'O'], ['O', 'O', 'O', 'O', 'O', 'O', 'O', 'O', 'O', 'O', 'O', 'O', 'O', 'O', 'O', 'O'], ['O', 'O', 'O', 'O', 'O', 'O', 'O', 'O', 'O', 'O', 'O', 'O', 'O', 'O', 'O', 'O', 'O', 'O', 'O', 'O', 'O', 'O', 'O', 'O', 'O', 'O', 'O', 'O', 'O', 'O', 'O', 'O'], ['O', 'O', 'O', 'O', 'O', 'O', 'O', 'O', 'O', 'O', 'O', 'O', 'O', 'O', 'O', 'O', 'O', 'O', 'O', 'O', 'O', 'O', 'O', 'O', 'O', 'O', 'O', 'O'], ['O', 'O', 'O', 'O', 'O', 'O', 'O', 'O', 'O', 'O', 'O', 'O', 'O', 'O', 'O', 'O', 'O', 'O', 'O', 'O', 'O', 'O', 'O'], ['O', 'O', 'O', 'O', 'O', 'O', 'O', 'O', 'O', 'O', 'O', 'O', 'O', 'O', 'O', 'O', 'O', 'O', 'O', 'O', 'O'], ['O', 'O', 'O', 'O', 'O', 'O', 'O', 'O', 'O', 'O', 'O', 'O', 'O', 'O', 'O', 'O', 'B-Entity', 'I-Entity', 'O', 'O', 'O', 'B-Action', 'O', 'B-Entity', 'I-Entity', 'I-Entity', 'I-Entity', 'I-Entity', 'I-Entity', 'I-Entity', 'I-Entity', 'I-Entity', 'I-Entity', 'O', 'B-Action', 'B-Entity', 'B-Modifier', 'O'], ['O', 'O', 'O', 'O', 'O', 'O', 'O', 'O', 'O', 'O', 'O', 'O'], ['O', 'B-Entity', 'B-Action', 'O', 'B-Entity', 'I-Entity', 'I-Entity', 'I-Entity', 'I-Entity', 'I-Entity', 'I-Entity', 'I-Entity', 'O', 'O', 'B-Action', 'B-Entity', 'B-Modifier', 'O', 'B-Entity', 'I-Entity', 'I-Entity', 'O'], ['O', 'O', 'O', 'O'], ['O', 'O', 'O', 'O', 'O', 'O', 'O', 'O', 'O', 'O', 'O', 'O', 'O', 'O', 'O', 'O', 'O', 'O', 'O'], ['O', 'O', 'O', 'O', 'O', 'O', 'O', 'O', 'O', 'O', 'O', 'O', 'O', 'O', 'O', 'O', 'O', 'O', 'O', 'O', 'O', 'O', 'O', 'O'], ['O', 'B-Entity', 'O', 'O', 'O', 'O', 'O', 'O', 'O', 'O', 'O', 'O', 'O', 'O', 'O', 'O'], ['O', 'B-Entity', 'O', 'B-Action', 'B-Modifier', 'O', 'B-Entity', 'I-Entity', 'I-Entity', 'O', 'O', 'O', 'O', 'B-Action', 'O', 'B-Entity', 'I-Entity', 'I-Entity', 'B-Modifier', 'O', 'B-Entity', 'I-Entity', 'I-Entity'], ['O', 'O', 'O', 'O', 'O', 'O', 'O', 'O', 'O', 'O', 'O', 'O', 'O', 'O', 'O'], ['O', 'B-Entity', 'O', 'O', 'O', 'B-Action', 'O', 'B-Entity', 'I-Entity', 'O', 'O', 'O', 'O', 'O', 'O', 'O', 'O', 'O', 'O', 'O', 'O', 'O', 'O', 'O'], ['O', 'B-Entity', 'I-Entity', 'I-Entity', 'O', 'O', 'B-Action', 'B-Modifier', 'O', 'B-Entity', 'I-Entity', 'I-Entity', 'O'], ['O', 'O', 'O', 'O', 'O', 'O', 'O', 'O', 'O', 'O', 'O', 'O', 'O', 'O', 'O', 'O', 'O', 'O'], ['O', 'O', 'O', 'O', 'O', 'O', 'O', 'O', 'O', 'O', 'O', 'O', 'O', 'O', 'O'], ['B-Entity', 'B-Action', 'B-Entity', 'B-Modifier', 'O', 'B-Entity', 'I-Entity', 'I-Entity', 'I-Entity', 'I-Entity', 'O', 'O', 'O', 'O', 'O', 'O', 'O', 'O', 'O', 'O', 'O', 'O', 'O', 'O', 'O'], ['O', 'O', 'O', 'O', 'O', 'O', 'O', 'O', 'O', 'O', 'O', 'O', 'O', 'O', 'O', 'O', 'O', 'O', 'O', 'O', 'O', 'O', 'O', 'O', 'O'], ['O', 'O', 'O', 'O', 'O', 'O', 'O', 'O', 'O', 'O', 'O', 'O'], ['O', 'O', 'O', 'O', 'O', 'O', 'O', 'O', 'O', 'O', 'B-Entity', 'I-Entity', 'O', 'O', 'O', 'B-Action', 'O', 'B-Action', 'B-Entity', 'O', 'O', 'O', 'O', 'O', 'O', 'O'], ['O', 'O', 'O', 'O', 'O', 'O', 'O', 'O', 'O', 'O', 'O', 'O'], ['O', 'O', 'O', 'O', 'O', 'O', 'O', 'O', 'O', 'O', 'O', 'O', 'O', 'O', 'O', 'O', 'B-Entity', 'B-Action', 'O', 'B-Entity', 'O', 'B-Entity', 'I-Entity', 'I-Entity', 'I-Entity', 'I-Entity', 'I-Entity', 'I-Entity', 'I-Entity', 'I-Entity', 'I-Entity', 'I-Entity', 'I-Entity', 'O'], ['O', 'B-Entity', 'I-Entity', 'I-Entity', 'I-Entity', 'O', 'O', 'B-Action', 'B-Entity', 'B-Modifier', 'O', 'B-Entity', 'I-Entity', 'I-Entity', 'I-Entity', 'O'], ['O', 'B-Entity', 'B-Action', 'O', 'B-Entity', 'I-Entity', 'I-Entity', 'I-Entity', 'I-Entity', 'O', 'O', 'O', 'O', 'O', 'B-Entity', 'I-Entity', 'O', 'B-Action', 'B-Modifier', 'O', 'B-Entity', 'I-Entity', 'I-Entity', 'I-Entity', 'I-Entity', 'O'], ['O', 'O', 'O', 'B-Entity', 'B-Action', 'O', 'B-Modifier', 'O', 'B-Entity', 'I-Entity', 'I-Entity', 'O', 'O', 'O', 'O', 'O', 'O'], ['O', 'O', 'O', 'O', 'O', 'O', 'O', 'O', 'O', 'O', 'O', 'O', 'O'], ['O', 'O', 'O', 'O', 'O', 'O', 'O', 'O', 'O'], ['O', 'O', 'O', 'O', 'O', 'O', 'O', 'B-Action', 'O', 'B-Entity', 'I-Entity', 'I-Entity', 'I-Entity', 'I-Entity', 'O', 'B-Action', 'O', 'B-Entity', 'I-Entity', 'I-Entity', 'I-Entity', 'O'], ['B-Entity', 'B-Action', 'O', 'B-Entity', 'B-Modifier', 'O', 'B-Entity', 'I-Entity', 'I-Entity', 'I-Entity', 'I-Entity', 'I-Entity', 'I-Entity', 'I-Entity', 'I-Entity', 'O'], ['O', 'O', 'O', 'O', 'O', 'O', 'O', 'O', 'O', 'O', 'O', 'O'], ['O', 'O', 'O', 'O', 'O', 'O', 'O', 'O', 'O', 'O', 'O', 'O', 'O', 'O', 'O', 'O', 'O', 'O', 'O', 'O', 'O', 'O'], ['O', 'O', 'O', 'O', 'O', 'O', 'O', 'O', 'O', 'O', 'O', 'O', 'O', 'O', 'O', 'O', 'O', 'O', 'O', 'O', 'O', 'O', 'O', 'O', 'O'], ['O', 'O', 'O', 'O', 'O', 'O', 'O', 'O', 'O', 'O', 'O', 'O', 'O', 'O', 'O', 'O', 'O', 'O', 'O', 'O', 'O', 'O', 'O'], ['O', 'O', 'O', 'O', 'O', 'O', 'O', 'O', 'O', 'O', 'O', 'O', 'O', 'O', 'O', 'O', 'O', 'O'], ['O', 'O', 'O', 'O', 'O', 'O', 'O', 'O', 'O', 'O', 'O', 'O'], ['O', 'O', 'O', 'O', 'O', 'O', 'O', 'O', 'O', 'O', 'O', 'O', 'O', 'O', 'O'], ['O', 'O', 'O', 'O', 'O', 'O', 'O', 'O', 'O', 'O', 'O', 'O', 'O', 'O', 'O'], ['O', 'B-Entity', 'B-Action', 'O', 'B-Entity', 'O', 'B-Action', 'O', 'B-Entity', 'I-Entity', 'I-Entity', 'I-Entity', 'I-Entity', 'I-Entity', 'I-Entity', 'I-Entity', 'O', 'O', 'O', 'O', 'O', 'O', 'O', 'O', 'O', 'O', 'O', 'O', 'O', 'O', 'O', 'O', 'O', 'O'], ['O', 'O', 'O', 'O', 'O', 'O', 'O', 'O', 'O', 'O', 'O', 'O', 'O', 'O', 'O', 'O', 'O', 'O', 'O', 'O', 'O', 'O'], ['O', 'O', 'O', 'O', 'O', 'O', 'O'], ['O', 'O', 'O', 'O', 'O', 'O', 'O', 'O', 'O', 'O', 'B-Entity', 'I-Entity', 'I-Entity', 'I-Entity', 'I-Entity', 'O', 'B-Action', 'B-Modifier', 'O', 'B-Entity', 'I-Entity', 'I-Entity', 'I-Entity', 'I-Entity', 'I-Entity', 'I-Entity', 'I-Entity', 'I-Entity', 'I-Entity', 'I-Entity', 'I-Entity', 'O'], ['O', 'B-Entity', 'O', 'O', 'O', 'O', 'O', 'O', 'O', 'O', 'O', 'O', 'O', 'O', 'O', 'B-Action', 'B-Modifier', 'O', 'B-Entity', 'I-Entity', 'O'], ['O', 'O', 'O', 'O', 'O', 'O', 'O', 'O', 'O', 'O', 'O'], ['B-Entity', 'O', 'O', 'O', 'O', 'O', 'B-Action', 'B-Modifier', 'O', 'B-Entity', 'O', 'O', 'B-Action', 'B-Modifier', 'B-Entity', 'O'], ['B-Entity', 'O', 'B-Action', 'O', 'B-Action', 'O', 'B-Entity', 'O', 'B-Action', 'I-Action', 'I-Action', 'B-Entity', 'O', 'B-Action', 'O', 'B-Entity', 'O', 'O', 'O', 'O', 'O', 'B-Action', 'B-Entity', 'O', 'B-Action', 'O', 'B-Entity', 'O'], ['O', 'O', 'O', 'O', 'B-Entity', 'O', 'B-Action', 'B-Entity', 'B-Modifier', 'O', 'B-Entity', 'I-Entity', 'I-Entity', 'I-Entity', 'B-Modifier', 'O', 'B-Entity', 'I-Entity', 'O', 'B-Action', 'O', 'B-Entity', 'I-Entity', 'B-Modifier', 'O', 'B-Entity', 'I-Entity', 'I-Entity', 'I-Entity', 'O'], ['O', 'B-Entity', 'O', 'B-Action', 'B-Modifier', 'O', 'B-Entity', 'I-Entity', 'O', 'B-Action', 'I-Action', 'O', 'B-Entity', 'I-Entity', 'I-Entity', 'I-Entity', 'I-Entity', 'I-Entity', 'I-Entity', 'O'], ['O', 'O', 'O', 'O', 'O', 'O', 'O', 'O', 'O', 'O', 'O', 'O'], ['O', 'O', 'O', 'B-Entity', 'B-Action', 'B-Entity', 'B-Modifier', 'O', 'B-Entity', 'I-Entity', 'I-Entity', 'I-Entity', 'O', 'B-Action', 'O', 'B-Entity', 'I-Entity', 'B-Modifier', 'O', 'B-Entity', 'I-Entity', 'I-Entity', 'O'], ['O', 'O', 'O', 'O', 'O', 'O', 'O', 'O', 'O', 'O', 'O', 'O', 'O', 'O', 'O', 'O', 'O'], ['O', 'O', 'O', 'O', 'O', 'O', 'O', 'O', 'O', 'O', 'O', 'O', 'O', 'O', 'O', 'O', 'O', 'O'], ['O', 'O', 'O', 'O', 'O', 'O', 'O', 'O', 'O', 'O', 'O', 'B-Entity', 'B-Action', 'O', 'B-Entity', 'I-Entity', 'I-Entity', 'B-Modifier', 'O', 'B-Entity', 'I-Entity', 'O'], ['O', 'O', 'O', 'O', 'O', 'O', 'O', 'O'], ['O', 'O', 'O', 'O', 'O', 'O', 'O', 'O', 'O', 'O', 'O', 'O', 'O', 'O', 'O', 'O', 'O', 'O', 'O', 'O', 'O', 'O', 'O', 'O'], ['O', 'B-Entity', 'I-Entity', 'I-Entity', 'I-Entity', 'O', 'B-Action', 'B-Modifier', 'O', 'B-Entity', 'I-Entity', 'O'], ['O', 'O', 'B-Entity', 'I-Entity', 'I-Entity', 'O', 'O', 'O', 'O', 'O', 'O', 'O', 'O', 'O', 'O', 'O', 'O', 'O', 'O', 'O', 'O', 'O', 'O', 'O', 'O', 'O', 'O', 'O', 'O', 'O', 'O', 'O', 'O', 'O', 'O', 'O', 'O', 'O', 'O'], ['O', 'B-Entity', 'O', 'O', 'O', 'B-Action', 'O', 'B-Entity', 'I-Entity', 'I-Entity', 'I-Entity', 'I-Entity', 'I-Entity', 'I-Entity', 'I-Entity', 'I-Entity', 'I-Entity', 'I-Entity', 'I-Entity', 'I-Entity', 'I-Entity', 'I-Entity', 'I-Entity', 'I-Entity', 'I-Entity', 'O'], ['O', 'O', 'O', 'O', 'O', 'O', 'O', 'O', 'O', 'O'], ['O', 'O', 'O', 'O'], ['O', 'O', 'O', 'O', 'O', 'O', 'O', 'O', 'O', 'O', 'O', 'O', 'O', 'O', 'O', 'O', 'O'], ['O', 'O', 'O', 'O', 'O', 'O', 'O', 'O', 'O', 'O', 'O', 'O', 'O', 'O', 'O', 'O', 'O', 'O', 'O'], ['O', 'O', 'O', 'O', 'O', 'O', 'O', 'O', 'O', 'O', 'O', 'O', 'O', 'O', 'O', 'O', 'O', 'O', 'O', 'O', 'O', 'O', 'O', 'O', 'O', 'O', 'O', 'O', 'O', 'O', 'O', 'O', 'O', 'O', 'O', 'O'], ['O', 'O', 'O', 'O', 'O', 'O', 'O', 'O', 'O', 'O', 'O', 'O', 'O', 'O', 'O', 'O', 'O', 'O', 'O'], ['O', 'O', 'O', 'O', 'O', 'O', 'O', 'O', 'O', 'O', 'O', 'O', 'O', 'O', 'O', 'O', 'O'], ['O', 'O', 'O', 'O', 'O', 'O', 'O', 'O', 'O', 'O', 'O', 'O', 'O', 'O', 'O', 'O', 'O'], ['O', 'O', 'O', 'O', 'O', 'O', 'O', 'O', 'O', 'O', 'O', 'O', 'O', 'O', 'O'], ['O', 'O', 'O', 'O', 'O', 'O', 'O', 'O', 'O', 'O', 'O', 'O', 'O'], ['O', 'O', 'O', 'O', 'O', 'O', 'O', 'O', 'O', 'O', 'O', 'O', 'O', 'O'], ['O', 'O', 'O', 'O', 'O', 'O', 'O'], ['O', 'O'], ['O', 'O', 'O', 'O', 'O'], ['O', 'O'], ['O', 'O', 'O', 'O', 'O', 'O', 'O', 'O', 'O', 'O', 'O', 'O', 'O', 'O', 'O', 'O', 'O', 'O', 'O', 'O', 'O', 'O', 'O'], ['O', 'O', 'O', 'O', 'O', 'O', 'O', 'O', 'O', 'O', 'O', 'O', 'O', 'O', 'O', 'O', 'O', 'O', 'O', 'O'], ['O', 'O', 'O', 'O', 'O', 'O', 'O', 'O', 'O', 'O', 'O', 'O', 'O', 'O', 'O', 'O', 'O', 'O', 'O', 'O', 'O'], ['O', 'O'], ['O', 'O', 'O', 'O', 'O', 'O', 'O', 'O', 'O', 'O', 'O', 'O', 'O', 'O', 'O', 'O', 'O', 'O', 'O', 'O', 'O', 'O', 'O', 'O', 'O', 'O', 'O', 'O', 'O', 'O'], ['O', 'O', 'O', 'O', 'O', 'O', 'O', 'O', 'O', 'O', 'O', 'O', 'O'], ['O', 'O'], ['O', 'O', 'O', 'O', 'O', 'O', 'O', 'O', 'O'], ['O', 'O', 'O', 'O', 'O', 'O', 'O', 'O', 'O', 'O', 'O', 'O', 'O', 'O', 'O', 'O', 'O', 'O', 'O', 'O', 'O', 'O', 'O', 'O', 'O'], ['O', 'O', 'O', 'O', 'O', 'O', 'O', 'O', 'O', 'O', 'O', 'O', 'O', 'O', 'O', 'O', 'O', 'O', 'O', 'O', 'O', 'O', 'O', 'O', 'O', 'O', 'O', 'O', 'O', 'O', 'O', 'O', 'O', 'O'], ['O', 'O', 'O', 'O', 'O', 'O', 'O', 'O', 'O'], ['O', 'O', 'O', 'O', 'O', 'O', 'O', 'O', 'O', 'O', 'O', 'O', 'O'], ['O'], ['O', 'O', 'O', 'O', 'O', 'O', 'O', 'O', 'O', 'O', 'O', 'O', 'O', 'O', 'O', 'O', 'O', 'O', 'O', 'O', 'O', 'O', 'O', 'O', 'O', 'O', 'O', 'O', 'O', 'O', 'O', 'O', 'O', 'O', 'O'], ['O', 'O', 'O', 'O', 'O', 'O', 'O', 'O', 'O', 'O', 'O', 'O', 'O', 'O', 'O', 'O', 'O'], ['O', 'O', 'O', 'O', 'O', 'O', 'O', 'O', 'O', 'O'], ['O', 'O', 'O', 'O', 'O', 'O', 'O', 'O', 'O', 'O', 'O', 'O', 'O', 'O', 'O', 'O', 'O', 'O', 'O', 'O', 'O', 'O', 'O'], ['O', 'O', 'O', 'O', 'O', 'O', 'O', 'O', 'O', 'O', 'O', 'O', 'O', 'O', 'O', 'O', 'O', 'O', 'O', 'O'], ['O', 'O', 'O', 'O', 'O', 'O', 'O', 'O', 'O', 'O', 'O', 'O', 'O', 'O', 'O', 'O', 'O', 'O'], ['O', 'O', 'O', 'O', 'O', 'O', 'O', 'O', 'O', 'O', 'O', 'O', 'O', 'O', 'O', 'O', 'O', 'O', 'O', 'O', 'O', 'O', 'O', 'O', 'O', 'O', 'O', 'O'], ['O', 'O', 'O', 'O', 'O', 'O', 'O', 'O', 'O', 'O', 'O', 'O', 'O', 'O', 'O', 'O', 'O', 'O'], ['O', 'O', 'O', 'O', 'O', 'O', 'O', 'O', 'O', 'O', 'O', 'O', 'O', 'O', 'O', 'O', 'O', 'O', 'O', 'O', 'O', 'O', 'O', 'O'], ['O', 'O', 'O', 'O', 'O', 'O', 'O', 'O', 'O', 'O', 'O', 'O', 'O', 'O', 'O', 'O', 'O', 'O', 'O', 'O', 'O', 'O', 'O', 'O', 'O', 'O', 'O', 'O', 'O', 'O', 'O', 'O', 'O', 'O'], ['O', 'O', 'O', 'O', 'O', 'O', 'O', 'O', 'O', 'O', 'O', 'O', 'O', 'O'], ['O', 'O', 'O', 'O', 'O', 'O', 'O', 'O', 'O', 'O', 'O', 'O', 'O', 'O', 'O', 'O', 'O', 'O', 'O', 'O'], ['O', 'O', 'O', 'O', 'O', 'O', 'O', 'O', 'O', 'O', 'O', 'O', 'O', 'O', 'O', 'O', 'O', 'O', 'O'], ['O', 'O', 'O', 'O', 'O', 'O', 'O', 'O', 'O', 'O'], ['O', 'O', 'O', 'O', 'O', 'O', 'O', 'O', 'O', 'O', 'O', 'O', 'O'], ['O', 'O', 'O', 'O', 'O', 'O', 'O', 'O', 'O', 'O', 'O', 'O', 'O', 'O'], ['O', 'O', 'O', 'O', 'O', 'O', 'O', 'O', 'O'], ['O', 'O', 'O', 'O', 'O', 'O', 'O', 'O', 'O', 'O', 'O', 'O', 'O', 'O', 'O', 'O', 'O'], ['O', 'O', 'O', 'O', 'O', 'O', 'O', 'O', 'O', 'O', 'O', 'O', 'O', 'O', 'O', 'O', 'O'], ['O', 'O', 'O', 'O', 'O', 'O', 'O', 'O', 'O', 'O', 'O', 'O', 'O'], ['O', 'O', 'O', 'O', 'O', 'O', 'O', 'O', 'O', 'O', 'O', 'O', 'O', 'O', 'O', 'O', 'O', 'O', 'O', 'O', 'O', 'O', 'O', 'O', 'O', 'O'], ['O', 'O', 'O', 'O', 'O', 'O', 'O', 'O', 'O', 'O', 'O', 'O', 'O', 'O', 'O', 'O', 'O', 'O', 'O', 'O', 'O'], ['O', 'O', 'O', 'O', 'O', 'O', 'O', 'O', 'O', 'O', 'O', 'O', 'O', 'O', 'O', 'O'], ['O', 'O', 'O', 'O', 'O', 'B-Entity', 'I-Entity', 'I-Entity', 'I-Entity', 'I-Entity', 'I-Entity', 'I-Entity', 'O', 'O', 'B-Action', 'B-Modifier', 'O', 'B-Entity', 'I-Entity', 'O'], ['O', 'O', 'O', 'O', 'O', 'O', 'O', 'O', 'O', 'O', 'O', 'O', 'O', 'O', 'O', 'O', 'O', 'O', 'O', 'O'], ['O', 'O', 'O', 'O', 'O', 'O', 'O', 'O', 'O', 'O', 'O', 'O', 'O', 'O', 'O', 'O', 'O', 'O', 'O', 'O', 'O', 'O', 'O', 'O', 'O'], ['O', 'O', 'O', 'O', 'O', 'O', 'O', 'O', 'O', 'O', 'O', 'O', 'O', 'O', 'O', 'O', 'O', 'O', 'O', 'O', 'O', 'O', 'O', 'O', 'O'], ['O', 'O', 'O', 'O', 'O', 'O', 'O', 'O', 'O', 'O', 'O', 'O', 'O', 'O', 'O', 'O', 'O', 'O', 'O', 'O', 'O', 'O'], ['O', 'O', 'O', 'O', 'O', 'O'], ['O', 'O', 'O', 'O', 'O', 'O', 'O', 'O', 'O', 'O', 'O', 'O', 'O', 'O'], ['O', 'O', 'O', 'O', 'O', 'O', 'O', 'O', 'O', 'O', 'O', 'O', 'O'], ['O', 'O', 'O', 'O', 'O', 'O', 'O', 'O', 'O', 'O', 'O', 'O'], ['O', 'O', 'O', 'O', 'O', 'O', 'O', 'O', 'O', 'O', 'O', 'O', 'O', 'O', 'O', 'O', 'O'], ['O', 'O', 'O', 'O', 'O', 'O', 'O', 'O', 'O', 'O', 'O'], ['O', 'O', 'O', 'O', 'O', 'O', 'O', 'O', 'O', 'O', 'O', 'O', 'O', 'O', 'O', 'O', 'O', 'O', 'O', 'O', 'O', 'O'], ['O', 'O', 'O', 'O', 'O', 'O', 'O', 'O', 'O', 'O'], ['O', 'O', 'O', 'O', 'O', 'O', 'O', 'O', 'O', 'O', 'O', 'O', 'O', 'O', 'O', 'O', 'O'], ['O', 'O', 'O', 'O', 'O', 'O', 'O', 'O', 'O', 'O', 'O', 'O', 'O', 'O', 'O', 'O', 'O', 'O', 'O', 'O', 'O', 'O', 'O', 'O', 'O', 'O', 'O', 'O', 'O', 'O', 'O', 'O'], ['O', 'O', 'O', 'O', 'O'], ['O', 'O', 'O', 'O', 'O', 'O', 'O', 'O', 'O', 'O', 'O', 'O', 'O', 'O', 'O', 'O', 'O', 'O', 'O', 'O', 'O', 'O', 'O', 'O'], ['O', 'O', 'O', 'O', 'O', 'O', 'O', 'O', 'O', 'O', 'O', 'O', 'O', 'O', 'O', 'O', 'O', 'O'], ['O', 'O', 'O', 'O', 'O', 'O', 'O', 'O', 'O', 'O', 'O', 'O', 'O', 'O', 'O', 'O', 'O', 'O', 'O', 'O', 'O'], ['O', 'O', 'O', 'O', 'O', 'O', 'O', 'O', 'O', 'O', 'O', 'O', 'O'], ['O', 'O', 'O', 'O', 'O', 'O', 'O', 'O', 'O', 'O', 'O', 'O', 'O', 'O', 'O', 'O'], ['O', 'O', 'O', 'O', 'O', 'O', 'O', 'O', 'O', 'O', 'O', 'O', 'O', 'O', 'O', 'O', 'O', 'O', 'O', 'O', 'O', 'O', 'O', 'O', 'O', 'O', 'O', 'O', 'O', 'O', 'O', 'O', 'O', 'O', 'O', 'O'], ['O', 'O', 'O', 'O', 'O', 'O', 'O', 'O', 'O', 'O'], ['O', 'O', 'O', 'O', 'O', 'O', 'O', 'O', 'O', 'O', 'O', 'O', 'O', 'O', 'O', 'O', 'O', 'O', 'O', 'O'], ['O', 'O', 'O', 'O', 'O', 'O', 'O', 'O', 'O', 'O', 'O', 'O'], ['O', 'O', 'O', 'O'], ['O', 'O', 'O', 'O', 'O', 'O', 'O', 'O', 'O', 'O', 'O', 'O', 'O', 'O'], ['O', 'O', 'O', 'O', 'O', 'O', 'O', 'O', 'O', 'O', 'O'], ['O', 'O', 'O', 'O', 'O', 'O', 'O', 'O', 'O', 'O', 'O', 'O', 'O', 'O', 'O', 'O', 'O', 'O', 'O', 'O', 'O', 'O', 'O', 'O', 'O', 'O', 'O', 'O', 'O'], ['O', 'O'], ['O', 'O', 'O', 'O', 'O', 'O', 'O', 'O'], ['O', 'O', 'O', 'O', 'O', 'O', 'O', 'O'], ['O', 'O', 'O', 'O', 'O', 'O', 'O', 'O', 'O', 'O', 'O'], ['O', 'O', 'O', 'O', 'O', 'O', 'O', 'O', 'O', 'O', 'O', 'O', 'O', 'O'], ['O', 'O', 'O', 'O', 'O', 'O', 'O', 'O', 'O'], ['O', 'O', 'O', 'O', 'O', 'O', 'O', 'O', 'O', 'O', 'O', 'O', 'O', 'O', 'O', 'O', 'O', 'O', 'O', 'O', 'O', 'O', 'O', 'O', 'O', 'O', 'O', 'O', 'O', 'O', 'O', 'O', 'O', 'O', 'O', 'O', 'O', 'O', 'O', 'O', 'O'], ['O', 'O', 'O', 'O', 'O', 'O', 'O', 'O', 'O', 'O', 'O', 'O', 'O', 'O', 'O', 'O', 'O', 'O', 'O', 'O', 'O', 'O', 'O', 'O', 'O', 'O', 'O', 'O', 'O', 'O', 'O', 'O', 'O', 'O'], ['O', 'O', 'O', 'O', 'O', 'O', 'O', 'O', 'O', 'O', 'O', 'O', 'O', 'O', 'O'], ['O', 'O', 'O', 'O', 'O', 'O', 'O', 'O', 'O', 'O', 'O', 'O', 'O', 'O', 'O', 'O', 'O', 'O'], ['O', 'O', 'O', 'O', 'O', 'O', 'O', 'O', 'O', 'O', 'O', 'O', 'O', 'O', 'O', 'O', 'O', 'O', 'O', 'O', 'O', 'O', 'O', 'O', 'O', 'O', 'O', 'O', 'O', 'O', 'O', 'O', 'O', 'O', 'O', 'O', 'O', 'O', 'O'], ['O', 'O', 'O', 'O', 'O', 'O', 'O', 'O', 'O', 'O', 'O', 'O', 'O', 'O', 'O', 'O', 'O', 'O', 'O', 'O', 'O', 'O', 'O', 'O', 'O', 'O', 'O', 'O', 'O'], ['O', 'O', 'O', 'O', 'O', 'O', 'O', 'O', 'O', 'O', 'O', 'O', 'O', 'O', 'O', 'O', 'O', 'O', 'O', 'O', 'O', 'O', 'O', 'O', 'O', 'O', 'O', 'O', 'O'], ['O', 'O', 'O', 'O', 'O', 'O', 'O', 'O', 'O', 'O', 'O', 'O', 'O', 'O', 'O', 'O', 'O', 'O', 'O', 'O', 'O', 'O', 'O', 'O', 'O', 'O', 'O', 'O', 'O', 'O', 'O', 'O', 'O', 'O', 'O', 'O'], ['O', 'O', 'O', 'O', 'O', 'O', 'O', 'O', 'O', 'O', 'O', 'O', 'O', 'O', 'O', 'O', 'O', 'O', 'O', 'O', 'O', 'O', 'O', 'O', 'O', 'O'], ['O', 'O', 'O', 'O', 'O', 'O', 'O', 'O', 'O', 'O', 'O'], ['O', 'O', 'O', 'O', 'O', 'O', 'O', 'O', 'O', 'O', 'O', 'O', 'O', 'O', 'O', 'O', 'O', 'O', 'O'], ['O', 'O', 'O', 'O', 'O', 'O', 'O', 'O', 'O', 'O', 'O', 'O', 'O', 'O', 'O', 'O', 'O', 'O', 'O'], ['O', 'O', 'O', 'O', 'O', 'O', 'O', 'O', 'O', 'O', 'O', 'O', 'O', 'O', 'O', 'O', 'O', 'O', 'O'], ['O', 'O', 'O', 'O', 'O', 'O', 'O', 'O', 'O', 'O', 'O', 'O', 'O', 'O', 'O', 'O', 'O', 'O', 'O', 'O', 'O', 'O', 'O', 'O', 'O', 'O'], ['O', 'O', 'O', 'O', 'O', 'O', 'O', 'O', 'O', 'O', 'O', 'O', 'O', 'O', 'O', 'O', 'O', 'O', 'O', 'O'], ['O', 'O', 'O', 'O', 'O', 'O', 'O', 'O', 'O', 'O', 'O', 'O', 'O', 'O', 'O', 'O', 'O', 'O', 'O', 'O', 'O', 'O', 'O'], ['O', 'O', 'O', 'O', 'O', 'O', 'O', 'O', 'O', 'O'], ['O', 'O', 'O', 'O', 'O', 'O', 'O', 'O', 'O', 'O', 'O', 'O', 'O', 'O', 'O', 'O', 'O', 'O', 'O'], ['O', 'B-Entity', 'O', 'O', 'O', 'O', 'B-Action', 'B-Entity', 'O', 'B-Entity', 'I-Entity', 'O', 'O'], ['O', 'O', 'O', 'O', 'O', 'O', 'O', 'O', 'O', 'O', 'O', 'O', 'O', 'O', 'O', 'O', 'O', 'O', 'O', 'O', 'O'], ['O', 'O', 'O', 'O', 'O', 'O', 'O', 'O', 'O', 'O', 'O', 'O', 'O', 'O', 'O', 'O', 'O', 'O', 'O', 'O', 'O', 'O', 'O', 'O', 'O'], ['O', 'O', 'O', 'O', 'O', 'O', 'O', 'O', 'O', 'O', 'O', 'O', 'O'], ['O', 'O', 'O', 'O', 'O', 'O', 'O', 'O', 'O', 'O', 'O', 'O', 'O', 'O', 'O', 'O', 'O', 'O', 'O', 'O', 'O', 'O', 'O', 'O', 'O'], ['O', 'O', 'O', 'O', 'O', 'O', 'O', 'O', 'O', 'O', 'O', 'O', 'O', 'O', 'O', 'O', 'O', 'O', 'O', 'O', 'O', 'O', 'O', 'O', 'O', 'O', 'O', 'O', 'O', 'O', 'O', 'O', 'O', 'O', 'O'], ['O', 'O', 'O', 'O', 'O', 'O', 'O', 'O', 'O', 'O', 'O', 'O', 'O', 'O', 'O', 'O', 'O', 'O', 'O', 'O', 'O', 'O', 'O', 'O', 'O', 'O', 'O', 'O', 'O', 'O', 'O', 'O', 'O', 'O', 'O', 'O', 'O'], ['O', 'O', 'O', 'O', 'O', 'O', 'O'], ['O', 'O', 'O', 'O', 'O', 'O', 'O', 'O', 'O', 'O', 'O', 'O', 'O', 'O', 'O', 'O', 'O', 'O', 'O', 'O', 'O', 'O', 'O'], ['O', 'O', 'O', 'O', 'O', 'O', 'O', 'O', 'O', 'O', 'O', 'O', 'O', 'O', 'O'], ['O', 'O', 'O', 'O', 'O', 'O', 'O', 'O'], ['O', 'B-Entity', 'O', 'O', 'O', 'O', 'O', 'B-Action', 'I-Action', 'O', 'B-Entity', 'B-Modifier', 'O', 'B-Entity', 'I-Entity', 'I-Entity', 'I-Entity', 'I-Entity', 'I-Entity', 'I-Entity', 'O'], ['O', 'O', 'O', 'O', 'O', 'O', 'O', 'O', 'O', 'O', 'O', 'O', 'O', 'O', 'O', 'O', 'O', 'O', 'O', 'O', 'O', 'O', 'O', 'O', 'O', 'O', 'O', 'O', 'O', 'O'], ['O', 'O', 'O', 'O', 'O', 'O', 'O', 'O', 'O', 'O', 'O', 'O', 'O', 'O', 'O'], ['O', 'O', 'O', 'O', 'O', 'O', 'O', 'O', 'O', 'O'], ['O', 'O', 'O', 'O', 'O', 'O', 'O', 'O', 'O', 'O', 'O', 'O', 'O', 'O', 'O', 'O', 'O', 'O', 'O', 'O', 'O', 'O', 'O', 'O', 'O', 'O', 'O', 'O', 'O', 'O', 'O', 'O', 'O', 'O', 'O', 'O', 'O', 'O'], ['O', 'B-Entity', 'I-Entity', 'O', 'O', 'O', 'O', 'O', 'O', 'O', 'O', 'O', 'O', 'O', 'O', 'O', 'O', 'O', 'B-Action', 'O', 'B-Entity', 'I-Entity', 'I-Entity', 'O', 'O', 'O', 'O', 'O', 'O', 'B-Modifier', 'O', 'B-Entity', 'I-Entity', 'I-Entity', 'I-Entity', 'O'], ['O', 'O', 'O', 'O', 'O', 'O', 'O', 'O', 'O', 'O', 'O', 'O'], ['B-Entity', 'B-Action', 'O', 'O', 'O', 'O', 'O', 'O', 'O', 'B-Entity', 'I-Entity', 'O', 'B-Entity', 'I-Entity', 'O', 'B-Entity', 'I-Entity', 'O', 'O', 'O'], ['O', 'O', 'B-Entity', 'I-Entity', 'I-Entity', 'I-Entity', 'I-Entity', 'I-Entity', 'I-Entity', 'O', 'O', 'B-Action', 'B-Modifier', 'O', 'B-Entity', 'I-Entity', 'O'], ['O', 'O', 'O', 'O', 'O', 'O', 'O', 'O', 'O', 'O', 'O', 'O'], ['O', 'O', 'O', 'O', 'O', 'O', 'O', 'O', 'O', 'O', 'O', 'O', 'O', 'O', 'O', 'O', 'O', 'O', 'O', 'O', 'O', 'O', 'O', 'O', 'O', 'O', 'O'], ['O', 'O', 'O', 'O', 'O', 'O', 'O', 'O', 'O', 'O', 'O', 'O', 'O', 'O', 'O', 'O', 'O', 'O', 'O', 'O', 'O', 'O', 'O', 'O', 'O', 'O', 'O', 'O', 'O', 'O', 'O'], ['O', 'O', 'O', 'O', 'O', 'O', 'O', 'O', 'O', 'O', 'O', 'O', 'O', 'O', 'O'], ['O', 'O', 'O', 'O', 'O', 'O', 'O', 'O', 'O', 'O', 'O', 'O', 'O', 'O', 'O', 'O'], ['O', 'O', 'O', 'O', 'O', 'O', 'O', 'O', 'O', 'O', 'O', 'O', 'O', 'O', 'O', 'O', 'O', 'O', 'O'], ['O', 'O', 'O', 'O', 'O', 'O', 'O', 'O', 'O', 'O', 'O', 'O'], ['O', 'O', 'O', 'O', 'O', 'O', 'O', 'O', 'O', 'O'], ['O', 'O', 'O', 'O', 'O', 'O', 'O', 'O', 'O', 'O', 'O', 'O', 'O', 'O', 'O', 'O', 'O', 'O', 'O', 'O', 'O', 'O', 'O', 'O', 'O'], ['O', 'O', 'O', 'O', 'O', 'O', 'O', 'O', 'O', 'O', 'O', 'O', 'O', 'O', 'O', 'O', 'O', 'O', 'O', 'O', 'O', 'O', 'O', 'O', 'O', 'O', 'O', 'O', 'O', 'O', 'O', 'O', 'O', 'O'], ['O', 'O', 'O', 'O', 'O', 'O', 'O', 'O', 'O', 'O', 'O', 'O', 'O', 'O', 'O', 'O', 'O', 'O', 'O', 'O', 'O', 'O', 'O', 'O', 'O', 'O', 'O', 'O', 'O', 'O', 'O', 'O', 'O'], ['O', 'O', 'O', 'O', 'O', 'O', 'O', 'O', 'O', 'O', 'O', 'O', 'O', 'O', 'O', 'O', 'O', 'O', 'O', 'O', 'O', 'O', 'O', 'O', 'O', 'O', 'O', 'O', 'O', 'O', 'O', 'O', 'O', 'O', 'O', 'O'], ['O', 'O', 'O', 'O', 'O', 'O', 'O', 'O', 'O', 'O', 'O', 'O', 'O', 'O', 'O', 'O', 'O', 'O', 'O', 'O', 'O', 'O', 'O', 'O', 'O', 'O', 'O', 'O', 'O', 'O', 'O'], ['O', 'O', 'O', 'O', 'O', 'O', 'O', 'O', 'O', 'O', 'O', 'O', 'O', 'O'], ['O', 'O', 'O', 'O', 'O', 'O', 'O', 'O', 'O'], ['O', 'O', 'O', 'O', 'O', 'O', 'O', 'O', 'O', 'O', 'O', 'O', 'O', 'O', 'B-Entity', 'I-Entity', 'O', 'O', 'B-Action', 'I-Action', 'O', 'B-Entity', 'I-Entity', 'I-Entity', 'O'], ['O', 'O', 'O', 'O', 'O', 'O', 'O', 'O', 'O', 'O', 'O', 'O', 'O'], ['O', 'O', 'O', 'O', 'O', 'O', 'O', 'O', 'O', 'O', 'O', 'O', 'O', 'O'], ['O', 'O', 'O', 'O', 'O', 'O', 'O', 'O', 'O', 'O', 'O', 'O', 'O', 'O', 'O', 'O', 'O', 'O', 'O', 'O', 'O', 'O'], ['O', 'O', 'O', 'O', 'O', 'O', 'O', 'O', 'O', 'O', 'O', 'O', 'O', 'O', 'O', 'O', 'O', 'O', 'O'], ['O', 'O', 'O', 'O', 'O', 'O', 'O', 'O', 'O', 'O', 'O', 'O', 'O', 'O'], ['O', 'O', 'O', 'O', 'O', 'O', 'O', 'O', 'O', 'O', 'O', 'O', 'O', 'O'], ['O', 'O', 'O', 'O', 'O', 'O', 'O', 'O', 'O', 'O', 'O'], ['O', 'O', 'O', 'O', 'O', 'O', 'O', 'O', 'O', 'O', 'O', 'O', 'O', 'O', 'O', 'O', 'O', 'O', 'O'], ['O', 'O', 'O', 'O', 'O', 'O', 'O', 'O', 'O', 'O', 'O', 'O', 'O', 'O', 'O', 'O', 'O', 'O'], ['O', 'O', 'O', 'O', 'O', 'O', 'O', 'O', 'O', 'O', 'O', 'O', 'O', 'O', 'O', 'O', 'O', 'O', 'O', 'O', 'O', 'O', 'O', 'O', 'O', 'O', 'O', 'O', 'O', 'O', 'O', 'O', 'O', 'O', 'O', 'O', 'O', 'O'], ['O', 'O', 'O', 'O', 'O', 'O', 'O', 'O', 'O', 'O', 'O', 'O', 'O', 'O', 'O', 'O'], ['O', 'O', 'O', 'O', 'O', 'O', 'O', 'O', 'O', 'O', 'O', 'O', 'O', 'O', 'O', 'O', 'O', 'O', 'O', 'O', 'O', 'O', 'O', 'O', 'O'], ['O', 'O', 'O', 'O', 'O', 'O', 'O', 'O', 'O', 'O', 'O', 'O', 'O'], ['O', 'O', 'O', 'O', 'O', 'O', 'O', 'O', 'O', 'O', 'O', 'O', 'O', 'O', 'O', 'O', 'O', 'O', 'O', 'O', 'O', 'O', 'O', 'O', 'O', 'O', 'O', 'O', 'O', 'O', 'O', 'O', 'O', 'O', 'O', 'O', 'O', 'O', 'O'], ['O', 'O', 'O', 'O', 'O', 'O', 'O', 'O', 'O', 'O', 'O', 'O'], ['O', 'O', 'O', 'O', 'O', 'O', 'O', 'O', 'B-Entity', 'I-Entity', 'I-Entity', 'O', 'B-Action', 'O', 'O', 'O', 'O', 'O', 'O', 'O', 'O', 'O', 'O', 'O', 'O', 'O', 'O', 'O', 'O', 'O'], ['O', 'O', 'O', 'O', 'O', 'O', 'O', 'O', 'O', 'O', 'O', 'O', 'O', 'O', 'O', 'O'], ['O', 'O', 'O', 'O', 'O', 'O', 'O', 'O', 'O', 'O', 'O', 'O'], ['O', 'O', 'O', 'O', 'O', 'O', 'O', 'O', 'O', 'O', 'O', 'O', 'O', 'O', 'O', 'O', 'O', 'O'], ['O', 'O', 'O', 'O', 'O', 'O', 'O'], ['O', 'O', 'O', 'O', 'O', 'O', 'O', 'O', 'O', 'O', 'O', 'O', 'O', 'O'], ['O', 'O', 'O', 'O', 'O', 'O', 'O', 'O'], ['O', 'O', 'O', 'O', 'O', 'O', 'O', 'O', 'O', 'O', 'O', 'O', 'O', 'O', 'O', 'O', 'O', 'O', 'O', 'O', 'O'], ['O', 'O', 'O', 'O', 'O', 'O', 'O', 'O', 'O', 'O', 'O', 'O', 'O', 'O', 'O', 'O'], ['O', 'O', 'O', 'O', 'O', 'O'], ['O', 'O', 'O', 'O', 'O', 'O', 'O', 'O', 'O', 'O', 'O', 'O', 'O', 'O', 'O', 'O', 'O', 'O', 'O', 'O', 'O', 'O', 'O', 'O', 'O', 'O', 'O'], ['O', 'O', 'O', 'O', 'O', 'O', 'O', 'O', 'O', 'O', 'O', 'O', 'O', 'O', 'O', 'O', 'O', 'O', 'O', 'O', 'O'], ['O', 'O', 'O', 'O', 'O', 'O', 'O', 'O', 'O', 'O', 'O', 'O', 'O', 'O', 'O', 'O', 'O', 'O', 'O'], ['O', 'O', 'O', 'O', 'O', 'O', 'O', 'O', 'O', 'O', 'O', 'O', 'O', 'O', 'O', 'O'], ['O', 'O', 'O', 'O', 'O', 'O', 'O', 'O', 'O', 'O', 'O', 'O'], ['O', 'O', 'O', 'O', 'O', 'O', 'O', 'O', 'O', 'O', 'O', 'O', 'O', 'O', 'O', 'O', 'O', 'O', 'O'], ['O', 'O', 'O', 'O', 'O', 'O', 'O', 'O', 'O', 'O', 'O', 'O', 'O', 'O', 'O', 'O', 'O', 'O', 'O', 'O', 'O', 'O', 'O', 'O', 'O', 'O', 'O', 'O', 'O'], ['O', 'O', 'O', 'O', 'O', 'O', 'O', 'O', 'O', 'O', 'O', 'O', 'O', 'O', 'O', 'O', 'O', 'O', 'O', 'O', 'O', 'O', 'O', 'O', 'O', 'O', 'O', 'O', 'O', 'O', 'O', 'O'], ['O', 'O', 'O', 'O', 'O', 'O', 'O', 'O', 'O', 'O', 'O', 'O', 'O', 'O', 'O', 'O', 'O', 'O', 'O'], ['O', 'O', 'O', 'O', 'O', 'O', 'O', 'O', 'O', 'O', 'O', 'O', 'O', 'O', 'O', 'O', 'O', 'O', 'O', 'O', 'O', 'O', 'O'], ['O', 'O', 'O', 'O', 'O', 'O', 'O', 'O', 'O', 'O', 'O', 'O', 'O', 'O', 'O', 'O', 'O', 'O', 'O', 'O', 'O'], ['B-Entity', 'O', 'B-Action', 'B-Modifier', 'O', 'B-Entity', 'I-Entity', 'I-Entity', 'I-Entity', 'I-Entity', 'I-Entity', 'I-Entity', 'I-Entity', 'I-Entity', 'I-Entity', 'I-Entity', 'I-Entity', 'I-Entity', 'O'], ['O', 'O', 'O', 'O', 'O', 'O', 'O', 'O', 'O'], ['O', 'O', 'O', 'O', 'O', 'O', 'O', 'O', 'O', 'O', 'O', 'O', 'O', 'O', 'O', 'O'], ['O', 'O', 'O', 'O', 'O', 'O', 'O', 'O', 'O', 'O', 'O', 'O'], ['O', 'O', 'O', 'O', 'O', 'O', 'O', 'O', 'O', 'O', 'O', 'O', 'O', 'O', 'O', 'O', 'O', 'O', 'O', 'O', 'O', 'O', 'O', 'O', 'O', 'O', 'O', 'O', 'O', 'O', 'O'], ['O', 'O', 'O', 'O', 'O', 'O', 'O', 'O', 'O', 'O', 'O', 'O', 'O', 'O', 'O', 'O', 'O', 'O', 'O', 'O', 'O', 'O', 'O', 'O', 'O', 'O', 'O', 'O', 'O', 'O', 'O', 'O'], ['O', 'O', 'O', 'O', 'O', 'O', 'O', 'O', 'O', 'O', 'O', 'O', 'O', 'O', 'O', 'O', 'O', 'O', 'O', 'O', 'O', 'O', 'O'], ['O', 'O', 'O', 'O', 'O', 'O', 'O', 'O', 'O', 'O', 'O', 'O', 'O', 'O', 'O', 'O', 'O', 'O', 'O', 'O', 'O', 'O', 'O', 'O', 'O'], ['O', 'O', 'O', 'O', 'O', 'O', 'O', 'O', 'O', 'O', 'O', 'O', 'O', 'O', 'O', 'O'], ['O', 'O', 'O', 'O', 'O', 'O', 'O', 'O', 'O', 'O', 'O', 'O', 'O', 'O', 'O', 'O', 'O', 'O', 'O', 'O', 'O', 'O', 'O', 'O', 'O', 'O', 'O', 'O', 'O', 'O', 'O', 'O', 'O', 'O'], ['O', 'O', 'O', 'O', 'O', 'O', 'O', 'O', 'O', 'O', 'O', 'O', 'O', 'O', 'O', 'O', 'O', 'O', 'O', 'O'], ['O', 'O', 'O', 'O', 'O', 'O', 'O'], ['O', 'O', 'O', 'O', 'O', 'O', 'O', 'O', 'O', 'O', 'O', 'O', 'O', 'O', 'O', 'O', 'O', 'O'], ['O', 'B-Entity', 'I-Entity', 'I-Entity', 'I-Entity', 'B-Action', 'O', 'B-Entity', 'I-Entity', 'O', 'B-Modifier', 'O', 'B-Entity', 'I-Entity', 'O', 'B-Modifier', 'O', 'B-Entity', 'I-Entity', 'O'], ['O', 'O', 'O', 'O', 'O'], ['O', 'O', 'O', 'O', 'O', 'O', 'O', 'O', 'O', 'O'], ['O', 'O', 'O', 'O', 'O', 'O', 'O', 'O', 'O', 'O', 'O', 'O'], ['O', 'O', 'O', 'O', 'O', 'O', 'O', 'O', 'O', 'O', 'O', 'O', 'O', 'O', 'O', 'O', 'O', 'O', 'O', 'O', 'O'], ['O', 'O', 'O', 'O', 'O', 'O', 'O', 'O', 'O', 'O', 'O'], ['O', 'O', 'O', 'O', 'O', 'O', 'O', 'O', 'O', 'O', 'O', 'O', 'O'], ['O', 'O', 'O', 'O', 'O', 'O', 'O', 'O', 'O', 'O', 'O', 'O', 'O'], ['O', 'O', 'O', 'O', 'O', 'O', 'O', 'O', 'O', 'O'], ['O', 'O', 'O', 'O', 'O', 'O', 'O', 'O', 'O', 'O', 'O', 'O', 'O', 'O', 'O', 'O'], ['O', 'O', 'O', 'O', 'O', 'O', 'O', 'O', 'O', 'O'], ['O', 'O', 'O', 'O', 'O', 'O', 'O', 'O', 'O', 'O', 'O', 'O', 'O'], ['O', 'O', 'O', 'O', 'O', 'O', 'O', 'O', 'O', 'O', 'O', 'O', 'O', 'O', 'O', 'O', 'O', 'O'], ['O', 'O', 'O', 'O', 'O', 'O', 'O', 'O', 'O', 'O', 'O', 'O'], ['O', 'B-Entity', 'I-Entity', 'O', 'B-Action', 'B-Modifier', 'O', 'B-Entity', 'I-Entity', 'I-Entity', 'I-Entity', 'O'], ['O', 'O', 'O', 'O', 'O', 'O', 'O', 'O', 'O', 'O', 'O', 'O', 'O', 'O', 'O', 'O'], ['O', 'O', 'O', 'O', 'O', 'O', 'O', 'O', 'O', 'O'], ['O', 'O', 'O', 'O', 'O', 'O', 'O', 'O', 'O', 'O', 'O', 'O', 'O'], ['O', 'O', 'O', 'O', 'O', 'O', 'O', 'O', 'O', 'O', 'O', 'O', 'O', 'O', 'O', 'O', 'O', 'O', 'O', 'O', 'O', 'O', 'O', 'O', 'O', 'O', 'O', 'O', 'O', 'O', 'O', 'O', 'O'], ['O', 'O', 'O', 'O', 'O', 'O', 'O', 'O'], ['O', 'O', 'O', 'O', 'O', 'O', 'O', 'O', 'O', 'O', 'O', 'O', 'O', 'O', 'O', 'O', 'O', 'O', 'O', 'O', 'O', 'O', 'O', 'O', 'O'], ['O', 'O', 'O', 'O', 'O', 'O', 'O', 'O', 'O', 'O', 'O', 'O', 'O', 'O', 'O', 'O', 'O', 'O'], ['O', 'O', 'O', 'O', 'O', 'O', 'O', 'O', 'O', 'O', 'O', 'O'], ['O', 'O', 'O', 'O', 'O', 'O', 'O', 'O', 'O', 'O', 'O', 'O', 'O', 'O', 'O', 'O', 'O', 'O', 'O', 'O', 'O', 'O'], ['O', 'O', 'O', 'O', 'O', 'O', 'O'], ['O', 'O', 'B-Entity', 'I-Entity', 'O', 'B-Action', 'B-Modifier', 'O', 'B-Entity', 'I-Entity', 'I-Entity', 'I-Entity', 'I-Entity', 'I-Entity', 'I-Entity', 'I-Entity', 'I-Entity', 'I-Entity', 'I-Entity', 'I-Entity', 'I-Entity', 'I-Entity', 'I-Entity'], ['O', 'O', 'O', 'O', 'O', 'O', 'O', 'O', 'O', 'O', 'O', 'B-Entity', 'I-Entity', 'O', 'B-Action', 'B-Modifier', 'B-Entity', 'O'], ['O', 'O', 'O', 'O', 'O', 'O', 'O', 'O', 'O', 'O', 'O', 'O', 'O', 'O'], ['O', 'O', 'O', 'O', 'O', 'O', 'O', 'O', 'O', 'O', 'O', 'O', 'O', 'O', 'O', 'O', 'O', 'O'], ['O', 'O', 'O', 'O', 'O', 'O', 'O', 'O', 'O', 'O', 'O', 'O', 'O', 'O', 'O', 'O', 'O', 'O', 'O'], ['O', 'O', 'O', 'O', 'O', 'O', 'O', 'O', 'O', 'O', 'O', 'O'], ['O', 'O', 'O', 'O', 'O', 'O', 'O', 'O', 'O', 'O', 'O', 'O', 'O'], ['O', 'O', 'O', 'O', 'O', 'O'], ['O', 'O', 'O', 'O', 'O', 'O', 'O', 'O', 'O', 'O', 'O', 'O', 'O', 'O', 'O'], ['O', 'O', 'O', 'O', 'O', 'O', 'O', 'O'], ['O', 'O', 'O', 'O', 'O', 'O', 'O', 'O', 'O', 'O', 'O'], ['O', 'O', 'O', 'O', 'O', 'O', 'O', 'O', 'O'], ['O', 'O', 'O', 'O', 'O', 'O', 'O', 'O', 'O', 'O', 'O', 'O', 'O', 'O', 'O', 'O', 'O', 'O', 'O', 'O', 'O', 'O', 'O', 'O', 'O'], ['O', 'O', 'O', 'O', 'O', 'O', 'O', 'O', 'O', 'O', 'O'], ['O', 'O', 'O', 'O', 'O', 'O', 'O'], ['O', 'O', 'O', 'O', 'O', 'O', 'O', 'O', 'O', 'O', 'O', 'O', 'O', 'O', 'O', 'O', 'O', 'O', 'O', 'O', 'O', 'O', 'O', 'O'], ['O', 'O', 'O', 'O', 'O', 'O', 'O', 'O', 'O', 'O', 'O', 'O'], ['O', 'O', 'O', 'O', 'O', 'O', 'O', 'O', 'O', 'O', 'O', 'O', 'O', 'O', 'O', 'O', 'O', 'O', 'O', 'O', 'O', 'O', 'O', 'O', 'O', 'O', 'O', 'O', 'O'], ['O', 'O', 'O', 'O', 'O', 'O', 'O'], ['O', 'O', 'O', 'O', 'O', 'O', 'O', 'O', 'O', 'O', 'O', 'O', 'O', 'O', 'O', 'O', 'O', 'O', 'O', 'O', 'O', 'O'], ['O', 'O', 'O', 'O', 'O', 'O', 'O', 'O', 'O', 'O', 'O', 'O', 'O', 'O', 'O', 'O', 'O', 'O', 'O', 'O', 'O', 'O', 'O', 'O', 'O'], ['O', 'O', 'O', 'O', 'O', 'O', 'O', 'O', 'O', 'O', 'O', 'O', 'O', 'O', 'O', 'O', 'O', 'O', 'O', 'O', 'O', 'O', 'O'], ['O', 'O', 'O', 'O', 'O', 'O', 'O', 'O', 'O', 'O', 'O'], ['O', 'O', 'O', 'O', 'O', 'O', 'O', 'O', 'O', 'O', 'O', 'O', 'O', 'O', 'O', 'O', 'O', 'O'], ['O', 'O', 'O', 'O', 'O', 'O', 'O', 'O', 'O', 'O', 'O', 'O', 'O', 'O', 'O', 'O', 'O', 'O'], ['O', 'O', 'O', 'O', 'O', 'O', 'O', 'O', 'O', 'O', 'O', 'O', 'O', 'O', 'O', 'O', 'O', 'O', 'O', 'O'], ['O', 'O', 'O', 'O', 'O', 'O', 'O', 'O', 'O', 'O', 'O', 'O', 'O', 'O', 'O', 'O', 'O', 'O', 'O', 'O', 'O', 'O'], ['O', 'O', 'O', 'O', 'O', 'O', 'O', 'O', 'O', 'O', 'O', 'O', 'O', 'O', 'O', 'O', 'O', 'O', 'O', 'O', 'O', 'O', 'O', 'O', 'O'], ['O', 'O', 'O', 'O', 'O', 'O', 'O', 'O'], ['O', 'O', 'O', 'O', 'O', 'O', 'O', 'O', 'O', 'O', 'O'], ['O', 'O', 'O', 'O', 'O', 'O', 'O', 'O', 'O', 'O', 'O', 'O', 'O', 'O', 'O', 'O', 'O', 'O', 'O', 'O', 'O', 'O', 'O', 'O', 'O', 'O', 'O'], ['O', 'O', 'O', 'O', 'O', 'O', 'O', 'O', 'O', 'O', 'O', 'O', 'O', 'O', 'O', 'O', 'O', 'O', 'O', 'O', 'O', 'O', 'O', 'O', 'O', 'O', 'O', 'O', 'O', 'O', 'O', 'O', 'O'], ['O', 'O', 'O', 'O', 'O', 'O', 'O', 'O', 'O', 'O', 'O', 'O', 'O', 'O', 'O', 'O', 'O', 'O', 'O', 'O', 'O', 'O', 'O', 'O', 'O', 'O', 'O', 'O', 'O', 'O', 'O', 'O', 'O', 'O'], ['O', 'O', 'O', 'O', 'O', 'O', 'O', 'O', 'O', 'O', 'O', 'O', 'O', 'O', 'O', 'O', 'O', 'O', 'O', 'O', 'O', 'O', 'O', 'O', 'O', 'O', 'O', 'O', 'O', 'O', 'O', 'O', 'O', 'O', 'O', 'O', 'O', 'O', 'O'], ['O', 'O', 'O', 'O', 'O', 'O', 'O', 'O', 'O', 'O', 'O', 'O', 'O', 'O', 'O', 'O', 'O', 'O', 'O', 'O', 'O', 'O', 'O', 'O', 'O', 'O'], ['O', 'O', 'O', 'O', 'O', 'O', 'O', 'O', 'O', 'O', 'O', 'O', 'O', 'O', 'O', 'O', 'O', 'O', 'O', 'O', 'O', 'O', 'O', 'O', 'O', 'O', 'O', 'O', 'O', 'O', 'O', 'O', 'O', 'O', 'O'], ['O', 'O', 'O'], ['O', 'O', 'O'], ['O', 'O', 'O', 'O', 'O', 'O', 'O', 'O'], ['O', 'O', 'O', 'O', 'O', 'O', 'O', 'O', 'O', 'O', 'O', 'O', 'O', 'O'], ['O', 'O', 'O', 'O', 'O', 'O', 'O', 'O', 'O', 'O', 'O', 'O', 'O', 'O', 'O', 'O', 'O', 'O'], ['O', 'O', 'O', 'O', 'O', 'O', 'O', 'O', 'O', 'O', 'O', 'O', 'O', 'O', 'O', 'O', 'O', 'O', 'O', 'O', 'O', 'O', 'O', 'O', 'O', 'O', 'O', 'O', 'O', 'O', 'O'], ['O', 'O', 'O', 'O', 'O', 'O', 'O', 'O', 'O', 'O', 'O', 'O', 'O', 'O', 'O', 'O', 'O', 'O', 'O', 'O', 'O', 'O', 'O', 'O', 'O', 'O'], ['O', 'O', 'O', 'O', 'O', 'O', 'O', 'O', 'O', 'O', 'O', 'O', 'O', 'O', 'O', 'O', 'O', 'O', 'O', 'O', 'O'], ['O', 'O', 'O', 'O', 'O', 'O', 'O', 'O', 'O', 'O', 'O', 'O', 'O', 'O', 'O', 'O', 'O', 'O', 'O', 'O', 'O', 'O', 'O', 'O', 'O', 'O', 'O', 'O', 'O', 'O', 'O', 'O', 'O', 'O', 'O', 'O', 'O', 'O', 'O', 'O', 'O'], ['O', 'O', 'O', 'O', 'O', 'O', 'O', 'O', 'O', 'O', 'O', 'O', 'O', 'O', 'O', 'O', 'O', 'O', 'O', 'O', 'O', 'O'], ['O', 'O', 'O', 'O', 'O', 'O', 'O', 'O', 'O', 'O', 'O', 'O', 'O', 'O', 'O', 'O', 'O', 'O', 'O', 'O', 'O', 'O', 'O', 'O'], ['O', 'O', 'O', 'O', 'O', 'O', 'O', 'O', 'O', 'O', 'O', 'O', 'O', 'O', 'O', 'O', 'O', 'O', 'O', 'O', 'O', 'O', 'O', 'O', 'O'], ['O', 'O', 'O', 'O', 'O', 'O', 'O', 'O', 'O', 'O', 'O', 'O', 'O', 'O', 'O', 'O', 'O', 'O', 'O', 'O', 'O', 'O', 'O', 'O'], ['O', 'O', 'O', 'O', 'O', 'O', 'O', 'O', 'O', 'O', 'O', 'O', 'O', 'O', 'O', 'O', 'O', 'O'], ['O', 'O', 'O', 'O', 'O', 'O', 'O', 'O', 'O', 'O', 'O', 'O', 'O', 'O', 'O', 'O', 'O', 'O', 'O', 'O', 'O', 'O', 'O', 'O', 'O', 'O'], ['O', 'O', 'O', 'O', 'O', 'O', 'O', 'O', 'O', 'O', 'O', 'O', 'O', 'O', 'O', 'O'], ['B-Action', 'O', 'B-Entity', 'I-Entity', 'B-Modifier', 'O', 'B-Entity', 'I-Entity', 'O', 'O', 'O', 'O', 'O', 'O'], ['O', 'O', 'O', 'O', 'O', 'O', 'O', 'O', 'O', 'O', 'O', 'O', 'O', 'O', 'O', 'O', 'O', 'O', 'O', 'O', 'O', 'O'], ['O', 'O', 'O', 'O', 'O', 'O', 'O', 'O', 'O', 'O', 'O', 'O', 'O', 'O', 'O', 'O', 'O', 'O', 'O', 'O', 'O'], ['B-Entity', 'O', 'O', 'O', 'O', 'O', 'O', 'O', 'O', 'O', 'O', 'O', 'B-Action', 'O', 'B-Entity', 'I-Entity', 'I-Entity', 'I-Entity', 'I-Entity', 'O'], ['O', 'O', 'O', 'O', 'O', 'O', 'O', 'O', 'O', 'O', 'O', 'O', 'O', 'O', 'O', 'O', 'O', 'O', 'O', 'O', 'O', 'O', 'O', 'O'], ['O', 'O', 'O', 'O', 'O', 'O', 'O', 'O', 'O', 'O', 'O', 'O', 'O', 'O', 'O', 'O', 'O', 'O', 'O', 'O', 'O', 'O', 'O'], ['O', 'O', 'O', 'O', 'O', 'O', 'O', 'O', 'O', 'O', 'O', 'O', 'O', 'O', 'O', 'O', 'O', 'O', 'O', 'O', 'O', 'O', 'O', 'O', 'O', 'O', 'O', 'O', 'O', 'O', 'O', 'O', 'O', 'O', 'O'], ['O', 'O', 'O', 'O', 'O', 'O', 'O', 'O', 'O', 'O', 'O'], ['O', 'O', 'O', 'O', 'O', 'O', 'O', 'O', 'O', 'O', 'O', 'O', 'O'], ['O', 'O', 'O', 'O', 'O', 'O', 'O', 'O', 'O', 'O', 'O', 'O', 'O', 'O', 'O', 'O', 'O', 'O', 'O', 'O', 'O', 'O', 'O', 'O', 'O', 'O', 'O', 'O', 'O', 'O', 'O', 'O'], ['O', 'O', 'O', 'O', 'O', 'O', 'O', 'O', 'O', 'O', 'O', 'O', 'O', 'O', 'O', 'O', 'O'], ['O', 'O', 'O', 'O', 'O', 'O', 'O', 'O', 'O', 'O', 'O', 'O', 'O', 'O', 'O', 'O', 'O', 'O'], ['O', 'O', 'O', 'O', 'O', 'O', 'O', 'O', 'O', 'O', 'O', 'O', 'O', 'O', 'O', 'O', 'O', 'O', 'O', 'O', 'O', 'O', 'O', 'O', 'O', 'O', 'O', 'O', 'O'], ['O', 'O', 'O', 'O', 'O', 'O', 'O', 'O', 'O', 'O', 'O', 'O', 'O', 'O', 'O', 'O'], ['O', 'O', 'O', 'O', 'O', 'O', 'O', 'O', 'O', 'O', 'O', 'O', 'O', 'O', 'O'], ['O', 'O', 'O', 'O', 'O', 'O', 'O', 'O', 'O', 'O', 'O'], ['O', 'O', 'O', 'O', 'O', 'O', 'O', 'O', 'O', 'O', 'O', 'O', 'O'], ['O', 'O', 'O', 'O', 'O', 'O', 'O', 'O', 'O', 'O', 'O', 'O', 'O', 'O', 'O', 'O', 'O', 'O', 'O', 'O', 'O', 'O', 'O', 'O', 'O', 'O', 'O', 'O', 'O', 'O', 'O', 'O', 'O', 'O', 'O', 'O', 'O', 'O'], ['O', 'O', 'O', 'O', 'O', 'O', 'O', 'O', 'O', 'O', 'O', 'O', 'O', 'O', 'O', 'O', 'O', 'O', 'O', 'O'], ['O', 'O', 'O', 'O', 'O', 'O', 'O', 'O', 'O', 'O', 'O', 'O', 'O', 'O', 'O', 'O', 'O', 'O', 'O', 'O', 'O', 'O', 'O', 'O', 'O', 'O', 'O', 'O', 'O', 'O', 'O'], ['O', 'O', 'O', 'O', 'O', 'O', 'O'], ['O', 'O', 'O', 'O', 'O', 'O', 'O', 'O', 'O', 'O', 'O', 'O', 'O', 'O', 'O', 'O', 'O', 'O', 'O', 'O', 'O', 'O'], ['O', 'O', 'O', 'O', 'O', 'O', 'O', 'O', 'O', 'O', 'O', 'O', 'O', 'O'], ['O', 'O', 'O', 'O', 'O', 'O', 'O', 'O', 'O', 'O', 'O', 'O', 'O', 'O', 'O', 'O', 'O', 'O', 'O', 'O'], ['O', 'O', 'O', 'O', 'O', 'O', 'O', 'O', 'O', 'O', 'O', 'O', 'O', 'O', 'O', 'O'], ['O', 'O', 'O', 'O', 'O', 'O', 'O', 'O', 'O', 'O', 'O', 'O', 'O', 'O', 'O', 'O', 'O', 'O'], ['O', 'O', 'O', 'O', 'O', 'O', 'O', 'O', 'O', 'O', 'O', 'O', 'O', 'O', 'O'], ['O', 'O', 'O', 'O', 'O', 'O', 'O', 'O', 'O', 'O', 'O', 'O', 'O', 'O', 'O', 'O', 'O', 'O', 'O'], ['O', 'O', 'O', 'O', 'O', 'O', 'O', 'O', 'O', 'O', 'O', 'O', 'O', 'O', 'O', 'O', 'O', 'O', 'O', 'O', 'O', 'O', 'O', 'O', 'O', 'O', 'O', 'O', 'O', 'O', 'O', 'O'], ['O', 'O', 'O', 'O', 'O', 'O', 'O', 'O', 'O', 'O', 'O', 'O', 'O', 'O', 'O', 'O', 'O', 'O', 'O', 'O', 'O', 'O', 'O', 'O', 'O', 'O', 'O'], ['O', 'O', 'O', 'O', 'O', 'O', 'O', 'O', 'O', 'O', 'O', 'O', 'O', 'O', 'O', 'O', 'O', 'O', 'O', 'O', 'O', 'O', 'O', 'O'], ['O', 'O', 'O', 'O', 'O', 'O', 'O', 'O', 'O', 'O', 'O', 'O'], ['O', 'O', 'O', 'O', 'O', 'O', 'O', 'O', 'O', 'O', 'O', 'O', 'O'], ['O', 'O', 'O', 'O', 'O', 'O', 'O', 'O', 'O', 'O', 'O', 'O', 'O'], ['O', 'O', 'O', 'O', 'O', 'O', 'O', 'O', 'O', 'O', 'O', 'O'], ['O', 'O', 'O', 'O', 'O', 'O'], ['O', 'B-Entity', 'I-Entity', 'B-Action', 'O', 'B-Entity', 'I-Entity', 'O', 'O', 'O', 'O', 'O', 'O', 'O', 'O', 'O', 'O', 'O', 'O', 'O', 'O'], ['O', 'O', 'O', 'O', 'O', 'O', 'O', 'O', 'O', 'O', 'O', 'O'], ['O', 'O', 'O', 'O', 'O', 'O', 'B-Entity', 'I-Entity', 'O', 'B-Action', 'O', 'B-Entity', 'O'], ['O', 'O', 'O', 'O', 'O', 'O', 'O', 'O', 'O', 'O', 'O'], ['O', 'O', 'O', 'O', 'O', 'O', 'O', 'O', 'O', 'O', 'O', 'O'], ['O', 'O', 'O', 'O', 'O', 'O', 'O', 'O', 'O', 'O', 'O', 'O', 'O', 'O', 'O', 'O', 'O', 'O', 'O', 'O', 'O', 'O', 'O', 'O', 'O'], ['O', 'O', 'O', 'O', 'O', 'O', 'O', 'O', 'O', 'O', 'O', 'O', 'O'], ['O', 'O', 'O', 'O', 'O', 'O', 'O', 'O', 'O', 'O', 'O', 'O', 'O', 'O', 'O', 'O', 'O', 'O', 'O', 'O', 'O', 'O', 'O', 'O', 'O', 'O', 'O', 'O', 'O', 'O'], ['O', 'O', 'O', 'O', 'O', 'O', 'O', 'O', 'O', 'O', 'O', 'O', 'O', 'O', 'O', 'O', 'O', 'O', 'O', 'O', 'O', 'O', 'O', 'O', 'O'], ['O', 'O', 'O', 'O', 'O', 'O', 'O', 'O', 'O', 'O', 'O', 'O', 'O', 'O', 'O', 'O'], ['O', 'O', 'O', 'O', 'O', 'O', 'O', 'O', 'O', 'O', 'O', 'O', 'O', 'O', 'O', 'O', 'O', 'O', 'O', 'O', 'O', 'O'], ['O', 'O', 'O', 'O', 'O', 'O', 'O', 'O', 'O', 'O', 'O', 'O', 'O', 'O', 'O', 'O'], ['O', 'O', 'O', 'O', 'O', 'O', 'O', 'O', 'O', 'O', 'O', 'O', 'O', 'O', 'O', 'O', 'O'], ['B-Action', 'O', 'B-Entity', 'I-Entity', 'I-Entity', 'I-Entity', 'I-Entity', 'I-Entity', 'I-Entity', 'O', 'O', 'O', 'O', 'O', 'O', 'O', 'O', 'O', 'O', 'O', 'O', 'O', 'O', 'O', 'O', 'O', 'O'], ['O', 'O', 'O', 'O', 'O', 'O', 'O', 'O', 'O', 'O', 'O', 'O', 'O', 'O', 'O', 'O', 'O', 'O', 'O', 'O', 'O', 'O', 'O', 'O', 'O', 'O', 'O', 'O', 'O'], ['O', 'O', 'O', 'O', 'O', 'O', 'O', 'O', 'O', 'O', 'O', 'O', 'O'], ['O', 'O', 'O', 'O', 'O', 'O', 'O', 'O', 'O', 'O', 'O', 'O', 'O', 'O', 'O', 'O', 'O', 'O', 'O', 'O'], ['O', 'O', 'O', 'O', 'O', 'O', 'O', 'O', 'O', 'O', 'O', 'O', 'O', 'O', 'O', 'O', 'O', 'O', 'O', 'O', 'O', 'O'], ['O', 'O', 'O', 'O', 'O', 'O', 'O', 'O', 'O', 'O', 'O', 'O'], ['O', 'O', 'O', 'O', 'O', 'O', 'O', 'O', 'O'], ['O', 'O', 'O', 'O', 'O'], ['O', 'O', 'O', 'O', 'O', 'O', 'O', 'O', 'O', 'O', 'O', 'O', 'O', 'O', 'O', 'O', 'O', 'O', 'O', 'O', 'O', 'O', 'O', 'O', 'O']]\n"
          ],
          "name": "stdout"
        }
      ]
    },
    {
      "cell_type": "code",
      "metadata": {
        "id": "V0VQwB29GQc9",
        "colab_type": "code",
        "outputId": "53642d73-c385-4bd1-a679-d0d4942c9d64",
        "colab": {
          "base_uri": "https://localhost:8080/",
          "height": 272
        }
      },
      "source": [
        "sentences_test[0]"
      ],
      "execution_count": 325,
      "outputs": [
        {
          "output_type": "execute_result",
          "data": {
            "text/plain": [
              "['Low',\n",
              " '-',\n",
              " 'profile',\n",
              " 'information',\n",
              " '-',\n",
              " 'stealing',\n",
              " 'Trojan',\n",
              " 'is',\n",
              " 'used',\n",
              " 'only',\n",
              " 'against',\n",
              " 'high-',\n",
              " 'value',\n",
              " 'targets',\n",
              " '.']"
            ]
          },
          "metadata": {
            "tags": []
          },
          "execution_count": 325
        }
      ]
    },
    {
      "cell_type": "code",
      "metadata": {
        "id": "sJwh6XjNQtyw",
        "colab_type": "code",
        "outputId": "2d1e9598-577f-4bb9-f666-5f0737e37fb0",
        "colab": {
          "base_uri": "https://localhost:8080/",
          "height": 139
        }
      },
      "source": [
        "outputPred = open('Task2.out','w+')\n",
        "ols = []\n",
        "print(len(sentences_test))\n",
        "print(len(y_pred_test))\n",
        "print((sentences_test[617]))\n",
        "for word,label in zip(sentences_test,y_pred_test):\n",
        "  # print(len(word),'\\n',len(label))\n",
        "  # print()\n",
        "  if len(word)>len(label):\n",
        "      # print(word)\n",
        "      # print(\"Word Length: \",len(word))\n",
        "      # print(\"label Length: \",len(label))\n",
        "    for i in range(len(label)):\n",
        "      ols.append(word[i]+'\\t'+label[i]+'\\n')\n",
        "    for i in range(len(label),len(word)):\n",
        "      ols.append(word[i]+'\\t'+'O'+'\\n')\n",
        "  else:\n",
        "    for i in range(len(word)):\n",
        "      ols.append(word[i]+'\\t'+label[i]+'\\n')\n",
        "      # print(word[i]+'\\t'+label[i]+'\\n')\n",
        "  ols.append('\\n')\n",
        "\n",
        "for word in sentences_test[608:]:\n",
        "  for i in word:\n",
        "    ols.append(i+'\\t'+'O'+'\\n')\n",
        "  ols.append('\\n')\n",
        "\n",
        "print(ols)\n",
        "# print('\\n\\n')\n",
        "# ols = ols[:-2]\n",
        "print(len(ols))\n",
        "ols = ''.join(ols)\n",
        "# print(len(ols))\n",
        "outputPred.write(ols)"
      ],
      "execution_count": 326,
      "outputs": [
        {
          "output_type": "stream",
          "text": [
            "618\n",
            "608\n",
            "['In', 'the', 'meantime', ',', 'register', 'now', 'for', 'the', 'April', '1st', 'CrowdCast', '.']\n",
            "['Low\\tO\\n', '-\\tO\\n', 'profile\\tO\\n', 'information\\tO\\n', '-\\tO\\n', 'stealing\\tO\\n', 'Trojan\\tO\\n', 'is\\tO\\n', 'used\\tO\\n', 'only\\tO\\n', 'against\\tO\\n', 'high-\\tO\\n', 'value\\tO\\n', 'targets\\tO\\n', '.\\tO\\n', '\\n', 'Symantec\\tO\\n', 'has\\tO\\n', 'uncovered\\tO\\n', 'an\\tO\\n', 'elusive\\tO\\n', 'Trojan\\tO\\n', 'used\\tO\\n', 'by\\tO\\n', 'the\\tO\\n', 'cyberespionage\\tO\\n', 'group\\tO\\n', 'behind\\tO\\n', 'the\\tO\\n', '€\\tO\\n', 'œDuke\\tO\\n', '€\\tO\\n', '\\u200b\\tO\\n', 'family\\tO\\n', 'of\\tO\\n', 'malware\\tO\\n', '.\\tO\\n', '\\n', 'Seaduke\\tO\\n', '(\\tO\\n', 'detected\\tO\\n', 'by\\tO\\n', 'Symantec\\tO\\n', 'as\\tO\\n', 'Trojan\\tO\\n', '.\\tX\\n', 'Seaduke\\tX\\n', ')\\tO\\n', 'is\\tO\\n', 'a\\tO\\n', 'low\\tO\\n', '-\\tO\\n', 'profile\\tO\\n', 'information-\\tI-Entity\\n', 'stealing\\tO\\n', 'Trojan\\tO\\n', 'which\\tO\\n', 'appears\\tO\\n', 'to\\tO\\n', 'be\\tO\\n', 'reserved\\tO\\n', 'for\\tO\\n', 'attacks\\tO\\n', 'against\\tO\\n', 'a\\tO\\n', 'small\\tO\\n', 'number\\tO\\n', 'of\\tO\\n', 'high\\tO\\n', '-\\tX\\n', 'value\\tO\\n', 'targets\\tO\\n', '.\\tO\\n', '\\n', 'Seaduke\\tO\\n', 'has\\tO\\n', 'been\\tO\\n', 'used\\tO\\n', 'in\\tO\\n', 'attacks\\tO\\n', 'against\\tO\\n', 'a\\tO\\n', 'number\\tO\\n', 'of\\tO\\n', 'major\\tO\\n', ',\\tO\\n', 'government\\tO\\n', '-\\tX\\n', 'level\\tO\\n', 'targets\\tO\\n', '.\\tO\\n', '\\n', 'The\\tB-Entity\\n', 'malware\\tI-Entity\\n', 'hides\\tO\\n', 'behind\\tO\\n', 'numerous\\tO\\n', 'layers\\tO\\n', 'of\\tO\\n', 'encryption\\tO\\n', 'and\\tO\\n', 'obfuscation\\tO\\n', 'and\\tO\\n', 'is\\tO\\n', 'capable\\tO\\n', 'of\\tO\\n', 'quietly\\tO\\n', 'stealing\\tB-Action\\n', 'and\\tO\\n', 'exfiltrating\\tB-Action\\n', 'sensitive\\tB-Entity\\n', 'information\\tI-Entity\\n', 'such\\tI-Entity\\n', 'as\\tI-Entity\\n', 'email\\tI-Entity\\n', 'from\\tI-Entity\\n', 'the\\tI-Entity\\n', 'victim\\tI-Entity\\n', '€\\tI-Entity\\n', '™s\\tI-Entity\\n', 'computer\\tI-Entity\\n', '.\\tO\\n', '\\n', 'Seaduke\\tO\\n', 'has\\tO\\n', 'a\\tO\\n', 'highly\\tO\\n', 'configurable\\tO\\n', 'framework\\tO\\n', 'and\\tO\\n', 'Symantec\\tO\\n', 'has\\tO\\n', 'already\\tO\\n', 'found\\tO\\n', 'hundreds\\tO\\n', 'of\\tO\\n', 'different\\tO\\n', 'configurations\\tO\\n', 'on\\tO\\n', 'compromised\\tO\\n', 'networks\\tO\\n', '.\\tO\\n', '\\n', 'Its\\tO\\n', 'creators\\tO\\n', 'are\\tO\\n', 'likely\\tO\\n', 'to\\tO\\n', 'have\\tO\\n', 'spent\\tO\\n', 'a\\tO\\n', 'considerable\\tO\\n', 'amount\\tO\\n', 'of\\tO\\n', 'time\\tO\\n', 'and\\tO\\n', 'resources\\tO\\n', 'in\\tO\\n', 'preparing\\tO\\n', 'these\\tO\\n', 'attacks\\tO\\n', 'and\\tO\\n', 'the\\tO\\n', 'malware\\tO\\n', 'has\\tO\\n', 'been\\tO\\n', 'deployed\\tO\\n', 'against\\tO\\n', 'a\\tO\\n', 'number\\tO\\n', 'of\\tO\\n', 'high\\tO\\n', '-\\tX\\n', 'level\\tO\\n', 'government\\tO\\n', 'targets\\tO\\n', '.\\tO\\n', '\\n', 'While\\tO\\n', 'the\\tO\\n', 'Duke\\tO\\n', 'group\\tO\\n', 'began\\tO\\n', 'to\\tO\\n', 'distribute\\tO\\n', 'Cozyduke\\tO\\n', 'in\\tO\\n', 'an\\tO\\n', 'increasingly\\tO\\n', 'aggressive\\tO\\n', 'manner\\tO\\n', ',\\tO\\n', 'Seaduke\\tO\\n', 'installations\\tO\\n', 'were\\tO\\n', 'reserved\\tO\\n', 'only\\tO\\n', 'for\\tO\\n', 'select\\tO\\n', 'targets\\tO\\n', '.\\tO\\n', '\\n', 'Seaduke\\tB-Entity\\n', 'victims\\tI-Entity\\n', 'are\\tB-Action\\n', 'generally\\tI-Action\\n', 'first\\tI-Action\\n', 'infected\\tI-Action\\n', 'with\\tB-Modifier\\n', 'Cozyduke\\tI-Entity\\n', 'and\\tO\\n', ',\\tO\\n', 'if\\tB-Modifier\\n', 'the\\tO\\n', 'computer\\tI-Entity\\n', 'appears\\tI-Entity\\n', 'to\\tI-Entity\\n', 'be\\tI-Entity\\n', 'a\\tI-Entity\\n', 'target\\tI-Entity\\n', 'of\\tI-Entity\\n', 'interest\\tI-Entity\\n', ',\\tO\\n', 'the\\tB-Entity\\n', 'operators\\tI-Entity\\n', 'will\\tO\\n', 'install\\tB-Action\\n', 'Seaduke\\tB-Entity\\n', '.\\tO\\n', '\\n', 'The\\tO\\n', 'group\\tO\\n', 'behind\\tO\\n', 'Seaduke\\tO\\n', 'is\\tO\\n', 'a\\tO\\n', 'cyberespionage\\tO\\n', 'operation\\tO\\n', 'that\\tO\\n', 'is\\tO\\n', 'responsible\\tO\\n', 'for\\tO\\n', 'a\\tO\\n', 'series\\tO\\n', 'of\\tO\\n', 'attacks\\tO\\n', 'against\\tO\\n', 'high\\tO\\n', '-\\tX\\n', 'profile\\tX\\n', 'individuals\\tO\\n', 'and\\tO\\n', 'organizations\\tO\\n', 'in\\tO\\n', 'government\\tO\\n', ',\\tO\\n', 'international\\tO\\n', 'policy\\tO\\n', 'and\\tO\\n', 'private\\tO\\n', 'research\\tO\\n', 'in\\tO\\n', 'the\\tO\\n', 'United\\tO\\n', 'States\\tO\\n', 'and\\tO\\n', 'Europe\\tO\\n', '.\\tO\\n', '\\n', 'It\\tO\\n', 'has\\tO\\n', 'a\\tO\\n', 'range\\tI-Entity\\n', 'of\\tI-Entity\\n', 'malware\\tI-Entity\\n', 'tools\\tI-Entity\\n', 'at\\tO\\n', 'its\\tO\\n', 'disposal\\tO\\n', ',\\tO\\n', 'known\\tO\\n', 'as\\tO\\n', 'the\\tO\\n', 'Dukes\\tO\\n', ',\\tO\\n', 'including\\tO\\n', 'Cozyduke\\tO\\n', '(\\tO\\n', 'Trojan\\tO\\n', '.\\tX\\n', 'Cozer\\tX\\n', ')\\tO\\n', ',\\tO\\n', 'Miniduke\\tO\\n', '(\\tO\\n', 'Backdoor\\tO\\n', '.\\tX\\n', 'Miniduke\\tX\\n', ')\\tO\\n', 'and\\tO\\n', 'Cosmicduke\\tO\\n', '(\\tO\\n', 'Backdoor\\tO\\n', '.\\tO\\n', 'Tinybaron\\tO\\n', ')\\tO\\n', '.\\tO\\n', '\\n', 'News\\tO\\n', 'of\\tO\\n', 'the\\tO\\n', 'Duke\\tO\\n', 'group\\tO\\n', 'first\\tO\\n', 'emerged\\tO\\n', 'in\\tO\\n', 'March\\tO\\n', 'and\\tO\\n', 'April\\tO\\n', 'of\\tO\\n', '2015\\tO\\n', ',\\tO\\n', 'when\\tO\\n', 'reports\\tO\\n', 'detailing\\tO\\n', 'attacks\\tO\\n', 'involving\\tO\\n', 'a\\tO\\n', 'sophisticated\\tO\\n', 'threat\\tO\\n', 'actor\\tO\\n', 'variously\\tO\\n', 'called\\tO\\n', 'Office\\tO\\n', 'Monkeys\\tO\\n', ',\\tO\\n', 'EuroAPT\\tO\\n', ',\\tO\\n', 'Cozy\\tO\\n', 'Bear\\tO\\n', ',\\tO\\n', 'and\\tO\\n', 'Cozyduke\\tO\\n', 'were\\tO\\n', 'published\\tO\\n', '.\\tO\\n', '\\n', 'Symantec\\tO\\n', 'believes\\tO\\n', 'that\\tO\\n', 'this\\tO\\n', 'group\\tO\\n', 'has\\tO\\n', 'a\\tO\\n', 'history\\tO\\n', 'of\\tO\\n', 'compromising\\tO\\n', 'governmental\\tO\\n', 'and\\tO\\n', 'diplomatic\\tO\\n', 'organizations\\tO\\n', 'since\\tO\\n', 'at\\tO\\n', 'least\\tO\\n', '2010\\tO\\n', '.\\tO\\n', '\\n', 'The\\tO\\n', 'group\\tO\\n', 'began\\tO\\n', 'its\\tO\\n', 'current\\tO\\n', 'campaign\\tO\\n', 'as\\tO\\n', 'early\\tO\\n', 'as\\tO\\n', 'March\\tO\\n', '2014\\tO\\n', ',\\tO\\n', 'when\\tO\\n', 'Trojan\\tO\\n', '.\\tX\\n', 'Cozer\\tX\\n', '(\\tO\\n', 'aka\\tO\\n', 'Cozyduke\\tO\\n', ')\\tO\\n', 'was\\tO\\n', 'identified\\tO\\n', 'on\\tO\\n', 'the\\tO\\n', 'network\\tO\\n', 'of\\tO\\n', 'a\\tO\\n', 'private\\tO\\n', 'research\\tO\\n', 'institute\\tO\\n', 'in\\tO\\n', 'Washington\\tO\\n', ',\\tO\\n', 'D.C.\\tO\\n', '\\n', 'In\\tO\\n', 'the\\tO\\n', 'months\\tO\\n', 'that\\tO\\n', 'followed\\tO\\n', ',\\tO\\n', 'the\\tB-Entity\\n', 'Duke\\tI-Entity\\n', 'group\\tI-Entity\\n', 'began\\tO\\n', 'to\\tO\\n', 'target\\tB-Action\\n', 'victims\\tB-Entity\\n', 'with\\tB-Modifier\\n', '€\\tB-Entity\\n', 'œOffice\\tI-Entity\\n', 'Monkeys\\tI-Entity\\n', '€\\tI-Entity\\n', '\\u200b-\\tX\\n', 'and\\tI-Entity\\n', '€\\tI-Entity\\n', 'œeFax\\tI-Entity\\n', '€\\tI-Entity\\n', '\\u200b-themed\\tX\\n', 'emails\\tI-Entity\\n', ',\\tO\\n', 'booby\\tO\\n', '-\\tX\\n', 'trapped\\tX\\n', 'with\\tO\\n', 'a\\tO\\n', 'Cozyduke\\tO\\n', 'payload\\tO\\n', '.\\tO\\n', '\\n', 'These\\tO\\n', 'tactics\\tO\\n', 'were\\tO\\n', 'atypical\\tO\\n', 'of\\tO\\n', 'a\\tO\\n', 'cyberespionage\\tO\\n', 'group\\tO\\n', '.\\tO\\n', '\\n', 'It\\tO\\n', '€\\tO\\n', '™s\\tO\\n', 'quite\\tO\\n', 'likely\\tO\\n', 'these\\tO\\n', 'themes\\tO\\n', 'were\\tO\\n', 'deliberately\\tO\\n', 'chosen\\tO\\n', 'to\\tO\\n', 'act\\tO\\n', 'as\\tO\\n', 'a\\tO\\n', 'smokescreen\\tO\\n', ',\\tO\\n', 'hiding\\tO\\n', 'the\\tO\\n', 'true\\tO\\n', 'intent\\tO\\n', 'of\\tO\\n', 'the\\tO\\n', 'adversary\\tO\\n', '.\\tO\\n', '\\n', 'The\\tO\\n', 'Duke\\tO\\n', 'group\\tO\\n', 'has\\tO\\n', 'mounted\\tO\\n', 'an\\tO\\n', 'extended\\tO\\n', 'campaign\\tO\\n', 'targeting\\tO\\n', 'high\\tO\\n', '-\\tX\\n', 'profile\\tX\\n', 'networks\\tO\\n', 'over\\tO\\n', 'extended\\tO\\n', 'periods\\tO\\n', ',\\tO\\n', 'something\\tO\\n', 'which\\tO\\n', 'is\\tO\\n', 'far\\tO\\n', 'beyond\\tO\\n', 'the\\tO\\n', 'reach\\tO\\n', 'of\\tO\\n', 'the\\tO\\n', 'majority\\tO\\n', 'of\\tO\\n', 'threat\\tO\\n', 'actors\\tO\\n', '.\\tO\\n', '\\n', 'Its\\tO\\n', 'capabilities\\tO\\n', 'include\\tO\\n', '.\\tO\\n', '\\n', 'Attack\\tO\\n', 'infrastructure\\tO\\n', 'leveraging\\tO\\n', 'hundreds\\tO\\n', 'of\\tO\\n', 'compromised\\tO\\n', 'websites\\tO\\n', 'Rapidly\\tO\\n', 'developed\\tO\\n', 'malware\\tO\\n', 'frameworks\\tO\\n', 'in\\tO\\n', 'concurrent\\tO\\n', 'use\\tO\\n', 'Sophisticated\\tO\\n', 'operators\\tO\\n', 'with\\tO\\n', 'fine\\tO\\n', '-\\tX\\n', 'tuned\\tX\\n', 'computer\\tO\\n', 'network\\tO\\n', 'exploitation\\tO\\n', '(\\tO\\n', 'CNE\\tO\\n', ')\\tO\\n', 'skills\\tO\\n', 'Although\\tO\\n', 'Cozyduke\\tO\\n', 'activity\\tO\\n', 'was\\tO\\n', 'first\\tO\\n', 'identified\\tO\\n', 'in\\tO\\n', 'March\\tO\\n', '2014\\tO\\n', ',\\tO\\n', 'it\\tO\\n', 'wasn\\tO\\n', '€\\tO\\n', '™t\\tO\\n', 'until\\tO\\n', 'July\\tO\\n', 'that\\tO\\n', 'the\\tO\\n', 'group\\tO\\n', 'managed\\tO\\n', 'to\\tO\\n', 'successfully\\tO\\n', 'compromise\\tO\\n', 'high\\tO\\n', '-\\tO\\n', 'profile\\tO\\n', 'government\\tO\\n', 'networks\\tO\\n', '.\\tO\\n', '\\n', 'Cozyduke\\tB-Entity\\n', 'was\\tO\\n', 'used\\tO\\n', 'throughout\\tO\\n', 'these\\tO\\n', 'attacks\\tO\\n', 'to\\tO\\n', 'harvest\\tB-Action\\n', 'and\\tO\\n', 'exfiltrate\\tB-Action\\n', 'sensitive\\tB-Entity\\n', 'information\\tI-Entity\\n', 'to\\tI-Entity\\n', 'the\\tI-Entity\\n', 'attackers\\tI-Entity\\n', '.\\tO\\n', '\\n', 'In\\tO\\n', 'parallel\\tO\\n', ',\\tO\\n', 'the\\tB-Entity\\n', 'Duke\\tI-Entity\\n', 'group\\tI-Entity\\n', 'was\\tO\\n', 'also\\tO\\n', 'installing\\tB-Action\\n', 'separate\\tO\\n', 'malware\\tI-Entity\\n', 'onto\\tB-Modifier\\n', 'these\\tO\\n', 'networks\\tI-Entity\\n', ',\\tO\\n', 'namely\\tO\\n', 'Backdoor\\tO\\n', '.\\tX\\n', 'Miniduke\\tX\\n', 'and\\tO\\n', 'the\\tO\\n', 'more\\tO\\n', 'elusive\\tO\\n', 'Trojan\\tO\\n', '.\\tX\\n', 'Seaduke\\tX\\n', '.\\tO\\n', '\\n', 'It\\tO\\n', 'could\\tO\\n', 'use\\tO\\n', 'these\\tO\\n', 'payloads\\tO\\n', 'to\\tO\\n', 'exploit\\tO\\n', 'networks\\tO\\n', 'on\\tO\\n', 'multiple\\tO\\n', 'fronts\\tO\\n', 'and\\tO\\n', 'providing\\tO\\n', 'it\\tO\\n', 'with\\tO\\n', 'additional\\tO\\n', 'persistence\\tO\\n', 'mechanisms\\tO\\n', '.\\tO\\n', '\\n', 'In\\tO\\n', 'July\\tO\\n', 'of\\tO\\n', '2014\\tO\\n', ',\\tO\\n', 'the\\tO\\n', 'group\\tO\\n', 'instructed\\tO\\n', 'Cozyduke\\tB-Entity\\n', '-\\tX\\n', 'infected\\tX\\n', 'computers\\tI-Entity\\n', 'to\\tO\\n', 'install\\tB-Action\\n', 'Backdoor\\tB-Entity\\n', '.\\tX\\n', 'Miniduke\\tX\\n', 'onto\\tB-Modifier\\n', 'a\\tO\\n', 'compromised\\tB-Entity\\n', 'network\\tI-Entity\\n', '.\\tO\\n', '\\n', 'Miniduke\\tO\\n', 'has\\tO\\n', 'been\\tO\\n', 'the\\tO\\n', 'group\\tO\\n', '€\\tO\\n', '™s\\tX\\n', 'tool\\tO\\n', 'of\\tO\\n', 'choice\\tO\\n', 'for\\tO\\n', 'a\\tO\\n', 'number\\tO\\n', 'of\\tO\\n', 'years\\tO\\n', 'in\\tO\\n', 'espionage\\tO\\n', 'operations\\tO\\n', 'predominantly\\tO\\n', 'targeting\\tO\\n', 'government\\tO\\n', 'and\\tO\\n', 'diplomatic\\tO\\n', 'entities\\tO\\n', 'in\\tO\\n', 'Eastern\\tO\\n', 'Europe\\tO\\n', 'and\\tO\\n', 'ex\\tO\\n', '-\\tX\\n', 'Soviet\\tO\\n', 'states\\tO\\n', '.\\tO\\n', '\\n', '€\\tO\\n', 'œNemesis\\tO\\n', 'Gemina\\tO\\n', '€\\tO\\n', '\\u200b\\tO\\n', 'appears\\tO\\n', 'to\\tO\\n', 'be\\tO\\n', 'the\\tO\\n', 'internal\\tO\\n', 'name\\tO\\n', 'for\\tO\\n', 'the\\tO\\n', 'framework\\tO\\n', 'used\\tO\\n', 'by\\tO\\n', 'the\\tO\\n', 'group\\tO\\n', 'to\\tO\\n', 'identify\\tO\\n', 'the\\tO\\n', 'project\\tO\\n', ',\\tO\\n', 'previously\\tO\\n', 'reported\\tO\\n', 'by\\tO\\n', 'Kaspersky\\tO\\n', '.\\tO\\n', '\\n', 'The\\tO\\n', 'following\\tO\\n', 'debug\\tO\\n', 'string\\tO\\n', 'was\\tO\\n', 'present\\tO\\n', 'in\\tO\\n', 'the\\tO\\n', 'sample\\tO\\n', 'used\\tO\\n', 'in\\tO\\n', 'these\\tO\\n', 'attacks\\tO\\n', '.\\tO\\n', '\\n', 'C:\\\\Projects\\\\nemesis\\tO\\n', '-\\tO\\n', 'gemina\\\\nemesis\\\\bin\\\\carriers\\\\ezlzma_x86_exe.pdb\\tO\\n', 'This\\tO\\n', 'project\\tO\\n', 'name\\tO\\n', 'has\\tO\\n', 'been\\tO\\n', 'seen\\tO\\n', 'in\\tO\\n', 'Backdoor\\tO\\n', '.\\tO\\n', 'Tinybaron\\tO\\n', '(\\tO\\n', 'aka\\tO\\n', 'Cosmicduke\\tO\\n', ')\\tO\\n', 'samples\\tO\\n', ',\\tO\\n', 'which\\tO\\n', 'Symantec\\tO\\n', 'also\\tO\\n', 'attributes\\tO\\n', 'to\\tO\\n', 'the\\tO\\n', 'Duke\\tO\\n', 'group\\tO\\n', '.\\tO\\n', '\\n', 'This\\tO\\n', 'deployment\\tO\\n', 'of\\tO\\n', 'Miniduke\\tO\\n', 'and\\tO\\n', 'the\\tO\\n', 'technical\\tO\\n', 'similarities\\tO\\n', 'with\\tO\\n', 'Cozyduke\\tO\\n', 'provided\\tO\\n', 'strong\\tO\\n', 'indicators\\tO\\n', 'as\\tO\\n', 'to\\tO\\n', 'who\\tO\\n', 'was\\tO\\n', 'behind\\tO\\n', 'the\\tO\\n', 'attacks\\tO\\n', '.\\tO\\n', '\\n', 'The\\tO\\n', 'Seaduke\\tO\\n', 'payload\\tO\\n', 'These\\tO\\n', 'attacks\\tO\\n', 'were\\tO\\n', 'already\\tO\\n', 'well\\tO\\n', 'underway\\tO\\n', 'when\\tO\\n', 'another\\tO\\n', 'group\\tO\\n', 'began\\tO\\n', 'to\\tO\\n', 'deploy\\tO\\n', 'a\\tO\\n', 'previously\\tO\\n', 'unknown\\tO\\n', 'piece\\tO\\n', 'of\\tO\\n', 'malware\\tO\\n', '.\\tO\\n', '\\n', 'In\\tO\\n', 'October\\tO\\n', '2014\\tO\\n', ',\\tO\\n', 'the\\tO\\n', 'Seaduke\\tO\\n', 'payload\\tO\\n', 'began\\tO\\n', 'to\\tO\\n', 'appear\\tO\\n', 'within\\tO\\n', 'target\\tO\\n', 'networks\\tO\\n', '.\\tO\\n', '\\n', 'Although\\tO\\n', 'Seaduke\\tO\\n', 'was\\tO\\n', 'developed\\tO\\n', 'in\\tO\\n', 'Python\\tO\\n', ',\\tO\\n', 'the\\tO\\n', 'overall\\tO\\n', 'framework\\tO\\n', 'bears\\tO\\n', 'a\\tO\\n', 'striking\\tO\\n', 'resemblance\\tO\\n', 'to\\tO\\n', 'Cozyduke\\tO\\n', 'in\\tO\\n', 'terms\\tO\\n', 'of\\tO\\n', 'operation\\tO\\n', '.\\tO\\n', '\\n', 'It\\tO\\n', '€\\tO\\n', '™s\\tX\\n', 'unclear\\tO\\n', 'why\\tO\\n', 'the\\tO\\n', 'attackers\\tO\\n', 'waited\\tO\\n', 'until\\tO\\n', 'October\\tO\\n', 'to\\tO\\n', 'deploy\\tO\\n', 'Seaduke\\tO\\n', '.\\tO\\n', '\\n', 'Was\\tO\\n', 'it\\tO\\n', 'reserved\\tO\\n', 'for\\tO\\n', 'a\\tO\\n', 'more\\tO\\n', 'specific\\tO\\n', 'attack\\tO\\n', '?\\tO\\n', 'Was\\tO\\n', 'part\\tO\\n', 'of\\tO\\n', 'their\\tO\\n', 'cover\\tO\\n', 'blown\\tO\\n', ',\\tO\\n', 'necessitating\\tO\\n', 'the\\tO\\n', 'use\\tO\\n', 'of\\tO\\n', 'an\\tO\\n', 'alternative\\tO\\n', 'framework\\tO\\n', '?\\tO\\n', 'The\\tO\\n', 'Seaduke\\tO\\n', 'framework\\tO\\n', 'was\\tO\\n', 'designed\\tO\\n', 'to\\tO\\n', 'be\\tO\\n', 'highly\\tO\\n', 'configurable\\tO\\n', '.\\tO\\n', '\\n', 'Hundreds\\tO\\n', 'of\\tO\\n', 'reconfigurations\\tO\\n', 'were\\tO\\n', 'identified\\tO\\n', 'on\\tO\\n', 'compromised\\tO\\n', 'networks\\tO\\n', '.\\tO\\n', '\\n', 'The\\tB-Entity\\n', 'communication\\tI-Entity\\n', 'protocol\\tI-Entity\\n', 'employed\\tI-Entity\\n', 'had\\tO\\n', 'many\\tO\\n', 'layers\\tO\\n', 'of\\tO\\n', 'encryption\\tO\\n', 'and\\tO\\n', 'obfuscation\\tB-Action\\n', ',\\tO\\n', 'using\\tB-Action\\n', 'over\\tB-Entity\\n', '200\\tB-Entity\\n', 'compromised\\tI-Entity\\n', 'web\\tI-Entity\\n', 'servers\\tI-Entity\\n', 'for\\tB-Modifier\\n', 'command\\tB-Entity\\n', 'and\\tI-Entity\\n', 'control\\tI-Entity\\n', '.\\tO\\n', '\\n', 'Seaduke\\tO\\n', 'required\\tO\\n', 'a\\tO\\n', 'significant\\tO\\n', 'investment\\tO\\n', 'of\\tO\\n', 'time\\tO\\n', 'and\\tO\\n', 'resources\\tO\\n', 'in\\tO\\n', 'the\\tO\\n', 'preparatory\\tO\\n', 'and\\tO\\n', 'operational\\tO\\n', 'phases\\tO\\n', 'of\\tO\\n', 'the\\tO\\n', 'attack\\tO\\n', '.\\tO\\n', '\\n', 'The\\tB-Entity\\n', 'attackers\\tI-Entity\\n', 'control\\tB-Action\\n', 'Cozyduke\\tB-Entity\\n', 'via\\tB-Modifier\\n', 'compromised\\tB-Entity\\n', 'websites\\tB-Entity\\n', ',\\tO\\n', 'issuing\\tB-Action\\n', 'instructions\\tB-Entity\\n', 'to\\tB-Modifier\\n', 'infected\\tB-Entity\\n', 'machines\\tI-Entity\\n', 'by\\tO\\n', 'uploading\\tO\\n', '€\\tB-Entity\\n', 'œtasks\\tI-Entity\\n', '€\\tI-Entity\\n', '\\u200b\\tB-Modifier\\n', 'to\\tO\\n', 'a\\tI-Entity\\n', 'database\\tI-Entity\\n', 'file\\tO\\n', '.\\tO\\n', '\\n', 'Cozyduke\\tB-Entity\\n', 'will\\tO\\n', 'periodically\\tO\\n', 'contact\\tB-Action\\n', 'these\\tO\\n', 'websites\\tI-Entity\\n', 'to\\tB-Modifier\\n', 'retrieve\\tO\\n', 'task\\tO\\n', 'information\\tI-Entity\\n', 'to\\tI-Entity\\n', 'be\\tI-Entity\\n', 'executed\\tI-Entity\\n', 'on\\tI-Entity\\n', 'the\\tI-Entity\\n', 'local\\tI-Entity\\n', 'machine\\tI-Entity\\n', '.\\tO\\n', '\\n', 'One\\tO\\n', 'such\\tO\\n', 'task\\tO\\n', '(\\tO\\n', 'an\\tO\\n', 'encoded\\tO\\n', 'PowerShell\\tO\\n', 'script\\tO\\n', ')\\tO\\n', 'instructed\\tO\\n', 'Cozyduke\\tB-Entity\\n', 'to\\tO\\n', 'download\\tB-Action\\n', 'and\\tO\\n', 'execute\\tB-Action\\n', 'Seaduke\\tB-Entity\\n', 'from\\tB-Modifier\\n', 'a\\tO\\n', 'compromised\\tB-Entity\\n', 'website\\tI-Entity\\n', '.\\tO\\n', '\\n', 'Seaduke\\tO\\n', 'operation\\tO\\n', 'The\\tO\\n', 'attackers\\tI-Entity\\n', 'can\\tO\\n', 'operate\\tO\\n', 'Seaduke\\tO\\n', 'in\\tO\\n', 'a\\tO\\n', 'broadly\\tO\\n', 'similar\\tO\\n', 'fashion\\tO\\n', 'to\\tO\\n', 'Cozyduke\\tO\\n', '.\\tO\\n', '\\n', 'The\\tO\\n', 'Seaduke\\tO\\n', 'control\\tO\\n', 'infrastructure\\tO\\n', 'is\\tO\\n', 'essentially\\tO\\n', 'distinct\\tO\\n', ',\\tO\\n', 'opening\\tO\\n', 'up\\tO\\n', 'the\\tO\\n', 'possibility\\tO\\n', 'of\\tO\\n', 'sub\\tO\\n', '-\\tX\\n', 'teams\\tX\\n', 'concurrently\\tO\\n', 'exploiting\\tO\\n', 'the\\tO\\n', 'target\\tO\\n', 'network\\tO\\n', '.\\tO\\n', '\\n', 'Unlike\\tO\\n', 'Cozyduke\\tO\\n', ',\\tO\\n', 'Seaduke\\tB-Entity\\n', 'operators\\tI-Entity\\n', 'upload\\tB-Action\\n', '€\\tB-Entity\\n', 'œtask\\tB-Entity\\n', '€\\tI-Entity\\n', '\\u200b\\tI-Entity\\n', 'files\\tB-Modifier\\n', 'directly\\tI-Modifier\\n', 'to\\tO\\n', 'the\\tI-Entity\\n', 'command-\\tX\\n', 'and\\tX\\n', '-\\tX\\n', 'control\\tI-Entity\\n', '(\\tI-Entity\\n', 'C&C\\tI-Entity\\n', ')\\tI-Entity\\n', 'server\\tO\\n', ';\\tO\\n', 'there\\tO\\n', 'is\\tO\\n', 'no\\tO\\n', 'database\\tO\\n', 'as\\tO\\n', 'such\\tO\\n', 'present\\tO\\n', '.\\tO\\n', '\\n', 'Seaduke\\tB-Entity\\n', 'securely\\tO\\n', 'communicates\\tB-Action\\n', 'with\\tB-Modifier\\n', 'the\\tO\\n', 'C&C\\tB-Entity\\n', 'server\\tI-Entity\\n', 'over\\tB-Modifier\\n', 'HTTP\\tO\\n', '/\\tI-Entity\\n', 'HTTPS\\tI-Entity\\n', 'beneath\\tB-Modifier\\n', 'layers\\tO\\n', 'of\\tO\\n', 'encoding\\tO\\n', '(\\tO\\n', 'Base64\\tO\\n', ')\\tI-Entity\\n', 'and\\tO\\n', 'encryption\\tO\\n', '(\\tO\\n', 'RC4\\tO\\n', ',\\tO\\n', 'AES\\tO\\n', ')\\tO\\n', '.\\tO\\n', '\\n', 'To\\tO\\n', 'an\\tO\\n', 'untrained\\tO\\n', 'eye\\tO\\n', ',\\tO\\n', 'the\\tO\\n', 'communications\\tO\\n', 'look\\tO\\n', 'fairly\\tO\\n', 'benign\\tO\\n', ',\\tO\\n', 'no\\tO\\n', 'doubt\\tO\\n', 'an\\tO\\n', 'effort\\tO\\n', 'to\\tO\\n', 'stay\\tO\\n', 'under\\tO\\n', 'the\\tO\\n', 'radar\\tO\\n', 'on\\tO\\n', 'compromised\\tO\\n', 'networks\\tO\\n', '.\\tO\\n', '\\n', 'Seaduke\\tB-Entity\\n', 'has\\tB-Action\\n', 'many\\tB-Entity\\n', 'inbuilt\\tI-Entity\\n', 'commands\\tI-Entity\\n', 'which\\tO\\n', 'are\\tO\\n', 'available\\tI-Entity\\n', 'to\\tO\\n', 'the\\tB-Entity\\n', 'attackers\\tI-Entity\\n', '.\\tO\\n', '\\n', 'They\\tB-Entity\\n', 'have\\tO\\n', 'the\\tO\\n', 'ability\\tO\\n', 'to\\tO\\n', 'retrieve\\tB-Action\\n', 'detailed\\tB-Entity\\n', 'bot\\tI-Entity\\n', '/\\tX\\n', 'system\\tX\\n', 'information\\tI-Entity\\n', ',\\tO\\n', 'update\\tB-Action\\n', 'bot\\tB-Entity\\n', 'configuration\\tI-Entity\\n', ',\\tO\\n', 'upload\\tB-Action\\n', 'files\\tB-Entity\\n', ',\\tO\\n', 'download\\tB-Action\\n', 'files\\tB-Entity\\n', ',\\tO\\n', 'and\\tO\\n', 'self-\\tB-Action\\n', 'delete\\tI-Action\\n', 'the\\tB-Entity\\n', 'malware\\tI-Entity\\n', 'from\\tB-Modifier\\n', 'the\\tB-Entity\\n', 'system\\tI-Entity\\n', '.\\tO\\n', '\\n', 'The\\tO\\n', 'self\\tO\\n', '-\\tX\\n', 'delete\\tX\\n', 'function\\tO\\n', 'is\\tO\\n', 'interestingly\\tO\\n', 'called\\tO\\n', '€\\tO\\n', 'œseppuku\\tO\\n', '€\\tO\\n', '\\u200b.\\tO\\n', '\\n', 'This\\tO\\n', 'is\\tO\\n', 'a\\tO\\n', 'form\\tO\\n', 'of\\tO\\n', 'Japanese\\tO\\n', 'ritual\\tO\\n', 'suicide\\tO\\n', '.\\tO\\n', '\\n', 'The\\tO\\n', 'attackers\\tI-Entity\\n', 'have\\tO\\n', 'also\\tO\\n', 'developed\\tB-Action\\n', 'a\\tB-Entity\\n', 'number\\tI-Entity\\n', 'of\\tI-Entity\\n', 'additional\\tI-Entity\\n', 'payloads\\tI-Entity\\n', '.\\tO\\n', '\\n', 'Operators\\tB-Entity\\n', 'can\\tO\\n', 'push\\tB-Action\\n', 'these\\tB-Entity\\n', 'payloads\\tI-Entity\\n', 'onto\\tB-Modifier\\n', 'infected\\tB-Entity\\n', 'machines\\tI-Entity\\n', 'for\\tB-Modifier\\n', 'very\\tB-Entity\\n', 'specific\\tI-Entity\\n', 'attacks\\tI-Entity\\n', '.\\tO\\n', '\\n', 'What\\tO\\n', 'next\\tO\\n', '?\\tO\\n', 'The\\tO\\n', 'Duke\\tO\\n', 'group\\tO\\n', 'has\\tO\\n', 'brought\\tO\\n', 'its\\tO\\n', 'operational\\tO\\n', 'capability\\tO\\n', 'to\\tO\\n', 'the\\tO\\n', 'next\\tO\\n', 'level\\tO\\n', '.\\tO\\n', '\\n', 'Its\\tO\\n', 'attacks\\tO\\n', 'have\\tO\\n', 'been\\tO\\n', 'so\\tO\\n', 'bold\\tO\\n', 'and\\tO\\n', 'aggressive\\tO\\n', ',\\tO\\n', 'that\\tO\\n', 'a\\tO\\n', 'huge\\tO\\n', 'amount\\tO\\n', 'of\\tO\\n', 'attention\\tO\\n', 'has\\tO\\n', 'been\\tO\\n', 'drawn\\tO\\n', 'to\\tO\\n', 'it\\tO\\n', ',\\tO\\n', 'yet\\tO\\n', 'it\\tO\\n', 'appears\\tO\\n', 'to\\tO\\n', 'be\\tO\\n', 'unperturbed\\tO\\n', '.\\tO\\n', '\\n', 'Its\\tO\\n', 'success\\tO\\n', 'at\\tO\\n', 'compromising\\tO\\n', 'such\\tO\\n', 'high\\tO\\n', '-\\tX\\n', 'profile\\tX\\n', 'targets\\tO\\n', 'has\\tO\\n', 'no\\tO\\n', 'doubt\\tO\\n', 'added\\tO\\n', 'a\\tO\\n', 'few\\tO\\n', 'feathers\\tO\\n', 'to\\tO\\n', 'its\\tO\\n', 'cap\\tO\\n', '.\\tO\\n', '\\n', 'Even\\tO\\n', 'the\\tO\\n', 'developers\\tO\\n', 'reveled\\tO\\n', 'in\\tO\\n', 'this\\tO\\n', 'fact\\tO\\n', ',\\tO\\n', 'naming\\tO\\n', 'one\\tO\\n', 'of\\tO\\n', 'Seaduke\\tO\\n', '€\\tO\\n', '™s\\tO\\n', 'functions\\tO\\n', '€\\tO\\n', 'œforkmeiamfamous\\tO\\n', '€\\tO\\n', '\\u200b.\\tO\\n', '\\n', 'While\\tO\\n', 'the\\tO\\n', 'group\\tO\\n', 'is\\tO\\n', 'currently\\tO\\n', 'keeping\\tO\\n', 'a\\tO\\n', 'lower\\tO\\n', 'profile\\tO\\n', ',\\tO\\n', 'there\\tO\\n', '€\\tO\\n', '™s\\tX\\n', 'no\\tO\\n', 'doubt\\tO\\n', 'it\\tO\\n', 'will\\tO\\n', 'reappear\\tO\\n', '.\\tO\\n', '\\n', 'Some\\tO\\n', 'tools\\tO\\n', 'may\\tO\\n', 'have\\tO\\n', 'to\\tO\\n', 'be\\tO\\n', 'abandoned\\tO\\n', ',\\tO\\n', 'some\\tO\\n', 'reworked\\tO\\n', 'and\\tO\\n', 'others\\tO\\n', 'built\\tO\\n', 'completely\\tO\\n', 'from\\tO\\n', 'scratch\\tO\\n', '.\\tO\\n', '\\n', 'This\\tO\\n', 'attack\\tO\\n', 'group\\tO\\n', 'is\\tO\\n', 'in\\tO\\n', 'it\\tO\\n', 'for\\tO\\n', 'the\\tO\\n', 'long\\tO\\n', 'haul\\tO\\n', '.\\tO\\n', '\\n', 'Over\\tO\\n', 'the\\tO\\n', 'past\\tO\\n', 'several\\tO\\n', 'months\\tO\\n', 'an\\tO\\n', 'increasing\\tO\\n', 'number\\tO\\n', 'of\\tO\\n', 'strategic\\tO\\n', 'web\\tO\\n', 'compromises\\tO\\n', '(\\tO\\n', '\"\\tO\\n', 'wateringholes\\tO\\n', '\"\\tO\\n', ')\\tO\\n', 'have\\tO\\n', 'been\\tO\\n', 'discovered\\tO\\n', 'on\\tO\\n', 'websites\\tO\\n', 'in\\tO\\n', 'Hong\\tO\\n', 'Kong\\tO\\n', '.\\tO\\n', '\\n', 'This\\tO\\n', 'rise\\tO\\n', 'in\\tO\\n', 'activity\\tO\\n', 'coincides\\tO\\n', 'with\\tO\\n', 'the\\tO\\n', 'Occupy\\tO\\n', 'Central\\tO\\n', 'protests\\tO\\n', '.\\tO\\n', '\\n', 'In\\tO\\n', 'this\\tO\\n', 'post\\tO\\n', 'we\\tO\\n', 'will\\tO\\n', 'talk\\tO\\n', 'about\\tO\\n', 'a\\tO\\n', 'single\\tO\\n', 'attack\\tO\\n', ',\\tO\\n', 'whilst\\tO\\n', 'not\\tO\\n', 'trying\\tO\\n', 'to\\tO\\n', 'distract\\tO\\n', 'attention\\tO\\n', 'from\\tO\\n', 'the\\tO\\n', 'vast\\tO\\n', 'number\\tO\\n', 'of\\tO\\n', 'attacks\\tO\\n', 'and\\tO\\n', 'subsequent\\tO\\n', 'compromises\\tO\\n', 'that\\tO\\n', 'remain\\tO\\n', 'persistent\\tO\\n', 'in\\tO\\n', 'Hong\\tO\\n', 'Kong\\tO\\n', '.\\tO\\n', '\\n', 'Whilst\\tO\\n', 'going\\tO\\n', 'about\\tO\\n', 'our\\tO\\n', 'daily\\tO\\n', 'business\\tO\\n', 'we\\tO\\n', 'were\\tO\\n', 'alerted\\tO\\n', 'to\\tO\\n', 'a\\tO\\n', 'website\\tO\\n', 'that\\tO\\n', 'began\\tO\\n', 'serving\\tO\\n', 'a\\tO\\n', 'malicious\\tO\\n', 'payload\\tO\\n', 'alongside\\tO\\n', 'its\\tO\\n', 'usual\\tO\\n', 'web\\tO\\n', 'page\\tO\\n', '.\\tO\\n', '\\n', 'The\\tO\\n', 'initial\\tO\\n', 'investigation\\tO\\n', 'revealed\\tO\\n', 'that\\tO\\n', 'the\\tO\\n', 'attack\\tO\\n', 'and\\tO\\n', 'associated\\tO\\n', 'payloads\\tO\\n', 'are\\tO\\n', 'part\\tO\\n', 'of\\tO\\n', 'an\\tO\\n', 'ongoing\\tO\\n', 'attack\\tO\\n', 'campaign\\tO\\n', 'by\\tO\\n', 'an\\tO\\n', 'Advanced\\tO\\n', 'Persistent\\tO\\n', 'Threat\\tO\\n', 'group\\tO\\n', 'that\\tO\\n', 'is\\tO\\n', 'known\\tO\\n', 'to\\tO\\n', 'target\\tO\\n', 'various\\tO\\n', 'sectors\\tO\\n', 'of\\tO\\n', 'industry\\tO\\n', 'and\\tO\\n', 'Government\\tO\\n', 'in\\tO\\n', 'Hong\\tO\\n', 'Kong\\tO\\n', '.\\tO\\n', '\\n', 'In\\tO\\n', 'this\\tO\\n', 'instance\\tO\\n', 'we\\tB-Entity\\n', 'have\\tO\\n', 'chosen\\tO\\n', 'to\\tO\\n', 'obfuscate\\tB-Action\\n', 'details\\tB-Entity\\n', 'of\\tI-Entity\\n', 'the\\tI-Entity\\n', 'compromised\\tI-Entity\\n', 'website\\tI-Entity\\n', 'to\\tB-Modifier\\n', 'protect\\tB-Entity\\n', 'the\\tI-Entity\\n', 'identity\\tI-Entity\\n', 'of\\tI-Entity\\n', 'the\\tI-Entity\\n', 'victim\\tI-Entity\\n', '.\\tO\\n', '\\n', 'This\\tO\\n', 'website\\tO\\n', 'belongs\\tO\\n', 'to\\tO\\n', 'a\\tO\\n', 'private\\tO\\n', 'educational\\tO\\n', 'institution\\tO\\n', 'who\\tO\\n', ',\\tO\\n', 'since\\tO\\n', 'being\\tO\\n', 'notified\\tO\\n', 'about\\tO\\n', 'the\\tO\\n', 'compromise\\tO\\n', ',\\tO\\n', 'has\\tO\\n', 'removed\\tO\\n', 'the\\tO\\n', 'malicious\\tO\\n', 'executable\\tO\\n', 'and\\tO\\n', 'remediated\\tO\\n', 'the\\tO\\n', 'compromised\\tO\\n', 'of\\tO\\n', 'their\\tO\\n', 'server\\tO\\n', ',\\tO\\n', 'thus\\tO\\n', 'breaking\\tO\\n', 'a\\tO\\n', 'crucial\\tO\\n', 'link\\tO\\n', 'in\\tO\\n', 'the\\tO\\n', 'chain\\tO\\n', 'of\\tO\\n', 'this\\tO\\n', 'attack\\tO\\n', '.\\tO\\n', '\\n', 'The\\tO\\n', 'website\\tI-Entity\\n', 'in\\tI-Entity\\n', 'question\\tI-Entity\\n', 'was\\tB-Action\\n', 'implanted\\tI-Action\\n', 'with\\tB-Modifier\\n', 'some\\tO\\n', 'HTML\\tI-Entity\\n', 'code\\tI-Entity\\n', 'that\\tO\\n', 'simply\\tO\\n', 'reaches\\tO\\n', 'out\\tO\\n', 'to\\tO\\n', 'a\\tO\\n', 'secondary\\tO\\n', 'website\\tO\\n', 'and\\tO\\n', 'downloads\\tB-Action\\n', 'malware\\tB-Entity\\n', '.\\tO\\n', '\\n', 'Whilst\\tO\\n', 'this\\tO\\n', 'in\\tO\\n', 'itself\\tO\\n', 'is\\tO\\n', 'not\\tO\\n', 'interesting\\tO\\n', 'the\\tO\\n', 'methodology\\tO\\n', 'used\\tO\\n', 'to\\tO\\n', 'obfuscate\\tB-Action\\n', 'code\\tB-Entity\\n', 'and\\tO\\n', 'evade\\tO\\n', 'detection\\tO\\n', 'are\\tO\\n', '.\\tO\\n', '\\n', 'The\\tO\\n', 'underlying\\tI-Entity\\n', 'code\\tI-Entity\\n', 'in\\tO\\n', 'the\\tO\\n', 'first\\tO\\n', 'page\\tO\\n', 'that\\tO\\n', 'loads\\tO\\n', 'exploits\\tO\\n', 'a\\tO\\n', 'vulnerability\\tO\\n', 'in\\tO\\n', 'Internet\\tO\\n', 'Explorer\\tO\\n', '(\\tO\\n', 'CVE-2014\\tO\\n', '-\\tX\\n', '6332\\tX\\n', ')\\tO\\n', 'and\\tO\\n', 'runs\\tB-Action\\n', 'several\\tB-Entity\\n', 'scripts\\tI-Entity\\n', ',\\tO\\n', 'each\\tO\\n', 'with\\tO\\n', 'support\\tO\\n', 'for\\tO\\n', 'different\\tO\\n', 'operating\\tO\\n', 'systems\\tO\\n', 'and\\tO\\n', 'methods\\tO\\n', 'of\\tO\\n', 'downloading\\tB-Action\\n', 'and\\tO\\n', 'executing\\tB-Action\\n', 'a\\tO\\n', 'file\\tO\\n', 'from\\tO\\n', 'a\\tO\\n', 'website\\tO\\n', '.\\tO\\n', '\\n', 'The\\tO\\n', 'first\\tI-Entity\\n', 'script\\tI-Entity\\n', 'is\\tB-Action\\n', 'obfuscated\\tI-Action\\n', 'Visual\\tB-Entity\\n', 'Basic\\tI-Entity\\n', 'Script\\tI-Entity\\n', '(\\tI-Entity\\n', '\"\\tI-Entity\\n', 'VBS\\tI-Entity\\n', '\"\\tI-Entity\\n', ')\\tO\\n', 'By\\tO\\n', 'decoding\\tO\\n', 'this\\tO\\n', 'we\\tO\\n', 'can\\tO\\n', 'see\\tO\\n', 'the\\tO\\n', 'true\\tO\\n', 'intentions\\tO\\n', 'of\\tO\\n', 'the\\tO\\n', 'script\\tO\\n', '–\\tO\\n', 'which\\tO\\n', 'opens\\tO\\n', 'a\\tO\\n', 'whole\\tO\\n', 'new\\tO\\n', 'can\\tO\\n', 'of\\tO\\n', 'worms\\tO\\n', '.\\tO\\n', '\\n', 'This\\tO\\n', 'code\\tO\\n', 'is\\tO\\n', 'extremely\\tO\\n', 'interesting\\tO\\n', 'because\\tO\\n', 'not\\tO\\n', 'only\\tO\\n', 'does\\tO\\n', 'it\\tO\\n', 'contain\\tO\\n', 'VBScript\\tO\\n', 'but\\tO\\n', 'also\\tO\\n', 'contains\\tO\\n', 'PowerShell\\tO\\n', 'script\\tO\\n', '.\\tO\\n', '\\n', 'Once\\tO\\n', 'running\\tO\\n', 'it\\tB-Entity\\n', 'uses\\tO\\n', 'an\\tO\\n', 'elaborate\\tO\\n', 'way\\tO\\n', 'to\\tO\\n', 'detect\\tB-Action\\n', 'the\\tB-Entity\\n', 'operating\\tI-Entity\\n', 'system\\tI-Entity\\n', 'version\\tI-Entity\\n', 'and\\tO\\n', 'then\\tO\\n', 'selects\\tO\\n', 'whether\\tO\\n', 'to\\tO\\n', 'use\\tO\\n', 'VBScript\\tO\\n', 'or\\tO\\n', 'Powershell\\tO\\n', 'based\\tO\\n', 'on\\tO\\n', 'the\\tO\\n', 'result\\tO\\n', ';\\tO\\n', 'VBScript\\tO\\n', 'for\\tO\\n', 'Windows\\tO\\n', 'XP\\tO\\n', 'and\\tO\\n', 'Powershell\\tO\\n', 'for\\tO\\n', 'newer\\tO\\n', 'versions\\tO\\n', 'of\\tO\\n', 'Windows\\tO\\n', '.\\tO\\n', '\\n', 'The\\tO\\n', 'Powershell\\tO\\n', 'script\\tO\\n', 'is\\tO\\n', 'compressed\\tO\\n', 'and\\tO\\n', 'Base64\\tO\\n', 'encoded\\tO\\n', '.\\tO\\n', '\\n', 'By\\tO\\n', 'decoding\\tO\\n', 'this\\tO\\n', 'script\\tO\\n', 'we\\tO\\n', 'can\\tO\\n', 'determine\\tO\\n', 'its\\tO\\n', 'nature\\tO\\n', 'As\\tO\\n', 'you\\tO\\n', 'can\\tO\\n', 'see\\tO\\n', 'this\\tO\\n', 'powershell\\tB-Entity\\n', 'script\\tI-Entity\\n', 'simply\\tO\\n', 'extracts\\tB-Action\\n', 'another\\tO\\n', 'VBScript\\tB-Entity\\n', 'and\\tO\\n', 'executes\\tB-Action\\n', 'it\\tB-Entity\\n', '.\\tO\\n', '\\n', 'The\\tB-Entity\\n', 'VBScript\\tI-Entity\\n', 'then\\tO\\n', 'downloads\\tB-Action\\n', 'the\\tB-Entity\\n', 'first\\tI-Entity\\n', 'binary\\tI-Entity\\n', 'payload\\tI-Entity\\n', 'into\\tB-Modifier\\n', 'the\\tO\\n', 'user\\tI-Entity\\n', \"'s\\tI-Entity\\n\", 'temporary\\tI-Entity\\n', 'directory\\tI-Entity\\n', 'and\\tO\\n', 'names\\tO\\n', 'it\\tO\\n', \"'\\tO\\n\", 'plug.exe\\tX\\n', \"'\\tO\\n\", '.\\tO\\n', '\\n', 'If\\tO\\n', 'the\\tO\\n', 'operating\\tO\\n', 'system\\tO\\n', 'version\\tO\\n', 'is\\tO\\n', 'too\\tO\\n', 'old\\tO\\n', 'to\\tO\\n', 'support\\tO\\n', 'Powershell\\tO\\n', 'then\\tO\\n', 'the\\tO\\n', 'script\\tO\\n', 'will\\tO\\n', 'attempt\\tO\\n', 'to\\tO\\n', 'use\\tO\\n', 'VBScript\\tO\\n', '.\\tO\\n', '\\n', 'This\\tB-Entity\\n', 'VBScript\\tI-Entity\\n', 'downloads\\tB-Action\\n', 'the\\tO\\n', 'primary\\tI-Entity\\n', 'payload\\tI-Entity\\n', 'to\\tB-Modifier\\n', 'the\\tB-Entity\\n', 'temporary\\tI-Entity\\n', 'directory\\tI-Entity\\n', 'and\\tO\\n', 'names\\tO\\n', 'it\\tO\\n', '\"\\tO\\n', 'z1.exe\\tI-Entity\\n', '\"\\tI-Entity\\n', '.\\tO\\n', '\\n', 'The\\tO\\n', 'first\\tI-Entity\\n', 'binary\\tI-Entity\\n', 'payload\\tI-Entity\\n', 'that\\tO\\n', 'lands\\tO\\n', 'on\\tB-Modifier\\n', 'the\\tO\\n', 'system\\tI-Entity\\n', 'is\\tO\\n', 'relatively\\tO\\n', 'simple\\tO\\n', 'and\\tO\\n', 'serves\\tO\\n', 'as\\tO\\n', 'a\\tO\\n', 'method\\tO\\n', 'of\\tO\\n', 'yet\\tO\\n', 'again\\tO\\n', 'detecting\\tB-Action\\n', 'the\\tO\\n', 'operating\\tB-Entity\\n', 'system\\tI-Entity\\n', 'version\\tI-Entity\\n', 'and\\tO\\n', 'where\\tO\\n', 'to\\tO\\n', 'drop\\tB-Action\\n', 'a\\tO\\n', 'secondary\\tI-Entity\\n', 'payload\\tI-Entity\\n', 'file\\tI-Entity\\n', '.\\tO\\n', '\\n', 'Whilst\\tO\\n', 'this\\tB-Entity\\n', 'binary\\tI-Entity\\n', 'is\\tO\\n', 'not\\tO\\n', 'complicated\\tO\\n', 'by\\tO\\n', 'nature\\tO\\n', 'it\\tB-Entity\\n', 'has\\tO\\n', 'been\\tO\\n', 'designed\\tO\\n', 'to\\tO\\n', 'masquerade\\tB-Action\\n', 'as\\tB-Modifier\\n', 'a\\tO\\n', 'legitimate\\tB-Entity\\n', 'application\\tI-Entity\\n', 'and\\tO\\n', 'contains\\tO\\n', 'functionality\\tO\\n', 'to\\tO\\n', 'evade\\tB-Action\\n', 'anti\\tB-Entity\\n', '-\\tX\\n', 'virus\\tI-Entity\\n', '.\\tO\\n', '\\n', 'This\\tB-Entity\\n', 'malware\\tI-Entity\\n', 'implant\\tI-Entity\\n', 'is\\tB-Action\\n', 'commonly\\tI-Action\\n', 'detected\\tI-Action\\n', 'by\\tO\\n', 'anti-\\tB-Entity\\n', 'virus\\tI-Entity\\n', 'as\\tB-Modifier\\n', 'Swisyn\\tB-Entity\\n', '.\\tO\\n', '\\n', 'Upon\\tO\\n', 'running\\tO\\n', 'this\\tO\\n', 'malware\\tO\\n', 'determines\\tO\\n', 'the\\tO\\n', 'operating\\tO\\n', 'system\\tO\\n', 'version\\tO\\n', ',\\tO\\n', 'but\\tO\\n', 'only\\tO\\n', 'delineating\\tO\\n', 'between\\tO\\n', 'Windows\\tO\\n', 'XP\\tO\\n', ',\\tO\\n', 'Visa\\tO\\n', 'and\\tO\\n', 'above\\tO\\n', '.\\tO\\n', '\\n', 'It\\tO\\n', 'appears\\tO\\n', 'that\\tO\\n', 'this\\tO\\n', 'functionality\\tO\\n', 'is\\tO\\n', 'included\\tO\\n', 'because\\tO\\n', 'the\\tO\\n', 'secondary\\tO\\n', 'payload\\tO\\n', 'comes\\tO\\n', 'in\\tO\\n', 'both\\tO\\n', '32bit\\tO\\n', 'and\\tO\\n', '64bit\\tO\\n', 'versions\\tO\\n', '.\\tO\\n', '\\n', 'Both\\tB-Entity\\n', 'of\\tI-Entity\\n', 'these\\tI-Entity\\n', 'second\\tI-Entity\\n', 'stage\\tI-Entity\\n', 'payloads\\tI-Entity\\n', 'are\\tB-Action\\n', 'obfuscated\\tI-Action\\n', 'but\\tO\\n', 'decoded\\tO\\n', 'with\\tO\\n', 'a\\tO\\n', 'simple\\tO\\n', 'bitwise\\tO\\n', 'operation\\tO\\n', 'as\\tO\\n', 'per\\tO\\n', 'below\\tO\\n', 'In\\tO\\n', 'this\\tO\\n', 'scenario\\tO\\n', ',\\tO\\n', 'the\\tO\\n', 'secondary\\tO\\n', 'payloads\\tO\\n', 'can\\tO\\n', 'be\\tO\\n', 'decoded\\tO\\n', 'using\\tO\\n', 'a\\tO\\n', 'simple\\tO\\n', 'subtraction\\tO\\n', 'of\\tO\\n', '3\\tO\\n', 'followed\\tO\\n', 'by\\tO\\n', 'an\\tO\\n', 'XOR\\tO\\n', 'of\\tO\\n', '3\\tO\\n', 'from\\tO\\n', 'each\\tO\\n', 'byte\\tO\\n', '.\\tO\\n', '\\n', 'This\\tO\\n', 'file\\tI-Entity\\n', 'is\\tO\\n', 'then\\tO\\n', 'written\\tO\\n', 'to\\tB-Modifier\\n', '%\\tO\\n', 'User%\\\\Application\\tI-Entity\\n', 'Data\\\\Microsoft\\tI-Entity\\n', 'in\\tO\\n', 'a\\tO\\n', 'newly\\tO\\n', 'created\\tO\\n', 'folder\\tO\\n', 'name\\tO\\n', \"'\\tO\\n\", 'wuauclt\\tO\\n', \"'\\tO\\n\", '.\\tO\\n', '\\n', 'The\\tO\\n', 'filename\\tO\\n', 'depends\\tO\\n', 'on\\tO\\n', 'the\\tO\\n', 'operating\\tO\\n', 'system\\tO\\n', 'version\\tO\\n', ',\\tO\\n', 'for\\tO\\n', 'Windows\\tO\\n', 'XP\\tO\\n', 'it\\tO\\n', 'is\\tO\\n', '\"\\tO\\n', 'clbcatq.dll\\tO\\n', '\"\\tO\\n', ',\\tO\\n', 'for\\tO\\n', 'Windows\\tO\\n', 'Vista\\tO\\n', 'and\\tO\\n', 'above\\tO\\n', 'it\\tO\\n', 'is\\tO\\n', '\"\\tO\\n', 'profapi.dll\\tO\\n', '\"\\tO\\n', '.\\tO\\n', '\\n', 'Once\\tO\\n', 'this\\tO\\n', 'file\\tI-Entity\\n', 'has\\tO\\n', 'been\\tB-Action\\n', 'written\\tI-Action\\n', 'to\\tB-Modifier\\n', 'disk\\tO\\n', 'a\\tB-Entity\\n', 'file\\tI-Entity\\n', 'from\\tI-Entity\\n', 'the\\tI-Entity\\n', 'Windows\\tI-Entity\\n', 'System32\\tI-Entity\\n', 'folder\\tI-Entity\\n', 'is\\tO\\n', 'copied\\tO\\n', 'into\\tO\\n', 'the\\tO\\n', 'directory\\tO\\n', '.\\tO\\n', '\\n', 'This\\tO\\n', 'file\\tO\\n', ',\\tO\\n', 'named\\tO\\n', \"'\\tO\\n\", 'wuauclt.exe\\tO\\n', \"'\\tO\\n\", ',\\tO\\n', 'is\\tO\\n', 'the\\tO\\n', 'Windows\\tO\\n', 'update\\tO\\n', 'client\\tO\\n', 'interface\\tO\\n', 'and\\tO\\n', 'it\\tO\\n', 'a\\tO\\n', 'standard\\tO\\n', 'windows\\tO\\n', 'file\\tO\\n', '.\\tO\\n', '\\n', 'By\\tO\\n', 'executing\\tO\\n', 'this\\tO\\n', 'file\\tI-Entity\\n', 'in\\tO\\n', 'a\\tO\\n', 'specific\\tO\\n', 'manner\\tO\\n', 'it\\tB-Entity\\n', 'will\\tO\\n', 'load\\tB-Action\\n', 'the\\tO\\n', 'freshly\\tI-Entity\\n', 'dropped\\tI-Entity\\n', 'DLL\\tI-Entity\\n', 'file\\tI-Entity\\n', '–\\tO\\n', 'affectively\\tO\\n', 'this\\tO\\n', 'is\\tO\\n', 'known\\tO\\n', 'as\\tO\\n', 'DLL\\tO\\n', 'hijacking\\tO\\n', '.\\tO\\n', '\\n', 'Following\\tO\\n', 'this\\tO\\n', 'action\\tO\\n', 'another\\tB-Entity\\n', 'file\\tI-Entity\\n', ',\\tO\\n', 'named\\tO\\n', \"'\\tO\\n\", 'wuauclt.dat\\tO\\n', \"'\\tO\\n\", ',\\tO\\n', 'is\\tO\\n', 'written\\tO\\n', 'on\\tO\\n', 'to\\tO\\n', 'the\\tO\\n', 'disk\\tO\\n', 'under\\tO\\n', 'the\\tO\\n', 'same\\tO\\n', 'directory\\tO\\n', '.\\tO\\n', '\\n', 'This\\tO\\n', 'file\\tI-Entity\\n', 'is\\tB-Action\\n', 'encoded\\tI-Action\\n', 'and\\tO\\n', 'not\\tO\\n', 'decoded\\tO\\n', 'at\\tO\\n', 'this\\tO\\n', 'stage\\tO\\n', 'of\\tO\\n', 'the\\tO\\n', 'attack\\tO\\n', '.\\tO\\n', '\\n', 'To\\tB-Modifier\\n', 'complete\\tO\\n', 'the\\tB-Entity\\n', 'file\\tI-Entity\\n', 'drop\\tI-Entity\\n', 'wuauclt.exe\\tB-Entity\\n', 'is\\tB-Action\\n', 'executed\\tI-Action\\n', '.\\tO\\n', '\\n', 'The\\tO\\n', '64bit\\tO\\n', 'version\\tO\\n', 'of\\tO\\n', 'this\\tO\\n', 'dropper\\tO\\n', 'is\\tO\\n', 'vastly\\tO\\n', 'similar\\tO\\n', 'in\\tO\\n', 'functionality\\tO\\n', 'although\\tO\\n', 'it\\tO\\n', 'offers\\tO\\n', 'slightly\\tO\\n', 'more\\tO\\n', 'efficiency\\tO\\n', 'in\\tO\\n', 'the\\tO\\n', 'code\\tO\\n', '.\\tO\\n', '\\n', 'The\\tO\\n', 'decoding\\tO\\n', 'routine\\tO\\n', 'is\\tO\\n', 'more\\tO\\n', 'simplified\\tO\\n', 'than\\tO\\n', 'its\\tO\\n', '32bit\\tO\\n', 'counterpart\\tO\\n', 'and\\tO\\n', 'the\\tO\\n', 'decoding\\tO\\n', 'key\\tO\\n', 'is\\tO\\n', 'hardcoded\\tO\\n', 'The\\tO\\n', 'following\\tO\\n', 'pseudo\\tO\\n', '-\\tO\\n', 'code\\tO\\n', 'can\\tO\\n', 'decode\\tO\\n', 'both\\tO\\n', '32bit\\tO\\n', 'and\\tO\\n', '64bit\\tO\\n', 'versions\\tO\\n', 'of\\tO\\n', 'the\\tO\\n', 'DLL\\tO\\n', 'stored\\tO\\n', 'in\\tO\\n', \"'\\tO\\n\", 'wuauclt.dat\\tO\\n', \"'\\tO\\n\", 'Not\\tO\\n', 'to\\tO\\n', 'dwell\\tO\\n', 'on\\tO\\n', 'a\\tO\\n', 'dropper\\tO\\n', ',\\tO\\n', 'let\\tO\\n', \"'s\\tO\\n\", 'move\\tO\\n', 'on\\tO\\n', 'to\\tO\\n', 'the\\tO\\n', 'second\\tO\\n', 'stage\\tO\\n', 'malware\\tO\\n', '.\\tO\\n', '\\n', 'The\\tB-Entity\\n', 'malware\\tI-Entity\\n', 'second\\tI-Entity\\n', 'stage\\tI-Entity\\n', 'is\\tO\\n', 'now\\tI-Action\\n', 'loaded\\tI-Action\\n', 'and\\tI-Action\\n', 'running\\tI-Action\\n', '.\\tO\\n', '\\n', 'Interestingly\\tO\\n', ',\\tO\\n', 'this\\tB-Entity\\n', 'payload\\tI-Entity\\n', 'is\\tB-Action\\n', 'also\\tI-Action\\n', 'detected\\tI-Action\\n', 'by\\tO\\n', 'anti\\tB-Entity\\n', '-\\tX\\n', 'virus\\tX\\n', 'as\\tB-Modifier\\n', 'Swisyn\\tB-Entity\\n', '.\\tO\\n', '\\n', 'This\\tB-Entity\\n', 'DLL\\tI-Entity\\n', 'is\\tO\\n', 'again\\tO\\n', 'fairly\\tO\\n', 'simple\\tO\\n', 'and\\tO\\n', 'acts\\tB-Action\\n', 'as\\tB-Modifier\\n', 'a\\tO\\n', 'secondary\\tI-Entity\\n', 'dropper\\tI-Entity\\n', '.\\tO\\n', '\\n', 'It\\tB-Entity\\n', 'primarily\\tO\\n', 'serves\\tO\\n', 'as\\tO\\n', 'a\\tO\\n', 'method\\tO\\n', 'of\\tO\\n', 'decoding\\tB-Action\\n', 'one\\tB-Entity\\n', 'of\\tI-Entity\\n', 'the\\tI-Entity\\n', 'files\\tI-Entity\\n', 'dropped\\tO\\n', 'by\\tO\\n', 'the\\tI-Entity\\n', 'previous\\tI-Entity\\n', 'malware\\tI-Entity\\n', 'stage\\tI-Entity\\n', 'and\\tO\\n', 'creating\\tB-Action\\n', 'a\\tB-Entity\\n', 'method\\tI-Entity\\n', 'to\\tO\\n', 'start\\tB-Action\\n', 'the\\tB-Entity\\n', 'malware\\tI-Entity\\n', 'on\\tB-Modifier\\n', 'system\\tB-Entity\\n', 'boot\\tI-Entity\\n', '-\\tX\\n', 'up\\tX\\n', 'or\\tI-Entity\\n', 'user\\tI-Entity\\n', 'login\\tI-Entity\\n', '.\\tO\\n', '\\n', 'In\\tO\\n', 'order\\tO\\n', 'to\\tO\\n', 'do\\tO\\n', 'this\\tO\\n', 'the\\tO\\n', 'malware\\tO\\n', 'firstly\\tO\\n', 'decodes\\tO\\n', 'a\\tO\\n', 'file\\tO\\n', 'that\\tO\\n', 'was\\tO\\n', 'dropped\\tO\\n', 'by\\tO\\n', 'the\\tO\\n', 'previous\\tO\\n', 'stage\\tO\\n', '–\\tO\\n', 'in\\tO\\n', 'this\\tO\\n', 'case\\tO\\n', 'it\\tO\\n', 'is\\tO\\n', '\"\\tO\\n', 'wuauclt.dat\\tO\\n', '\"\\tO\\n', '.\\tO\\n', '\\n', 'The\\tO\\n', 'decoding\\tO\\n', 'routine\\tO\\n', 'is\\tO\\n', 'again\\tO\\n', 'overly\\tO\\n', 'complex\\tO\\n', 'but\\tO\\n', 'ultimately\\tO\\n', 'amounts\\tO\\n', 'to\\tO\\n', 'a\\tO\\n', 'simple\\tO\\n', 'subtraction\\tO\\n', 'and\\tO\\n', 'XOR\\tO\\n', ',\\tO\\n', 'again\\tO\\n', 'both\\tO\\n', 'of\\tO\\n', 'these\\tO\\n', 'operations\\tO\\n', 'are\\tO\\n', 'performed\\tO\\n', 'by\\tO\\n', 'the\\tO\\n', 'number\\tO\\n', '3\\tO\\n', ',\\tO\\n', 'thus\\tO\\n', 'each\\tO\\n', 'byte\\tO\\n', 'is\\tO\\n', 'subtracted\\tO\\n', 'by\\tO\\n', '3\\tO\\n', 'and\\tO\\n', 'then\\tO\\n', \"XOR'd\\tO\\n\", 'with\\tO\\n', '3\\tO\\n', 'Once\\tO\\n', 'this\\tO\\n', 'file\\tO\\n', 'has\\tO\\n', 'been\\tO\\n', 'decoded\\tO\\n', 'it\\tO\\n', 'is\\tO\\n', 'loaded\\tO\\n', 'into\\tO\\n', 'memory\\tO\\n', 'and\\tO\\n', 'executed\\tO\\n', '.\\tO\\n', '\\n', 'This\\tO\\n', 'file\\tO\\n', ',\\tO\\n', 'once\\tO\\n', 'decoded\\tO\\n', 'is\\tO\\n', 'the\\tO\\n', 'third\\tO\\n', 'and\\tO\\n', 'final\\tO\\n', 'payload\\tO\\n', '.\\tO\\n', '\\n', 'The\\tO\\n', 'method\\tO\\n', 'of\\tI-Entity\\n', 'leaving\\tB-Action\\n', 'the\\tI-Entity\\n', 'encoded\\tI-Entity\\n', 'file\\tI-Entity\\n', 'on\\tI-Entity\\n', 'disk\\tI-Entity\\n', 'and\\tI-Entity\\n', 'only\\tI-Entity\\n', 'decoding\\tI-Entity\\n', 'it\\tI-Entity\\n', 'in\\tI-Entity\\n', 'memory\\tI-Entity\\n', 'is\\tO\\n', 'to\\tO\\n', 'thwart\\tB-Action\\n', 'poorly\\tB-Entity\\n', 'configured\\tI-Entity\\n', 'anti\\tI-Entity\\n', '-\\tX\\n', 'virus\\tI-Entity\\n', 'or\\tI-Entity\\n', 'disk\\tI-Entity\\n', 'surface\\tI-Entity\\n', 'heuristic\\tI-Entity\\n', 'scanners\\tI-Entity\\n', '.\\tO\\n', '\\n', 'Finally\\tO\\n', 'to\\tO\\n', 'wrap\\tO\\n', 'up\\tO\\n', ',\\tO\\n', 'an\\tB-Entity\\n', 'entry\\tI-Entity\\n', 'is\\tB-Action\\n', 'created\\tI-Action\\n', 'in\\tO\\n', 'the\\tO\\n', 'registry\\tI-Entity\\n', 'named\\tI-Entity\\n', \"'\\tI-Entity\\n\", 'wuauclt\\tI-Entity\\n', \"'\\tI-Entity\\n\", 'is\\tB-Action\\n', 'created\\tI-Action\\n', 'under\\tB-Modifier\\n', \"'\\tO\\n\", 'HKCU\\\\Software\\\\Microsoft\\\\Windows\\\\Current\\tI-Entity\\n', 'Version\\\\Run\\tI-Entity\\n', \"'\\tO\\n\", 'to\\tB-Modifier\\n', 'ensure\\tO\\n', 'that\\tI-Entity\\n', 'this\\tB-Entity\\n', 'file\\tI-Entity\\n', 'is\\tI-Entity\\n', 'executed\\tI-Entity\\n', 'upon\\tO\\n', 'user\\tO\\n', '-\\tO\\n', 'login\\tO\\n', '.\\tO\\n', '\\n', 'Finally\\tO\\n', 'we\\tO\\n', 'are\\tO\\n', 'left\\tO\\n', 'with\\tO\\n', 'a\\tO\\n', 'full\\tO\\n', 'payload\\tO\\n', '.\\tO\\n', '\\n', 'Unsurprisingly\\tO\\n', 'the\\tO\\n', '3rd\\tI-Entity\\n', 'and\\tI-Entity\\n', 'final\\tI-Entity\\n', 'stage\\tI-Entity\\n', 'of\\tI-Entity\\n', 'this\\tI-Entity\\n', 'part\\tI-Entity\\n', 'of\\tI-Entity\\n', 'the\\tI-Entity\\n', 'attack\\tI-Entity\\n', 'is\\tO\\n', 'a\\tB-Entity\\n', 'fully\\tO\\n', 'fledged\\tX\\n', 'RAT\\tI-Entity\\n', '(\\tI-Entity\\n', 'Remote\\tI-Entity\\n', 'Administration\\tI-Entity\\n', 'Tool\\tI-Entity\\n', ')\\tI-Entity\\n', ',\\tO\\n', 'which\\tO\\n', 'is\\tB-Action\\n', 'detected\\tB-Action\\n', 'by\\tO\\n', 'anti\\tB-Entity\\n', '-\\tX\\n', 'virus\\tX\\n', 'as\\tB-Modifier\\n', 'PCClient\\tB-Entity\\n', '.\\tO\\n', '\\n', 'This\\tO\\n', 'RAT\\tI-Entity\\n', 'allows\\tB-Action\\n', 'the\\tB-Entity\\n', 'attacker\\tI-Entity\\n', 'to\\tO\\n', 'control\\tB-Action\\n', 'the\\tI-Entity\\n', 'infected\\tI-Entity\\n', 'workstation\\tI-Entity\\n', 'and\\tO\\n', 'perform\\tO\\n', 'a\\tO\\n', 'vast\\tO\\n', 'array\\tO\\n', 'of\\tO\\n', 'administrative\\tO\\n', 'functions\\tO\\n', 'such\\tO\\n', 'as\\tO\\n', '.\\tO\\n', '\\n', 'A\\tO\\n', 'high\\tO\\n', '-\\tO\\n', 'level\\tO\\n', 'view\\tO\\n', 'of\\tO\\n', 'the\\tO\\n', 'command\\tO\\n', 'structure\\tO\\n', 'gives\\tO\\n', 'us\\tO\\n', 'an\\tO\\n', 'idea\\tO\\n', 'as\\tO\\n', 'to\\tO\\n', 'how\\tO\\n', 'simple\\tO\\n', 'this\\tO\\n', 'functionality\\tO\\n', 'can\\tO\\n', 'seem\\tO\\n', ',\\tO\\n', 'but\\tO\\n', 'does\\tO\\n', 'not\\tO\\n', 'turn\\tO\\n', 'away\\tO\\n', 'from\\tO\\n', 'how\\tO\\n', 'damaging\\tO\\n', 'the\\tO\\n', 'affects\\tO\\n', 'can\\tO\\n', 'be\\tO\\n', '.\\tO\\n', '\\n', 'Once\\tO\\n', 'the\\tB-Entity\\n', 'RAT\\tI-Entity\\n', 'has\\tO\\n', 'been\\tB-Action\\n', 'loaded\\tI-Action\\n', 'on\\tB-Modifier\\n', 'the\\tO\\n', 'infected\\tI-Entity\\n', 'machine\\tI-Entity\\n', 'it\\tB-Entity\\n', 'begins\\tO\\n', 'calling\\tB-Action\\n', 'out\\tI-Action\\n', 'to\\tB-Modifier\\n', 'the\\tO\\n', 'command\\tI-Entity\\n', 'and\\tI-Entity\\n', 'control\\tI-Entity\\n', 'server\\tI-Entity\\n', '(\\tO\\n', '\"\\tO\\n', 'phoning\\tO\\n', 'home\\tO\\n', '\"\\tO\\n', ')\\tO\\n', 'and\\tO\\n', 'waits\\tO\\n', 'for\\tO\\n', 'the\\tB-Entity\\n', 'attackers\\tI-Entity\\n', 'to\\tO\\n', 'issue\\tB-Action\\n', 'one\\tB-Entity\\n', 'of\\tI-Entity\\n', 'the\\tI-Entity\\n', 'above\\tI-Entity\\n', 'commands\\tI-Entity\\n', 'to\\tB-Modifier\\n', 'the\\tO\\n', 'victim\\tI-Entity\\n', '.\\tO\\n', '\\n', 'As\\tO\\n', 'we\\tO\\n', 'usually\\tO\\n', 'see\\tO\\n', 'with\\tO\\n', 'APT\\tO\\n', 'attacks\\tO\\n', 'the\\tO\\n', 'malware\\tO\\n', 'controllers\\tO\\n', 'use\\tO\\n', 'a\\tO\\n', 'specific\\tO\\n', 'ID\\tO\\n', 'to\\tO\\n', 'code\\tO\\n', 'their\\tO\\n', 'attack\\tO\\n', 'campaign\\tO\\n', ',\\tO\\n', 'which\\tO\\n', 'in\\tO\\n', 'this\\tO\\n', 'case\\tO\\n', 'is\\tO\\n', \"'\\tO\\n\", 'C00BBB\\tO\\n', \"'\\tO\\n\", '.\\tO\\n', '\\n', 'Information\\tB-Entity\\n', 'about\\tI-Entity\\n', 'the\\tI-Entity\\n', 'victim\\tI-Entity\\n', 'system\\tI-Entity\\n', 'is\\tO\\n', 'collected\\tI-Action\\n', 'and\\tO\\n', 'posted\\tB-Action\\n', 'off\\tB-Modifier\\n', 'to\\tI-Modifier\\n', 'the\\tO\\n', 'command\\tB-Entity\\n', 'and\\tI-Entity\\n', 'control\\tI-Entity\\n', 'server\\tI-Entity\\n', '.\\tO\\n', '\\n', 'This\\tO\\n', 'information\\tO\\n', 'gives\\tO\\n', 'the\\tO\\n', 'attacker\\tO\\n', 'a\\tO\\n', 'brief\\tO\\n', 'description\\tO\\n', 'about\\tO\\n', 'the\\tO\\n', 'machine\\tO\\n', '.\\tO\\n', '\\n', 'The\\tO\\n', 'information\\tO\\n', 'consists\\tO\\n', 'of\\tO\\n', '.\\tO\\n', '\\n', 'This\\tB-Entity\\n', 'information\\tI-Entity\\n', 'is\\tO\\n', 'encoded\\tI-Action\\n', 'using\\tB-Modifier\\n', 'a\\tO\\n', 'simple\\tO\\n', 'bitwise\\tI-Entity\\n', 'operation\\tI-Entity\\n', 'and\\tO\\n', 'then\\tO\\n', 'sent\\tB-Action\\n', 'to\\tB-Modifier\\n', 'the\\tO\\n', 'command\\tB-Entity\\n', 'and\\tI-Entity\\n', 'control\\tI-Entity\\n', 'server\\tI-Entity\\n', '.\\tO\\n', '\\n', 'For\\tO\\n', 'example\\tO\\n', '.\\tO\\n', '\\n', 'Unencoded\\tO\\n', 'data\\tO\\n', 'Encoded\\tO\\n', 'data\\tO\\n', '44\\tO\\n', '45\\tO\\n', '4C\\tO\\n', '4C\\tO\\n', '2D\\tO\\n', '31\\tO\\n', '37\\tO\\n', '38\\tO\\n', 'DELL-178\\tO\\n', 'BA\\tO\\n', 'B9\\tO\\n', 'B2\\tO\\n', 'B2\\tO\\n', '51\\tO\\n', '4D\\tO\\n', '47\\tO\\n', '46\\tO\\n', 'QMGF\\tO\\n', '44\\tO\\n', '33\\tO\\n', '43\\tO\\n', '00\\tO\\n', '00\\tO\\n', '00\\tO\\n', '00\\tO\\n', '00\\tO\\n', 'D3C\\tO\\n', '.....\\tO\\n', '\\n', 'BA\\tO\\n', '4B\\tO\\n', 'BB\\tO\\n', '7E\\tO\\n', '7E\\tO\\n', '7E\\tO\\n', '7E\\tO\\n', '7E\\tO\\n', 'K\\tO\\n', '~~~~~\\tO\\n', '00\\tO\\n', '00\\tO\\n', '00\\tO\\n', '00\\tO\\n', '00\\tO\\n', '00\\tO\\n', '00\\tO\\n', '00\\tO\\n', '........\\tO\\n', '\\n', '7E\\tO\\n', '7E\\tO\\n', '7E\\tO\\n', '7E\\tO\\n', '7E\\tO\\n', '7E\\tO\\n', '7E\\tO\\n', '7E\\tO\\n', '~~~~~~~~\\tO\\n', '00\\tO\\n', '00\\tO\\n', '00\\tO\\n', '00\\tO\\n', '00\\tO\\n', '00\\tO\\n', '00\\tO\\n', '00\\tO\\n', '........\\tO\\n', '\\n', '7E\\tO\\n', '7E\\tO\\n', '7E\\tO\\n', '7E\\tO\\n', '7E\\tO\\n', '7E\\tO\\n', '7E\\tO\\n', '7E\\tO\\n', '~~~~~~~~\\tO\\n', '00\\tO\\n', '00\\tO\\n', '00\\tO\\n', '00\\tO\\n', '00\\tO\\n', '00\\tO\\n', '00\\tO\\n', '00\\tO\\n', '........\\tO\\n', '\\n', '7E\\tO\\n', '7E\\tO\\n', '7E\\tO\\n', '7E\\tO\\n', '7E\\tO\\n', '7E\\tO\\n', '7E\\tO\\n', '7E\\tO\\n', '~~~~~~~~\\tO\\n', '00\\tO\\n', '00\\tO\\n', '00\\tO\\n', '00\\tO\\n', '00\\tO\\n', '00\\tO\\n', '00\\tO\\n', '00\\tO\\n', '........\\tO\\n', '\\n', '7E\\tO\\n', '7E\\tO\\n', '7E\\tO\\n', '7E\\tO\\n', '7E\\tO\\n', '7E\\tO\\n', '7E\\tO\\n', '7E\\tO\\n', '~~~~~~~~\\tO\\n', '00\\tO\\n', '00\\tO\\n', '00\\tO\\n', '00\\tO\\n', '00\\tO\\n', '00\\tO\\n', '00\\tO\\n', '00\\tO\\n', '........\\tO\\n', '\\n', '7E\\tO\\n', '7E\\tO\\n', '7E\\tO\\n', '7E\\tO\\n', '7E\\tO\\n', '7E\\tO\\n', '7E\\tO\\n', '7E\\tO\\n', '~~~~~~~~\\tO\\n', '00\\tO\\n', '00\\tO\\n', '00\\tO\\n', '00\\tO\\n', '00\\tO\\n', '00\\tO\\n', '00\\tO\\n', '00\\tO\\n', '........\\tO\\n', '\\n', '7E\\tO\\n', '7E\\tO\\n', '7E\\tO\\n', '7E\\tO\\n', '7E\\tO\\n', '7E\\tO\\n', '7E\\tO\\n', '7E\\tO\\n', '~~~~~~~~\\tO\\n', '35\\tX\\n', '31\\tO\\n', '32\\tO\\n', '4D\\tO\\n', '42\\tO\\n', '00\\tO\\n', '00\\tO\\n', '00\\tO\\n', '512\\tO\\n', 'MB\\tO\\n', '...\\tO\\n', '\\n', '49\\tO\\n', '4D\\tO\\n', '4C\\tO\\n', 'B1\\tO\\n', 'BC\\tO\\n', '7E\\tO\\n', '7E\\tO\\n', '7E\\tO\\n', 'IML\\tO\\n', '~~~\\tO\\n', '00\\tO\\n', '00\\tO\\n', '00\\tO\\n', '00\\tO\\n', '00\\tO\\n', '00\\tO\\n', '00\\tO\\n', '00\\tO\\n', '........\\tO\\n', '\\n', '7E\\tO\\n', '7E\\tO\\n', '7E\\tO\\n', '7E\\tO\\n', '7E\\tO\\n', '7E\\tO\\n', '7E\\tO\\n', '7E\\tO\\n', '~~~~~~~~\\tO\\n', '00\\tO\\n', '00\\tO\\n', '00\\tO\\n', '00\\tO\\n', '00\\tO\\n', '00\\tO\\n', '00\\tO\\n', '00\\tO\\n', '........\\tO\\n', '\\n', '7E\\tO\\n', '7E\\tO\\n', '7E\\tO\\n', '7E\\tO\\n', '7E\\tO\\n', '7E\\tO\\n', '7E\\tO\\n', '7E\\tO\\n', '~~~~~~~~\\tO\\n', '00\\tO\\n', '00\\tO\\n', '00\\tO\\n', '00\\tO\\n', '00\\tO\\n', '00\\tO\\n', '00\\tO\\n', '00\\tO\\n', '........\\tO\\n', '\\n', '7E\\tO\\n', '7E\\tO\\n', '7E\\tO\\n', '7E\\tO\\n', '7E\\tO\\n', '7E\\tO\\n', '7E\\tO\\n', '7E\\tO\\n', '~~~~~~~~\\tO\\n', '57\\tO\\n', '69\\tO\\n', '6E\\tO\\n', '20\\tO\\n', '58\\tO\\n', '50\\tO\\n', '20\\tO\\n', '53\\tO\\n', 'Win\\tO\\n', 'XP\\tO\\n', 'S\\tO\\n', 'A7\\tO\\n', '95\\tO\\n', '90\\tO\\n', '5E\\tO\\n', 'A6\\tO\\n', 'AE\\tO\\n', '5E\\tO\\n', 'AB\\tO\\n', '••^\\tO\\n', '^\\tO\\n', '50\\tO\\n', '33\\tO\\n', '20\\tO\\n', '28\\tO\\n', '42\\tO\\n', '75\\tO\\n', '69\\tO\\n', '6C\\tO\\n', 'P3\\tO\\n', '(\\tO\\n', 'Buil\\tO\\n', 'AE\\tO\\n', '4B\\tO\\n', '5E\\tO\\n', '56\\tO\\n', 'BC\\tO\\n', '89\\tO\\n', '95\\tO\\n', '92\\tO\\n', 'K^V\\tO\\n', '‰•\\tO\\n', \"'\\tO\\n\", '64\\tO\\n', '20\\tO\\n', '32\\tO\\n', '36\\tO\\n', '30\\tO\\n', '30\\tO\\n', '29\\tO\\n', '00\\tO\\n', 'd\\tO\\n', '2600\\tO\\n', ')\\tO\\n', '.\\tO\\n', '\\n', '9A\\tO\\n', '5E\\tO\\n', '4C\\tO\\n', '48\\tO\\n', '4E\\tO\\n', '4E\\tO\\n', '55\\tO\\n', '7E\\tO\\n', 'š^LHNNU~\\tO\\n', '00\\tO\\n', '00\\tO\\n', '00\\tO\\n', '00\\tO\\n', '00\\tO\\n', '00\\tO\\n', '00\\tO\\n', '00\\tO\\n', '........\\tO\\n', '\\n', '7E\\tO\\n', '7E\\tO\\n', '7E\\tO\\n', '7E\\tO\\n', '7E\\tO\\n', '7E\\tO\\n', '7E\\tO\\n', '7E\\tO\\n', '~~~~~~~~\\tO\\n', '00\\tO\\n', '00\\tO\\n', '00\\tO\\n', '00\\tO\\n', '00\\tO\\n', '00\\tO\\n', '00\\tO\\n', '00\\tO\\n', '........\\tO\\n', '\\n', '7E\\tO\\n', '7E\\tO\\n', '7E\\tO\\n', '7E\\tO\\n', '7E\\tO\\n', '7E\\tO\\n', '7E\\tO\\n', '7E\\tO\\n', '~~~~~~~~\\tO\\n', '00\\tO\\n', '00\\tO\\n', '00\\tO\\n', '00\\tO\\n', '00\\tO\\n', '00\\tO\\n', '00\\tO\\n', '00\\tO\\n', '........\\tO\\n', '\\n', '7E\\tO\\n', '7E\\tO\\n', '7E\\tO\\n', '7E\\tO\\n', '7E\\tO\\n', '7E\\tO\\n', '7E\\tO\\n', '7E\\tO\\n', '~~~~~~~~\\tO\\n', '00\\tO\\n', '00\\tO\\n', '00\\tO\\n', '00\\tO\\n', '00\\tO\\n', '00\\tO\\n', '00\\tO\\n', '00\\tO\\n', '........\\tO\\n', '\\n', '7E\\tO\\n', '7E\\tO\\n', '7E\\tO\\n', '7E\\tO\\n', '7E\\tO\\n', '7E\\tO\\n', '7E\\tO\\n', '7E\\tO\\n', '~~~~~~~~\\tO\\n', '00\\tO\\n', '00\\tO\\n', '00\\tO\\n', '00\\tO\\n', '00\\tO\\n', '00\\tO\\n', '00\\tO\\n', '00\\tO\\n', '........\\tO\\n', '\\n', '7E\\tO\\n', '7E\\tO\\n', '7E\\tO\\n', '7E\\tO\\n', '7E\\tO\\n', '7E\\tO\\n', '7E\\tO\\n', '7E\\tO\\n', '~~~~~~~~\\tO\\n', '43\\tX\\n', '30\\tO\\n', '30\\tO\\n', '42\\tO\\n', '42\\tO\\n', '42\\tO\\n', '00\\tO\\n', '00\\tO\\n', 'C00BBB\\tO\\n', '..\\tX\\n', '\\n', 'BB\\tO\\n', '4E\\tO\\n', '4E\\tO\\n', 'BC\\tO\\n', 'BC\\tO\\n', 'BC\\tO\\n', '7E\\tO\\n', '7E\\tO\\n', 'NN\\tO\\n', '~~\\tO\\n', 'Whilst\\tO\\n', 'this\\tO\\n', 'may\\tO\\n', 'seem\\tO\\n', 'to\\tO\\n', 'make\\tO\\n', 'the\\tO\\n', 'data\\tO\\n', 'harder\\tO\\n', 'to\\tO\\n', 'recover\\tO\\n', 'it\\tB-Entity\\n', 'actually\\tO\\n', 'makes\\tB-Action\\n', 'detection\\tB-Entity\\n', 'of\\tI-Entity\\n', 'the\\tI-Entity\\n', 'traffic\\tI-Entity\\n', 'easier\\tO\\n', '.\\tO\\n', '\\n', 'To\\tO\\n', 'decode\\tO\\n', 'the\\tO\\n', 'traffic\\tO\\n', 'a\\tO\\n', 'simple\\tO\\n', 'calculation\\tO\\n', 'can\\tO\\n', 'be\\tO\\n', 'performed\\tO\\n', 'by\\tO\\n', 'reversing\\tO\\n', 'the\\tO\\n', 'encoding\\tO\\n', 'operations\\tO\\n', '.\\tO\\n', '\\n', 'In\\tO\\n', 'this\\tO\\n', 'case\\tO\\n', 'the\\tO\\n', 'malware\\tO\\n', 'simply\\tO\\n', 'increases\\tO\\n', 'the\\tO\\n', 'initial\\tO\\n', 'encoding\\tO\\n', 'key\\tO\\n', 'by\\tO\\n', '1\\tO\\n', ',\\tO\\n', 'then\\tO\\n', 'adds\\tO\\n', 'this\\tO\\n', 'value\\tO\\n', 'to\\tO\\n', 'each\\tO\\n', 'byte\\tO\\n', 'in\\tO\\n', 'the\\tO\\n', 'buffer\\tO\\n', 'and\\tO\\n', 'finally\\tO\\n', 'XOR\\tO\\n', \"'s\\tO\\n\", 'each\\tO\\n', 'byte\\tO\\n', '.\\tO\\n', '\\n', 'Once\\tO\\n', 'again\\tO\\n', ',\\tO\\n', 'the\\tO\\n', 'following\\tO\\n', 'pseudo\\tO\\n', '-\\tX\\n', 'code\\tO\\n', 'can\\tO\\n', 'decode\\tO\\n', 'this\\tO\\n', 'data\\tO\\n', 'During\\tO\\n', 'in\\tO\\n', 'the\\tO\\n', 'investigation\\tO\\n', 'we\\tO\\n', 'performed\\tO\\n', 'analysis\\tO\\n', 'of\\tO\\n', 'the\\tO\\n', 'infrastructure\\tO\\n', 'that\\tO\\n', 'this\\tB-Entity\\n', 'malware\\tI-Entity\\n', 'communicates\\tO\\n', 'with\\tO\\n', '.\\tO\\n', '\\n', 'On\\tO\\n', 'this\\tO\\n', 'occasion\\tO\\n', 'we\\tO\\n', 'have\\tO\\n', 'not\\tO\\n', 'been\\tO\\n', 'able\\tO\\n', 'to\\tO\\n', 'gain\\tO\\n', 'physical\\tO\\n', 'access\\tO\\n', 'to\\tO\\n', 'the\\tO\\n', 'command\\tO\\n', 'and\\tO\\n', 'control\\tO\\n', 'server\\tO\\n', 'as\\tO\\n', 'it\\tO\\n', 'is\\tO\\n', 'legitimate\\tO\\n', ',\\tO\\n', 'but\\tO\\n', 'compromised\\tO\\n', 'production\\tO\\n', 'infrastructure\\tO\\n', '.\\tO\\n', '\\n', 'The\\tO\\n', 'graph\\tO\\n', 'below\\tO\\n', 'shows\\tO\\n', 'the\\tO\\n', 'flow\\tO\\n', 'in\\tO\\n', 'which\\tO\\n', 'various\\tO\\n', 'parts\\tI-Entity\\n', 'of\\tI-Entity\\n', 'the\\tO\\n', 'attack\\tO\\n', 'are\\tO\\n', 'loaded\\tO\\n', 'and\\tO\\n', 'how\\tO\\n', 'they\\tO\\n', 'chain\\tO\\n', 'together\\tO\\n', '.\\tO\\n', '\\n', 'This\\tB-Entity\\n', 'attack\\tI-Entity\\n', 'can\\tO\\n', 'be\\tO\\n', 'detected\\tO\\n', 'and/or\\tO\\n', 'mitigated\\tO\\n', 'at\\tO\\n', 'each\\tO\\n', 'stage\\tO\\n', '.\\tO\\n', '\\n', 'In\\tO\\n', 'order\\tO\\n', 'to\\tO\\n', 'help\\tO\\n', 'organisations\\tO\\n', 'protect\\tO\\n', 'themselves\\tO\\n', 'we\\tO\\n', 'have\\tO\\n', 'created\\tO\\n', 'a\\tO\\n', 'number\\tO\\n', 'of\\tO\\n', 'network\\tO\\n', 'IDS\\tO\\n', 'rules\\tO\\n', 'and\\tO\\n', 'disk\\tO\\n', '-\\tO\\n', 'scan\\tO\\n', 'rules\\tO\\n', 'that\\tO\\n', 'can\\tO\\n', 'be\\tO\\n', 'used\\tO\\n', 'with\\tO\\n', 'Snort\\tO\\n', 'and\\tO\\n', 'Yara\\tO\\n', '.\\tO\\n', '\\n', 'Rules\\tO\\n', 'are\\tO\\n', 'provided\\tO\\n', 'in\\tO\\n', 'a\\tO\\n', 'best\\tO\\n', '-\\tO\\n', 'effort\\tO\\n', 'basis\\tO\\n', 'and\\tO\\n', 'we\\tO\\n', 'can\\tO\\n', 'not\\tO\\n', 'vouch\\tO\\n', 'for\\tO\\n', 'their\\tO\\n', 'efficiency\\tO\\n', 'in\\tO\\n', 'your\\tO\\n', 'environment\\tO\\n', '.\\tO\\n', '\\n', 'Wateringhole\\tO\\n', 'code\\tO\\n', 'Encoded\\tO\\n', 'version\\tO\\n', 'of\\tO\\n', 'PcClient\\tO\\n', 'PcClient\\tO\\n', 'malware\\tO\\n', 'beaconing\\tO\\n', 'alert\\tO\\n', 'tcp\\tO\\n', '$\\tO\\n', 'HOME_NET\\tO\\n', 'any\\tO\\n', '-\\tO\\n', '>\\tO\\n', '$\\tO\\n', 'EXTERNAL_NET\\tO\\n', '[\\tO\\n', '80,443\\tO\\n', ']\\tO\\n', '(\\tO\\n', 'msg:\"MALWARE\\tO\\n', '–\\tO\\n', 'DTL\\tO\\n', 'ID\\tO\\n', '12012015\\tO\\n', '-\\tO\\n', 'PcClient\\tO\\n', 'beacon\\tO\\n', '\"\\tO\\n', ';\\tO\\n', 'flow\\tO\\n', ':\\tO\\n', 'established\\tO\\n', ',\\tO\\n', 'to_server\\tO\\n', ';\\tO\\n', 'content:\"|BB\\tO\\n', '4E\\tO\\n', '4E\\tO\\n', 'BC\\tO\\n', 'BC\\tO\\n', 'BC\\tO\\n', '7E\\tO\\n', '7E|\\tO\\n', '\"\\tO\\n', ';\\tO\\n', 'nocase\\tO\\n', ';\\tO\\n', 'offset:160\\tO\\n', ';\\tO\\n', 'depth:8\\tO\\n', ';\\tO\\n', 'classtype\\tO\\n', ':\\tO\\n', 'trojan\\tO\\n', '-\\tO\\n', 'activty\\tO\\n', ';\\tO\\n', 'sid\\tO\\n', ':\\tO\\n', 'YOUR_SID\\tO\\n', ';\\tO\\n', 'rev:20122014\\tO\\n', ';\\tO\\n', ')\\tO\\n', 'Malware\\tO\\n', 'domain\\tO\\n', 'alert\\tO\\n', 'udp\\tO\\n', '$\\tO\\n', 'HOME_NET\\tO\\n', 'any\\tO\\n', '-\\tO\\n', '>\\tO\\n', '$\\tO\\n', 'EXTERNAL_NET\\tO\\n', '53\\tO\\n', '(\\tO\\n', 'msg:\"MALWARE\\tO\\n', '-\\tO\\n', 'DTL\\tO\\n', 'ID\\tO\\n', '12012015\\tO\\n', '-\\tO\\n', 'C2\\tO\\n', 'Domain\\tO\\n', '\"\\tO\\n', ';\\tO\\n', 'content:\"|06|aoemvp|03|com\\tO\\n', '\"\\tO\\n', ';\\tO\\n', 'classtype\\tO\\n', ':\\tO\\n', 'trojan\\tO\\n', '-\\tO\\n', 'activity\\tO\\n', ';\\tO\\n', 'sid\\tO\\n', ':\\tO\\n', 'YOUR_SID\\tO\\n', ';\\tO\\n', 'rev\\tO\\n', ':\\tO\\n', '20122014\\tO\\n', ';\\tO\\n', ')\\tO\\n', 'C2\\tO\\n', 'server\\tO\\n', 'IP\\tO\\n', '#\\tO\\n', '1\\tO\\n', 'alert\\tO\\n', 'ip\\tO\\n', '$\\tO\\n', 'HOME_NET\\tO\\n', 'any\\tO\\n', '<\\tO\\n', '>\\tO\\n', '45.64.74.101\\tO\\n', 'any\\tO\\n', '(\\tO\\n', 'msg:\"MALWARE\\tO\\n', '-\\tO\\n', 'DTL\\tO\\n', 'ID\\tO\\n', '12012015\\tO\\n', '–\\tO\\n', 'C2\\tO\\n', 'IP\\tO\\n', 'Address\\tO\\n', '\"\\tO\\n', ';\\tO\\n', 'classtype\\tO\\n', ':\\tO\\n', 'trojan\\tO\\n', '-\\tO\\n', 'activity\\tO\\n', ';\\tO\\n', 'sid\\tO\\n', ':\\tO\\n', 'YOUR_SID\\tO\\n', ';\\tO\\n', 'rev\\tO\\n', ':\\tO\\n', '20122014\\tO\\n', ';\\tO\\n', ')\\tO\\n', 'C2\\tO\\n', 'server\\tO\\n', 'IP\\tO\\n', '#\\tO\\n', '2\\tO\\n', 'alert\\tO\\n', 'ip\\tO\\n', '$\\tO\\n', 'HOME_NET\\tO\\n', 'any\\tO\\n', '<\\tO\\n', '>\\tO\\n', '103.229.127.104\\tO\\n', 'any\\tO\\n', '(\\tO\\n', 'msg:\"MALWARE\\tO\\n', '-\\tO\\n', 'DTL\\tO\\n', 'ID\\tO\\n', '12012015\\tO\\n', '-\\tO\\n', 'C2\\tO\\n', 'IP\\tO\\n', 'Address\\tO\\n', '\"\\tO\\n', ';\\tO\\n', 'classtype\\tO\\n', ':\\tO\\n', 'trojan\\tO\\n', '-\\tO\\n', 'activity\\tO\\n', ';\\tO\\n', 'sid\\tO\\n', ':\\tO\\n', 'YOUR_SID\\tO\\n', ';\\tO\\n', 'rev\\tO\\n', ':\\tO\\n', '20122014\\tO\\n', ';\\tO\\n', ')\\tO\\n', 'The\\tO\\n', 'following\\tO\\n', 'artefacts\\tO\\n', 'were\\tO\\n', 'found\\tO\\n', 'during\\tO\\n', 'the\\tO\\n', 'investigation\\tO\\n', 'MD5s\\tO\\n', 'Network\\tO\\n', 'artefacts\\tO\\n', 'a6a18c846e5179259eba9de238f67e41\\tO\\n', 'c.aoemvp.com\\tO\\n', '55f84d88d84c221437cd23cdbc541d2e\\tO\\n', 'aoemvp.com\\tO\\n', 'a6a18c846e5179259eba9de238f67e41\\tO\\n', 'lim.kiu@hotmail.com\\tO\\n', '279ef79f904476ba0f9f44c87358bb1f\\tO\\n', '45.64.74.101\\tO\\n', '42b76c0503a6bf21f1ea86e0b14d67ea\\tO\\n', '103.229.127.104\\tO\\n', 'cff25fe24a90ef63eaa168c07008c2bb\\tO\\n', 'ad17eff26994df824be36db246c8fb6a\\tO\\n', 'f66b64ef984ac46ac7395358059979bc\\tO\\n', 'efd9dc39682312d6576468f5c0eb6236\\tO\\n', 'For\\tO\\n', 'all\\tO\\n', 'questions\\tO\\n', 'relating\\tO\\n', 'to\\tO\\n', 'the\\tO\\n', 'publication\\tO\\n', 'or\\tO\\n', 'specifics\\tO\\n', 'in\\tO\\n', 'this\\tO\\n', 'document\\tO\\n', 'please\\tO\\n', 'contact\\tO\\n', 'us\\tO\\n', 'via\\tO\\n', 'one\\tO\\n', 'of\\tO\\n', 'the\\tO\\n', 'following\\tO\\n', 'methods\\tO\\n', '.\\tO\\n', '\\n', 'Twitter\\tO\\n', ':\\tO\\n', '@dragonthreatlab\\tO\\n', 'Website\\tO\\n', ':\\tO\\n', 'http://dragonthreat.blogspot.hk\\tO\\n', 'Email\\tO\\n', ':\\tO\\n', 'dragonthreatlabs@gmail.com\\tO\\n', 'Kind\\tO\\n', 'regards\\tO\\n', ',\\tO\\n', 'Dan\\tO\\n', 'Dragon\\tO\\n', 'Threat\\tO\\n', 'Labs\\tO\\n', '\\n', 'Energetic\\tO\\n', 'Bear\\tO\\n', '/\\tO\\n', 'Crouching\\tO\\n', 'Yeti\\tO\\n', 'is\\tO\\n', 'an\\tO\\n', 'actor\\tO\\n', 'involved\\tO\\n', 'in\\tO\\n', 'several\\tO\\n', 'advanced\\tO\\n', 'persistent\\tO\\n', 'threat\\tO\\n', '(\\tO\\n', 'APT\\tO\\n', ')\\tO\\n', 'campaigns\\tO\\n', 'that\\tO\\n', 'have\\tO\\n', 'been\\tO\\n', 'active\\tO\\n', 'going\\tO\\n', 'back\\tO\\n', 'to\\tO\\n', 'at\\tO\\n', 'least\\tO\\n', 'the\\tO\\n', 'end\\tO\\n', 'of\\tO\\n', '2010\\tO\\n', '.\\tO\\n', '\\n', 'Targeted\\tO\\n', 'sectors\\tO\\n', 'include\\tO\\n', '.\\tO\\n', '\\n', 'Most\\tO\\n', 'of\\tO\\n', 'the\\tO\\n', 'victims\\tO\\n', 'we\\tO\\n', 'identified\\tO\\n', 'fall\\tO\\n', 'into\\tO\\n', 'the\\tO\\n', 'industrial\\tO\\n', '/\\tO\\n', 'machinery\\tO\\n', 'building\\tO\\n', 'sector\\tO\\n', ',\\tO\\n', 'indicating\\tO\\n', 'this\\tO\\n', 'is\\tO\\n', 'of\\tO\\n', 'special\\tO\\n', 'interest\\tO\\n', '.\\tO\\n', '\\n', 'To\\tB-Modifier\\n', 'infect\\tB-Entity\\n', 'the\\tB-Entity\\n', 'victims\\tI-Entity\\n', ',\\tO\\n', 'the\\tB-Entity\\n', 'attackers\\tI-Entity\\n', 'rely\\tB-Action\\n', 'on\\tB-Modifier\\n', 'three\\tB-Entity\\n', 'methods\\tI-Entity\\n', '.\\tO\\n', '\\n', 'During\\tO\\n', 'the\\tO\\n', 'attacks\\tO\\n', ',\\tO\\n', 'the\\tB-Entity\\n', 'Crouching\\tI-Entity\\n', 'Yeti\\tI-Entity\\n', 'uses\\tB-Action\\n', 'several\\tB-Entity\\n', 'malware\\tI-Entity\\n', '/\\tI-Entity\\n', 'Trojans\\tI-Entity\\n', ',\\tO\\n', 'which\\tO\\n', 'exclusively\\tO\\n', 'infect\\tB-Action\\n', 'Windows\\tB-Entity\\n', 'systems\\tI-Entity\\n', '.\\tO\\n', '\\n', 'For\\tB-Modifier\\n', 'command\\tB-Entity\\n', 'and\\tI-Entity\\n', 'control\\tI-Entity\\n', ',\\tO\\n', 'these\\tB-Entity\\n', 'connect\\tB-Action\\n', 'to\\tB-Modifier\\n', 'a\\tB-Entity\\n', 'large\\tI-Entity\\n', 'network\\tI-Entity\\n', 'of\\tI-Entity\\n', 'hacked\\tI-Entity\\n', 'websites\\tI-Entity\\n', '.\\tO\\n', '\\n', 'These\\tB-Entity\\n', 'sites\\tI-Entity\\n', 'host\\tB-Action\\n', 'malware\\tB-Entity\\n', 'modules\\tI-Entity\\n', ',\\tO\\n', 'victim\\tB-Entity\\n', 'information\\tI-Entity\\n', 'and\\tO\\n', 'issue\\tB-Action\\n', 'commands\\tB-Entity\\n', 'to\\tB-Modifier\\n', 'infected\\tB-Entity\\n', 'systems\\tI-Entity\\n', '.\\tO\\n', '\\n', 'The\\tO\\n', 'dozens\\tO\\n', 'of\\tO\\n', 'known\\tO\\n', 'Yeti\\tO\\n', 'exploit\\tO\\n', 'sites\\tO\\n', 'and\\tO\\n', 'their\\tO\\n', 'referrer\\tO\\n', 'sites\\tO\\n', 'were\\tO\\n', 'legitimate\\tO\\n', ',\\tO\\n', 'compromised\\tO\\n', 'sites\\tO\\n', '.\\tO\\n', '\\n', 'They\\tO\\n', 'ran\\tO\\n', 'vulnerable\\tO\\n', 'content\\tO\\n', 'management\\tO\\n', 'systems\\tO\\n', 'or\\tO\\n', 'vulnerable\\tO\\n', 'web\\tO\\n', 'applications\\tO\\n', '.\\tO\\n', '\\n', 'None\\tO\\n', 'of\\tO\\n', 'the\\tO\\n', 'exploits\\tO\\n', 'used\\tO\\n', 'to\\tO\\n', 'compromise\\tO\\n', 'the\\tO\\n', 'servers\\tO\\n', 'were\\tO\\n', 'known\\tO\\n', 'to\\tO\\n', 'be\\tO\\n', 'zero\\tO\\n', '-\\tX\\n', 'day\\tX\\n', '.\\tO\\n', '\\n', 'None\\tO\\n', 'of\\tO\\n', 'the\\tO\\n', 'client\\tO\\n', 'side\\tO\\n', 'exploits\\tO\\n', 're\\tO\\n', '-\\tO\\n', 'used\\tO\\n', 'from\\tO\\n', 'the\\tO\\n', 'open\\tO\\n', 'source\\tO\\n', 'metasploit\\tO\\n', 'framework\\tO\\n', 'were\\tO\\n', 'zero\\tO\\n', '-\\tX\\n', 'day\\tX\\n', '.\\tO\\n', '\\n', 'Overall\\tO\\n', ',\\tO\\n', 'we\\tO\\n', 'observed\\tO\\n', 'about\\tO\\n', '2,800\\tO\\n', 'victims\\tO\\n', 'worldwide\\tO\\n', ',\\tO\\n', 'the\\tO\\n', 'most\\tO\\n', 'prevalent\\tO\\n', 'attack\\tO\\n', 'tool\\tO\\n', 'being\\tO\\n', 'the\\tO\\n', 'Havex\\tI-Entity\\n', 'Trojan\\tO\\n', '.\\tO\\n', '\\n', 'We\\tO\\n', 'believe\\tO\\n', 'this\\tO\\n', 'group\\tO\\n', 'is\\tO\\n', 'highly\\tO\\n', 'determined\\tO\\n', 'and\\tO\\n', 'focused\\tO\\n', 'on\\tO\\n', 'a\\tO\\n', 'very\\tO\\n', 'specific\\tO\\n', 'industrial\\tO\\n', 'sector\\tO\\n', 'of\\tO\\n', 'vital\\tO\\n', 'interest\\tO\\n', '.\\tO\\n', '\\n', 'It\\tB-Entity\\n', 'uses\\tO\\n', 'a\\tO\\n', 'variety\\tO\\n', 'of\\tO\\n', 'ways\\tO\\n', 'to\\tO\\n', 'infect\\tB-Action\\n', 'its\\tO\\n', 'victims\\tI-Entity\\n', 'and\\tO\\n', 'exfiltrate\\tB-Action\\n', 'strategic\\tB-Entity\\n', 'information\\tI-Entity\\n', '.\\tO\\n', '\\n', 'The\\tO\\n', 'analyzed\\tO\\n', 'data\\tO\\n', 'seems\\tO\\n', 'to\\tO\\n', 'suggest\\tO\\n', 'the\\tO\\n', 'following\\tO\\n', 'points\\tO\\n', '.\\tO\\n', '\\n', 'This\\tO\\n', 'report\\tO\\n', 'provides\\tO\\n', 'technical\\tO\\n', 'details\\tO\\n', 'on\\tO\\n', 'how\\tO\\n', 'they\\tO\\n', 'perform\\tO\\n', 'their\\tO\\n', 'operations\\tO\\n', '.\\tO\\n', '\\n', 'This\\tO\\n', 'section\\tO\\n', 'analyzes\\tO\\n', 'all\\tO\\n', 'the\\tO\\n', 'aspects\\tO\\n', 'we\\tO\\n', 'could\\tO\\n', 'find\\tO\\n', 'about\\tO\\n', 'how\\tO\\n', 'this\\tO\\n', 'actor\\tO\\n', 'performs\\tO\\n', 'its\\tO\\n', 'campaigns\\tO\\n', '.\\tO\\n', '\\n', 'The\\tO\\n', 'Crouching\\tI-Entity\\n', 'Yeti\\tI-Entity\\n', 'actor\\tI-Entity\\n', 'performed\\tB-Action\\n', 'a\\tO\\n', 'massive\\tO\\n', 'surveillance\\tI-Entity\\n', 'operation\\tO\\n', 'targeting\\tO\\n', 'strategic\\tO\\n', 'victims\\tO\\n', ',\\tO\\n', 'many\\tO\\n', 'of\\tO\\n', 'them\\tO\\n', 'in\\tO\\n', 'the\\tO\\n', 'industrial\\tO\\n', '/\\tX\\n', 'manufacturing\\tO\\n', 'sector\\tO\\n', '.\\tO\\n', '\\n', 'There\\tO\\n', 'were\\tO\\n', 'different\\tO\\n', 'ways\\tO\\n', 'of\\tO\\n', 'delivering\\tB-Action\\n', 'of\\tO\\n', 'its\\tO\\n', 'malware\\tO\\n', 'including\\tO\\n', 'waterholing\\tO\\n', ',\\tO\\n', 'spearphishing\\tO\\n', 'and\\tO\\n', 'adding\\tO\\n', 'malware\\tO\\n', 'to\\tO\\n', 'legitimate\\tO\\n', 'installers\\tO\\n', '.\\tO\\n', '\\n', 'Once\\tB-Modifier\\n', 'the\\tB-Entity\\n', 'victims\\tI-Entity\\n', 'were\\tI-Entity\\n', 'infected\\tI-Action\\n', ',\\tO\\n', 'Crouching\\tB-Entity\\n', 'Yeti\\tI-Entity\\n', 'selected\\tB-Action\\n', 'different\\tB-Entity\\n', 'RATs\\tI-Entity\\n', 'for\\tB-Modifier\\n', 'its\\tO\\n', 'operations\\tI-Entity\\n', '.\\tO\\n', '\\n', 'These\\tB-Entity\\n', 'RATs\\tI-Entity\\n', 'communicated\\tB-Action\\n', 'with\\tB-Modifier\\n', 'Command\\tB-Entity\\n', 'and\\tI-Entity\\n', 'Control\\tI-Entity\\n', 'servers\\tI-Entity\\n', 'on\\tI-Entity\\n', 'compromised\\tI-Entity\\n', 'servers\\tI-Entity\\n', 'around\\tI-Entity\\n', 'the\\tI-Entity\\n', 'world\\tI-Entity\\n', ',\\tO\\n', 'using\\tB-Modifier\\n', 'a\\tO\\n', 'simple\\tB-Entity\\n', 'PHP\\tI-Entity\\n', 'backend\\tI-Entity\\n', '.\\tO\\n', '\\n', 'We\\tO\\n', 'were\\tO\\n', 'able\\tO\\n', 'to\\tO\\n', 'identify\\tO\\n', 'several\\tO\\n', 'victims\\tO\\n', ',\\tO\\n', 'including\\tO\\n', 'high\\tO\\n', '-\\tO\\n', 'profile\\tO\\n', 'ones\\tO\\n', 'and\\tO\\n', 'dozens\\tO\\n', 'of\\tO\\n', 'domains\\tO\\n', 'used\\tO\\n', 'in\\tO\\n', 'the\\tO\\n', 'campaign\\tO\\n', '.\\tO\\n', '\\n', 'As\\tO\\n', 'far\\tO\\n', 'as\\tO\\n', 'we\\tO\\n', 'know\\tO\\n', 'the\\tO\\n', 'group\\tB-Entity\\n', 'behind\\tO\\n', 'Crouching\\tO\\n', 'Yeti\\tO\\n', 'delivers\\tO\\n', 'its\\tO\\n', 'malware\\tO\\n', 'using\\tO\\n', 'at\\tO\\n', 'least\\tO\\n', 'three\\tO\\n', 'different\\tO\\n', 'methods\\tO\\n', '.\\tO\\n', '\\n', 'The\\tO\\n', 'first\\tO\\n', 'method\\tO\\n', 'uses\\tO\\n', 'a\\tO\\n', 'legitimate\\tO\\n', 'software\\tO\\n', 'installer\\tO\\n', 'repackaged\\tO\\n', 'to\\tO\\n', 'contain\\tO\\n', 'the\\tO\\n', 'malicious\\tO\\n', 'DLL\\tO\\n', '.\\tO\\n', '\\n', 'Such\\tO\\n', 'modified\\tI-Entity\\n', 'self\\tI-Entity\\n', '-\\tX\\n', 'extracting\\tX\\n', 'archives\\tI-Entity\\n', 'could\\tO\\n', 'have\\tO\\n', 'been\\tB-Action\\n', 'uploaded\\tI-Action\\n', 'directly\\tO\\n', 'to\\tI-Modifier\\n', 'a\\tB-Entity\\n', 'compromised\\tI-Entity\\n', 'server\\tI-Entity\\n', ',\\tO\\n', 'replacing\\tB-Action\\n', 'the\\tO\\n', 'original\\tI-Entity\\n', 'file\\tI-Entity\\n', ',\\tO\\n', 'or\\tO\\n', 'sent\\tB-Action\\n', 'to\\tB-Modifier\\n', 'the\\tB-Entity\\n', 'victim\\tB-Entity\\n', 'by\\tB-Modifier\\n', 'email\\tB-Entity\\n', '.\\tO\\n', '\\n', 'One\\tO\\n', 'example\\tO\\n', 'of\\tO\\n', 'this\\tO\\n', 'method\\tO\\n', 'was\\tO\\n', 'a\\tB-Entity\\n', 'hijacked\\tI-Entity\\n', 'SwissRanger\\tI-Entity\\n', 'camera\\tI-Entity\\n', 'driver\\tI-Entity\\n', '(\\tO\\n', 'libMesaSR\\tO\\n', 'version\\tO\\n', '1.0.14.706\\tO\\n', ')\\tO\\n', 'that\\tO\\n', 'was\\tO\\n', 'used\\tO\\n', 'to\\tO\\n', 'drop\\tB-Action\\n', 'the\\tO\\n', 'Sysmain\\tI-Entity\\n', 'backdoor\\tI-Entity\\n', 'to\\tO\\n', '.\\tO\\n', '\\n', '%\\tO\\n', 'APPDATA%\\\\sydmain.dll\\tO\\n', 'and\\tO\\n', 'set\\tB-Action\\n', 'the\\tO\\n', 'Run\\tI-Entity\\n', 'registry\\tI-Entity\\n', 'value\\tI-Entity\\n', 'to\\tB-Modifier\\n', 'load\\tO\\n', 'malicious\\tB-Entity\\n', 'DLL\\tI-Entity\\n', 'upon\\tB-Modifier\\n', 'next\\tB-Entity\\n', 'system\\tI-Entity\\n', 'startup\\tI-Entity\\n', '.\\tO\\n', '\\n', 'In\\tO\\n', 'a\\tO\\n', 'similar\\tO\\n', 'manner\\tO\\n', ',\\tO\\n', 'as\\tO\\n', 'early\\tO\\n', 'as\\tO\\n', 'January\\tO\\n', '2014\\tO\\n', ',\\tO\\n', 'Havex\\tB-Entity\\n', 'version\\tI-Entity\\n', '038\\tI-Entity\\n', 'appears\\tO\\n', 'to\\tO\\n', 'have\\tO\\n', 'been\\tB-Action\\n', 'dropped\\tI-Action\\n', 'by\\tO\\n', 'a\\tO\\n', 'legitimate\\tB-Entity\\n', '~40\\tI-Entity\\n', 'MB\\tI-Entity\\n', 'software\\tI-Entity\\n', 'installer\\tI-Entity\\n', 'from\\tB-Modifier\\n', 'the\\tB-Entity\\n', 'eWon\\tI-Entity\\n', 'web\\tI-Entity\\n', 'site\\tI-Entity\\n', '.\\tO\\n', '\\n', 'hxxp://www.ewon.biz\\tO\\n', '/\\tO\\n', 'software\\tO\\n', '/\\tO\\n', 'eCatcher\\tO\\n', '/\\tO\\n', 'eCatcherSetup.exe\\tO\\n', '\"\\tO\\n', 'eWon\\tO\\n', '\"\\tO\\n', 'is\\tO\\n', 'a\\tO\\n', 'Belgian\\tO\\n', 'producer\\tO\\n', 'of\\tO\\n', 'SCADA\\tO\\n', 'and\\tO\\n', 'industrial\\tO\\n', 'network\\tO\\n', 'equipment\\tO\\n', ',\\tO\\n', 'which\\tO\\n', 'helps\\tO\\n', 'define\\tO\\n', 'this\\tO\\n', 'attack\\tO\\n', 'method\\tO\\n', 'as\\tO\\n', 'a\\tO\\n', 'watering\\tO\\n', 'hole\\tO\\n', 'attack\\tO\\n', '.\\tO\\n', '\\n', '\"\\tO\\n', 'Breaking\\tO\\n', 'the\\tO\\n', 'barrier\\tO\\n', 'between\\tO\\n', 'industrial\\tO\\n', 'applications\\tO\\n', 'and\\tO\\n', 'IT\\tO\\n', 'standards\\tO\\n', ',\\tO\\n', 'the\\tO\\n', 'mission\\tO\\n', 'of\\tO\\n', 'eWON\\tB-Entity\\n', 'is\\tO\\n', 'to\\tO\\n', 'connect\\tO\\n', 'industrial\\tO\\n', 'machines\\tO\\n', 'securely\\tO\\n', 'to\\tO\\n', 'the\\tO\\n', 'Internet\\tO\\n', ',\\tO\\n', 'enabling\\tO\\n', 'easy\\tO\\n', 'remote\\tB-Entity\\n', 'access\\tI-Entity\\n', 'and\\tO\\n', 'gathering\\tB-Action\\n', 'all\\tB-Entity\\n', 'types\\tI-Entity\\n', 'of\\tI-Entity\\n', 'technical\\tI-Entity\\n', 'data\\tI-Entity\\n', 'originating\\tI-Entity\\n', 'from\\tI-Entity\\n', 'industrial\\tI-Entity\\n', 'machines\\tI-Entity\\n', '...\\tO\\n', 'Connecting\\tO\\n', 'machines\\tO\\n', 'across\\tO\\n', 'the\\tO\\n', 'Internet\\tO\\n', 'is\\tO\\n', 'our\\tO\\n', 'mission\\tO\\n', '.\\tO\\n', '\"\\tO\\n', 'Sometimes\\tO\\n', ',\\tO\\n', 'the\\tO\\n', 'Havex\\tO\\n', 'loader\\tO\\n', 'was\\tO\\n', 'dropped\\tO\\n', 'from\\tO\\n', '\"\\tO\\n', 'eCatcherSetup_v4.exe\\tO\\n', '\"\\tO\\n', ',\\tO\\n', 'so\\tO\\n', 'it\\tO\\n', 'seems\\tO\\n', 'that\\tO\\n', 'the\\tO\\n', 'site\\tO\\n', 'operators\\tO\\n', 'may\\tO\\n', 'have\\tO\\n', 'removed\\tO\\n', 'a\\tO\\n', 'previous\\tO\\n', 'file\\tO\\n', 'and\\tO\\n', 'the\\tO\\n', 'attackers\\tO\\n', 'replaced\\tO\\n', 'it\\tO\\n', 'with\\tO\\n', 'their\\tO\\n', 'trojanized\\tO\\n', 'installer\\tO\\n', ',\\tO\\n', 'and\\tO\\n', 'so\\tO\\n', 'on\\tO\\n', '.\\tO\\n', '\\n', 'Likely\\tO\\n', ',\\tO\\n', 'the\\tB-Entity\\n', 'attackers\\tI-Entity\\n', 'gained\\tB-Action\\n', 'access\\tB-Entity\\n', 'to\\tI-Entity\\n', 'eWon\\tI-Entity\\n', \"'s\\tI-Entity\\n\", 'ftp\\tI-Entity\\n', 'site\\tI-Entity\\n', 'and\\tO\\n', 'replaced\\tO\\n', 'the\\tO\\n', 'legitimate\\tO\\n', 'file\\tO\\n', 'with\\tO\\n', 'one\\tO\\n', 'that\\tO\\n', 'is\\tO\\n', 'bound\\tO\\n', 'with\\tI-Entity\\n', 'the\\tI-Entity\\n', 'Havex\\tI-Entity\\n', 'dropper\\tI-Entity\\n', 'several\\tO\\n', 'times\\tI-Entity\\n', '.\\tO\\n', '\\n', 'Another\\tO\\n', 'example\\tO\\n', 'that\\tO\\n', 'involves\\tO\\n', 'a\\tB-Entity\\n', 'hijacked\\tI-Entity\\n', 'application\\tI-Entity\\n', 'from\\tO\\n', 'a\\tI-Entity\\n', 'PLC\\tI-Entity\\n', '-\\tX\\n', 'related\\tX\\n', 'vendor\\tI-Entity\\n', 'is\\tO\\n', 'a\\tO\\n', 'Trojanized\\tO\\n', 'mbCHECK\\tO\\n', 'installer\\tO\\n', 'which\\tO\\n', 'replaced\\tO\\n', 'the\\tO\\n', 'original\\tO\\n', 'legitimate\\tO\\n', 'version\\tO\\n', 'freely\\tO\\n', 'downloadable\\tO\\n', 'from\\tO\\n', 'the\\tO\\n', 'vendor\\tO\\n', \"'s\\tO\\n\", 'website\\tO\\n', '.\\tO\\n', '\\n', 'The\\tO\\n', 'legitimate\\tO\\n', 'version\\tO\\n', 'can\\tO\\n', 'be\\tO\\n', 'downloaded\\tO\\n', 'for\\tO\\n', 'free\\tO\\n', 'from\\tO\\n', 'the\\tO\\n', 'vendor\\tO\\n', \"'s\\tO\\n\", 'website\\tO\\n', '.\\tO\\n', '\\n', 'The\\tO\\n', 'vendor\\tO\\n', '-\\tO\\n', 'MB\\tO\\n', 'Connect\\tO\\n', 'Line\\tO\\n', '-\\tO\\n', 'is\\tO\\n', 'a\\tO\\n', 'company\\tO\\n', 'which\\tO\\n', 'specializes\\tO\\n', 'in\\tO\\n', 'software\\tO\\n', 'for\\tO\\n', 'remote\\tO\\n', 'maintenance\\tO\\n', 'of\\tO\\n', 'PLC\\tO\\n', 'systems\\tO\\n', ':\\tO\\n', 'MB\\tO\\n', 'Connect\\tO\\n', 'Line\\tO\\n', 'GmbH(hxxp://www.mbconnectline.com\\tO\\n', '/\\tO\\n', 'index.php\\tO\\n', '/\\tO\\n', 'en/\\tO\\n', ')\\tO\\n', '.\\tO\\n', '\\n', 'In\\tO\\n', 'this\\tO\\n', 'case\\tO\\n', ',\\tO\\n', 'the\\tB-Entity\\n', 'dropped\\tI-Entity\\n', 'DLL\\tI-Entity\\n', 'was\\tB-Action\\n', 'Havex\\tB-Entity\\n', 'version\\tI-Entity\\n', '043\\tI-Entity\\n', '.\\tO\\n', '\\n', 'The\\tO\\n', 'second\\tO\\n', 'method\\tO\\n', 'relies\\tB-Action\\n', 'on\\tB-Modifier\\n', 'a\\tB-Entity\\n', 'malicious\\tI-Entity\\n', 'XDP\\tI-Entity\\n', 'file\\tI-Entity\\n', 'containing\\tI-Entity\\n', 'the\\tI-Entity\\n', 'PDF\\tI-Entity\\n', '/\\tI-Entity\\n', 'SWF\\tX\\n', 'exploit\\tI-Entity\\n', '(\\tI-Entity\\n', 'CVE-2011-\\tO\\n', '0611\\tX\\n', ')\\tI-Entity\\n', 'and\\tO\\n', 'was\\tO\\n', 'most\\tO\\n', 'probably\\tO\\n', 'used\\tB-Action\\n', 'in\\tB-Modifier\\n', 'spear\\tB-Entity\\n', '-\\tX\\n', 'phishing\\tX\\n', 'attacks\\tO\\n', '.\\tO\\n', '\\n', 'This\\tB-Entity\\n', 'exploit\\tI-Entity\\n', 'drops\\tB-Action\\n', 'the\\tO\\n', 'Havex\\tI-Entity\\n', 'loader\\tI-Entity\\n', 'DLL\\tI-Entity\\n', ',\\tO\\n', 'which\\tO\\n', 'is\\tO\\n', 'stored\\tO\\n', 'in\\tO\\n', 'an\\tO\\n', 'encrypted\\tO\\n', 'form\\tO\\n', 'in\\tO\\n', 'the\\tO\\n', 'XDP\\tO\\n', 'file\\tO\\n', '.\\tO\\n', '\\n', 'The\\tO\\n', 'exploit\\tB-Entity\\n', 'is\\tO\\n', 'delivered\\tO\\n', 'as\\tO\\n', 'an\\tO\\n', 'XDP\\tO\\n', 'file\\tO\\n', '(\\tO\\n', 'XML\\tO\\n', 'Data\\tO\\n', 'Package\\tO\\n', ')\\tO\\n', 'which\\tO\\n', 'is\\tO\\n', 'actually\\tO\\n', 'a\\tO\\n', 'PDF\\tO\\n', 'file\\tO\\n', 'packaged\\tO\\n', 'within\\tO\\n', 'an\\tO\\n', 'XML\\tO\\n', 'container\\tO\\n', '.\\tO\\n', '\\n', 'This\\tB-Entity\\n', 'is\\tO\\n', 'a\\tO\\n', 'known\\tO\\n', 'the\\tI-Entity\\n', 'PDF\\tO\\n', 'obfuscation\\tI-Entity\\n', 'method\\tI-Entity\\n', 'and\\tO\\n', 'serves\\tB-Action\\n', 'as\\tB-Modifier\\n', 'an\\tO\\n', 'additional\\tB-Entity\\n', 'anti\\tI-Entity\\n', '-\\tO\\n', 'detection\\tX\\n', 'layer\\tI-Entity\\n', '.\\tO\\n', '\\n', 'The\\tO\\n', 'XDP\\tO\\n', 'file\\tO\\n', 'contains\\tO\\n', 'an\\tO\\n', 'SWF\\tO\\n', 'exploit\\tO\\n', 'and\\tO\\n', 'two\\tO\\n', 'files\\tO\\n', '(\\tO\\n', 'encrypted\\tO\\n', 'with\\tO\\n', 'XOR\\tO\\n', ')\\tO\\n', 'stored\\tO\\n', 'in\\tO\\n', 'the\\tO\\n', 'invalid\\tO\\n', 'section\\tO\\n', 'of\\tO\\n', 'the\\tO\\n', 'PDF\\tO\\n', '.\\tO\\n', '\\n', 'One\\tO\\n', 'of\\tO\\n', 'the\\tO\\n', 'files\\tO\\n', 'is\\tO\\n', 'Havex\\tO\\n', 'DLL\\tO\\n', '(\\tO\\n', 'version\\tO\\n', '038\\tO\\n', ')\\tO\\n', ',\\tO\\n', 'the\\tO\\n', 'other\\tO\\n', 'is\\tO\\n', 'a\\tO\\n', 'small\\tI-Entity\\n', 'JAR\\tI-Entity\\n', 'file\\tI-Entity\\n', 'which\\tO\\n', 'is\\tO\\n', 'used\\tO\\n', 'to\\tO\\n', 'copy\\tB-Action\\n', 'and\\tO\\n', 'run\\tB-Action\\n', 'the\\tO\\n', 'DLL\\tB-Entity\\n', 'by\\tO\\n', 'executing\\tO\\n', 'the\\tO\\n', 'following\\tO\\n', 'command\\tO\\n', '.\\tO\\n', '\\n', 'cmd\\tO\\n', '/c\\tO\\n', 'copy\\tO\\n', '<\\tO\\n', 'fname_passed_as_param\\tO\\n', '>\\tO\\n', '%\\tO\\n', 'TEMP%\\\\\\\\explore.dll\\tO\\n', '/y\\tO\\n', '&\\tO\\n', 'rundll32.exe\\tO\\n', '%\\tO\\n', 'TEMP%\\\\\\\\explore.dll\\tO\\n', ',\\tO\\n', 'RunDllEntry\\tO\\n', 'SWF\\tO\\n', 'executes\\tO\\n', 'the\\tO\\n', 'action\\tO\\n', 'script\\tO\\n', ',\\tO\\n', 'which\\tO\\n', 'contains\\tO\\n', 'another\\tO\\n', 'SWF\\tO\\n', 'file\\tO\\n', 'which\\tO\\n', 'in\\tO\\n', 'turn\\tO\\n', 'uses\\tO\\n', 'the\\tO\\n', 'CVE-\\tO\\n', '2011\\tO\\n', '-\\tO\\n', '0611\\tO\\n', 'vulnerability\\tO\\n', 'to\\tO\\n', 'run\\tO\\n', 'the\\tO\\n', 'shellcode\\tO\\n', '.\\tO\\n', '\\n', 'The\\tB-Entity\\n', 'shellcode\\tI-Entity\\n', 'then\\tO\\n', 'looks\\tB-Action\\n', 'for\\tB-Modifier\\n', 'a\\tO\\n', 'specific\\tI-Entity\\n', 'signature\\tI-Entity\\n', 'in\\tO\\n', 'the\\tO\\n', 'memory\\tO\\n', '(\\tO\\n', 'which\\tO\\n', 'signs\\tO\\n', 'the\\tO\\n', 'start\\tO\\n', 'of\\tO\\n', 'encrypted\\tO\\n', 'DLL\\tO\\n', ')\\tO\\n', ',\\tO\\n', 'decrypts\\tO\\n', 'and\\tO\\n', 'loads\\tB-Action\\n', 'it\\tB-Entity\\n', '.\\tO\\n', '\\n', 'Finally\\tO\\n', ',\\tO\\n', 'this\\tB-Entity\\n', 'actor\\tI-Entity\\n', 'actively\\tO\\n', 'compromises\\tB-Action\\n', 'legitimate\\tB-Entity\\n', 'websites\\tI-Entity\\n', 'for\\tB-Modifier\\n', 'watering\\tB-Entity\\n', 'hole\\tI-Entity\\n', 'attacks\\tI-Entity\\n', '.\\tO\\n', '\\n', 'These\\tO\\n', 'hacked\\tO\\n', 'websites\\tO\\n', 'in\\tO\\n', 'turn\\tO\\n', 'redirect\\tO\\n', 'to\\tB-Modifier\\n', 'malicious\\tO\\n', 'JAR\\tO\\n', 'or\\tO\\n', 'html\\tO\\n', 'files\\tO\\n', 'hosted\\tO\\n', 'on\\tO\\n', 'other\\tO\\n', 'sites\\tO\\n', 'maintained\\tO\\n', 'by\\tO\\n', 'the\\tO\\n', 'group\\tO\\n', '(\\tO\\n', 'exploiting\\tO\\n', 'CVE-2013\\tO\\n', '-\\tX\\n', '2465\\tX\\n', ',\\tO\\n', 'CVE-2013\\tO\\n', '-\\tX\\n', '1347\\tX\\n', ',\\tO\\n', 'and\\tO\\n', 'CVE-2012\\tO\\n', '-\\tO\\n', '1723\\tO\\n', 'in\\tO\\n', 'Java\\tO\\n', '6\\tO\\n', ',\\tO\\n', 'Java\\tO\\n', '7\\tO\\n', ',\\tO\\n', 'IE\\tO\\n', '7\\tO\\n', 'and\\tO\\n', 'IE\\tO\\n', '8)\\tO\\n', ',\\tO\\n', 'which\\tO\\n', 'then\\tO\\n', 'drop\\tO\\n', 'the\\tO\\n', 'Havex\\tO\\n', 'loader\\tO\\n', ',\\tO\\n', 'the\\tO\\n', 'Karagany\\tO\\n', 'backdoor\\tO\\n', 'and\\tO\\n', 'helper\\tO\\n', 'tools\\tO\\n', '.\\tO\\n', '\\n', 'These\\tO\\n', 'sites\\tO\\n', 'run\\tO\\n', 'an\\tO\\n', 'exploit\\tO\\n', 'kit\\tO\\n', 'known\\tO\\n', 'as\\tO\\n', '\"\\tO\\n', 'LightsOut\\tO\\n', '\"\\tO\\n', '.\\tO\\n', '\\n', 'It\\tO\\n', 'appears\\tO\\n', 'that\\tO\\n', 'the\\tO\\n', '\"\\tO\\n', 'LightsOut\\tO\\n', '\"\\tO\\n', 'exploit\\tO\\n', 'kit\\tO\\n', 'is\\tO\\n', 'exclusively\\tO\\n', 'used\\tO\\n', 'by\\tO\\n', 'Energetic\\tO\\n', 'Bear\\tO\\n', '/\\tO\\n', 'Crouching\\tO\\n', 'Yeti\\tO\\n', '.\\tO\\n', '\\n', 'From\\tO\\n', 'the\\tO\\n', 'dozens\\tO\\n', 'of\\tO\\n', 'Yeti\\tO\\n', 'exploit\\tO\\n', 'sites\\tO\\n', 'we\\tO\\n', 'reviewed\\tO\\n', ',\\tO\\n', 'the\\tO\\n', 'malicious\\tI-Entity\\n', 'code\\tO\\n', 'was\\tO\\n', 'nothing\\tO\\n', 'more\\tO\\n', 'than\\tO\\n', 'slightly\\tO\\n', 'modified\\tO\\n', 'metasploit\\tI-Entity\\n', 'java\\tI-Entity\\n', 'exploits\\tI-Entity\\n', 'delivering\\tB-Action\\n', 'the\\tB-Entity\\n', 'Havex\\tI-Entity\\n', 'loader\\tI-Entity\\n', '.\\tO\\n', '\\n', 'Some\\tO\\n', 'sort\\tO\\n', 'of\\tO\\n', 'internal\\tO\\n', 'review\\tO\\n', 'must\\tO\\n', 'have\\tO\\n', 'pushed\\tO\\n', 'them\\tO\\n', 'towards\\tO\\n', 'the\\tO\\n', 'LightsOut\\tO\\n', 'EK\\tO\\n', '.\\tO\\n', '\\n', 'KSN\\tO\\n', 'data\\tO\\n', 'records\\tO\\n', 'help\\tO\\n', 'provide\\tO\\n', 'a\\tO\\n', 'list\\tO\\n', 'of\\tO\\n', 'Crouching\\tO\\n', 'Yeti\\tO\\n', 'related\\tO\\n', 'exploit\\tO\\n', 'delivery\\tO\\n', 'from\\tO\\n', 'dozens\\tO\\n', 'of\\tO\\n', 'these\\tO\\n', 'sites\\tO\\n', '.\\tO\\n', '\\n', 'In\\tO\\n', 'earlier\\tO\\n', 'cases\\tO\\n', '(\\tO\\n', 'July\\tO\\n', '2013\\tO\\n', ')\\tO\\n', ',\\tO\\n', 'successful\\tB-Entity\\n', 'Java\\tI-Entity\\n', 'exploitation\\tI-Entity\\n', 'served\\tI-Entity\\n', 'from\\tI-Entity\\n', 'nahoonservices.com\\tI-Entity\\n', 'would\\tO\\n', 'cascade\\tB-Action\\n', 'into\\tB-Modifier\\n', 'more\\tO\\n', 'Yeti\\tI-Entity\\n', 'components\\tI-Entity\\n', 'planted\\tI-Entity\\n', 'on\\tI-Entity\\n', 'victim\\tI-Entity\\n', 'systems\\tI-Entity\\n', '.\\tO\\n', '\\n', 'The\\tB-Entity\\n', 'java\\tI-Entity\\n', 'exploit\\tI-Entity\\n', 'downloaded\\tB-Action\\n', 'Karagany\\tB-Entity\\n', 'backdoors\\tI-Entity\\n', ',\\tO\\n', 'which\\tO\\n', 'in\\tO\\n', 'turn\\tO\\n', 'downloaded\\tB-Action\\n', 'stealers\\tB-Entity\\n', 'from\\tB-Modifier\\n', '91.203.6.71\\tB-Entity\\n', '.\\tO\\n', '\\n', 'Ksn\\tB-Entity\\n', 'data\\tI-Entity\\n', 'recorded\\tB-Action\\n', 'at\\tB-Entity\\n', 'least\\tI-Entity\\n', '20\\tI-Entity\\n', 'victim\\tI-Entity\\n', 'sites\\tI-Entity\\n', 'that\\tO\\n', 'were\\tB-Action\\n', 'compromised\\tI-Entity\\n', 'and\\tO\\n', 'injected\\tI-Action\\n', 'with\\tB-Modifier\\n', 'Yeti\\tB-Entity\\n', 'iframes\\tI-Entity\\n', ',\\tO\\n', 'redirecting\\tB-Action\\n', 'hundreds\\tB-Entity\\n', 'of\\tI-Entity\\n', 'visitors\\tI-Entity\\n', 'to\\tB-Modifier\\n', 'compromised\\tB-Entity\\n', 'Yeti\\tI-Entity\\n', 'exploit\\tI-Entity\\n', 'sites\\tI-Entity\\n', '.\\tO\\n', '\\n', 'Most\\tO\\n', 'of\\tO\\n', 'these\\tO\\n', 'redirector\\tO\\n', 'sites\\tO\\n', 'were\\tO\\n', 'owned\\tO\\n', 'by\\tO\\n', 'western\\tO\\n', 'and\\tO\\n', 'Eastern\\tO\\n', 'European\\tO\\n', 'power\\tO\\n', 'players\\tO\\n', ',\\tO\\n', 'investors\\tO\\n', ',\\tO\\n', 'legal\\tO\\n', 'advisors\\tO\\n', 'and\\tO\\n', 'advocates\\tO\\n', ',\\tO\\n', 'and\\tO\\n', 'European\\tO\\n', 'and\\tO\\n', 'US\\tO\\n', 'industrial\\tO\\n', 'IT\\tO\\n', 'equipment\\tO\\n', 'makers\\tO\\n', '.\\tO\\n', '\\n', 'The\\tO\\n', 'compromised\\tO\\n', 'sites\\tO\\n', 'hosting\\tO\\n', 'the\\tO\\n', 'LightsOut\\tO\\n', 'Exploit\\tO\\n', 'Kit\\tO\\n', 'were\\tO\\n', 'fairly\\tO\\n', 'trafficked\\tO\\n', ',\\tO\\n', 'legitimate\\tO\\n', 'sites\\tO\\n', '.\\tO\\n', '\\n', 'Their\\tO\\n', 'content\\tO\\n', 'varies\\tO\\n', 'widely\\tO\\n', ',\\tO\\n', 'from\\tO\\n', 'California\\tO\\n', 'winemakers\\tO\\n', 'to\\tO\\n', 'Cuban\\tO\\n', 'travel\\tO\\n', 'agencies\\tO\\n', 'and\\tO\\n', 'Iranian\\tO\\n', 'general\\tO\\n', 'interest\\tO\\n', '/\\tO\\n', 'religious\\tO\\n', 'inspiration\\tO\\n', 'sites\\tO\\n', '.\\tO\\n', '\\n', 'Finally\\tO\\n', ',\\tO\\n', 'other\\tB-Entity\\n', 'second\\tI-Entity\\n', 'stage\\tI-Entity\\n', 'tools\\tI-Entity\\n', 'were\\tO\\n', 'simply\\tO\\n', 'retrieved\\tB-Action\\n', 'by\\tO\\n', 'the\\tO\\n', 'downloaders\\tI-Entity\\n', 'over\\tI-Entity\\n', 'http\\tO\\n', 'from\\tB-Modifier\\n', 'various\\tO\\n', 'servers\\tI-Entity\\n', '.\\tO\\n', '\\n', 'Some\\tO\\n', 'of\\tO\\n', 'these\\tO\\n', 'Yeti\\tO\\n', 'sites\\tO\\n', ',\\tO\\n', 'like\\tO\\n', 'kinoporno.org\\tO\\n', ',\\tO\\n', 'served\\tO\\n', 'both\\tO\\n', 'Havex\\tO\\n', 'and\\tO\\n', 'these\\tO\\n', 'tools\\tO\\n', '.\\tO\\n', '\\n', 'KSN\\tB-Entity\\n', 'events\\tI-Entity\\n', 'recorded\\tB-Action\\n', 'the\\tB-Entity\\n', 'sites\\tI-Entity\\n', 'serving\\tI-Entity\\n', 'Windows\\tI-Entity\\n', 'Credential\\tI-Entity\\n', 'Editor\\tI-Entity\\n', 'and\\tI-Entity\\n', 'custom\\tB-Entity\\n', 'credential\\tI-Entity\\n', 'and\\tI-Entity\\n', 'document\\tI-Entity\\n', 'stealing\\tI-Entity\\n', 'tools\\tI-Entity\\n', '.\\tO\\n', '\\n', 'The\\tO\\n', 'Crouching\\tO\\n', 'Yeti\\tO\\n', 'group\\tO\\n', 'has\\tO\\n', 'different\\tO\\n', 'tools\\tO\\n', 'of\\tO\\n', 'choice\\tO\\n', 'for\\tO\\n', 'their\\tO\\n', 'operations\\tO\\n', '.\\tO\\n', '\\n', 'This\\tO\\n', 'section\\tO\\n', 'describes\\tO\\n', 'them\\tO\\n', 'from\\tO\\n', 'a\\tO\\n', 'technical\\tO\\n', 'perspective\\tO\\n', '.\\tO\\n', '\\n', 'The\\tO\\n', 'main\\tO\\n', 'functionality\\tO\\n', 'of\\tO\\n', 'this\\tB-Entity\\n', 'component\\tI-Entity\\n', 'is\\tO\\n', 'to\\tO\\n', 'download\\tB-Action\\n', 'and\\tO\\n', 'load\\tB-Action\\n', 'additional\\tO\\n', 'DLL\\tB-Entity\\n', 'modules\\tI-Entity\\n', 'into\\tB-Modifier\\n', 'the\\tO\\n', 'memory\\tB-Entity\\n', '.\\tO\\n', '\\n', 'These\\tB-Entity\\n', 'are\\tO\\n', 'stored\\tB-Entity\\n', 'on\\tO\\n', 'compromised\\tB-Entity\\n', 'websites\\tI-Entity\\n', 'that\\tO\\n', 'act\\tB-Action\\n', 'as\\tB-Modifier\\n', 'C&C\\tO\\n', 'servers\\tB-Entity\\n', '.\\tO\\n', '\\n', 'In\\tO\\n', 'order\\tO\\n', 'to\\tO\\n', 'do\\tO\\n', 'that\\tO\\n', ',\\tO\\n', 'the\\tB-Entity\\n', 'malware\\tI-Entity\\n', 'injects\\tB-Action\\n', 'itself\\tB-Entity\\n', 'into\\tB-Modifier\\n', 'the\\tO\\n', 'EXPLORER.EXE\\tI-Entity\\n', 'process\\tI-Entity\\n', ',\\tO\\n', 'sends\\tB-Action\\n', 'a\\tO\\n', 'GET\\tI-Entity\\n', '/\\tI-Entity\\n', 'POST\\tI-Entity\\n', 'request\\tI-Entity\\n', 'to\\tB-Modifier\\n', 'the\\tO\\n', 'PHP\\tI-Entity\\n', 'script\\tI-Entity\\n', 'on\\tI-Entity\\n', 'the\\tI-Entity\\n', 'compromised\\tI-Entity\\n', 'website\\tI-Entity\\n', ',\\tO\\n', 'then\\tO\\n', 'reads\\tO\\n', 'the\\tO\\n', 'HTML\\tO\\n', 'document\\tO\\n', 'returned\\tO\\n', 'by\\tO\\n', 'the\\tO\\n', 'script\\tO\\n', ',\\tO\\n', 'looking\\tO\\n', 'for\\tO\\n', 'a\\tO\\n', 'base64\\tO\\n', 'encrypted\\tO\\n', 'data\\tO\\n', 'between\\tO\\n', 'the\\tO\\n', 'two\\tO\\n', '\"\\tO\\n', 'havex\\tO\\n', '\"\\tO\\n', 'strings\\tO\\n', 'in\\tO\\n', 'the\\tO\\n', 'comment\\tO\\n', 'tag\\tO\\n', '<\\tO\\n', '!\\tO\\n', '--havexhavex--\\tO\\n', '>\\tO\\n', 'and\\tO\\n', 'writes\\tO\\n', 'this\\tO\\n', 'data\\tO\\n', 'it\\tO\\n', 'to\\tO\\n', 'a\\tO\\n', '%\\tO\\n', 'TEMP%\\\\<tmp>.xmd\\tO\\n', 'file\\tO\\n', '(\\tO\\n', 'filename\\tO\\n', 'is\\tO\\n', 'generated\\tO\\n', 'by\\tO\\n', 'GetTempFilename\\tO\\n', 'function\\tO\\n', ')\\tO\\n', '.\\tO\\n', '\\n', 'In\\tO\\n', 'the\\tO\\n', 'meantime\\tO\\n', ',\\tO\\n', 'another\\tO\\n', 'routine\\tO\\n', 'is\\tO\\n', 'constantly\\tO\\n', 'checking\\tO\\n', 'the\\tO\\n', '%\\tO\\n', 'TEMP%\\tO\\n', 'folder\\tO\\n', 'for\\tO\\n', 'all\\tO\\n', '*\\tO\\n', '.xmd\\tO\\n', 'files\\tO\\n', '.\\tO\\n', '\\n', 'For\\tO\\n', 'each\\tO\\n', 'file\\tO\\n', 'it\\tO\\n', 'finds\\tO\\n', ',\\tO\\n', 'it\\tB-Entity\\n', 'decompresses\\tO\\n', 'the\\tO\\n', 'content\\tO\\n', ',\\tO\\n', 'decrypts\\tO\\n', '(\\tO\\n', 'if\\tO\\n', 'encrypted\\tO\\n', ')\\tO\\n', 'and\\tO\\n', 'loads\\tB-Action\\n', 'into\\tB-Modifier\\n', 'the\\tO\\n', 'memory\\tB-Entity\\n', 'as\\tB-Modifier\\n', 'the\\tO\\n', 'DLL\\tI-Entity\\n', '.\\tO\\n', '\\n', 'In\\tO\\n', 'order\\tO\\n', 'to\\tO\\n', 'run\\tB-Action\\n', 'on\\tB-Modifier\\n', 'each\\tB-Entity\\n', 'system\\tI-Entity\\n', 'boot\\tI-Entity\\n', ',\\tO\\n', 'malware\\tB-Entity\\n', 'copies\\tB-Action\\n', 'itself\\tB-Entity\\n', 'to\\tB-Modifier\\n', ':\\tB-Entity\\n', '<\\tI-Entity\\n', 'path>\\\\TMPprovider0XX.dll\\tI-Entity\\n', 'and\\tO\\n', 'creates\\tB-Action\\n', 'the\\tO\\n', 'autorun\\tI-Entity\\n', 'registry\\tI-Entity\\n', 'key\\tI-Entity\\n', '.\\tO\\n', '\\n', 'All\\tO\\n', 'samples\\tO\\n', 'of\\tO\\n', 'this\\tO\\n', 'component\\tO\\n', 'contain\\tO\\n', 'a\\tO\\n', 'statically\\tO\\n', 'linked\\tO\\n', 'bzip2\\tO\\n', 'library\\tO\\n', '.\\tO\\n', '\\n', 'Versions\\tO\\n', '>\\tO\\n', '=\\tX\\n', '01B\\tX\\n', 'also\\tO\\n', 'contain\\tO\\n', 'an\\tO\\n', 'RSAeuro\\tI-Entity\\n', 'library\\tI-Entity\\n', ',\\tO\\n', 'used\\tO\\n', 'to\\tO\\n', 'encrypt\\tB-Action\\n', 'log\\tB-Entity\\n', 'files\\tB-Entity\\n', 'and\\tO\\n', 'decrypt\\tO\\n', 'downloadable\\tO\\n', 'modules\\tI-Entity\\n', '.\\tO\\n', '\\n', 'Public\\tO\\n', 'keys\\tO\\n', 'for\\tO\\n', 'encryption\\tO\\n', 'are\\tO\\n', 'hardcoded\\tO\\n', 'in\\tO\\n', 'the\\tO\\n', 'binary\\tO\\n', 'and/or\\tO\\n', 'stored\\tO\\n', 'in\\tO\\n', 'the\\tO\\n', 'configuration\\tO\\n', 'section\\tO\\n', '.\\tO\\n', '\\n', 'In\\tO\\n', 'some\\tO\\n', 'cases\\tO\\n', ',\\tO\\n', 'these\\tO\\n', 'keys\\tO\\n', 'are\\tO\\n', 'written\\tO\\n', 'to\\tO\\n', 'the\\tO\\n', 'registry\\tO\\n', 'values\\tO\\n', '.\\tO\\n', '\\n', 'In\\tO\\n', 'total\\tO\\n', ',\\tO\\n', 'we\\tO\\n', 'identified\\tO\\n', '124\\tO\\n', 'different\\tO\\n', 'samples\\tO\\n', 'of\\tO\\n', 'Havex\\tO\\n', 'loaders\\tO\\n', ',\\tO\\n', 'belonging\\tO\\n', 'to\\tO\\n', '27\\tO\\n', 'different\\tO\\n', 'versions\\tO\\n', '.\\tO\\n', '\\n', 'As\\tO\\n', 'of\\tO\\n', 'June\\tO\\n', '2014\\tO\\n', ',\\tO\\n', 'the\\tO\\n', 'latest\\tO\\n', 'version\\tO\\n', 'number\\tO\\n', 'we\\tO\\n', 'have\\tO\\n', 'is\\tO\\n', '044\\tO\\n', '.\\tO\\n', '\\n', 'The\\tO\\n', 'URL\\tO\\n', 'addresses\\tO\\n', 'of\\tO\\n', 'the\\tO\\n', 'C&C\\tO\\n', 'servers\\tO\\n', '(\\tO\\n', 'which\\tO\\n', 'are\\tO\\n', 'indeed\\tO\\n', 'compromised\\tO\\n', 'websites\\tO\\n', ')\\tO\\n', 'are\\tO\\n', 'either\\tO\\n', 'hardcoded\\tO\\n', 'in\\tO\\n', 'the\\tO\\n', 'binary\\tO\\n', ',\\tO\\n', 'or\\tO\\n', '-\\tO\\n', 'in\\tO\\n', 'versions\\tO\\n', '=\\tO\\n', '>\\tO\\n', '038\\tO\\n', '-\\tX\\n', 'specified\\tO\\n', 'in\\tO\\n', 'the\\tO\\n', 'configuration\\tO\\n', 'section\\tO\\n', 'inside\\tO\\n', 'the\\tO\\n', 'ICT\\tO\\n', 'resource\\tO\\n', '.\\tO\\n', '\\n', 'This\\tB-Entity\\n', 'resource\\tI-Entity\\n', 'is\\tB-Action\\n', 'compressed\\tI-Action\\n', 'with\\tB-Modifier\\n', 'bzip2\\tB-Entity\\n', 'and\\tO\\n', 'encrypted\\tB-Action\\n', 'with\\tB-Modifier\\n', 'XOR\\tB-Entity\\n', '.\\tO\\n', '\\n', 'There\\tO\\n', 'are\\tO\\n', 'usually\\tO\\n', '2\\tO\\n', '-\\tO\\n', '4\\tO\\n', 'URLs\\tO\\n', 'per\\tO\\n', 'binary\\tO\\n', ',\\tO\\n', 'different\\tO\\n', 'for\\tO\\n', 'each\\tO\\n', 'malware\\tO\\n', 'version\\tO\\n', 'and\\tO\\n', 'sometimes\\tO\\n', 'also\\tO\\n', 'different\\tO\\n', 'between\\tO\\n', 'samples\\tO\\n', 'of\\tO\\n', 'the\\tO\\n', 'same\\tO\\n', 'version\\tO\\n', '.\\tO\\n', '\\n', 'Malware\\tB-Entity\\n', 'sends\\tB-Action\\n', 'a\\tO\\n', 'GET\\tI-Entity\\n', 'request\\tI-Entity\\n', '(\\tO\\n', 'versions\\tI-Entity\\n', '<\\tO\\n', '017\\tO\\n', ')\\tO\\n', 'or\\tI-Entity\\n', 'POST\\tI-Entity\\n', 'request\\tI-Entity\\n', 'to\\tB-Modifier\\n', 'the\\tO\\n', 'first\\tI-Entity\\n', 'available\\tI-Entity\\n', 'URL\\tI-Entity\\n', '.\\tO\\n', '\\n', 'The\\tO\\n', 'request\\tO\\n', 'contents\\tO\\n', 'depends\\tO\\n', 'on\\tO\\n', 'the\\tO\\n', 'malware\\tO\\n', 'version\\tO\\n', 'and\\tO\\n', 'it\\tO\\n', 'may\\tO\\n', 'include\\tO\\n', 'such\\tO\\n', 'information\\tO\\n', 'as\\tO\\n', 'unique\\tO\\n', 'bot\\tO\\n', 'i\\tO\\n', 'd\\tO\\n', ',\\tO\\n', 'malware\\tO\\n', 'version\\tO\\n', 'number\\tO\\n', ',\\tO\\n', 'OS\\tO\\n', 'version\\tO\\n', 'number\\tO\\n', ',\\tO\\n', 'and\\tO\\n', 'some\\tO\\n', 'other\\tO\\n', 'data\\tO\\n', 'from\\tO\\n', 'configuration\\tO\\n', ',\\tO\\n', 'as\\tO\\n', 'well\\tO\\n', 'as\\tO\\n', 'the\\tO\\n', 'harvested\\tO\\n', 'information\\tO\\n', 'logged\\tO\\n', 'into\\tO\\n', 'the\\tO\\n', '*\\tO\\n', '.yls\\tO\\n', 'file\\tO\\n', '(\\tO\\n', 'if\\tO\\n', 'any\\tO\\n', ')\\tO\\n', '.\\tO\\n', '\\n', 'Then\\tO\\n', 'the\\tB-Entity\\n', 'malware\\tI-Entity\\n', 'searches\\tO\\n', 'the\\tO\\n', 'HTML\\tO\\n', 'code\\tO\\n', 'of\\tO\\n', 'each\\tO\\n', 'returned\\tO\\n', 'page\\tO\\n', 'for\\tB-Modifier\\n', 'havex\\tO\\n', 'markers\\tO\\n', 'and\\tO\\n', 'saves\\tO\\n', 'the\\tO\\n', 'data\\tO\\n', 'between\\tO\\n', 'the\\tO\\n', 'markers\\tO\\n', 'into\\tO\\n', 'a\\tO\\n', 'temporary\\tO\\n', 'file\\tO\\n', '.\\tO\\n', '\\n', 'These\\tO\\n', 'modules\\tO\\n', 'are\\tO\\n', 'hosted\\tO\\n', 'between\\tO\\n', 'the\\tO\\n', 'havex\\tO\\n', 'markers\\tO\\n', 'in\\tO\\n', 'the\\tO\\n', 'HTML\\tO\\n', 'code\\tO\\n', 'of\\tO\\n', 'compromised\\tO\\n', 'websites\\tO\\n', '.\\tO\\n', '\\n', 'The\\tO\\n', 'module\\tO\\n', 'code\\tO\\n', 'is\\tO\\n', 'usually\\tO\\n', 'XORed\\tO\\n', 'with\\tO\\n', '\"\\tO\\n', '1312312\\tO\\n', '\"\\tO\\n', 'then\\tO\\n', 'compressed\\tO\\n', 'with\\tO\\n', 'BZIP2\\tO\\n', 'and\\tO\\n', 'finally\\tO\\n', 'base64\\tO\\n', 'encoded\\tO\\n', '.\\tO\\n', '\\n', 'Once\\tO\\n', 'downloaded\\tB-Action\\n', 'into\\tB-Modifier\\n', 'the\\tO\\n', '%\\tB-Entity\\n', 'TEMP%\\\\*.xmd\\tI-Entity\\n', 'file\\tI-Entity\\n', 'by\\tO\\n', 'the\\tB-Entity\\n', 'main\\tI-Entity\\n', 'Havex\\tI-Entity\\n', 'DLL\\tI-Entity\\n', ',\\tO\\n', 'the\\tB-Entity\\n', 'code\\tI-Entity\\n', 'is\\tB-Action\\n', 'decoded\\tI-Action\\n', ',\\tO\\n', 'decompressed\\tO\\n', ',\\tO\\n', 'saved\\tB-Action\\n', 'into\\tB-Modifier\\n', 'the\\tO\\n', 'temporary\\tI-Entity\\n', 'DLL\\tI-Entity\\n', 'file\\tI-Entity\\n', 'and\\tO\\n', 'loaded\\tB-Action\\n', 'into\\tO\\n', 'the\\tO\\n', 'memory\\tO\\n', '.\\tO\\n', '\\n', 'The\\tB-Entity\\n', 'modules\\tI-Entity\\n', 'perform\\tO\\n', 'a\\tO\\n', 'variety\\tO\\n', 'of\\tO\\n', 'different\\tO\\n', 'actions\\tO\\n', ',\\tO\\n', 'including\\tO\\n', 'collecting\\tB-Action\\n', 'information\\tB-Entity\\n', 'about\\tB-Modifier\\n', 'the\\tI-Entity\\n', 'victim\\tI-Entity\\n', \"'s\\tI-Entity\\n\", 'system\\tI-Entity\\n', 'and\\tO\\n', 'other\\tI-Entity\\n', 'machines\\tI-Entity\\n', 'in\\tB-Modifier\\n', 'the\\tB-Entity\\n', 'local\\tI-Entity\\n', 'network\\tI-Entity\\n', ',\\tO\\n', 'harvesting\\tB-Action\\n', 'passwords\\tB-Entity\\n', ',\\tO\\n', 'listing\\tB-Action\\n', 'documents\\tB-Entity\\n', ',\\tO\\n', 'etc\\tO\\n', '.\\tO\\n', '\\n', 'In\\tO\\n', 'order\\tO\\n', 'to\\tO\\n', 'do\\tO\\n', 'that\\tO\\n', ',\\tO\\n', 'some\\tO\\n', 'of\\tI-Entity\\n', 'the\\tI-Entity\\n', 'modules\\tI-Entity\\n', 'make\\tB-Action\\n', 'use\\tO\\n', 'of\\tO\\n', 'additional\\tO\\n', '3rd\\tI-Entity\\n', 'stage\\tI-Entity\\n', '3rd\\tI-Entity\\n', 'party\\tI-Entity\\n', 'executables\\tI-Entity\\n', '.\\tO\\n', '\\n', 'Each\\tO\\n', 'module\\tO\\n', 'contains\\tO\\n', 'configuration\\tO\\n', 'information\\tO\\n', 'stored\\tO\\n', 'in\\tO\\n', 'an\\tO\\n', 'encrypted\\tO\\n', 'and\\tO\\n', 'compressed\\tO\\n', 'form\\tO\\n', 'inside\\tO\\n', 'a\\tO\\n', 'resource\\tO\\n', '.\\tO\\n', '\\n', 'Configuration\\tO\\n', 'data\\tI-Entity\\n', 'includes\\tB-Action\\n', '29-byte\\tB-Entity\\n', 'UID\\tI-Entity\\n', '(\\tI-Entity\\n', 'unique\\tI-Entity\\n', 'ID\\tI-Entity\\n', ')\\tI-Entity\\n', ',\\tO\\n', 'a\\tI-Entity\\n', '1024-bit\\tI-Entity\\n', 'RSA\\tI-Entity\\n', 'Public\\tI-Entity\\n', 'key\\tI-Entity\\n', '(\\tI-Entity\\n', 'base64\\tI-Entity\\n', 'encoded\\tI-Entity\\n', ')\\tI-Entity\\n', 'and\\tO\\n', 'other\\tO\\n', 'necessary\\tI-Entity\\n', 'info\\tI-Entity\\n', '(\\tI-Entity\\n', 'like\\tI-Entity\\n', 'file\\tI-Entity\\n', 'paths\\tI-Entity\\n', ',\\tI-Entity\\n', 'etc\\tI-Entity\\n', '.\\tX\\n', ')\\tI-Entity\\n', '.\\tO\\n', '\\n', 'All\\tB-Entity\\n', 'harvested\\tI-Entity\\n', 'data\\tI-Entity\\n', 'is\\tB-Action\\n', 'compressed\\tI-Action\\n', ',\\tO\\n', 'encrypted\\tB-Action\\n', 'and\\tO\\n', 'written\\tB-Action\\n', 'into\\tB-Modifier\\n', 'the\\tB-Entity\\n', '%\\tI-Entity\\n', 'TEMP%\\\\*.yls\\tI-Entity\\n', 'files\\tI-Entity\\n', ',\\tO\\n', 'which\\tO\\n', 'are\\tB-Action\\n', 'then\\tO\\n', 'sent\\tB-Action\\n', 'to\\tB-Modifier\\n', 'the\\tO\\n', 'C&C\\tB-Entity\\n', 'by\\tO\\n', 'the\\tB-Entity\\n', 'main\\tI-Entity\\n', 'Havex\\tI-Entity\\n', '/\\tX\\n', 'Sysmain\\tX\\n', 'module\\tO\\n', '.\\tO\\n', '\\n', 'The\\tB-Entity\\n', '\"\\tI-Entity\\n', 'yls\\tI-Entity\\n', '\"\\tI-Entity\\n', 'files\\tI-Entity\\n', 'are\\tB-Action\\n', 'encrypted\\tI-Action\\n', 'with\\tB-Modifier\\n', 'the\\tB-Entity\\n', '3DES\\tI-Entity\\n', 'crypto\\tI-Entity\\n', 'algorithm\\tI-Entity\\n', 'using\\tB-Modifier\\n', 'a\\tO\\n', 'random\\tI-Entity\\n', '192-bit\\tO\\n', 'key\\tI-Entity\\n', '(\\tO\\n', '168\\tO\\n', 'bit\\tO\\n', 'effective\\tO\\n', ')\\tO\\n', '.\\tO\\n', '\\n', 'The\\tO\\n', '3DES\\tI-Entity\\n', 'key\\tI-Entity\\n', 'is\\tB-Action\\n', 'encrypted\\tI-Action\\n', 'using\\tB-Modifier\\n', 'the\\tB-Entity\\n', 'public\\tI-Entity\\n', 'RSA\\tI-Entity\\n', '1024\\tI-Entity\\n', 'key\\tI-Entity\\n', 'and\\tO\\n', 'therefore\\tO\\n', 'never\\tO\\n', 'transferred\\tO\\n', 'in\\tO\\n', 'plain\\tO\\n', 'text\\tO\\n', 'to\\tO\\n', 'attackers\\tO\\n', '.\\tO\\n', '\\n', 'In\\tO\\n', '-\\tO\\n', 'depth\\tO\\n', 'analysis\\tO\\n', 'of\\tO\\n', 'the\\tO\\n', 'cryptography\\tO\\n', 'used\\tO\\n', 'by\\tO\\n', 'log\\tO\\n', 'files\\tO\\n', 'is\\tO\\n', 'presented\\tO\\n', 'in\\tO\\n', 'Appendix\\tO\\n', '2\\tO\\n', 'This\\tB-Entity\\n', 'module\\tI-Entity\\n', 'is\\tO\\n', 'designed\\tO\\n', 'to\\tO\\n', 'collect\\tB-Action\\n', 'detailed\\tO\\n', 'data\\tB-Entity\\n', 'about\\tI-Entity\\n', 'the\\tI-Entity\\n', 'OPC\\tI-Entity\\n', 'servers\\tI-Entity\\n', 'running\\tI-Entity\\n', 'in\\tI-Entity\\n', 'the\\tI-Entity\\n', 'local\\tI-Entity\\n', 'network\\tI-Entity\\n', 'and\\tO\\n', 'save\\tB-Action\\n', 'them\\tO\\n', 'to\\tB-Modifier\\n', 'a\\tO\\n', '%\\tO\\n', 'TEMP%\\\\{rand}.yls\\tO\\n', 'file\\tO\\n', '.\\tO\\n', '\\n', 'To\\tO\\n', 'query\\tO\\n', 'the\\tO\\n', 'OPC\\tI-Entity\\n', 'servers\\tI-Entity\\n', ',\\tO\\n', 'it\\tB-Entity\\n', 'uses\\tO\\n', 'the\\tO\\n', 'following\\tO\\n', 'interfaces\\tO\\n', '.\\tO\\n', '\\n', 'This\\tB-Entity\\n', 'module\\tI-Entity\\n', 'collects\\tB-Action\\n', 'basic\\tO\\n', 'information\\tI-Entity\\n', 'about\\tI-Entity\\n', 'the\\tI-Entity\\n', 'system\\tI-Entity\\n', 'it\\tI-Entity\\n', \"'s\\tI-Entity\\n\", 'running\\tI-Entity\\n', 'on\\tI-Entity\\n', ',\\tO\\n', 'and\\tO\\n', 'saves\\tB-Action\\n', 'it\\tB-Entity\\n', 'to\\tB-Modifier\\n', 'the\\tO\\n', '%\\tB-Entity\\n', 'TEMP%\\\\{rand}.yls\\tI-Entity\\n', 'file\\tI-Entity\\n', '.\\tO\\n', '\\n', 'Harvested\\tO\\n', 'data\\tO\\n', 'includes\\tO\\n', '.\\tO\\n', '\\n', 'This\\tB-Entity\\n', 'module\\tI-Entity\\n', 'collects\\tB-Action\\n', 'contact\\tB-Entity\\n', 'details\\tI-Entity\\n', 'stored\\tI-Entity\\n', 'in\\tI-Entity\\n', 'all\\tI-Entity\\n', 'outlook.nk2\\tI-Entity\\n', 'files\\tI-Entity\\n', 'and\\tO\\n', 'writes\\tB-Action\\n', 'them\\tB-Entity\\n', 'to\\tB-Modifier\\n', 'the\\tO\\n', '%\\tB-Entity\\n', 'TEMP%\\\\{rand}.yls\\tI-Entity\\n', 'file\\tI-Entity\\n', '.\\tO\\n', '\\n', 'Outlook.nk2\\tO\\n', 'is\\tO\\n', 'the\\tO\\n', 'file\\tO\\n', 'where\\tO\\n', 'Outlook\\tO\\n', '(\\tO\\n', 'version\\tO\\n', 'since\\tO\\n', '2007\\tO\\n', ')\\tO\\n', 'keeps\\tB-Action\\n', 'contact\\tO\\n', 'details\\tO\\n', 'in\\tO\\n', 'order\\tO\\n', 'to\\tO\\n', 'use\\tO\\n', 'them\\tO\\n', 'with\\tO\\n', 'the\\tO\\n', 'AutoComplete\\tO\\n', 'feature\\tO\\n', '.\\tO\\n', '\\n', 'This\\tO\\n', 'module\\tI-Entity\\n', 'uses\\tB-Action\\n', 'the\\tO\\n', 'embedded\\tO\\n', 'BrowserPasswordDecryptor\\tB-Entity\\n', '2.0\\tI-Entity\\n', 'tool\\tI-Entity\\n', '(\\tO\\n', 'hxxp://securityxploded.com\\tO\\n', '/\\tX\\n', 'browser\\tX\\n', '-\\tX\\n', 'password\\tX\\n', '-\\tX\\n', 'decryptor.php\\tX\\n', ')\\tO\\n', 'to\\tO\\n', 'dump\\tO\\n', 'login\\tO\\n', 'credentials\\tO\\n', 'stored\\tO\\n', 'by\\tO\\n', 'the\\tO\\n', 'password\\tO\\n', 'managers\\tO\\n', 'of\\tO\\n', 'various\\tO\\n', 'browsers\\tO\\n', '.\\tO\\n', '\\n', 'Decrypted\\tB-Entity\\n', 'passwords\\tI-Entity\\n', 'are\\tB-Action\\n', 'saved\\tI-Action\\n', 'into\\tB-Modifier\\n', 'the\\tO\\n', '%\\tI-Entity\\n', 'TEMP%\\\\~tmp1237.txt\\tI-Entity\\n', 'file\\tI-Entity\\n', ',\\tO\\n', 'which\\tO\\n', 'is\\tO\\n', 'then\\tO\\n', 'copied\\tB-Action\\n', 'by\\tO\\n', 'the\\tO\\n', 'parent\\tI-Entity\\n', 'module\\tI-Entity\\n', 'into\\tB-Modifier\\n', 'an\\tO\\n', 'encrypted\\tI-Entity\\n', '*\\tI-Entity\\n', '.tmp.yls\\tI-Entity\\n', 'file\\tO\\n', '.\\tO\\n', '\\n', 'List\\tO\\n', 'of\\tO\\n', 'browsers\\tO\\n', 'supported\\tO\\n', 'by\\tO\\n', 'the\\tO\\n', 'tool\\tO\\n', '(\\tO\\n', 'from\\tO\\n', 'the\\tO\\n', 'product\\tO\\n', \"'s\\tO\\n\", 'website\\tO\\n', ')\\tO\\n', '.\\tO\\n', '\\n', 'This\\tB-Entity\\n', 'module\\tI-Entity\\n', 'is\\tO\\n', 'designed\\tO\\n', 'to\\tO\\n', 'scan\\tB-Action\\n', 'the\\tB-Entity\\n', 'local\\tI-Entity\\n', 'network\\tI-Entity\\n', 'and\\tO\\n', 'look\\tB-Action\\n', 'for\\tB-Modifier\\n', 'all\\tB-Entity\\n', 'hosts\\tI-Entity\\n', 'listening\\tI-Entity\\n', 'on\\tI-Entity\\n', 'ports\\tI-Entity\\n', 'related\\tI-Entity\\n', 'to\\tI-Entity\\n', 'OPC\\tI-Entity\\n', '/\\tX\\n', 'SCADA\\tI-Entity\\n', 'software\\tI-Entity\\n', '.\\tO\\n', '\\n', 'Information\\tB-Entity\\n', 'about\\tI-Entity\\n', 'these\\tI-Entity\\n', 'hosts\\tI-Entity\\n', 'is\\tO\\n', 'then\\tI-Action\\n', 'saved\\tI-Action\\n', 'to\\tB-Modifier\\n', 'the\\tO\\n', '%\\tB-Entity\\n', 'TEMP%\\\\~tracedscn.yls\\tI-Entity\\n', 'file\\tI-Entity\\n', '.\\tO\\n', '\\n', 'In\\tO\\n', '-\\tX\\n', 'depth\\tX\\n', 'analysis\\tO\\n', 'of\\tO\\n', 'the\\tO\\n', 'Havex\\tO\\n', 'loader\\tO\\n', 'and\\tO\\n', 'its\\tO\\n', 'related\\tO\\n', 'modules\\tO\\n', 'is\\tO\\n', 'presented\\tO\\n', 'in\\tO\\n', 'Appendix\\tO\\n', '2\\tO\\n', '.\\tO\\n', '\\n', 'This\\tO\\n', 'component\\tO\\n', 'is\\tO\\n', 'a\\tO\\n', 'simple\\tO\\n', 'downloader\\tO\\n', 'with\\tO\\n', 'a\\tO\\n', 'functionality\\tO\\n', 'similar\\tO\\n', 'to\\tO\\n', 'the\\tO\\n', 'Havex\\tO\\n', 'component\\tO\\n', '.\\tO\\n', '\\n', 'It\\tB-Entity\\n', 'sends\\tB-Action\\n', 'requests\\tB-Entity\\n', 'to\\tB-Modifier\\n', 'the\\tB-Entity\\n', 'PHP\\tI-Entity\\n', 'script\\tI-Entity\\n', 'at\\tI-Entity\\n', 'the\\tI-Entity\\n', 'C&C\\tI-Entity\\n', '(\\tI-Entity\\n', 'compromised\\tI-Entity\\n', 'website\\tI-Entity\\n', ')\\tI-Entity\\n', 'and\\tO\\n', 'looks\\tB-Action\\n', 'for\\tB-Modifier\\n', 'specific\\tO\\n', 'data\\tI-Entity\\n', 'in\\tB-Modifier\\n', 'the\\tB-Entity\\n', 'returned\\tI-Entity\\n', 'HTML\\tI-Entity\\n', 'code\\tI-Entity\\n', '.\\tO\\n', '\\n', 'It\\tB-Entity\\n', 'writes\\tB-Action\\n', 'the\\tB-Entity\\n', 'data\\tI-Entity\\n', '(\\tI-Entity\\n', 'some\\tI-Entity\\n', 'ASCII\\tI-Entity\\n', 'strings\\tI-Entity\\n', ')\\tI-Entity\\n', 'from\\tB-Modifier\\n', 'between\\tO\\n', '<\\tI-Entity\\n', 'I6></I6\\tI-Entity\\n', '>\\tI-Entity\\n', 'tags\\tI-Entity\\n', 'to\\tI-Entity\\n', 'the\\tI-Entity\\n', 'file\\tI-Entity\\n', 'in\\tI-Entity\\n', '%\\tI-Entity\\n', 'TEMP%\\\\Low\\\\~task.tmp\\tI-Entity\\n', 'and\\tO\\n', 'the\\tB-Entity\\n', 'data\\tI-Entity\\n', '(\\tI-Entity\\n', 'binary\\tO\\n', 'data\\tO\\n', 'XORed\\tO\\n', 'with\\tO\\n', '0x0A\\tO\\n', ')\\tO\\n', 'from\\tO\\n', 'between\\tO\\n', '<\\tO\\n', 'B6></B6\\tO\\n', '>\\tO\\n', 'tags\\tO\\n', 'into\\tO\\n', 'the\\tO\\n', '%\\tO\\n', 'TEMP%\\\\Low\\\\~ldXXXX.TMP\\tO\\n', 'file\\tO\\n', '.\\tO\\n', '\\n', 'Then\\tO\\n', 'it\\tB-Entity\\n', 'decrypts\\tO\\n', 'the\\tO\\n', 'ldXXXX.TMP\\tO\\n', 'file\\tO\\n', 'and\\tO\\n', 'loads\\tB-Action\\n', 'it\\tB-Entity\\n', 'into\\tB-Modifier\\n', 'memory\\tO\\n', '.\\tO\\n', '\\n', 'Based\\tO\\n', 'on\\tO\\n', 'the\\tO\\n', 'compilation\\tO\\n', 'times\\tO\\n', ',\\tO\\n', 'we\\tO\\n', 'may\\tO\\n', 'assume\\tO\\n', 'that\\tO\\n', 'this\\tB-Entity\\n', 'loader\\tI-Entity\\n', 'was\\tO\\n', 'used\\tO\\n', 'to\\tO\\n', 'download\\tB-Action\\n', 'and\\tO\\n', 'run\\tB-Action\\n', 'modules\\tB-Entity\\n', 'before\\tO\\n', 'it\\tO\\n', 'was\\tO\\n', 'replaced\\tO\\n', 'by\\tO\\n', 'Havex\\tO\\n', '.\\tO\\n', '\\n', 'The\\tO\\n', 'Ddex\\tO\\n', 'loader\\tO\\n', 'is\\tO\\n', 'analyzed\\tO\\n', 'in\\tO\\n', 'more\\tO\\n', 'detail\\tO\\n', 'in\\tO\\n', 'Appendix\\tO\\n', '4\\tO\\n', '.\\tO\\n', '\\n', 'This\\tB-Entity\\n', 'malware\\tI-Entity\\n', 'can\\tO\\n', 'be\\tO\\n', 'described\\tO\\n', 'as\\tO\\n', 'a\\tO\\n', 'classical\\tO\\n', 'RAT\\tO\\n', '(\\tO\\n', 'Remote\\tO\\n', 'Access\\tO\\n', 'Trojan\\tO\\n', ')\\tO\\n', ',\\tO\\n', 'since\\tO\\n', 'it\\tB-Entity\\n', 'gives\\tB-Action\\n', 'the\\tB-Entity\\n', 'attacker\\tB-Entity\\n', 'a\\tO\\n', 'wide\\tB-Entity\\n', 'range\\tI-Entity\\n', 'of\\tI-Entity\\n', 'opportunities\\tI-Entity\\n', 'to\\tI-Entity\\n', 'control\\tI-Entity\\n', 'and\\tI-Entity\\n', 'interact\\tI-Entity\\n', 'with\\tI-Entity\\n', 'the\\tI-Entity\\n', 'victim\\tI-Entity\\n', 'machine\\tI-Entity\\n', '.\\tO\\n', '\\n', 'The\\tB-Entity\\n', 'autonomous\\tI-Entity\\n', 'part\\tI-Entity\\n', 'of\\tI-Entity\\n', 'Sysmain\\tI-Entity\\n', 'installs\\tB-Action\\n', 'and\\tO\\n', 'registers\\tB-Action\\n', 'itself\\tB-Entity\\n', 'to\\tB-Modifier\\n', 'be\\tO\\n', 'persistent\\tB-Entity\\n', 'in\\tI-Entity\\n', 'the\\tI-Entity\\n', 'system\\tI-Entity\\n', '.\\tO\\n', '\\n', 'Then\\tO\\n', 'it\\tB-Entity\\n', 'gathers\\tB-Action\\n', 'general\\tO\\n', 'information\\tI-Entity\\n', 'about\\tI-Entity\\n', 'the\\tI-Entity\\n', 'victim\\tI-Entity\\n', 'system\\tI-Entity\\n', ',\\tO\\n', 'like\\tO\\n', 'When\\tO\\n', 'ready\\tO\\n', ',\\tO\\n', 'this\\tB-Entity\\n', 'data\\tI-Entity\\n', 'is\\tB-Action\\n', 'submitted\\tB-Action\\n', 'to\\tB-Modifier\\n', 'one\\tB-Entity\\n', 'of\\tI-Entity\\n', 'the\\tI-Entity\\n', 'C&C\\tI-Entity\\n', '-\\tX\\n', 'servers\\tI-Entity\\n', '.\\tO\\n', '\\n', 'After\\tO\\n', 'that\\tO\\n', ',\\tO\\n', 'it\\tB-Entity\\n', 'checks\\tB-Action\\n', 'periodically\\tO\\n', 'for\\tB-Modifier\\n', 'new\\tO\\n', 'commands\\tI-Entity\\n', 'from\\tI-Entity\\n', 'C&C\\tI-Entity\\n', '(\\tO\\n', 'pulling\\tB-Action\\n', 'via\\tB-Modifier\\n', 'HTTP\\tO\\n', ')\\tO\\n', '.\\tO\\n', '\\n', 'With\\tB-Modifier\\n', 'a\\tO\\n', 'set\\tO\\n', 'of\\tI-Entity\\n', '11\\tI-Entity\\n', 'commands\\tO\\n', ',\\tO\\n', 'the\\tB-Entity\\n', 'malware\\tI-Entity\\n', 'is\\tO\\n', 'able\\tO\\n', 'to\\tO\\n', '.\\tO\\n', '\\n', 'There\\tO\\n', 'are\\tO\\n', 'also\\tO\\n', 'commands\\tB-Entity\\n', 'used\\tB-Action\\n', 'for\\tB-Modifier\\n', 'maintenance\\tB-Entity\\n', 'purposes\\tO\\n', '.\\tO\\n', '\\n', 'Among\\tO\\n', 'others\\tO\\n', ',\\tO\\n', 'there\\tO\\n', 'are\\tO\\n', 'commands\\tO\\n', 'to\\tO\\n', 'change\\tB-Action\\n', 'the\\tB-Entity\\n', 'pubkey\\tI-Entity\\n', 'for\\tB-Modifier\\n', 'C&C\\tB-Entity\\n', '-\\tX\\n', 'communication\\tI-Entity\\n', 'or\\tO\\n', 'delete\\tB-Action\\n', 'its\\tB-Entity\\n', 'traces\\tI-Entity\\n', 'in\\tB-Modifier\\n', 'the\\tB-Entity\\n', 'registry\\tI-Entity\\n', '.\\tO\\n', '\\n', 'It\\tB-Entity\\n', 'receives\\tB-Action\\n', 'its\\tO\\n', 'commands\\tB-Entity\\n', 'from\\tB-Modifier\\n', 'one\\tB-Entity\\n', 'of\\tI-Entity\\n', 'four\\tI-Entity\\n', 'static\\tI-Entity\\n', 'command\\tI-Entity\\n', '-\\tX\\n', 'and\\tX\\n', '-\\tX\\n', 'control\\tX\\n', 'servers\\tI-Entity\\n', '.\\tO\\n', '\\n', 'Every\\tO\\n', 'variant\\tO\\n', 'of\\tO\\n', 'this\\tO\\n', 'malware\\tO\\n', 'has\\tO\\n', 'its\\tO\\n', 'own\\tO\\n', 'set\\tO\\n', 'of\\tO\\n', 'servers\\tO\\n', '.\\tO\\n', '\\n', 'As\\tO\\n', 'usual\\tO\\n', ',\\tO\\n', 'the\\tB-Entity\\n', 'attackers\\tI-Entity\\n', 'are\\tO\\n', 'using\\tB-Action\\n', 'webservers\\tO\\n', '-\\tO\\n', 'most\\tO\\n', 'likely\\tO\\n', 'compromised\\tO\\n', 'ones\\tO\\n', '-\\tO\\n', 'as\\tO\\n', 'part\\tO\\n', 'of\\tO\\n', 'their\\tO\\n', 'C&C\\tO\\n', '-\\tX\\n', 'infrastructure\\tO\\n', '.\\tO\\n', '\\n', 'To\\tB-Modifier\\n', 'communicate\\tO\\n', 'with\\tO\\n', 'the\\tO\\n', 'C&C\\tO\\n', '-\\tO\\n', 'server\\tO\\n', ',\\tO\\n', 'the\\tB-Entity\\n', 'Trojan\\tI-Entity\\n', 'makes\\tO\\n', 'use\\tO\\n', 'of\\tO\\n', 'asymmetric\\tO\\n', 'encryption\\tO\\n', 'with\\tO\\n', 'a\\tO\\n', 'hardcoded\\tO\\n', 'pair\\tO\\n', 'of\\tO\\n', 'private\\tO\\n', 'and\\tO\\n', 'public\\tO\\n', 'keys\\tO\\n', '.\\tO\\n', '\\n', 'Another\\tB-Entity\\n', 'public\\tI-Entity\\n', 'key\\tI-Entity\\n', 'is\\tB-Action\\n', 'used\\tI-Action\\n', 'to\\tB-Modifier\\n', 'encrypt\\tB-Entity\\n', 'files\\tI-Entity\\n', ',\\tO\\n', 'which\\tO\\n', 'are\\tB-Action\\n', 'collected\\tI-Action\\n', 'in\\tB-Modifier\\n', 'a\\tB-Entity\\n', 'local\\tI-Entity\\n', 'dropzone\\tI-Entity\\n', 'on\\tI-Entity\\n', 'the\\tI-Entity\\n', 'victim\\tI-Entity\\n', \"'s\\tI-Entity\\n\", 'file\\tI-Entity\\n', 'system\\tI-Entity\\n', '.\\tO\\n', '\\n', 'The\\tO\\n', 'files\\tI-Entity\\n', 'in\\tI-Entity\\n', 'that\\tI-Entity\\n', 'dropzone\\tI-Entity\\n', 'will\\tO\\n', 'be\\tO\\n', 'submitted\\tI-Action\\n', 'to\\tB-Modifier\\n', 'the\\tO\\n', 'attacker\\tB-Entity\\n', 'later\\tO\\n', ',\\tO\\n', 'all\\tO\\n', 'in\\tO\\n', 'one\\tO\\n', 'go\\tO\\n', '.\\tO\\n', '\\n', 'Appendix\\tO\\n', '3\\tO\\n', 'provides\\tO\\n', 'in\\tO\\n', '-\\tO\\n', 'depth\\tO\\n', 'analysis\\tO\\n', 'of\\tO\\n', 'the\\tO\\n', 'Sysmain\\tO\\n', 'backdoor\\tO\\n', '.\\tO\\n', '\\n', 'This\\tO\\n', 'component\\tO\\n', 'is\\tO\\n', 'written\\tO\\n', 'in\\tO\\n', '.NET\\tO\\n', 'and\\tO\\n', 'is\\tO\\n', 'very\\tO\\n', 'similar\\tO\\n', 'to\\tO\\n', 'The\\tO\\n', 'Sysmain\\tO\\n', 'backdoor\\tO\\n', '.\\tO\\n', '\\n', 'The\\tB-Entity\\n', 'settings\\tI-Entity\\n', 'of\\tI-Entity\\n', 'the\\tI-Entity\\n', 'RAT\\tI-Entity\\n', 'are\\tO\\n', 'stored\\tO\\n', 'in\\tO\\n', 'the\\tO\\n', 'registry\\tO\\n', 'as\\tO\\n', 'BASE64\\tO\\n', 'encoded\\tI-Entity\\n', 'values\\tI-Entity\\n', '.\\tO\\n', '\\n', 'The\\tB-Entity\\n', 'RAT\\tI-Entity\\n', 'gets\\tB-Action\\n', 'its\\tO\\n', 'commands\\tB-Entity\\n', 'by\\tO\\n', 'sending\\tB-Action\\n', 'a\\tO\\n', 'request\\tI-Entity\\n', 'to\\tI-Entity\\n', 'a\\tI-Entity\\n', 'PHP\\tI-Entity\\n', 'script\\tI-Entity\\n', 'on\\tI-Entity\\n', 'the\\tI-Entity\\n', 'C&C\\tI-Entity\\n', '(\\tI-Entity\\n', 'compromised\\tI-Entity\\n', 'server\\tI-Entity\\n', ')\\tI-Entity\\n', 'as\\tI-Entity\\n', 'usual\\tO\\n', ',\\tO\\n', 'and\\tO\\n', 'looks\\tB-Action\\n', 'for\\tB-Modifier\\n', 'specific\\tO\\n', 'data\\tI-Entity\\n', 'in\\tB-Modifier\\n', 'the\\tO\\n', 'returned\\tO\\n', 'HTML\\tI-Entity\\n', 'code\\tI-Entity\\n', '.\\tO\\n', '\\n', 'The\\tO\\n', 'data\\tO\\n', 'in\\tO\\n', 'this\\tO\\n', 'case\\tO\\n', 'is\\tO\\n', 'stored\\tO\\n', 'between\\tO\\n', 'the\\tO\\n', 'havexhavex\\tO\\n', 'tags\\tO\\n', ',\\tO\\n', 'it\\tO\\n', 'is\\tO\\n', 'then\\tO\\n', 'decrypted\\tO\\n', 'and\\tO\\n', 'decoded\\tO\\n', '(\\tO\\n', 'base64\\tO\\n', ')\\tO\\n', '.\\tO\\n', '\\n', 'The\\tB-Entity\\n', 'RAT\\tI-Entity\\n', 'supports\\tB-Action\\n', '13\\tO\\n', 'commands\\tI-Entity\\n', 'including\\tO\\n', '.\\tO\\n', '\\n', 'Each\\tO\\n', 'time\\tO\\n', 'a\\tO\\n', 'command\\tO\\n', '(\\tO\\n', 'task\\tO\\n', ')\\tO\\n', 'is\\tO\\n', 'executed\\tO\\n', ',\\tO\\n', 'the\\tO\\n', 'result\\tO\\n', 'of\\tO\\n', 'that\\tO\\n', 'command\\tO\\n', 'is\\tO\\n', 'stored\\tO\\n', 'in\\tO\\n', 'the\\tO\\n', 'registry\\tO\\n', 'under\\tO\\n', 'a\\tO\\n', 'subkey\\tO\\n', 'named\\tO\\n', '\"\\tO\\n', 'done\\tO\\n', '\"\\tO\\n', 'or\\tO\\n', '\"\\tO\\n', 'doneEXT\\tO\\n', '\"\\tO\\n', '.\\tO\\n', '\\n', 'The\\tO\\n', 'results\\tO\\n', '(\\tO\\n', 'which\\tO\\n', 'are\\tO\\n', 'called\\tO\\n', '\"\\tO\\n', 'answers\\tO\\n', '\"\\tO\\n', 'by\\tO\\n', 'the\\tO\\n', 'authors\\tO\\n', ')\\tO\\n', 'are\\tO\\n', 'then\\tO\\n', 'POSTED\\tI-Action\\n', 'to\\tB-Modifier\\n', 'the\\tO\\n', 'C&C\\tB-Entity\\n', 'server\\tI-Entity\\n', '.\\tO\\n', '\\n', 'The\\tO\\n', 'ClientX\\tO\\n', 'backdoor\\tO\\n', 'is\\tO\\n', 'analyzed\\tO\\n', 'in\\tO\\n', 'depth\\tO\\n', 'in\\tO\\n', 'Appendix\\tO\\n', '5\\tO\\n', '.\\tO\\n', '\\n', 'Karagany\\tB-Entity\\n', 'is\\tB-Action\\n', 'a\\tB-Entity\\n', 'simple\\tI-Entity\\n', 'backdoor\\tI-Entity\\n', 'that\\tO\\n', 'connects\\tB-Action\\n', 'to\\tB-Modifier\\n', 'the\\tO\\n', 'C&C\\tI-Entity\\n', 'and\\tO\\n', 'keeps\\tO\\n', 'waiting\\tB-Action\\n', 'for\\tB-Modifier\\n', 'commands\\tB-Entity\\n', '.\\tO\\n', '\\n', 'It\\tB-Entity\\n', 'can\\tO\\n', 'download\\tB-Action\\n', 'and\\tO\\n', 'run\\tB-Action\\n', 'additional\\tB-Entity\\n', 'executables\\tI-Entity\\n', ',\\tO\\n', 'load\\tB-Action\\n', '/\\tO\\n', 'delete\\tB-Action\\n', 'modules\\tB-Entity\\n', ',\\tO\\n', 'read\\tB-Action\\n', 'file\\tB-Entity\\n', 'content\\tI-Entity\\n', ',\\tO\\n', 'reboot\\tB-Action\\n', 'the\\tB-Entity\\n', 'computer\\tI-Entity\\n', ',\\tO\\n', 'update\\tB-Action\\n', 'itself\\tB-Entity\\n', 'and\\tO\\n', 'remove\\tB-Action\\n', 'all\\tB-Entity\\n', 'components\\tI-Entity\\n', '.\\tO\\n', '\\n', 'Besides\\tO\\n', 'backdoor\\tO\\n', 'functionality\\tO\\n', ',\\tO\\n', 'it\\tB-Entity\\n', 'also\\tO\\n', 'extracts\\tB-Action\\n', 'credentials\\tB-Entity\\n', 'from\\tB-Modifier\\n', 'Internet\\tB-Entity\\n', 'Explorer\\tI-Entity\\n', \"'s\\tI-Entity\\n\", 'password\\tI-Entity\\n', 'manager\\tI-Entity\\n', 'to\\tB-Modifier\\n', 'the\\tO\\n', 'prx.jpg\\tI-Entity\\n', 'file\\tI-Entity\\n', 'and\\tO\\n', 'injects\\tB-Action\\n', 'a\\tO\\n', 'small\\tI-Entity\\n', 'DLL\\tI-Entity\\n', 'into\\tB-Modifier\\n', 'the\\tO\\n', 'processes\\tI-Entity\\n', 'of\\tI-Entity\\n', 'web\\tI-Entity\\n', 'browsers\\tI-Entity\\n', '.\\tO\\n', '\\n', 'This\\tB-Entity\\n', 'DLL\\tI-Entity\\n', 'keeps\\tO\\n', 'listening\\tB-Action\\n', 'to\\tB-Modifier\\n', 'outgoing\\tO\\n', 'network\\tI-Entity\\n', 'traffic\\tI-Entity\\n', 'and\\tO\\n', 'looking\\tB-Action\\n', 'for\\tI-Action\\n', 'basic\\tO\\n', 'access\\tI-Entity\\n', 'authentication\\tI-Entity\\n', 'details\\tI-Entity\\n', 'sent\\tI-Entity\\n', 'over\\tI-Entity\\n', 'unencrypted\\tI-Entity\\n', 'HTTP\\tI-Entity\\n', '.\\tO\\n', '\\n', 'Affected\\tO\\n', 'browsers\\tO\\n', 'include\\tO\\n', 'Internet\\tO\\n', 'Explorer\\tO\\n', ',\\tO\\n', 'Firefox\\tO\\n', ',\\tO\\n', 'Mozilla\\tO\\n', 'and\\tO\\n', 'Opera\\tO\\n', '.\\tO\\n', '\\n', 'When\\tO\\n', 'executed\\tO\\n', ',\\tO\\n', 'it\\tB-Entity\\n', 'copies\\tB-Action\\n', 'itself\\tB-Entity\\n', 'to\\tB-Modifier\\n', 'the\\tB-Entity\\n', 'folder\\tI-Entity\\n', 'under\\tI-Entity\\n', '%\\tI-Entity\\n', 'APPDATA%\\tI-Entity\\n', 'and\\tO\\n', 'creates\\tB-Action\\n', 'a\\tO\\n', '.lnk\\tI-Entity\\n', 'file\\tI-Entity\\n', 'in\\tB-Modifier\\n', 'the\\tB-Entity\\n', '%\\tI-Entity\\n', 'STARTUP%\\tI-Entity\\n', 'directory\\tI-Entity\\n', '.\\tO\\n', '\\n', 'The\\tO\\n', 'folder\\tO\\n', 'name\\tO\\n', 'and\\tO\\n', 'filename\\tO\\n', 'are\\tO\\n', 'chosen\\tO\\n', 'from\\tO\\n', 'a\\tO\\n', 'list\\tO\\n', 'of\\tO\\n', 'strings\\tO\\n', 'hardcoded\\tO\\n', 'in\\tO\\n', 'the\\tO\\n', 'binary\\tO\\n', '.\\tO\\n', '\\n', 'It\\tB-Entity\\n', 'also\\tO\\n', 'creates\\tB-Action\\n', 'the\\tO\\n', 'C:\\\\ProgramData\\\\Mail\\\\MailAg\\\\\\tI-Entity\\n', 'folder\\tI-Entity\\n', ',\\tO\\n', 'where\\tO\\n', 'the\\tB-Entity\\n', 'information\\tI-Entity\\n', 'harvested\\tB-Action\\n', 'by\\tO\\n', 'downloaded\\tB-Entity\\n', 'modules\\tI-Entity\\n', 'will\\tO\\n', 'be\\tB-Action\\n', 'stored\\tI-Action\\n', '.\\tO\\n', '\\n', 'After\\tO\\n', 'checking\\tB-Action\\n', 'if\\tO\\n', 'a\\tO\\n', 'connection\\tI-Entity\\n', 'to\\tI-Entity\\n', 'the\\tI-Entity\\n', 'Internet\\tI-Entity\\n', 'is\\tO\\n', 'up\\tO\\n', ',\\tO\\n', 'it\\tB-Entity\\n', 'sends\\tB-Action\\n', 'an\\tO\\n', 'initial\\tI-Entity\\n', 'POST\\tI-Entity\\n', 'request\\tI-Entity\\n', 'to\\tB-Modifier\\n', 'the\\tO\\n', 'C&C\\tI-Entity\\n', 'server\\tI-Entity\\n', '.\\tO\\n', '\\n', 'Known\\tO\\n', 'parameters\\tO\\n', 'used\\tO\\n', 'in\\tO\\n', 'C&C\\tO\\n', 'communication\\tO\\n', 'are\\tO\\n', '.\\tO\\n', '\\n', 'This\\tB-Entity\\n', 'module\\tI-Entity\\n', 'is\\tO\\n', 'used\\tO\\n', 'to\\tO\\n', 'drop\\tB-Action\\n', 'and\\tO\\n', 'run\\tI-Action\\n', 'the\\tO\\n', 'DuckLink\\tI-Entity\\n', 'CmdCapture\\tI-Entity\\n', 'tool\\tI-Entity\\n', '-\\tO\\n', 'a\\tO\\n', '3rd\\tO\\n', 'party\\tO\\n', 'freeware\\tO\\n', 'AutoIt\\tO\\n', 'application\\tO\\n', 'for\\tO\\n', 'capturing\\tB-Action\\n', 'screenshots\\tB-Entity\\n', '(\\tO\\n', 'hxxp://www.ducklink.com/\\tO\\n', ')\\tO\\n', '.\\tO\\n', '\\n', 'A\\tO\\n', 'screenshot\\tI-Entity\\n', 'of\\tI-Entity\\n', 'the\\tI-Entity\\n', 'desktop\\tI-Entity\\n', 'is\\tO\\n', 'saved\\tI-Action\\n', 'into\\tB-Modifier\\n', 'the\\tO\\n', 'C:\\\\ProgramData\\\\Mail\\\\MailAg\\\\scs.jpg\\tB-Entity\\n', 'file\\tI-Entity\\n', '.\\tO\\n', '\\n', 'Additionally\\tO\\n', ',\\tO\\n', 'other\\tO\\n', 'system\\tO\\n', 'information\\tO\\n', '-\\tO\\n', 'such\\tO\\n', 'as\\tO\\n', 'the\\tO\\n', 'date\\tO\\n', 'and\\tO\\n', 'time\\tO\\n', 'of\\tO\\n', 'capture\\tO\\n', ',\\tO\\n', 'computer\\tO\\n', 'name\\tO\\n', ',\\tO\\n', 'username\\tO\\n', ',\\tO\\n', 'cpu\\tO\\n', 'architecture\\tO\\n', ',\\tO\\n', 'os\\tO\\n', 'version\\tO\\n', ',\\tO\\n', 'IP\\tO\\n', 'address\\tO\\n', ',\\tO\\n', 'logon\\tO\\n', 'domain\\tO\\n', 'and\\tO\\n', 'logon\\tO\\n', 'server\\tO\\n', ',\\tO\\n', 'desktop\\tO\\n', 'details\\tO\\n', '(\\tO\\n', 'height\\tO\\n', ',\\tO\\n', 'width\\tO\\n', ',\\tO\\n', 'depth\\tO\\n', ',\\tO\\n', 'refresh\\tO\\n', 'rate\\tO\\n', ')\\tO\\n', 'and\\tO\\n', 'environmental\\tO\\n', 'variables\\tO\\n', '-\\tO\\n', 'are\\tO\\n', 'logged\\tO\\n', 'in\\tO\\n', 'C:\\\\ProgramData\\\\Mail\\\\MailAg\\\\scs.txt\\tO\\n', 'file\\tO\\n', '.\\tO\\n', '\\n', 'This\\tO\\n', 'module\\tO\\n', 'is\\tO\\n', 'used\\tO\\n', 'to\\tO\\n', 'list\\tB-Action\\n', 'all\\tO\\n', 'files\\tI-Entity\\n', 'and\\tI-Entity\\n', 'documents\\tI-Entity\\n', 'with\\tO\\n', 'specified\\tO\\n', 'extensions\\tO\\n', ',\\tO\\n', 'or\\tO\\n', 'which\\tO\\n', 'have\\tO\\n', 'names\\tO\\n', 'containing\\tO\\n', 'specified\\tO\\n', 'strings\\tO\\n', 'in\\tO\\n', 'the\\tO\\n', 'C:\\\\ProgramData\\\\Mail\\\\MailAg\\\\fls.txt\\tO\\n', 'file\\tO\\n', '.\\tO\\n', '\\n', 'Saved\\tO\\n', 'information\\tO\\n', 'includes\\tO\\n', 'path\\tO\\n', ',\\tO\\n', 'size\\tO\\n', 'and\\tO\\n', 'modification\\tO\\n', 'time\\tO\\n', '.\\tO\\n', '\\n', 'File\\tO\\n', 'matching\\tO\\n', 'patterns\\tO\\n', '.\\tO\\n', '\\n', 'The\\tO\\n', 'Command\\tO\\n', 'and\\tI-Entity\\n', 'Control\\tI-Entity\\n', 'Servers\\tI-Entity\\n', 'are\\tO\\n', 'compromised\\tO\\n', 'legitimate\\tO\\n', 'websites\\tO\\n', ',\\tO\\n', 'like\\tO\\n', 'Blogs\\tO\\n', ',\\tO\\n', 'from\\tO\\n', 'different\\tO\\n', 'countries\\tO\\n', '.\\tO\\n', '\\n', 'In\\tO\\n', 'total\\tO\\n', 'we\\tO\\n', 'have\\tO\\n', 'identified\\tO\\n', '219\\tO\\n', 'unique\\tO\\n', 'domain\\tO\\n', 'names\\tO\\n', 'for\\tO\\n', 'these\\tO\\n', 'C&C\\tO\\n', 'servers\\tO\\n', 'hosted\\tO\\n', 'in\\tO\\n', '21\\tO\\n', 'different\\tO\\n', 'countries\\tO\\n', '.\\tO\\n', '\\n', 'We\\tO\\n', 'found\\tO\\n', 'most\\tO\\n', 'hosted\\tO\\n', 'C&Cs\\tO\\n', 'in\\tO\\n', 'the\\tO\\n', 'United\\tO\\n', 'States\\tO\\n', '(\\tO\\n', '81\\tO\\n', 'servers\\tO\\n', ')\\tO\\n', ',\\tO\\n', 'Germany\\tO\\n', '(\\tO\\n', '33\\tO\\n', 'servers\\tO\\n', ')\\tO\\n', ',\\tO\\n', 'the\\tO\\n', 'Russian\\tO\\n', 'Federation\\tO\\n', '(\\tO\\n', '19\\tO\\n', 'servers\\tO\\n', ')\\tO\\n', 'and\\tO\\n', 'the\\tO\\n', 'United\\tO\\n', 'Kingdom\\tO\\n', '(\\tO\\n', '7\\tO\\n', 'servers\\tO\\n', ')\\tO\\n', '.\\tO\\n', '\\n', 'The\\tO\\n', 'table\\tO\\n', 'below\\tO\\n', 'shows\\tO\\n', 'the\\tO\\n', 'distribution\\tO\\n', 'of\\tO\\n', 'victims\\tO\\n', 'affected\\tO\\n', 'by\\tO\\n', 'the\\tO\\n', 'samples\\tO\\n', 'identified\\tO\\n', 'according\\tO\\n', 'to\\tO\\n', 'our\\tO\\n', 'KSN\\tO\\n', 'data\\tO\\n', '.\\tO\\n', '\\n', 'Victims\\tO\\n', 'infected\\tO\\n', 'with\\tO\\n', 'samples\\tO\\n', 'from\\tO\\n', 'any\\tO\\n', 'of\\tO\\n', 'the\\tO\\n', 'Crouching\\tO\\n', 'Yeti\\tO\\n', 'group\\tO\\n', \"'s\\tO\\n\", 'malware\\tO\\n', 'were\\tO\\n', 'found\\tO\\n', 'in\\tO\\n', '.\\tO\\n', '\\n', '65\\tO\\n', 'of\\tO\\n', 'these\\tO\\n', 'C&C\\tO\\n', 'servers\\tO\\n', ',\\tO\\n', 'in\\tO\\n', 'the\\tO\\n', 'following\\tO\\n', 'countries\\tO\\n', ',\\tO\\n', 'were\\tO\\n', 'monitored\\tO\\n', 'during\\tO\\n', 'our\\tO\\n', 'investigation\\tO\\n', '.\\tO\\n', '\\n', 'This\\tO\\n', 'monitoring\\tO\\n', 'enabled\\tO\\n', 'us\\tO\\n', 'to\\tO\\n', 'get\\tO\\n', 'a\\tO\\n', 'list\\tO\\n', 'of\\tO\\n', 'the\\tO\\n', 'victims\\tO\\n', 'connected\\tO\\n', 'to\\tO\\n', 'them\\tO\\n', '.\\tO\\n', '\\n', 'The\\tB-Entity\\n', 'C&C\\tI-Entity\\n', 'Backend\\tI-Entity\\n', 'is\\tB-Action\\n', 'written\\tI-Action\\n', 'in\\tB-Modifier\\n', 'PHP\\tB-Entity\\n', ',\\tO\\n', 'consisting\\tO\\n', 'of\\tO\\n', '3\\tO\\n', 'files\\tO\\n', '.\\tO\\n', '\\n', 'The\\tB-Entity\\n', 'Backdoors\\tI-Entity\\n', 'interact\\tB-Action\\n', 'with\\tB-Modifier\\n', '\"\\tB-Entity\\n', 'source.php\\tI-Entity\\n', '\"\\tI-Entity\\n', ',\\tO\\n', 'which\\tO\\n', 'is\\tO\\n', 'the\\tB-Entity\\n', 'control\\tI-Entity\\n', 'script\\tI-Entity\\n', '.\\tO\\n', '\\n', 'These\\tO\\n', 'are\\tO\\n', 'its\\tO\\n', 'functions\\tO\\n', 'on\\tO\\n', 'execution\\tO\\n', '.\\tO\\n', '\\n', '1\\tO\\n', '.\\tO\\n', '\\n', 'Collect\\tO\\n', 'the\\tO\\n', 'following\\tO\\n', 'information\\tO\\n', '.\\tO\\n', '\\n', '2\\tO\\n', '.\\tO\\n', '\\n', 'Write\\tO\\n', 'the\\tO\\n', 'above\\tO\\n', 'information\\tO\\n', 'to\\tO\\n', '\"\\tO\\n', 'testlog.php\\tO\\n', '\"\\tO\\n', ',\\tO\\n', 'separated\\tO\\n', 'by\\tO\\n', '\"\\tO\\n', 'Tabulator\\tO\\n', '\"\\tO\\n', 'and\\tO\\n', 'base64-\\tO\\n', 'encoded\\tO\\n', ',\\tO\\n', 'with\\tO\\n', 'the\\tO\\n', 'following\\tO\\n', 'syntax\\tO\\n', '.\\tO\\n', '\\n', '<\\tO\\n', 'timestamp>\\\\t\\tO\\n', '<\\tO\\n', 'victim\\tO\\n', 'ip\\tO\\n', '-\\tX\\n', 'address>\\\\t\\tO\\n', '<\\tO\\n', 'proxy>\\\\t\\tO\\n', '<\\tO\\n', 'botID>\\\\t\\tO\\n', '<\\tO\\n', 'request\\tO\\n', '-\\tX\\n', 'uri>\\\\t\\tO\\n', '<\\tO\\n', 'useragent\\tO\\n', '>\\tO\\n', '3\\tO\\n', '.\\tX\\n', '\\n', 'Write\\tO\\n', 'all\\tO\\n', 'transferred\\tO\\n', 'HTTP\\tO\\n', '-\\tX\\n', 'GET\\tO\\n', 'Variables\\tO\\n', 'to\\tO\\n', '\"\\tO\\n', '<\\tO\\n', 'botID>.log\\tO\\n', '\"\\tO\\n', ',\\tO\\n', 'separated\\tO\\n', 'by\\tO\\n', '\"\\tO\\n', 'Tabulator\\tO\\n', '\"\\tO\\n', 'and\\tO\\n', 'base64-encoded\\tO\\n', '.\\tO\\n', '\\n', '4\\tO\\n', '.\\tO\\n', '\\n', 'If\\tO\\n', 'the\\tO\\n', 'bot\\tO\\n', 'executes\\tO\\n', 'an\\tO\\n', 'HTTP\\tO\\n', '-\\tX\\n', 'POST\\tX\\n', '-\\tX\\n', 'request\\tO\\n', ',\\tO\\n', 'the\\tB-Entity\\n', 'transferred\\tI-Entity\\n', 'data\\tI-Entity\\n', 'is\\tB-Action\\n', 'written\\tI-Action\\n', 'to\\tB-Modifier\\n', 'the\\tO\\n', 'file\\tI-Entity\\n', '\"\\tI-Entity\\n', '<\\tI-Entity\\n', 'botID>.ans\\tI-Entity\\n', '\"\\tI-Entity\\n', ',\\tO\\n', 'enclosed\\tO\\n', 'in\\tO\\n', '\"\\tO\\n', 'xdata\\tI-Entity\\n', '\"-\\tI-Entity\\n', 'Tag\\tO\\n', 'with\\tO\\n', 'timestamp\\tO\\n', '.\\tO\\n', '\\n', '(\\tO\\n', '\"\\tO\\n', 'ans\\tO\\n', '\"\\tO\\n', 'is\\tO\\n', 'the\\tO\\n', 'acronym\\tO\\n', 'for\\tO\\n', '\"\\tO\\n', 'Answer\\tO\\n', '\"\\tO\\n', ')\\tO\\n', '.\\tO\\n', '\\n', '5\\tO\\n', '.\\tO\\n', '\\n', 'Check\\tO\\n', 'for\\tO\\n', 'any\\tO\\n', '\"\\tO\\n', '<\\tO\\n', 'botID>_*.txt\\tO\\n', '\"\\tO\\n', 'files\\tO\\n', 'a.\\tO\\n', '\\n', 'If\\tO\\n', 'found\\tO\\n', 'the\\tO\\n', 'first\\tO\\n', 'step\\tO\\n', 'is\\tO\\n', 'to\\tO\\n', 'append\\tO\\n', 'the\\tO\\n', 'timestamp\\tO\\n', ',\\tO\\n', 'filename\\tO\\n', 'and\\tO\\n', 'a\\tO\\n', '\"\\tO\\n', 'sent\\tO\\n', '\"\\tO\\n', 'Status\\tO\\n', 'indicated\\tO\\n', 'to\\tO\\n', '\"\\tO\\n', '<\\tO\\n', 'botID>.log\\tO\\n', '\"\\tO\\n', '.\\tO\\n', '\\n', 'Then\\tO\\n', 'the\\tB-Entity\\n', 'file\\tI-Entity\\n', 'content\\tI-Entity\\n', 'is\\tB-Action\\n', 'transferred\\tI-Action\\n', 'to\\tB-Modifier\\n', 'the\\tO\\n', 'bot\\tB-Entity\\n', ',\\tO\\n', 'embedded\\tB-Action\\n', 'into\\tB-Modifier\\n', 'HTML\\tO\\n', 'with\\tO\\n', 'the\\tO\\n', 'HTML\\tO\\n', '-\\tX\\n', 'Body\\tX\\n', '\"\\tI-Entity\\n', 'No\\tO\\n', 'data\\tO\\n', '!\\tO\\n', '\"\\tO\\n', 'and\\tO\\n', 'the\\tO\\n', 'HTML\\tO\\n', '-\\tX\\n', 'Comment\\tX\\n', '\"\\tI-Entity\\n', 'havex\\tO\\n', '\"\\tO\\n', ',\\tO\\n', 'which\\tO\\n', 'contains\\tO\\n', 'the\\tO\\n', 'data\\tO\\n', 'to\\tO\\n', 'be\\tO\\n', 'transferred\\tO\\n', '.\\tO\\n', '\\n', 'Finally\\tO\\n', 'the\\tO\\n', 'file\\tO\\n', 'on\\tO\\n', 'the\\tO\\n', 'server\\tO\\n', 'is\\tO\\n', 'removed\\tO\\n', '.\\tO\\n', '\\n', 'If\\tO\\n', 'this\\tO\\n', 'removal\\tO\\n', 'fails\\tO\\n', 'it\\tO\\n', 'is\\tO\\n', 'logged\\tO\\n', 'to\\tO\\n', '\"\\tO\\n', '<\\tO\\n', 'botID>.log\\tO\\n', '\"\\tO\\n', '.\\tO\\n', '\\n', 'b.\\tO\\n', '\\n', 'If\\tO\\n', 'no\\tO\\n', 'matching\\tO\\n', 'file\\tO\\n', 'is\\tO\\n', 'found\\tO\\n', ',\\tO\\n', 'an\\tB-Entity\\n', 'HTML\\tI-Entity\\n', '-\\tX\\n', 'Response\\tX\\n', 'is\\tO\\n', 'sent\\tB-Action\\n', 'with\\tB-Modifier\\n', 'an\\tO\\n', 'empty\\tO\\n', '\"\\tI-Entity\\n', 'havex\\tO\\n', '\"\\tI-Entity\\n', 'HTML\\tO\\n', '-\\tX\\n', 'Comment\\tX\\n', 'and\\tO\\n', 'HTML\\tO\\n', '-\\tX\\n', 'Body\\tX\\n', 'text\\tO\\n', '\"\\tO\\n', 'Sorry\\tO\\n', ',\\tO\\n', 'no\\tO\\n', 'data\\tO\\n', 'corresponding\\tO\\n', 'to\\tO\\n', 'your\\tO\\n', 'request\\tO\\n', '.\\tO\\n', '\"\\tO\\n', 'The\\tO\\n', 'term\\tO\\n', '\"\\tO\\n', 'victim\\tO\\n', '\"\\tO\\n', 'in\\tO\\n', 'this\\tO\\n', 'section\\tO\\n', 'refers\\tO\\n', 'to\\tO\\n', 'a\\tO\\n', 'botID\\tO\\n', '(\\tO\\n', 'unique\\tO\\n', 'String\\tO\\n', 'of\\tO\\n', 'the\\tO\\n', 'Backdoor\\tO\\n', ')\\tO\\n', ',\\tO\\n', 'connecting\\tO\\n', 'to\\tO\\n', 'one\\tO\\n', 'or\\tO\\n', 'more\\tO\\n', 'C&C\\tO\\n', 'Servers\\tO\\n', '.\\tO\\n', '\\n', 'Based\\tO\\n', 'on\\tO\\n', 'the\\tO\\n', '45\\tO\\n', 'C&C\\tO\\n', 'Servers\\tO\\n', 'wemonitored\\tO\\n', ',\\tO\\n', 'a\\tO\\n', 'total\\tO\\n', 'of\\tO\\n', '2,811\\tO\\n', 'unique\\tO\\n', 'Victims\\tO\\n', 'were\\tO\\n', 'discovered\\tO\\n', '.\\tO\\n', '\\n', 'The\\tO\\n', 'average\\tO\\n', 'number\\tO\\n', 'of\\tO\\n', 'victims\\tO\\n', 'per\\tO\\n', 'C&C\\tO\\n', 'is\\tO\\n', '70\\tO\\n', '.\\tO\\n', '\\n', 'The\\tO\\n', 'following\\tO\\n', 'chart\\tO\\n', 'depicts\\tO\\n', 'the\\tO\\n', 'first\\tO\\n', '(\\tO\\n', 'red\\tO\\n', 'line\\tO\\n', ')\\tO\\n', 'and\\tO\\n', 'last\\tO\\n', '(\\tO\\n', 'blue\\tO\\n', 'line\\tO\\n', ')\\tO\\n', 'appearance\\tO\\n', 'of\\tO\\n', 'each\\tO\\n', 'victim\\tO\\n', 'on\\tO\\n', 'the\\tO\\n', 'C&C.\\tO\\n', '\\n', 'The\\tO\\n', '\"\\tO\\n', 'FirstHit\\tO\\n', '\"\\tO\\n', 'shows\\tO\\n', 'how\\tO\\n', 'the\\tO\\n', 'rate\\tO\\n', 'of\\tO\\n', 'accumulating\\tO\\n', 'new\\tO\\n', 'victims\\tO\\n', 'has\\tO\\n', 'accelerated\\tO\\n', 'over\\tO\\n', 'the\\tO\\n', 'course\\tO\\n', 'of\\tO\\n', '2014\\tO\\n', '.\\tO\\n', '\\n', '\"\\tO\\n', 'LastHit\\tO\\n', '\"\\tO\\n', 'shows\\tO\\n', 'how\\tO\\n', 'the\\tO\\n', 'last\\tO\\n', 'connection\\tO\\n', 'of\\tO\\n', 'victims\\tO\\n', 'to\\tO\\n', 'C&C\\tO\\n', 'servers\\tO\\n', 'also\\tO\\n', 'increases\\tO\\n', 'over\\tO\\n', 'time\\tO\\n', '.\\tO\\n', '\\n', 'This\\tO\\n', 'could\\tO\\n', 'mean\\tO\\n', 'victims\\tO\\n', 'are\\tO\\n', 'disinfecting\\tO\\n', 'their\\tO\\n', 'computers\\tO\\n', ',\\tO\\n', 'or\\tO\\n', 'it\\tO\\n', 'may\\tO\\n', 'be\\tO\\n', 'that\\tO\\n', 'they\\tO\\n', 'simply\\tO\\n', 'report\\tB-Action\\n', 'to\\tB-Modifier\\n', 'a\\tO\\n', 'different\\tB-Entity\\n', 'C&C\\tO\\n', 'server\\tO\\n', 'that\\tO\\n', 'we\\tO\\n', 'do\\tO\\n', 'not\\tO\\n', 'monitor\\tO\\n', '.\\tO\\n', '\\n', 'Mapping\\tO\\n', 'the\\tO\\n', 'unique\\tO\\n', 'hits\\tO\\n', 'of\\tO\\n', 'victims\\tO\\n', 'per\\tO\\n', 'day\\tO\\n', 'also\\tO\\n', 'indicates\\tO\\n', 'a\\tO\\n', 'decrease\\tO\\n', 'of\\tO\\n', '\"\\tO\\n', 'active\\tO\\n', '\"\\tO\\n', 'infections\\tO\\n', '.\\tO\\n', '\\n', 'The\\tO\\n', 'following\\tO\\n', 'chart\\tO\\n', 'clearly\\tO\\n', 'shows\\tO\\n', 'a\\tO\\n', 'difference\\tO\\n', 'between\\tO\\n', 'weekdays\\tO\\n', '(\\tO\\n', 'groups\\tO\\n', 'of\\tO\\n', 'five\\tO\\n', 'higher\\tO\\n', 'bars\\tO\\n', ')\\tO\\n', 'and\\tO\\n', 'weekends\\tO\\n', '(\\tO\\n', 'two\\tO\\n', 'lower\\tO\\n', 'bars\\tO\\n', ')\\tO\\n', '.\\tO\\n', '\\n', 'The\\tO\\n', 'daily\\tO\\n', 'unique\\tO\\n', 'hit\\tO\\n', '-\\tX\\n', 'rate\\tO\\n', 'fell\\tO\\n', 'by\\tO\\n', 'about\\tO\\n', 'half\\tO\\n', 'from\\tO\\n', 'around\\tO\\n', '800\\tO\\n', 'connections\\tO\\n', 'at\\tO\\n', 'the\\tO\\n', 'beginning\\tO\\n', 'of\\tO\\n', '2014\\tO\\n', 'to\\tO\\n', 'around\\tO\\n', '400\\tO\\n', 'connections\\tO\\n', 'per\\tO\\n', 'week\\tO\\n', '-\\tO\\n', 'day\\tO\\n', 'by\\tO\\n', 'the\\tO\\n', 'middle\\tO\\n', 'of\\tO\\n', 'the\\tO\\n', 'year\\tO\\n', '.\\tO\\n', '\\n', 'More\\tO\\n', 'than\\tO\\n', 'half\\tO\\n', 'of\\tO\\n', 'the\\tO\\n', 'victims\\tO\\n', 'always\\tO\\n', 'connect\\tO\\n', 'from\\tO\\n', 'the\\tO\\n', 'same\\tO\\n', 'IP\\tO\\n', 'address\\tO\\n', '.\\tO\\n', '\\n', 'Fewer\\tO\\n', 'than\\tO\\n', 'half\\tO\\n', 'of\\tO\\n', 'the\\tO\\n', 'victims\\tO\\n', 'connect\\tO\\n', 'from\\tO\\n', 'two\\tO\\n', 'or\\tO\\n', 'more\\tO\\n', 'different\\tO\\n', 'IP\\tO\\n', 'addresses\\tO\\n', 'as\\tO\\n', 'the\\tO\\n', 'following\\tO\\n', 'graph\\tO\\n', 'shows\\tO\\n', '.\\tO\\n', '\\n', 'This\\tO\\n', 'might\\tO\\n', 'indicate\\tO\\n', 'that\\tO\\n', 'some\\tO\\n', 'of\\tO\\n', 'the\\tO\\n', 'victims\\tO\\n', 'are\\tO\\n', 'behind\\tO\\n', 'proxies\\tO\\n', ',\\tO\\n', 'which\\tO\\n', 'makes\\tO\\n', 'sense\\tO\\n', 'for\\tO\\n', 'corporate\\tO\\n', 'environments\\tO\\n', '.\\tO\\n', '\\n', 'Victims\\tO\\n', 'using\\tO\\n', 'many\\tO\\n', 'different\\tO\\n', 'IP\\tO\\n', 'addresses\\tO\\n', 'may\\tO\\n', 'indicate\\tO\\n', 'laptops\\tO\\n', '.\\tO\\n', '\\n', 'The\\tO\\n', 'following\\tI-Entity\\n', 'chart\\tI-Entity\\n', 'visualizes\\tB-Action\\n', 'all\\tB-Entity\\n', 'the\\tI-Entity\\n', 'unique\\tI-Entity\\n', 'victims\\tI-Entity\\n', 'connecting\\tB-Action\\n', 'to\\tB-Modifier\\n', 'C&C\\tB-Entity\\n', 'servers\\tI-Entity\\n', '.\\tO\\n', '\\n', 'The\\tO\\n', 'main\\tO\\n', 'C&C\\tO\\n', 'Servers\\tO\\n', 'can\\tO\\n', 'be\\tO\\n', 'clearly\\tO\\n', 'seen\\tO\\n', 'in\\tO\\n', 'Russia\\tO\\n', 'and\\tO\\n', 'the\\tO\\n', 'USA\\tO\\n', '.\\tO\\n', '\\n', 'The\\tO\\n', 'victims\\tO\\n', 'are\\tO\\n', 'distributed\\tO\\n', 'across\\tO\\n', '99\\tO\\n', 'different\\tO\\n', 'countries\\tO\\n', '.\\tO\\n', '\\n', 'From\\tO\\n', 'the\\tO\\n', 'total\\tO\\n', 'of\\tO\\n', '2,811\\tO\\n', 'victims\\tO\\n', ',\\tO\\n', 'it\\tO\\n', 'was\\tO\\n', 'possible\\tO\\n', 'to\\tO\\n', 'accurately\\tO\\n', 'identify\\tO\\n', '106\\tO\\n', 'of\\tO\\n', 'them\\tO\\n', '.\\tO\\n', '\\n', 'Appendix\\tO\\n', '8\\tO\\n', 'contains\\tO\\n', 'a\\tO\\n', 'brief\\tO\\n', 'description\\tO\\n', 'about\\tO\\n', 'the\\tO\\n', 'sector\\tO\\n', '/\\tX\\n', 'company\\tX\\n', 'in\\tO\\n', 'which\\tO\\n', 'these\\tO\\n', 'victims\\tO\\n', 'operate\\tO\\n', '.\\tO\\n', '\\n', 'The\\tO\\n', 'table\\tO\\n', 'below\\tO\\n', 'summarizes\\tO\\n', 'the\\tO\\n', 'distribution\\tO\\n', 'of\\tO\\n', 'the\\tO\\n', 'identified\\tO\\n', 'victims\\tO\\n', 'by\\tO\\n', 'sector\\tO\\n', '.\\tO\\n', '\\n', 'Based\\tO\\n', 'on\\tO\\n', 'our\\tO\\n', 'monitoring\\tO\\n', ',\\tO\\n', 'the\\tO\\n', 'most\\tO\\n', 'widespread\\tO\\n', 'Backdoor\\tO\\n', 'is\\tO\\n', 'Havex\\tO\\n', 'with\\tO\\n', 'a\\tO\\n', 'total\\tO\\n', 'of\\tO\\n', '2,470\\tO\\n', 'infected\\tO\\n', 'systems\\tO\\n', ',\\tO\\n', 'mostly\\tO\\n', 'based\\tO\\n', 'in\\tO\\n', 'USA\\tO\\n', 'and\\tO\\n', 'Spain\\tO\\n', '.\\tO\\n', '\\n', '32\\tO\\n', 'different\\tO\\n', 'versions\\tO\\n', 'of\\tO\\n', 'Havex\\tO\\n', 'are\\tO\\n', 'used\\tO\\n', 'among\\tO\\n', 'all\\tO\\n', 'victims\\tO\\n', ',\\tO\\n', 'with\\tO\\n', '51\\tO\\n', 'victims\\tO\\n', 'left\\tO\\n', 'without\\tO\\n', 'any\\tO\\n', 'identifiable\\tO\\n', 'Havex\\tO\\n', 'version\\tO\\n', '.\\tO\\n', '\\n', 'Havex\\tO\\n', 'Version\\tO\\n', '024\\tO\\n', ',\\tO\\n', 'compiled\\tO\\n', 'at\\tO\\n', 'the\\tO\\n', 'end\\tO\\n', 'of\\tO\\n', '2012\\tO\\n', ',\\tO\\n', 'is\\tO\\n', 'the\\tO\\n', 'most\\tO\\n', 'widespread\\tO\\n', '.\\tO\\n', '\\n', 'Besides\\tO\\n', 'the\\tO\\n', 'Havex\\tO\\n', 'version\\tO\\n', ',\\tO\\n', 'the\\tB-Entity\\n', 'OS\\tI-Entity\\n', 'Version\\tI-Entity\\n', 'of\\tI-Entity\\n', 'the\\tI-Entity\\n', 'victim\\tI-Entity\\n', 'computer\\tI-Entity\\n', 'is\\tB-Action\\n', 'also\\tI-Action\\n', 'communicated\\tI-Action\\n', 'to\\tB-Modifier\\n', 'the\\tO\\n', 'C&C\\tB-Entity\\n', 'server\\tI-Entity\\n', '.\\tO\\n', '\\n', 'The\\tO\\n', 'most\\tO\\n', 'common\\tO\\n', 'Operating\\tO\\n', 'System\\tO\\n', 'among\\tO\\n', 'victims\\tO\\n', 'is\\tO\\n', 'Windows\\tO\\n', 'XP\\tO\\n', ',\\tO\\n', 'but\\tO\\n', 'Windows\\tO\\n', '8.1\\tO\\n', 'is\\tO\\n', 'also\\tO\\n', 'on\\tO\\n', 'the\\tO\\n', 'list\\tO\\n', '.\\tO\\n', '\\n', 'The\\tO\\n', 'Sysmain\\tI-Entity\\n', 'victims\\tI-Entity\\n', 'connect\\tB-Action\\n', 'to\\tB-Modifier\\n', 'six\\tO\\n', 'of\\tI-Entity\\n', 'the\\tI-Entity\\n', 'monitored\\tI-Entity\\n', 'C&C\\tI-Entity\\n', 'servers\\tI-Entity\\n', ',\\tO\\n', 'where\\tO\\n', '261\\tO\\n', 'unique\\tO\\n', 'victims\\tO\\n', 'were\\tO\\n', 'counted\\tO\\n', ',\\tO\\n', 'located\\tO\\n', 'in\\tO\\n', '38\\tO\\n', 'different\\tO\\n', 'countries\\tO\\n', '.\\tO\\n', '\\n', 'Victims\\tB-Entity\\n', 'of\\tI-Entity\\n', 'the\\tI-Entity\\n', 'Clientx\\tI-Entity\\n', 'backdoor\\tI-Entity\\n', 'connect\\tB-Action\\n', 'to\\tB-Modifier\\n', '2\\tB-Entity\\n', 'of\\tI-Entity\\n', 'the\\tI-Entity\\n', 'monitored\\tI-Entity\\n', 'C&C\\tI-Entity\\n', 'Servers\\tI-Entity\\n', ',\\tO\\n', 'where\\tO\\n', '10\\tO\\n', 'unique\\tO\\n', 'Victims\\tO\\n', 'were\\tO\\n', 'counted\\tO\\n', 'in\\tO\\n', '5\\tO\\n', 'different\\tO\\n', 'countries\\tO\\n', '.\\tO\\n', '\\n', 'Based\\tO\\n', 'on\\tO\\n', 'the\\tO\\n', 'analysis\\tO\\n', 'of\\tO\\n', 'the\\tO\\n', 'monitored\\tO\\n', 'C&C\\tO\\n', 'Servers\\tO\\n', 'we\\tO\\n', 'can\\tO\\n', 'identify\\tO\\n', 'some\\tO\\n', 'clusters\\tO\\n', 'based\\tO\\n', 'on\\tO\\n', 'malware\\tO\\n', 'versions\\tO\\n', 'and\\tO\\n', 'the\\tO\\n', 'victims\\tO\\n', '.\\tO\\n', '\\n', 'This\\tO\\n', 'graph\\tO\\n', 'visualizes\\tO\\n', 'these\\tO\\n', 'relations\\tO\\n', '.\\tO\\n', '\\n', 'Every\\tO\\n', 'dot\\tO\\n', 'represents\\tO\\n', 'a\\tO\\n', 'victim\\tO\\n', ',\\tO\\n', 'different\\tO\\n', 'Backdoors\\tO\\n', 'and\\tI-Entity\\n', 'versions\\tI-Entity\\n', 'are\\tO\\n', 'colored\\tO\\n', 'differently\\tO\\n', '.\\tO\\n', '\\n', 'The\\tO\\n', 'C&C\\tO\\n', 'Servers\\tO\\n', 'are\\tO\\n', 'also\\tO\\n', 'represented\\tO\\n', 'as\\tO\\n', 'dots\\tO\\n', 'where\\tO\\n', 'several\\tO\\n', 'clients\\tO\\n', 'connect\\tO\\n', '.\\tO\\n', '\\n', 'Grey\\tO\\n', 'lines\\tO\\n', 'are\\tO\\n', 'connections\\tO\\n', 'from\\tB-Modifier\\n', 'a\\tO\\n', 'victim\\tO\\n', 'to\\tO\\n', 'its\\tO\\n', 'C&C\\tO\\n', 'Server\\tO\\n', '.\\tO\\n', '\\n', 'Some\\tO\\n', 'C&C\\tO\\n', 'Servers\\tO\\n', 'are\\tO\\n', 'dedicated\\tO\\n', 'to\\tO\\n', 'a\\tO\\n', 'given\\tO\\n', 'version\\tO\\n', 'of\\tO\\n', 'a\\tO\\n', 'backdoor\\tO\\n', '(\\tO\\n', 'big\\tO\\n', 'Cluster\\tO\\n', ')\\tO\\n', '.\\tO\\n', '\\n', 'Others\\tO\\n', 'share\\tO\\n', 'connections\\tO\\n', 'with\\tO\\n', 'different\\tO\\n', 'backdoor\\tO\\n', 'versions\\tO\\n', 'and\\tO\\n', 'different\\tO\\n', 'backdoors\\tO\\n', '.\\tO\\n', '\\n', 'Breaking\\tO\\n', 'this\\tO\\n', 'down\\tO\\n', 'to\\tO\\n', 'the\\tO\\n', 'sectors\\tO\\n', 'of\\tO\\n', 'the\\tO\\n', 'identified\\tO\\n', 'victims\\tO\\n', ',\\tO\\n', 'we\\tO\\n', 'can\\tO\\n', 'not\\tO\\n', 'see\\tO\\n', 'any\\tO\\n', 'correlation\\tO\\n', 'between\\tO\\n', 'C&Cs\\tO\\n', 'and\\tO\\n', 'victims\\tO\\n', '.\\tO\\n', '\\n', 'The\\tB-Entity\\n', 'same\\tI-Entity\\n', 'sectors\\tI-Entity\\n', 'are\\tB-Action\\n', 'targeted\\tI-Action\\n', 'with\\tB-Modifier\\n', 'different\\tB-Entity\\n', 'backdoor\\tI-Entity\\n', 'versions\\tI-Entity\\n', '.\\tO\\n', '\\n', 'Compared\\tO\\n', 'to\\tO\\n', 'our\\tO\\n', 'other\\tO\\n', 'APT\\tO\\n', 'research\\tO\\n', 'the\\tO\\n', 'available\\tO\\n', 'data\\tO\\n', 'is\\tO\\n', 'more\\tO\\n', 'non\\tO\\n', '-\\tO\\n', 'specific\\tO\\n', 'than\\tO\\n', 'usual\\tO\\n', '.\\tO\\n', '\\n', 'There\\tO\\n', 'simply\\tO\\n', 'is\\tO\\n', 'no\\tO\\n', 'one\\tO\\n', 'piece\\tO\\n', 'or\\tO\\n', 'set\\tO\\n', 'of\\tO\\n', 'data\\tO\\n', 'that\\tO\\n', 'would\\tO\\n', 'lead\\tO\\n', 'to\\tO\\n', 'the\\tO\\n', 'conclusion\\tO\\n', 'that\\tO\\n', 'the\\tO\\n', 'threat\\tO\\n', 'actor\\tO\\n', 'is\\tO\\n', 'Bear\\tO\\n', ',\\tO\\n', 'Kitten\\tO\\n', ',\\tO\\n', 'Panda\\tO\\n', ',\\tO\\n', 'Salmon\\tO\\n', ',\\tO\\n', 'or\\tO\\n', 'otherwise\\tO\\n', '.\\tO\\n', '\\n', 'Significant\\tO\\n', 'data\\tO\\n', 'points\\tO\\n', 'below\\tO\\n', '.\\tO\\n', '\\n', 'It\\tO\\n', 'is\\tO\\n', 'rare\\tO\\n', 'to\\tO\\n', 'see\\tO\\n', 'file\\tO\\n', 'timestamps\\tO\\n', 'used\\tO\\n', 'as\\tO\\n', 'a\\tO\\n', 'precise\\tO\\n', ',\\tO\\n', 'primary\\tO\\n', 'source\\tO\\n', 'of\\tO\\n', 'information\\tO\\n', 'when\\tO\\n', 'it\\tO\\n', 'comes\\tO\\n', 'to\\tO\\n', 'threat\\tO\\n', 'actor\\tO\\n', 'attribution\\tO\\n', '.\\tO\\n', '\\n', 'In\\tO\\n', 'previous\\tO\\n', 'reports\\tO\\n', ',\\tO\\n', 'these\\tO\\n', 'timestamps\\tO\\n', 'have\\tO\\n', 'been\\tO\\n', 'used\\tO\\n', 'as\\tO\\n', 'supporting\\tO\\n', ',\\tO\\n', 'or\\tO\\n', 'secondary\\tO\\n', 'pieces\\tO\\n', 'of\\tO\\n', 'data\\tO\\n', '.\\tO\\n', '\\n', 'They\\tO\\n', 'may\\tO\\n', 'help\\tO\\n', 'to\\tO\\n', 'suggest\\tO\\n', 'or\\tO\\n', 'support\\tO\\n', 'a\\tO\\n', 'time\\tO\\n', 'range\\tO\\n', 'for\\tO\\n', 'attacker\\tO\\n', 'activity\\tO\\n', ',\\tO\\n', 'but\\tO\\n', 'they\\tO\\n', 'are\\tO\\n', 'very\\tO\\n', 'easily\\tO\\n', 'modified\\tO\\n', '.\\tO\\n', '\\n', 'So\\tO\\n', 'it\\tO\\n', 'is\\tO\\n', 'not\\tO\\n', 'very\\tO\\n', 'helpful\\tO\\n', 'to\\tO\\n', 'focus\\tO\\n', 'on\\tO\\n', 'this\\tO\\n', 'data\\tO\\n', 'set\\tO\\n', '.\\tO\\n', '\\n', 'The\\tO\\n', 'strings\\tO\\n', 'present\\tO\\n', 'in\\tO\\n', 'the\\tO\\n', 'backdoors\\tO\\n', ',\\tO\\n', 'web\\tO\\n', 'components\\tO\\n', ',\\tO\\n', 'and\\tO\\n', 'exploits\\tO\\n', 'are\\tO\\n', 'in\\tO\\n', 'English\\tO\\n', '.\\tO\\n', '\\n', 'Almost\\tO\\n', '200\\tO\\n', 'malicious\\tO\\n', 'binaries\\tO\\n', 'and\\tO\\n', 'the\\tO\\n', 'related\\tO\\n', 'operational\\tO\\n', 'content\\tO\\n', 'all\\tO\\n', 'present\\tO\\n', 'a\\tO\\n', 'complete\\tO\\n', 'lack\\tO\\n', 'of\\tO\\n', 'Cyrillic\\tO\\n', 'content\\tO\\n', ',\\tO\\n', 'the\\tO\\n', 'opposite\\tO\\n', 'of\\tO\\n', 'our\\tO\\n', 'documented\\tO\\n', 'findings\\tO\\n', 'from\\tO\\n', 'researching\\tO\\n', 'Red\\tO\\n', 'October\\tO\\n', ',\\tO\\n', 'Miniduke\\tO\\n', ',\\tO\\n', 'Cosmicduke\\tO\\n', ',\\tO\\n', 'Snake\\tO\\n', ',\\tO\\n', 'and\\tO\\n', 'TeamSpy\\tO\\n', '.\\tO\\n', '\\n', 'The\\tO\\n', 'OPC\\tO\\n', 'module\\tO\\n', 'strings\\tO\\n', 'include\\tO\\n', 'typos\\tO\\n', 'and\\tO\\n', 'bad\\tO\\n', 'grammar\\tO\\n', '.\\tO\\n', '\\n', 'Some\\tO\\n', 'are\\tO\\n', 'so\\tO\\n', 'bad\\tO\\n', 'they\\tO\\n', 'are\\tO\\n', 'almost\\tO\\n', 'silly\\tO\\n', 'and\\tO\\n', 'there\\tO\\n', 'does\\tO\\n', \"n't\\tO\\n\", 'seem\\tO\\n', 'to\\tO\\n', 'be\\tO\\n', 'a\\tO\\n', 'consistent\\tO\\n', 'pattern\\tO\\n', 'here\\tO\\n', '.\\tO\\n', '\\n', 'Programm\\tB-Entity\\n', 'was\\tB-Action\\n', 'started\\tI-Action\\n', 'at\\tB-Modifier\\n', '%\\tB-Entity\\n', '02i:%02i:%02i\\tI-Entity\\n', 'Start\\tI-Entity\\n', 'finging\\tI-Entity\\n', 'of\\tI-Entity\\n', 'LAN\\tI-Entity\\n', 'hosts\\tI-Entity\\n', '...\\tO\\n', '\\n', 'Finding\\tO\\n', 'was\\tO\\n', 'fault\\tO\\n', '.\\tO\\n', '\\n', 'Unexpective\\tO\\n', 'error\\tO\\n', 'Was\\tO\\n', 'found\\tO\\n', '%\\tO\\n', 'i\\tO\\n', 'hosts\\tO\\n', 'in\\tO\\n', 'LAN\\tO\\n', ':\\tO\\n', 'Hosts\\tO\\n', \"was't\\tO\\n\", 'found\\tO\\n', '.\\tO\\n', '\\n', 'There\\tO\\n', 'are\\tO\\n', 'also\\tO\\n', 'three\\tO\\n', 'interesting\\tO\\n', 'strings\\tO\\n', 'inside\\tO\\n', 'the\\tO\\n', 'Karagany\\tO\\n', 'backdoor\\tO\\n', '.\\tO\\n', '\\n', 'identifiant\\tO\\n', '(\\tO\\n', 'which\\tO\\n', 'is\\tO\\n', 'French\\tO\\n', 'for\\tO\\n', 'identifier\\tO\\n', ')\\tO\\n', ',\\tO\\n', 'fichier\\tO\\n', '(\\tO\\n', 'French\\tO\\n', 'for\\tO\\n', 'file\\tO\\n', ')\\tO\\n', 'and\\tO\\n', 'liteliteliteskot\\tO\\n', '(\\tO\\n', 'lite\\tO\\n', 'scot\\tO\\n', 'is\\tO\\n', 'Swedish\\tO\\n', 'for\\tO\\n', 'little\\tO\\n', 'sheet\\tO\\n', ')\\tO\\n', 'Timestamp\\tO\\n', 'analysis\\tO\\n', 'is\\tO\\n', 'based\\tO\\n', 'on\\tO\\n', 'a\\tO\\n', 'total\\tO\\n', 'of\\tO\\n', '154\\tO\\n', 'collected\\tO\\n', 'binaries\\tO\\n', '.\\tO\\n', '\\n', 'Highlights\\tO\\n', '.\\tO\\n', '\\n', 'Activity\\tO\\n', '/\\tO\\n', 'Year\\tO\\n', '(\\tO\\n', 'all\\tO\\n', 'samples\\tO\\n', ')\\tO\\n', '.\\tO\\n', '\\n', 'Activity\\tO\\n', '/\\tO\\n', 'Weekdays\\tO\\n', 'based\\tO\\n', 'on\\tO\\n', 'compilation\\tO\\n', 'time\\tO\\n', '.\\tO\\n', '\\n', 'Activity\\tO\\n', '/\\tO\\n', 'Hours\\tO\\n', '(\\tO\\n', 'UTC\\tO\\n', ')\\tO\\n', 'based\\tO\\n', 'on\\tO\\n', 'compilation\\tO\\n', 'time\\tO\\n', '.\\tO\\n', '\\n', 'All\\tB-Entity\\n', 'the\\tI-Entity\\n', 'exploit\\tI-Entity\\n', 'servers\\tI-Entity\\n', 'delivered\\tB-Action\\n', 'slightly\\tO\\n', 'modified\\tI-Entity\\n', 'ripped\\tI-Entity\\n', 'content\\tI-Entity\\n', 'from\\tB-Modifier\\n', 'open\\tB-Entity\\n', 'source\\tI-Entity\\n', 'repositories\\tI-Entity\\n', '.\\tO\\n', '\\n', 'All\\tO\\n', 'the\\tO\\n', 'servers\\tO\\n', 'appear\\tO\\n', 'to\\tO\\n', 'be\\tO\\n', 'hacked\\tO\\n', 'servers\\tO\\n', '.\\tO\\n', '\\n', 'According\\tO\\n', 'to\\tO\\n', 'the\\tO\\n', 'available\\tO\\n', 'data\\tO\\n', ',\\tO\\n', 'no\\tO\\n', 'zero\\tO\\n', '-\\tX\\n', 'day\\tX\\n', 'exploits\\tO\\n', 'were\\tO\\n', 'used\\tO\\n', 'in\\tO\\n', 'any\\tO\\n', 'of\\tO\\n', 'these\\tO\\n', 'attacks\\tO\\n', ',\\tO\\n', 'either\\tO\\n', 'to\\tO\\n', 'compromise\\tO\\n', 'the\\tO\\n', 'servers\\tO\\n', 'in\\tO\\n', 'the\\tO\\n', 'first\\tO\\n', 'place\\tO\\n', ',\\tO\\n', 'or\\tO\\n', 'delivered\\tB-Action\\n', 'as\\tO\\n', 'client\\tO\\n', 'side\\tO\\n', 'attack\\tO\\n', 'exploits\\tI-Entity\\n', 'by\\tO\\n', 'the\\tO\\n', 'Lights\\tO\\n', 'Out\\tO\\n', 'Exploit\\tO\\n', 'Kit\\tO\\n', '.\\tO\\n', '\\n', 'While\\tO\\n', 'this\\tO\\n', 'purely\\tO\\n', 'malicious\\tO\\n', 're\\tO\\n', '-\\tO\\n', 'use\\tO\\n', 'of\\tO\\n', 'metasploit\\tO\\n', 'PoC\\tO\\n', 'highlights\\tO\\n', 'the\\tO\\n', 'danger\\tO\\n', 'that\\tO\\n', 'these\\tO\\n', 'attack\\tO\\n', 'tools\\tO\\n', 'pose\\tO\\n', ',\\tO\\n', 'it\\tO\\n', 'is\\tO\\n', 'also\\tO\\n', 'unusual\\tO\\n', 'to\\tO\\n', 'see\\tO\\n', 'an\\tO\\n', 'exclusively\\tO\\n', 'metasploit\\tO\\n', 'attack\\tO\\n', 'toolset\\tO\\n', 'effectively\\tO\\n', 'used\\tO\\n', 'in\\tO\\n', 'this\\tO\\n', 'way\\tO\\n', ',\\tO\\n', 'delivered\\tO\\n', 'from\\tO\\n', 'what\\tO\\n', 'appear\\tO\\n', 'to\\tO\\n', 'be\\tO\\n', 'a\\tO\\n', 'chain\\tO\\n', 'of\\tO\\n', 'higher\\tO\\n', 'value\\tO\\n', 'compromised\\tO\\n', 'sites\\tO\\n', '.\\tO\\n', '\\n', 'All\\tO\\n', 'of\\tO\\n', 'these\\tO\\n', 'compromised\\tO\\n', 'web\\tO\\n', 'applications\\tO\\n', 'were\\tO\\n', 'vulnerable\\tO\\n', 'to\\tO\\n', 'freely\\tO\\n', 'available\\tO\\n', 'offensive\\tO\\n', 'security\\tO\\n', 'tools\\tO\\n', '.\\tO\\n', '\\n', 'We\\tO\\n', 'acknowledge\\tO\\n', 'that\\tO\\n', 'many\\tO\\n', 'of\\tO\\n', 'the\\tO\\n', 'compromised\\tO\\n', 'referrer\\tO\\n', 'servers\\tO\\n', 'were\\tO\\n', 'related\\tO\\n', 'to\\tO\\n', 'power\\tO\\n', 'producers\\tO\\n', 'in\\tO\\n', 'some\\tO\\n', 'way\\tO\\n', '.\\tO\\n', '\\n', 'However\\tO\\n', ',\\tO\\n', 'these\\tO\\n', 'targets\\tO\\n', 'almost\\tO\\n', 'seem\\tO\\n', 'an\\tO\\n', 'afterthought\\tO\\n', ',\\tO\\n', 'as\\tO\\n', 'the\\tO\\n', 'exploit\\tO\\n', 'servers\\tO\\n', 'themselves\\tO\\n', 'were\\tO\\n', 'compromised\\tO\\n', 'web\\tO\\n', 'servers\\tO\\n', 'from\\tO\\n', 'Cuban\\tO\\n', 'travel\\tO\\n', 'agency\\tO\\n', 'sites\\tO\\n', ',\\tO\\n', 'a\\tO\\n', 'Californian\\tO\\n', 'winery\\tO\\n', 'site\\tO\\n', ',\\tO\\n', 'a\\tO\\n', 'US\\tO\\n', 'based\\tO\\n', 'women\\tO\\n', \"'s\\tO\\n\", 'fashion\\tO\\n', 'site\\tO\\n', ',\\tO\\n', 'an\\tO\\n', 'Iranian\\tO\\n', 'general\\tO\\n', 'interest\\tO\\n', '/\\tO\\n', 'religious\\tO\\n', 'inspiration\\tO\\n', 'site\\tO\\n', ',\\tO\\n', 'a\\tO\\n', 'number\\tO\\n', 'of\\tO\\n', 'dating\\tO\\n', 'and\\tO\\n', 'adult\\tO\\n', 'content\\tO\\n', 'websites\\tO\\n', ',\\tO\\n', 'and\\tO\\n', 'a\\tO\\n', 'variety\\tO\\n', 'of\\tO\\n', 'others\\tO\\n', '.\\tO\\n', '\\n', 'Although\\tO\\n', ',\\tO\\n', 'we\\tO\\n', 'note\\tO\\n', 'that\\tO\\n', 'the\\tO\\n', 'known\\tO\\n', 'Trojanized\\tO\\n', 'software\\tO\\n', 'packages\\tO\\n', 'were\\tO\\n', 'ICS\\tO\\n', '/\\tX\\n', 'SCADA\\tX\\n', 'related\\tO\\n', 'as\\tO\\n', 'well\\tO\\n', ',\\tO\\n', 'possibly\\tO\\n', 'because\\tO\\n', 'those\\tO\\n', 'victim\\tO\\n', 'sets\\tO\\n', 'or\\tO\\n', 'environments\\tO\\n', 'required\\tO\\n', 'special\\tO\\n', 'attention\\tO\\n', '.\\tO\\n', '\\n', 'So\\tO\\n', ',\\tO\\n', 'while\\tO\\n', 'there\\tO\\n', 'was\\tO\\n', 'a\\tO\\n', 'strong\\tO\\n', 'set\\tO\\n', 'of\\tO\\n', 'offensive\\tO\\n', 'activities\\tO\\n', 'on\\tO\\n', 'power\\tO\\n', 'producers\\tO\\n', 'during\\tO\\n', 'the\\tO\\n', 'campaigns\\tO\\n', ',\\tO\\n', 'it\\tO\\n', 'was\\tO\\n', 'by\\tO\\n', 'no\\tO\\n', 'means\\tO\\n', 'the\\tO\\n', 'full\\tO\\n', 'focus\\tO\\n', 'of\\tO\\n', 'them\\tO\\n', '.\\tO\\n', '\\n', 'While\\tO\\n', 'it\\tO\\n', 'may\\tO\\n', 'be\\tO\\n', '\"\\tO\\n', 'shocking\\tO\\n', '\"\\tO\\n', 'to\\tO\\n', 'observe\\tO\\n', 'power\\tO\\n', 'producers\\tO\\n', 'around\\tO\\n', 'the\\tO\\n', 'world\\tO\\n', 'targeted\\tO\\n', 'by\\tO\\n', 'any\\tO\\n', 'one\\tO\\n', 'threat\\tO\\n', 'actor\\tO\\n', ',\\tO\\n', 'this\\tO\\n', 'actor\\tO\\n', \"'s\\tO\\n\", 'attack\\tO\\n', 'activity\\tO\\n', 'does\\tO\\n', 'not\\tO\\n', 'appear\\tO\\n', 'to\\tO\\n', 'be\\tO\\n', 'constrained\\tO\\n', 'to\\tO\\n', 'power\\tO\\n', 'producers\\tO\\n', '.\\tO\\n', '\\n', 'The\\tO\\n', 'related\\tO\\n', 'industries\\tO\\n', 'of\\tO\\n', 'interest\\tO\\n', 'show\\tO\\n', 'a\\tO\\n', 'much\\tO\\n', 'broader\\tO\\n', 'global\\tO\\n', 'scope\\tO\\n', 'than\\tO\\n', 'previously\\tO\\n', 'discussed\\tO\\n', ',\\tO\\n', 'and\\tO\\n', 'the\\tO\\n', 'geographic\\tO\\n', 'regions\\tO\\n', 'of\\tO\\n', 'interest\\tO\\n', 'have\\tO\\n', 'gone\\tO\\n', 'completely\\tO\\n', 'undiscussed\\tO\\n', '.\\tO\\n', '\\n', 'For\\tO\\n', 'example\\tO\\n', ',\\tO\\n', 'Spain\\tO\\n', 'had\\tO\\n', 'the\\tO\\n', 'highest\\tO\\n', 'number\\tO\\n', 'of\\tO\\n', 'victims\\tO\\n', '.\\tO\\n', '\\n', 'However\\tO\\n', ',\\tO\\n', 'it\\tO\\n', 'appears\\tO\\n', 'that\\tO\\n', 'there\\tO\\n', 'was\\tO\\n', 'no\\tO\\n', 'significant\\tO\\n', 'correlation\\tO\\n', 'between\\tO\\n', 'the\\tO\\n', 'victim\\tO\\n', 'location\\tO\\n', 'and\\tO\\n', 'the\\tO\\n', 'C&C\\tO\\n', 'geolocation\\tO\\n', '.\\tO\\n', '\\n', 'And\\tO\\n', ',\\tO\\n', 'according\\tO\\n', 'to\\tO\\n', 'our\\tO\\n', 'data\\tO\\n', ',\\tO\\n', 'the\\tO\\n', 'list\\tO\\n', 'also\\tO\\n', 'includes\\tO\\n', 'victim\\tO\\n', 'organizations\\tO\\n', 'fitting\\tO\\n', 'the\\tO\\n', 'following\\tO\\n', 'additional\\tO\\n', 'categories\\tO\\n', '.\\tO\\n', '\\n', 'The\\tO\\n', 'Crouching\\tO\\n', 'Yeti\\tO\\n', 'actor\\tO\\n', 'has\\tO\\n', 'been\\tO\\n', 'performing\\tO\\n', 'massive\\tO\\n', 'surveillance\\tO\\n', 'campaigns\\tO\\n', 'in\\tO\\n', 'recent\\tO\\n', 'years\\tO\\n', ',\\tO\\n', 'since\\tO\\n', 'at\\tO\\n', 'least\\tO\\n', '2010\\tO\\n', '.\\tO\\n', '\\n', 'Their\\tO\\n', 'targets\\tO\\n', 'included\\tO\\n', 'thousands\\tO\\n', 'of\\tO\\n', 'victims\\tO\\n', 'of\\tO\\n', 'which\\tO\\n', 'we\\tO\\n', 'were\\tO\\n', 'able\\tO\\n', 'to\\tO\\n', 'identify\\tO\\n', 'a\\tO\\n', 'few\\tO\\n', ',\\tO\\n', 'confirming\\tO\\n', 'Crouching\\tO\\n', 'Yeti\\tO\\n', \"'s\\tO\\n\", 'interest\\tO\\n', 'in\\tO\\n', 'several\\tO\\n', 'strategic\\tO\\n', 'sectors\\tO\\n', '.\\tO\\n', '\\n', 'The\\tO\\n', 'distribution\\tO\\n', 'strategy\\tO\\n', 'of\\tO\\n', 'the\\tO\\n', 'group\\tO\\n', 'focuses\\tO\\n', 'on\\tO\\n', 'methods\\tO\\n', 'following\\tO\\n', 'this\\tO\\n', 'targeted\\tO\\n', 'philosophy\\tO\\n', ',\\tO\\n', 'including\\tB-Action\\n', 'spear\\tO\\n', 'phishing\\tO\\n', 'and\\tO\\n', 'waterholing\\tO\\n', '.\\tO\\n', '\\n', 'Noticeably\\tO\\n', ',\\tO\\n', 'they\\tB-Entity\\n', 'also\\tO\\n', 'compromised\\tB-Action\\n', 'legitimate\\tB-Entity\\n', 'software\\tI-Entity\\n', 'packages\\tI-Entity\\n', 'from\\tI-Entity\\n', 'strategic\\tI-Entity\\n', 'actors\\tI-Entity\\n', 'in\\tI-Entity\\n', 'the\\tI-Entity\\n', 'SCADA\\tI-Entity\\n', 'sector\\tI-Entity\\n', 'in\\tO\\n', 'order\\tO\\n', 'to\\tO\\n', 'infect\\tO\\n', 'their\\tO\\n', 'final\\tI-Entity\\n', 'victims\\tI-Entity\\n', '.\\tO\\n', '\\n', 'The\\tO\\n', 'victim\\tO\\n', 'list\\tO\\n', 'confirms\\tO\\n', 'that\\tO\\n', 'the\\tO\\n', 'tactic\\tO\\n', 'proved\\tO\\n', 'successful\\tO\\n', '.\\tO\\n', '\\n', 'There\\tO\\n', 'is\\tO\\n', 'nothing\\tO\\n', 'especially\\tO\\n', 'sophisticated\\tO\\n', 'in\\tO\\n', 'their\\tO\\n', 'exploits\\tO\\n', ',\\tO\\n', 'or\\tO\\n', 'in\\tO\\n', 'the\\tO\\n', 'malware\\tO\\n', 'they\\tO\\n', 'used\\tO\\n', 'to\\tO\\n', 'infect\\tO\\n', 'victims\\tO\\n', '.\\tO\\n', '\\n', 'Their\\tB-Entity\\n', 'RATs\\tI-Entity\\n', 'are\\tO\\n', 'flexible\\tO\\n', 'enough\\tO\\n', 'to\\tO\\n', 'perform\\tB-Action\\n', 'surveillance\\tB-Entity\\n', 'and\\tI-Entity\\n', 'data\\tI-Entity\\n', 'exfiltration\\tI-Entity\\n', 'efficiently\\tO\\n', '.\\tO\\n', '\\n', 'They\\tB-Entity\\n', 'used\\tB-Action\\n', 'dozens\\tB-Entity\\n', 'of\\tI-Entity\\n', 'compromised\\tI-Entity\\n', 'servers\\tI-Entity\\n', 'as\\tB-Modifier\\n', 'Command\\tB-Entity\\n', 'and\\tI-Entity\\n', 'Control\\tI-Entity\\n', 'domains\\tI-Entity\\n', 'with\\tB-Modifier\\n', 'a\\tB-Entity\\n', 'simple\\tI-Entity\\n', ',\\tO\\n', 'but\\tO\\n', 'effective\\tO\\n', ',\\tO\\n', 'PHP\\tI-Entity\\n', 'backend\\tI-Entity\\n', '.\\tO\\n', '\\n', 'However\\tO\\n', 'there\\tO\\n', 'is\\tO\\n', 'an\\tO\\n', 'interesting\\tO\\n', 'connection\\tO\\n', 'with\\tO\\n', 'this\\tO\\n', 'group\\tO\\n', 'and\\tO\\n', 'the\\tO\\n', 'LightsOut\\tO\\n', 'Exploit\\tO\\n', 'Kit\\tO\\n', 'for\\tO\\n', 'the\\tO\\n', 'distribution\\tO\\n', 'of\\tO\\n', 'its\\tO\\n', 'malware\\tO\\n', 'in\\tO\\n', 'some\\tO\\n', 'waterholing\\tO\\n', 'attacks\\tO\\n', '.\\tO\\n', '\\n', 'We\\tO\\n', 'believe\\tO\\n', 'they\\tO\\n', 'are\\tO\\n', 'likely\\tO\\n', 'its\\tO\\n', 'only\\tO\\n', 'operators\\tO\\n', 'as\\tO\\n', 'of\\tO\\n', 'June\\tO\\n', '2014\\tO\\n', '.\\tO\\n', '\\n', 'Thanks\\tO\\n', 'to\\tO\\n', 'the\\tO\\n', 'monitoring\\tO\\n', 'of\\tO\\n', 'several\\tO\\n', 'of\\tO\\n', 'the\\tI-Entity\\n', 'Command\\tO\\n', 'and\\tO\\n', 'Control\\tO\\n', 'domains\\tO\\n', 'used\\tO\\n', 'by\\tO\\n', 'the\\tO\\n', 'group\\tO\\n', ',\\tO\\n', 'we\\tO\\n', 'were\\tO\\n', 'able\\tO\\n', 'to\\tO\\n', 'identify\\tO\\n', 'several\\tO\\n', 'victims\\tO\\n', '.\\tO\\n', '\\n', 'This\\tO\\n', 'victims\\tO\\n', \"'\\tO\\n\", 'list\\tO\\n', 'reinforces\\tO\\n', 'the\\tO\\n', 'interests\\tO\\n', 'shown\\tO\\n', 'by\\tO\\n', 'the\\tO\\n', 'Crouching\\tO\\n', 'Yeti\\tO\\n', 'actor\\tO\\n', 'in\\tO\\n', 'strategic\\tO\\n', 'targets\\tO\\n', ',\\tO\\n', 'but\\tO\\n', 'also\\tO\\n', 'shows\\tO\\n', 'the\\tO\\n', 'interest\\tO\\n', 'of\\tO\\n', 'the\\tO\\n', 'group\\tO\\n', 'in\\tO\\n', 'many\\tO\\n', 'other\\tO\\n', 'not\\tO\\n', '-\\tX\\n', 'so\\tX\\n', '-\\tX\\n', 'obvious\\tX\\n', 'institutions\\tO\\n', '.\\tO\\n', '\\n', 'We\\tO\\n', 'believe\\tO\\n', 'they\\tO\\n', 'might\\tO\\n', 'be\\tO\\n', 'collateral\\tO\\n', 'victims\\tO\\n', ',\\tO\\n', 'but\\tO\\n', 'it\\tO\\n', 'might\\tO\\n', 'also\\tO\\n', 'be\\tO\\n', 'fair\\tO\\n', 'to\\tO\\n', 'redefine\\tO\\n', 'the\\tO\\n', 'Crouching\\tO\\n', 'Yeti\\tO\\n', 'actor\\tO\\n', 'not\\tO\\n', 'only\\tO\\n', 'as\\tO\\n', 'a\\tO\\n', 'highly\\tO\\n', 'targeted\\tO\\n', 'one\\tO\\n', 'in\\tO\\n', 'a\\tO\\n', 'very\\tO\\n', 'specific\\tO\\n', 'area\\tO\\n', 'of\\tO\\n', 'interest\\tO\\n', ',\\tO\\n', 'but\\tO\\n', 'a\\tO\\n', 'broad\\tO\\n', 'surveillance\\tO\\n', 'campaign\\tO\\n', 'with\\tO\\n', 'interests\\tO\\n', 'in\\tO\\n', 'different\\tO\\n', 'sectors\\tO\\n', '.\\tO\\n', '\\n', 'We\\tO\\n', 'will\\tO\\n', 'continue\\tO\\n', 'monitoring\\tO\\n', 'this\\tO\\n', 'actor\\tO\\n', '.\\tO\\n', '\\n', 'The\\tO\\n', 'experts\\tO\\n', 'of\\tO\\n', 'G\\tO\\n', 'DATA\\tO\\n', \"'s\\tO\\n\", 'SecurityLabs\\tO\\n', 'discovered\\tO\\n', 'a\\tO\\n', 'cyber\\tO\\n', '-\\tX\\n', 'espionage\\tX\\n', 'campaign\\tO\\n', 'that\\tO\\n', 'perfectly\\tO\\n', 'exemplifies\\tO\\n', 'the\\tO\\n', 'way\\tO\\n', 'how\\tO\\n', 'targeted\\tO\\n', 'attacks\\tO\\n', 'work\\tO\\n', '.\\tO\\n', '\\n', 'The\\tO\\n', 'purpose\\tO\\n', 'of\\tO\\n', 'this\\tB-Entity\\n', 'campaign\\tI-Entity\\n', 'was\\tO\\n', 'to\\tO\\n', 'steal\\tB-Action\\n', 'valuable\\tB-Entity\\n', 'documents\\tI-Entity\\n', 'from\\tB-Modifier\\n', 'the\\tO\\n', 'targeted\\tI-Entity\\n', 'entity\\tI-Entity\\n', '.\\tO\\n', '\\n', 'We\\tO\\n', 'entitle\\tO\\n', 'this\\tO\\n', 'operation\\tO\\n', '\"\\tO\\n', 'TooHash\\tO\\n', '\"\\tO\\n', '.\\tO\\n', '\\n', 'The\\tB-Entity\\n', 'attackers\\tI-Entity\\n', \"'\\tO\\n\", 'modus\\tO\\n', 'operandi\\tO\\n', 'is\\tO\\n', 'to\\tO\\n', 'carry\\tB-Action\\n', 'out\\tB-Modifier\\n', 'spear\\tB-Entity\\n', 'phishing\\tI-Entity\\n', 'using\\tB-Modifier\\n', 'a\\tO\\n', 'malicious\\tI-Entity\\n', 'Microsoft\\tI-Entity\\n', 'Office\\tI-Entity\\n', 'document\\tI-Entity\\n', 'as\\tI-Entity\\n', 'an\\tI-Entity\\n', 'attachment\\tI-Entity\\n', '.\\tO\\n', '\\n', 'The\\tO\\n', 'attackers\\tO\\n', 'do\\tO\\n', 'not\\tO\\n', 'choose\\tO\\n', 'their\\tO\\n', 'targets\\tO\\n', 'indiscriminately\\tO\\n', ',\\tO\\n', 'which\\tO\\n', 'we\\tO\\n', 'derive\\tO\\n', 'from\\tO\\n', 'the\\tO\\n', 'fact\\tO\\n', 'that\\tO\\n', 'they\\tB-Entity\\n', 'sent\\tB-Action\\n', 'specially\\tO\\n', 'crafted\\tO\\n', 'CV\\tB-Entity\\n', 'documents\\tO\\n', ',\\tO\\n', 'probably\\tO\\n', 'to\\tO\\n', 'human\\tO\\n', 'resources\\tO\\n', 'management\\tO\\n', 'employees\\tO\\n', '.\\tO\\n', '\\n', 'Naturally\\tO\\n', ',\\tO\\n', 'the\\tO\\n', 'recipients\\tO\\n', 'are\\tO\\n', 'inclined\\tO\\n', 'to\\tO\\n', 'open\\tO\\n', 'such\\tO\\n', 'documents\\tO\\n', 'on\\tO\\n', 'a\\tO\\n', 'daily\\tO\\n', 'base\\tO\\n', '.\\tO\\n', '\\n', 'The\\tO\\n', 'majority\\tO\\n', 'of\\tO\\n', 'discovered\\tO\\n', 'samples\\tO\\n', 'were\\tO\\n', 'submitted\\tO\\n', 'from\\tO\\n', 'Taiwan\\tO\\n', '.\\tO\\n', '\\n', 'As\\tO\\n', 'part\\tO\\n', 'of\\tO\\n', 'the\\tO\\n', 'documents\\tO\\n', 'are\\tO\\n', 'in\\tO\\n', 'Simplified\\tO\\n', 'Chinese\\tO\\n', 'which\\tO\\n', 'is\\tO\\n', 'used\\tO\\n', 'in\\tO\\n', 'the\\tO\\n', 'Chinese\\tO\\n', 'mainland\\tO\\n', 'and\\tO\\n', 'others\\tO\\n', 'in\\tO\\n', 'Traditional\\tO\\n', 'Chinese\\tO\\n', 'which\\tO\\n', 'is\\tO\\n', 'used\\tO\\n', 'in\\tO\\n', 'Hong\\tO\\n', 'Kong\\tO\\n', ',\\tO\\n', 'Macao\\tO\\n', 'and\\tO\\n', 'Taiwan\\tO\\n', ',\\tO\\n', 'these\\tO\\n', 'malicious\\tO\\n', 'documents\\tO\\n', 'might\\tO\\n', 'have\\tO\\n', 'been\\tO\\n', 'used\\tO\\n', 'against\\tO\\n', 'targets\\tO\\n', 'in\\tO\\n', 'the\\tO\\n', 'whole\\tO\\n', 'Greater\\tO\\n', 'China\\tO\\n', 'area\\tO\\n', '.\\tO\\n', '\\n', 'The\\tO\\n', 'attached\\tI-Entity\\n', 'documents\\tI-Entity\\n', 'exploit\\tB-Action\\n', 'a\\tB-Entity\\n', 'well\\tI-Entity\\n', '-\\tX\\n', 'known\\tX\\n', 'and\\tI-Entity\\n', 'rather\\tO\\n', 'aged\\tI-Entity\\n', 'vulnerability\\tI-Entity\\n', '(\\tI-Entity\\n', 'CVE-2012\\tI-Entity\\n', '-\\tX\\n', '0158\\tX\\n', ')\\tO\\n', 'to\\tO\\n', 'drop\\tB-Action\\n', 'a\\tB-Entity\\n', 'remote\\tI-Entity\\n', 'administration\\tI-Entity\\n', 'tool\\tI-Entity\\n', ',\\tI-Entity\\n', 'or\\tI-Entity\\n', 'RAT\\tI-Entity\\n', 'for\\tI-Entity\\n', 'short\\tI-Entity\\n', ',\\tO\\n', 'onto\\tB-Modifier\\n', 'the\\tB-Entity\\n', 'targeted\\tI-Entity\\n', 'user\\tI-Entity\\n', \"'s\\tI-Entity\\n\", 'computer\\tI-Entity\\n', '.\\tO\\n', '\\n', 'During\\tO\\n', 'the\\tO\\n', 'campaign\\tO\\n', ',\\tO\\n', 'we\\tO\\n', 'identified\\tO\\n', 'two\\tO\\n', 'different\\tO\\n', 'pieces\\tO\\n', 'of\\tO\\n', 'malware\\tO\\n', '.\\tO\\n', '\\n', 'Both\\tB-Entity\\n', 'include\\tB-Action\\n', 'common\\tO\\n', 'cyber\\tI-Entity\\n', '-\\tX\\n', 'espionage\\tX\\n', 'components\\tO\\n', 'such\\tO\\n', 'as\\tO\\n', 'code\\tB-Entity\\n', 'execution\\tI-Entity\\n', ',\\tO\\n', 'file\\tB-Entity\\n', 'listing\\tI-Entity\\n', ',\\tO\\n', 'document\\tO\\n', 'exfiltration\\tI-Entity\\n', 'and\\tO\\n', 'more\\tO\\n', '.\\tO\\n', '\\n', 'We\\tO\\n', 'discovered\\tO\\n', 'more\\tB-Entity\\n', 'than\\tI-Entity\\n', '75\\tO\\n', 'command\\tI-Entity\\n', 'and\\tI-Entity\\n', 'control\\tI-Entity\\n', 'servers\\tI-Entity\\n', ',\\tO\\n', 'all\\tO\\n', 'used\\tO\\n', 'to\\tO\\n', 'administrate\\tB-Action\\n', 'infected\\tB-Entity\\n', 'machines\\tI-Entity\\n', '.\\tO\\n', '\\n', 'The\\tO\\n', 'servers\\tO\\n', 'were\\tO\\n', 'mainly\\tO\\n', 'located\\tO\\n', 'in\\tO\\n', 'Hong\\tO\\n', 'Kong\\tO\\n', 'and\\tO\\n', 'the\\tO\\n', 'USA\\tO\\n', '.\\tO\\n', '\\n', 'Furthermore\\tO\\n', ',\\tO\\n', 'the\\tO\\n', 'administration\\tO\\n', 'panel\\tO\\n', \"'s\\tO\\n\", 'language\\tO\\n', ',\\tO\\n', 'used\\tO\\n', 'by\\tO\\n', 'the\\tO\\n', 'attackers\\tO\\n', 'to\\tO\\n', 'manage\\tO\\n', 'infected\\tO\\n', 'systems\\tO\\n', ',\\tO\\n', 'was\\tO\\n', 'partly\\tO\\n', 'written\\tO\\n', 'in\\tO\\n', 'Chinese\\tO\\n', 'and\\tO\\n', 'partly\\tO\\n', 'in\\tO\\n', 'English\\tO\\n', '.\\tO\\n', '\\n', 'The\\tO\\n', 'exploit\\tO\\n', 'used\\tO\\n', 'by\\tO\\n', 'the\\tO\\n', 'attackers\\tO\\n', 'is\\tO\\n', 'identified\\tO\\n', 'and\\tO\\n', 'blocked\\tO\\n', 'by\\tO\\n', 'G\\tO\\n', 'DATA\\tO\\n', \"'s\\tO\\n\", 'Exploit\\tO\\n', 'Protection\\tO\\n', 'technology\\tO\\n', 'and\\tO\\n', 'G\\tO\\n', 'DATA\\tO\\n', \"'s\\tO\\n\", 'security\\tI-Entity\\n', 'solutions\\tI-Entity\\n', 'detect\\tB-Action\\n', 'the\\tO\\n', 'dropped\\tI-Entity\\n', 'binaries\\tI-Entity\\n', 'as\\tO\\n', 'Win32.Trojan\\tB-Entity\\n', '.\\tX\\n', 'Cohhoc\\tX\\n', '.\\tO\\n', 'A\\tO\\n', 'and\\tO\\n', 'Win32.Trojan\\tO\\n', '.\\tO\\n', 'DirectsX.A\\tO\\n', 'respectively\\tO\\n', '.\\tO\\n', '\\n', 'Nowadays\\tO\\n', ',\\tO\\n', 'trade\\tO\\n', 'secrets\\tO\\n', 'describe\\tO\\n', 'one\\tO\\n', 'of\\tO\\n', 'the\\tO\\n', 'major\\tO\\n', 'values\\tO\\n', 'of\\tO\\n', 'almost\\tO\\n', 'every\\tO\\n', 'company\\tO\\n', '.\\tO\\n', '\\n', 'Therefore\\tO\\n', ',\\tO\\n', 'begrudged\\tO\\n', 'competitors\\tO\\n', 'may\\tO\\n', 'be\\tO\\n', 'tempted\\tO\\n', 'to\\tO\\n', 'steal\\tO\\n', 'valuable\\tO\\n', 'sensitive\\tO\\n', 'information\\tO\\n', 'for\\tO\\n', 'their\\tO\\n', 'purposes\\tO\\n', '.\\tO\\n', '\\n', 'The\\tO\\n', 'leak\\tO\\n', 'of\\tO\\n', 'sensitive\\tO\\n', 'documents\\tO\\n', 'can\\tO\\n', 'be\\tO\\n', 'a\\tO\\n', 'disaster\\tO\\n', 'for\\tO\\n', 'a\\tO\\n', 'company\\tO\\n', 'and\\tO\\n', 'lead\\tO\\n', 'to\\tO\\n', 'large\\tO\\n', 'financial\\tO\\n', 'losses\\tO\\n', '.\\tO\\n', '\\n', 'Furthermore\\tO\\n', ',\\tO\\n', 'governmental\\tO\\n', 'entities\\tO\\n', 'use\\tO\\n', 'sensitive\\tO\\n', ',\\tO\\n', 'private\\tO\\n', 'or\\tO\\n', 'classified\\tO\\n', 'documents\\tO\\n', '.\\tO\\n', '\\n', 'Intelligence\\tO\\n', 'agencies\\tO\\n', 'may\\tO\\n', 'be\\tO\\n', 'interested\\tO\\n', 'to\\tO\\n', 'obtain\\tO\\n', 'such\\tO\\n', 'documents\\tO\\n', '.\\tO\\n', '\\n', 'The\\tO\\n', 'analyzed\\tO\\n', 'samples\\tO\\n', 'used\\tO\\n', 'in\\tO\\n', 'the\\tO\\n', '\"\\tO\\n', 'TooHash\\tO\\n', '\"\\tO\\n', 'campaign\\tO\\n', 'were\\tO\\n', 'Microsoft\\tO\\n', 'Office\\tO\\n', 'documents\\tO\\n', ',\\tO\\n', 'and\\tO\\n', 'were\\tO\\n', 'submitted\\tO\\n', 'to\\tO\\n', 'us\\tO\\n', 'from\\tO\\n', 'a\\tO\\n', 'Taiwanese\\tO\\n', 'customer\\tO\\n', '.\\tO\\n', '\\n', 'An\\tO\\n', 'indication\\tO\\n', 'leading\\tO\\n', 'to\\tO\\n', 'the\\tO\\n', 'target\\tO\\n', 'area\\tO\\n', 'is\\tO\\n', 'one\\tO\\n', 'of\\tO\\n', 'the\\tO\\n', 'documents\\tO\\n', 'used\\tO\\n', 'by\\tO\\n', 'the\\tO\\n', 'attackers\\tO\\n', ',\\tO\\n', 'which\\tO\\n', 'contained\\tO\\n', 'the\\tO\\n', 'string\\tO\\n', '\"\\tO\\n', '102年尾牙、\\tO\\n', '\"\\tO\\n', 'which\\tO\\n', 'means\\tO\\n', '\"\\tO\\n', 'end\\tO\\n', 'of\\tO\\n', 'the\\tO\\n', 'year\\tO\\n', '102\\tO\\n', '\"\\tO\\n', '.\\tO\\n', '\\n', 'The\\tO\\n', 'official\\tO\\n', 'calendar\\tO\\n', 'used\\tO\\n', 'in\\tO\\n', 'Taiwan\\tO\\n', 'starts\\tO\\n', 'in\\tO\\n', '1912\\tO\\n', '(\\tO\\n', 'year\\tO\\n', '1\\tO\\n', ')\\tO\\n', ',\\tO\\n', 'so\\tO\\n', 'the\\tO\\n', 'year\\tO\\n', '102\\tO\\n', 'is\\tO\\n', 'the\\tO\\n', 'year\\tO\\n', '2013\\tO\\n', 'according\\tO\\n', 'to\\tO\\n', 'the\\tO\\n', 'Gregorian\\tO\\n', 'calendar\\tO\\n', '(\\tO\\n', '1911\\tO\\n', '+\\tX\\n', '102=2013\\tX\\n', ')\\tO\\n', '.\\tO\\n', '\\n', 'We\\tO\\n', 'conclude\\tO\\n', 'that\\tO\\n', 'the\\tO\\n', 'targets\\tO\\n', 'are\\tO\\n', 'entities\\tO\\n', 'located\\tO\\n', 'in\\tO\\n', 'the\\tO\\n', 'Greater\\tO\\n', 'China\\tO\\n', 'area\\tO\\n', 'and\\tO\\n', 'on\\tO\\n', 'the\\tO\\n', 'name\\tO\\n', 'of\\tO\\n', 'another\\tO\\n', 'document\\tO\\n', 'used\\tO\\n', 'by\\tO\\n', 'the\\tO\\n', 'attacker\\tO\\n', 'called\\tO\\n', '李辉简历.doc\\tO\\n', 'which\\tO\\n', 'translates\\tO\\n', 'to\\tO\\n', '\"\\tO\\n', 'resume\\tO\\n', 'of\\tO\\n', 'Li\\tO\\n', 'Hui\\tX\\n', '\"\\tO\\n', '.\\tO\\n', '\\n', 'Another\\tO\\n', 'lead\\tO\\n', ',\\tO\\n', 'suggesting\\tO\\n', 'that\\tO\\n', 'the\\tO\\n', 'attacks\\tO\\n', 'occurred\\tO\\n', 'in\\tO\\n', 'the\\tO\\n', 'Greater\\tO\\n', 'China\\tO\\n', 'area\\tO\\n', ',\\tO\\n', 'is\\tO\\n', 'the\\tO\\n', 'fact\\tO\\n', 'that\\tO\\n', 'the\\tO\\n', 'majority\\tO\\n', 'of\\tO\\n', 'samples\\tO\\n', 'available\\tO\\n', 'on\\tO\\n', 'VirusTotal\\tO\\n', 'were\\tO\\n', 'originally\\tO\\n', 'submitted\\tO\\n', 'from\\tO\\n', 'Taiwan\\tO\\n', '.\\tO\\n', '\\n', 'The\\tO\\n', 'DNS\\tO\\n', '-\\tX\\n', 'name\\tO\\n', 'of\\tO\\n', 'the\\tO\\n', 'C&C\\tO\\n', 'server\\tO\\n', 'contained\\tO\\n', 'information\\tO\\n', 'about\\tO\\n', 'affected\\tO\\n', 'companies\\tO\\n', '.\\tO\\n', '\\n', 'Here\\tO\\n', 'is\\tO\\n', 'a\\tO\\n', 'list\\tO\\n', 'of\\tO\\n', 'some\\tO\\n', 'targeted\\tO\\n', 'entities\\tO\\n', '.\\tO\\n', '\\n', 'To\\tO\\n', 'drop\\tB-Action\\n', 'the\\tB-Entity\\n', 'malware\\tI-Entity\\n', 'onto\\tB-Modifier\\n', 'the\\tB-Entity\\n', 'targeted\\tI-Entity\\n', 'computer\\tI-Entity\\n', 'and\\tO\\n', 'to\\tO\\n', 'control\\tB-Action\\n', 'the\\tO\\n', 'system\\tI-Entity\\n', ',\\tO\\n', 'the\\tB-Entity\\n', 'attackers\\tI-Entity\\n', 'chose\\tO\\n', 'to\\tO\\n', 'carry\\tB-Action\\n', 'out\\tO\\n', 'a\\tB-Entity\\n', 'spear\\tI-Entity\\n', 'phishing\\tI-Entity\\n', 'campaign\\tI-Entity\\n', '.\\tO\\n', '\\n', 'This\\tO\\n', 'campaign\\tO\\n', 'comprised\\tO\\n', 'a\\tB-Entity\\n', 'Microsoft\\tI-Entity\\n', 'Office\\tI-Entity\\n', 'document\\tI-Entity\\n', 'being\\tB-Action\\n', 'sent\\tI-Action\\n', 'to\\tB-Modifier\\n', 'the\\tB-Entity\\n', 'victim\\tI-Entity\\n', '.\\tO\\n', '\\n', 'A\\tO\\n', 'probable\\tO\\n', 'entry\\tO\\n', 'point\\tO\\n', 'for\\tO\\n', 'a\\tO\\n', 'manipulated\\tO\\n', 'CV\\tO\\n', 'would\\tO\\n', 'be\\tO\\n', 'an\\tO\\n', 'HR\\tO\\n', 'department\\tO\\n', '.\\tO\\n', '\\n', 'If\\tO\\n', 'the\\tO\\n', 'document\\tO\\n', 'is\\tO\\n', 'opened\\tO\\n', 'with\\tO\\n', 'an\\tO\\n', 'outdated\\tO\\n', 'Microsoft\\tO\\n', 'Office\\tO\\n', 'version\\tO\\n', ',\\tO\\n', 'malware\\tB-Entity\\n', 'is\\tB-Action\\n', 'installed\\tI-Action\\n', 'by\\tB-Modifier\\n', 'exploiting\\tB-Entity\\n', 'vulnerability\\tI-Entity\\n', 'CVE-2012\\tI-Entity\\n', '-\\tX\\n', '0158\\tX\\n', '.\\tO\\n', '\\n', 'To\\tO\\n', 'appear\\tO\\n', 'credible\\tO\\n', ',\\tO\\n', 'the\\tO\\n', 'attackers\\tO\\n', 'selected\\tO\\n', 'the\\tB-Entity\\n', 'targeted\\tO\\n', 'users\\tI-Entity\\n', 'and\\tO\\n', 'the\\tO\\n', 'type\\tO\\n', 'of\\tO\\n', 'the\\tO\\n', 'attached\\tO\\n', 'documents\\tO\\n', 'cleverly\\tO\\n', '.\\tO\\n', '\\n', 'For\\tO\\n', 'example\\tO\\n', ',\\tO\\n', 'a\\tO\\n', 'Microsoft\\tO\\n', 'Office\\tO\\n', 'Word\\tO\\n', 'document\\tO\\n', 'called\\tO\\n', 'resume\\tO\\n', 'of\\tO\\n', 'Li\\tO\\n', 'Hui.doc\\tO\\n', '.\\tO\\n', '\\n', 'The\\tO\\n', 'document\\tO\\n', 'title\\tO\\n', 'as\\tO\\n', 'well\\tO\\n', 'as\\tO\\n', 'the\\tO\\n', 'content\\tO\\n', 'was\\tO\\n', 'written\\tO\\n', 'in\\tO\\n', 'Simplified\\tO\\n', 'Chinese\\tO\\n', '.\\tO\\n', '\\n', 'The\\tO\\n', 'titles\\tO\\n', 'of\\tO\\n', 'the\\tO\\n', 'attacking\\tO\\n', 'documents\\tO\\n', 'involved\\tO\\n', 'are\\tO\\n', 'as\\tO\\n', 'follows\\tO\\n', '.\\tO\\n', '\\n', 'To\\tO\\n', 'explain\\tO\\n', 'the\\tO\\n', 'exploit\\tO\\n', 'used\\tO\\n', ',\\tO\\n', 'we\\tO\\n', 'have\\tO\\n', 'a\\tO\\n', 'look\\tO\\n', 'at\\tO\\n', 'the\\tO\\n', 'Word\\tO\\n', 'document\\tO\\n', ',\\tO\\n', 'the\\tO\\n', 'ostensible\\tO\\n', 'CV\\tO\\n', '.\\tO\\n', '\\n', 'The\\tO\\n', 'mentioned\\tO\\n', 'exploit\\tO\\n', 'causes\\tB-Action\\n', 'Microsoft\\tO\\n', 'Word\\tI-Entity\\n', 'to\\tO\\n', 'crash\\tB-Entity\\n', ',\\tO\\n', 'which\\tO\\n', 'might\\tO\\n', 'alert\\tO\\n', 'attacked\\tO\\n', 'users\\tO\\n', 'just\\tO\\n', 'right\\tO\\n', 'away\\tO\\n', '.\\tO\\n', '\\n', 'In\\tO\\n', 'our\\tO\\n', 'case\\tO\\n', ',\\tO\\n', 'the\\tB-Entity\\n', 'attackers\\tI-Entity\\n', 'crafted\\tB-Action\\n', 'their\\tB-Entity\\n', 'malicious\\tI-Entity\\n', 'document\\tI-Entity\\n', 'in\\tO\\n', 'a\\tO\\n', 'special\\tO\\n', 'way\\tO\\n', 'to\\tO\\n', 'conceal\\tO\\n', 'the\\tB-Entity\\n', 'software\\tI-Entity\\n', 'crash\\tI-Entity\\n', ':\\tO\\n', 'The\\tB-Entity\\n', 'malicious\\tI-Entity\\n', '.doc\\tX\\n', 'causes\\tB-Action\\n', 'a\\tO\\n', 'crash\\tO\\n', ',\\tO\\n', 'but\\tO\\n', 'moments\\tO\\n', 'after\\tO\\n', 'the\\tO\\n', 'crash\\tO\\n', 'a\\tO\\n', 'legitimate\\tI-Entity\\n', 'Word\\tI-Entity\\n', 'session\\tI-Entity\\n', 'opens\\tO\\n', 'up\\tO\\n', 'and\\tO\\n', ',\\tO\\n', 'to\\tO\\n', 'the\\tO\\n', 'user\\tO\\n', ',\\tO\\n', 'everything\\tO\\n', 'appears\\tO\\n', 'to\\tO\\n', 'be\\tO\\n', 'normal\\tO\\n', '.\\tO\\n', '\\n', 'Nevertheless\\tO\\n', ',\\tO\\n', 'cautious\\tO\\n', 'users\\tO\\n', 'might\\tO\\n', 'suspect\\tO\\n', 'malicious\\tO\\n', 'actions\\tO\\n', 'behind\\tO\\n', 'such\\tO\\n', 'activities\\tO\\n', 'and\\tO\\n', 'notify\\tO\\n', 'security\\tO\\n', 'staff\\tO\\n', '.\\tO\\n', '\\n', 'The\\tO\\n', 'CV\\tO\\n', 'that\\tO\\n', 'comes\\tO\\n', 'with\\tO\\n', 'the\\tO\\n', 'legitimate\\tO\\n', 'Word\\tO\\n', 'document\\tO\\n', '(\\tO\\n', 'Wo.doc\\tO\\n', ')\\tO\\n', 'is\\tO\\n', 'written\\tO\\n', 'in\\tO\\n', 'Chinese\\tO\\n', 'characters\\tO\\n', 'and\\tO\\n', 'style\\tO\\n', 'used\\tO\\n', 'in\\tO\\n', 'the\\tO\\n', 'Chinese\\tO\\n', 'mainland\\tO\\n', '.\\tO\\n', '\\n', 'Nevertheless\\tO\\n', ',\\tO\\n', 'this\\tO\\n', 'sample\\tO\\n', 'has\\tO\\n', 'also\\tO\\n', 'been\\tO\\n', 'submitted\\tO\\n', 'to\\tO\\n', 'us\\tO\\n', 'from\\tO\\n', 'Taiwan\\tO\\n', '.\\tO\\n', '\\n', 'The\\tO\\n', 'resume\\tO\\n', 'visible\\tO\\n', 'to\\tO\\n', 'the\\tO\\n', 'user\\tO\\n', '(\\tO\\n', 'Wo.doc\\tO\\n', ')\\tO\\n', 'holds\\tO\\n', 'a\\tO\\n', 'tracking\\tO\\n', 'mechanism\\tO\\n', ':\\tO\\n', 'Li\\tO\\n', 'Hui\\tO\\n', \"'s\\tO\\n\", 'picture\\tO\\n', ',\\tO\\n', 'visible\\tO\\n', 'in\\tO\\n', 'the\\tO\\n', 'document\\tO\\n', 'as\\tO\\n', 'the\\tO\\n', 'blank\\tO\\n', 'square\\tO\\n', 'on\\tO\\n', 'the\\tO\\n', 'right\\tO\\n', 'hand\\tO\\n', 'side\\tO\\n', ',\\tO\\n', 'is\\tO\\n', 'not\\tO\\n', 'stored\\tO\\n', 'locally\\tO\\n', 'but\\tO\\n', 'stored\\tO\\n', 'on\\tO\\n', 'the\\tO\\n', 'Internet\\tO\\n', '.\\tO\\n', '\\n', 'The\\tO\\n', 'following\\tO\\n', 'tag\\tO\\n', ',\\tO\\n', 'inside\\tO\\n', 'the\\tO\\n', 'document\\tO\\n', ',\\tO\\n', 'reveals\\tO\\n', 'this\\tO\\n', 'function\\tO\\n', '.\\tO\\n', '\\n', 'As\\tB-Modifier\\n', 'soon\\tI-Modifier\\n', 'as\\tI-Modifier\\n', 'the\\tB-Entity\\n', 'document\\tI-Entity\\n', 'is\\tI-Entity\\n', 'loaded\\tI-Entity\\n', ',\\tO\\n', 'a\\tB-Entity\\n', 'network\\tI-Entity\\n', 'query\\tI-Entity\\n', 'is\\tB-Action\\n', 'performed\\tI-Action\\n', 'and\\tO\\n', 'notifies\\tO\\n', 'the\\tO\\n', 'attacker\\tO\\n', 'about\\tO\\n', 'the\\tO\\n', 'successful\\tO\\n', 'exploit\\tO\\n', 'and\\tO\\n', 'the\\tO\\n', 'availability\\tO\\n', 'of\\tO\\n', 'a\\tO\\n', 'newly\\tO\\n', 'infected\\tO\\n', 'machine\\tO\\n', '.\\tO\\n', '\\n', 'We\\tO\\n', 'identified\\tO\\n', 'two\\tB-Entity\\n', 'types\\tI-Entity\\n', 'of\\tI-Entity\\n', 'malware\\tI-Entity\\n', 'used\\tO\\n', 'to\\tO\\n', 'administrate\\tB-Action\\n', 'the\\tB-Entity\\n', 'infected\\tI-Entity\\n', 'machines\\tI-Entity\\n', ':\\tO\\n', 'Cohhoc\\tO\\n', 'and\\tO\\n', 'DirectsX.\\tO\\n', '\\n', 'The\\tO\\n', 'first\\tO\\n', 'one\\tO\\n', 'is\\tO\\n', 'a\\tO\\n', '\"\\tO\\n', 'classic\\tO\\n', '\"\\tO\\n', 'Remote\\tO\\n', 'Administration\\tO\\n', 'Tool\\tO\\n', '.\\tO\\n', '\\n', 'The\\tO\\n', 'second\\tO\\n', 'one\\tO\\n', 'is\\tO\\n', 'more\\tO\\n', 'advanced\\tO\\n', 'and\\tO\\n', 'of\\tO\\n', 'a\\tO\\n', 'different\\tO\\n', 'kind\\tO\\n', ',\\tO\\n', 'the\\tO\\n', 'malware\\tO\\n', 'is\\tO\\n', 'a\\tO\\n', 'rootkit\\tO\\n', '.\\tO\\n', '\\n', 'It\\tO\\n', 'is\\tB-Action\\n', 'executed\\tI-Action\\n', 'in\\tO\\n', 'kernel\\tB-Entity\\n', 'mode\\tI-Entity\\n', '.\\tO\\n', '\\n', 'The\\tB-Entity\\n', 'RAT\\tI-Entity\\n', 'and\\tI-Entity\\n', 'the\\tI-Entity\\n', 'rootkit\\tI-Entity\\n', 'both\\tI-Entity\\n', 'share\\tB-Action\\n', 'the\\tB-Entity\\n', 'same\\tI-Entity\\n', 'command\\tI-Entity\\n', 'and\\tI-Entity\\n', 'control\\tI-Entity\\n', 'infrastructure\\tI-Entity\\n', '.\\tO\\n', '\\n', 'The\\tO\\n', 'malware\\tO\\n', 'is\\tO\\n', 'divided\\tO\\n', 'into\\tO\\n', 'three\\tO\\n', 'parts\\tO\\n', '.\\tO\\n', '\\n', 'The\\tB-Entity\\n', 'second\\tI-Entity\\n', 'component\\tI-Entity\\n', 'is\\tB-Action\\n', 'installed\\tI-Action\\n', 'into\\tB-Modifier\\n', 'a\\tO\\n', 'subfolder\\tI-Entity\\n', 'of\\tI-Entity\\n', 'the\\tI-Entity\\n', 'directory\\tI-Entity\\n', '%\\tI-Entity\\n', 'APPDATA%\\tI-Entity\\n', '(\\tO\\n', 'for\\tO\\n', 'example\\tO\\n', 'in\\tO\\n', '%\\tO\\n', 'APPDATA%\\\\Microsoft\\\\\\tO\\n', ')\\tO\\n', '.\\tO\\n', '\\n', 'Known\\tO\\n', 'file\\tO\\n', 'names\\tO\\n', 'for\\tO\\n', 'the\\tO\\n', 'files\\tO\\n', 'used\\tO\\n', 'during\\tO\\n', 'the\\tO\\n', 'campaign\\tO\\n', 'discussed\\tO\\n', ':\\tO\\n', 'svchost.exe\\tO\\n', 'and\\tO\\n', 'conime.exe\\tO\\n', '.\\tO\\n', '\\n', 'The\\tO\\n', 'second\\tO\\n', 'component\\tO\\n', 'works\\tO\\n', 'similarly\\tO\\n', '.\\tO\\n', '\\n', 'In\\tO\\n', 'case\\tO\\n', 'you\\tO\\n', 'are\\tO\\n', 'interested\\tO\\n', 'in\\tO\\n', 'information\\tO\\n', 'regarding\\tO\\n', 'the\\tO\\n', 'unpacking\\tO\\n', 'of\\tO\\n', 'this\\tO\\n', 'malware\\tO\\n', ',\\tO\\n', 'please\\tO\\n', 'feel\\tO\\n', 'free\\tO\\n', 'to\\tO\\n', 'contact\\tO\\n', 'us\\tO\\n', 'using\\tO\\n', 'toohash.securityblog@gdata.de\\tO\\n', 'During\\tO\\n', 'the\\tO\\n', 'TooHash\\tO\\n', 'campaign\\tO\\n', ',\\tO\\n', 'we\\tO\\n', 'were\\tO\\n', 'able\\tO\\n', 'to\\tO\\n', 'identify\\tO\\n', 'two\\tO\\n', 'variants\\tO\\n', 'of\\tO\\n', '\"\\tO\\n', 'Cohhoc\\tO\\n', '\"\\tO\\n', '.\\tO\\n', '\\n', 'Those\\tO\\n', 'two\\tO\\n', 'versions\\tO\\n', 'can\\tO\\n', 'be\\tO\\n', 'distinguished\\tO\\n', 'by\\tO\\n', 'looking\\tO\\n', 'at\\tO\\n', 'the\\tO\\n', 'creation\\tO\\n', 'of\\tO\\n', 'the\\tO\\n', 'respective\\tO\\n', 'mutex\\tO\\n', 'after\\tO\\n', 'the\\tO\\n', 'malware\\tO\\n', 'is\\tO\\n', 'started\\tO\\n', '.\\tO\\n', '\\n', 'The\\tO\\n', 'main\\tO\\n', 'difference\\tO\\n', 'between\\tO\\n', 'the\\tO\\n', 'two\\tO\\n', 'malware\\tO\\n', 'variants\\tO\\n', 'is\\tB-Action\\n', 'the\\tO\\n', 'handling\\tO\\n', 'of\\tO\\n', 'the\\tO\\n', 'payload\\tO\\n', '(\\tO\\n', 'component\\tO\\n', 'three\\tO\\n', ')\\tO\\n', '.\\tO\\n', '\\n', 'In\\tO\\n', 'the\\tO\\n', 'earlier\\tO\\n', 'version\\tO\\n', ',\\tO\\n', 'the\\tO\\n', 'payload\\tO\\n', 'is\\tO\\n', 'located\\tO\\n', 'within\\tO\\n', 'a\\tO\\n', 'resource\\tO\\n', 'inside\\tO\\n', 'component\\tO\\n', 'two\\tO\\n', '.\\tO\\n', '\\n', 'In\\tO\\n', 'the\\tO\\n', 'later\\tO\\n', 'version\\tO\\n', ',\\tO\\n', 'the\\tO\\n', 'payload\\tO\\n', 'is\\tO\\n', 'an\\tO\\n', 'additional\\tO\\n', 'file\\tO\\n', '.\\tO\\n', '\\n', 'This\\tO\\n', 'additional\\tO\\n', 'file\\tO\\n', 'is\\tO\\n', 'stored\\tO\\n', 'in\\tO\\n', 'the\\tO\\n', 'same\\tO\\n', 'directory\\tO\\n', 'as\\tO\\n', 'the\\tO\\n', 'second\\tO\\n', 'component\\tO\\n', 'and\\tO\\n', 'its\\tO\\n', 'name\\tO\\n', 'is\\tO\\n', 'brndlog\\tO\\n', '.\\tO\\n', '\\n', 'As\\tO\\n', 'small\\tO\\n', 'as\\tO\\n', 'this\\tO\\n', 'difference\\tO\\n', 'seems\\tO\\n', 'to\\tO\\n', 'be\\tO\\n', 'for\\tO\\n', 'a\\tO\\n', 'normal\\tO\\n', 'computer\\tO\\n', 'user\\tO\\n', ',\\tO\\n', 'from\\tO\\n', 'a\\tO\\n', 'malware\\tO\\n', 'analyst\\tO\\n', \"'s\\tO\\n\", 'point\\tO\\n', 'of\\tO\\n', 'view\\tO\\n', ',\\tO\\n', 'it\\tO\\n', 'is\\tO\\n', 'a\\tO\\n', 'huge\\tO\\n', 'difference\\tO\\n', '.\\tO\\n', '\\n', 'If\\tO\\n', ',\\tO\\n', 'in\\tO\\n', 'the\\tO\\n', 'first\\tO\\n', 'case\\tO\\n', ',\\tO\\n', 'the\\tO\\n', 'sample\\tO\\n', 'was\\tO\\n', 'found\\tO\\n', 'within\\tO\\n', 'a\\tO\\n', 'sample\\tO\\n', 'database\\tO\\n', ',\\tO\\n', 'the\\tO\\n', 'analyst\\tO\\n', 'would\\tO\\n', 'be\\tO\\n', 'able\\tO\\n', 'to\\tO\\n', 'extract\\tO\\n', 'the\\tO\\n', 'payload\\tO\\n', 'and\\tO\\n', 'to\\tO\\n', 'analyze\\tO\\n', 'it\\tO\\n', 'right\\tO\\n', 'away\\tO\\n', '.\\tO\\n', '\\n', 'However\\tO\\n', ',\\tO\\n', 'in\\tO\\n', 'the\\tO\\n', 'second\\tO\\n', 'case\\tO\\n', ',\\tO\\n', 'the\\tO\\n', 'analyst\\tO\\n', 'can\\tO\\n', 'not\\tO\\n', 'extract\\tO\\n', 'and\\tO\\n', 'analyze\\tO\\n', 'the\\tO\\n', 'payload\\tO\\n', 'at\\tO\\n', 'all\\tO\\n', '.\\tO\\n', '\\n', 'In\\tO\\n', 'this\\tO\\n', 'context\\tO\\n', ',\\tO\\n', 'the\\tO\\n', 'second\\tO\\n', 'component\\tO\\n', 'alone\\tO\\n', 'is\\tO\\n', 'rather\\tO\\n', 'useless\\tO\\n', ';\\tO\\n', 'one\\tO\\n', 'needs\\tO\\n', 'to\\tO\\n', 'find\\tO\\n', 'the\\tB-Entity\\n', 'binary\\tI-Entity\\n', 'which\\tO\\n', 'installs\\tB-Action\\n', 'the\\tO\\n', 'payload\\tI-Entity\\n', '.\\tO\\n', '\\n', 'Furthermore\\tO\\n', ',\\tO\\n', 'it\\tO\\n', 'is\\tO\\n', 'rather\\tO\\n', 'complex\\tO\\n', 'to\\tO\\n', 'create\\tO\\n', 'signature\\tO\\n', 'detection\\tO\\n', 'for\\tO\\n', 'an\\tO\\n', 'encrypted\\tO\\n', 'file\\tO\\n', ',\\tO\\n', 'such\\tO\\n', 'as\\tO\\n', 'the\\tO\\n', 'payload\\tO\\n', 'discussed\\tO\\n', '.\\tO\\n', '\\n', 'Persistence\\tB-Entity\\n', 'is\\tB-Action\\n', 'ensured\\tI-Action\\n', 'by\\tB-Modifier\\n', 'the\\tO\\n', 'creation\\tB-Entity\\n', 'of\\tI-Entity\\n', 'a\\tI-Entity\\n', 'shortcut\\tI-Entity\\n', 'file\\tI-Entity\\n', '(\\tI-Entity\\n', '.lnk\\tI-Entity\\n', ')\\tI-Entity\\n', 'in\\tI-Entity\\n', 'the\\tI-Entity\\n', 'Start\\tI-Entity\\n', 'Menu\\tI-Entity\\n', 'folder\\tI-Entity\\n', '.\\tO\\n', '\\n', 'This\\tO\\n', 'shortcut\\tO\\n', 'is\\tO\\n', 'labeled\\tO\\n', 'as\\tO\\n', 'Internet\\tO\\n', 'Explorer\\tO\\n', '.lnk\\tO\\n', '.\\tO\\n', '\\n', 'The\\tO\\n', 'blank\\tO\\n', 'space\\tO\\n', 'just\\tO\\n', 'before\\tO\\n', 'the\\tO\\n', 'file\\tO\\n', 'name\\tO\\n', 'extension\\tO\\n', 'was\\tO\\n', 'inserted\\tO\\n', 'to\\tO\\n', 'trick\\tO\\n', 'the\\tO\\n', 'user\\tO\\n', '.\\tO\\n', '\\n', 'The\\tO\\n', 'text\\tO\\n', 'looks\\tO\\n', 'exactly\\tO\\n', 'like\\tO\\n', 'the\\tO\\n', 'original\\tO\\n', 'without\\tO\\n', 'the\\tO\\n', 'additional\\tO\\n', 'space\\tO\\n', '.\\tO\\n', '\\n', 'Furthermore\\tO\\n', ',\\tO\\n', 'it\\tO\\n', 'is\\tO\\n', 'not\\tO\\n', 'only\\tO\\n', 'the\\tO\\n', 'file\\tO\\n', \"'s\\tO\\n\", 'name\\tO\\n', 'which\\tO\\n', 'sidetracks\\tO\\n', ',\\tO\\n', 'but\\tO\\n', 'also\\tO\\n', 'the\\tO\\n', 'icon\\tO\\n', 'used\\tO\\n', 'for\\tO\\n', 'this\\tO\\n', 'link\\tO\\n', 'comes\\tO\\n', 'in\\tO\\n', 'the\\tO\\n', 'disguise\\tO\\n', 'of\\tO\\n', 'Microsoft\\tO\\n', \"'s\\tO\\n\", 'Internet\\tO\\n', 'Explorer\\tO\\n', '.\\tO\\n', '\\n', 'The\\tO\\n', 'screenshot\\tO\\n', 'below\\tO\\n', 'reveals\\tO\\n', 'that\\tO\\n', 'the\\tO\\n', 'actual\\tO\\n', 'file\\tO\\n', 'behind\\tO\\n', 'this\\tO\\n', 'shortcut\\tO\\n', 'points\\tO\\n', 'to\\tO\\n', 'a\\tO\\n', 'different\\tO\\n', 'program\\tO\\n', ':\\tO\\n', 'conime.exe\\tO\\n', ':\\tO\\n', 'The\\tO\\n', '\"\\tI-Entity\\n', 'Cohhoc\\tI-Entity\\n', '\"\\tI-Entity\\n', 'malware\\tI-Entity\\n', 'is\\tO\\n', 'a\\tO\\n', 'Remote\\tO\\n', 'Administration\\tO\\n', 'Tool\\tO\\n', 'and\\tO\\n', 'is\\tO\\n', 'able\\tO\\n', 'to\\tO\\n', '.\\tO\\n', '\\n', 'Within\\tO\\n', 'the\\tO\\n', 'samples\\tO\\n', ',\\tO\\n', 'we\\tO\\n', 'found\\tO\\n', 'two\\tO\\n', 'different\\tO\\n', 'hardcoded\\tO\\n', 'command\\tO\\n', 'and\\tO\\n', 'control\\tO\\n', 'servers\\tO\\n', 'and\\tO\\n', 'a\\tO\\n', 'feature\\tO\\n', 'to\\tO\\n', 'easily\\tO\\n', 'choose\\tO\\n', 'an\\tO\\n', 'alternative\\tO\\n', 'server\\tO\\n', '.\\tO\\n', '\\n', 'If\\tO\\n', 'the\\tO\\n', 'file\\tO\\n', '%\\tO\\n', 'APPDATA%\\\\Adobe\\\\ActiveX.dat\\tO\\n', 'exists\\tO\\n', 'on\\tO\\n', 'the\\tO\\n', 'system\\tO\\n', ',\\tO\\n', 'the\\tO\\n', 'malware\\tO\\n', 'uses\\tO\\n', 'the\\tO\\n', 'server\\tO\\n', 'listed\\tO\\n', 'in\\tO\\n', 'this\\tO\\n', 'file\\tO\\n', 'instead\\tO\\n', 'of\\tO\\n', 'the\\tO\\n', 'hardcoded\\tO\\n', 'servers\\tO\\n', '.\\tO\\n', '\\n', 'The\\tO\\n', 'content\\tO\\n', 'in\\tO\\n', 'the\\tO\\n', 'file\\tO\\n', 'must\\tO\\n', 'use\\tO\\n', 'the\\tO\\n', 'obfuscation\\tO\\n', 'system\\tO\\n', 'described\\tO\\n', 'in\\tO\\n', 'the\\tO\\n', 'next\\tO\\n', 'chapter\\tO\\n', '.\\tO\\n', '\\n', 'This\\tO\\n', 'approach\\tO\\n', ',\\tO\\n', 'using\\tB-Action\\n', 'an\\tO\\n', 'extra\\tI-Entity\\n', 'file\\tI-Entity\\n', 'with\\tB-Modifier\\n', 'server\\tO\\n', 'information\\tI-Entity\\n', ',\\tO\\n', 'proves\\tO\\n', 'to\\tO\\n', 'be\\tO\\n', 'particularly\\tO\\n', 'useful\\tO\\n', 'for\\tO\\n', 'the\\tO\\n', 'attackers\\tO\\n', ',\\tO\\n', 'as\\tO\\n', 'they\\tO\\n', 'do\\tO\\n', 'not\\tO\\n', 'have\\tO\\n', 'to\\tO\\n', 'transmit\\tO\\n', 'new\\tO\\n', 'payload\\tO\\n', 'to\\tO\\n', 'the\\tO\\n', 'infected\\tO\\n', 'system\\tO\\n', '.\\tO\\n', '\\n', 'Furthermore\\tO\\n', ',\\tO\\n', 'it\\tO\\n', 'keeps\\tO\\n', 'analysts\\tO\\n', 'in\\tO\\n', 'the\\tO\\n', 'dark\\tO\\n', 'about\\tO\\n', 'additional\\tO\\n', 'C&Cs\\tO\\n', 'in\\tO\\n', 'case\\tO\\n', 'they\\tO\\n', 'only\\tO\\n', 'see\\tO\\n', 'the\\tO\\n', '.dat\\tO\\n', 'file\\tO\\n', '.\\tO\\n', '\\n', 'This\\tO\\n', 'file\\tO\\n', 'alone\\tO\\n', 'is\\tO\\n', 'rather\\tO\\n', 'useless\\tO\\n', '.\\tO\\n', '\\n', 'We\\tO\\n', 'have\\tO\\n', 'seen\\tO\\n', 'the\\tO\\n', 'same\\tO\\n', 'technique\\tO\\n', 'when\\tO\\n', 'looking\\tO\\n', 'at\\tO\\n', 'the\\tO\\n', 'differences\\tO\\n', 'between\\tO\\n', 'the\\tO\\n', 'two\\tO\\n', 'malware\\tO\\n', 'variants\\tO\\n', 'before\\tO\\n', '.\\tO\\n', '\\n', 'The\\tB-Entity\\n', '\"\\tI-Entity\\n', 'Cohhoc\\tI-Entity\\n', '\"\\tI-Entity\\n', 'malware\\tI-Entity\\n', 'uses\\tB-Action\\n', 'an\\tO\\n', 'obfuscation\\tI-Entity\\n', 'layer\\tI-Entity\\n', ',\\tO\\n', 'to\\tO\\n', 'disguise\\tB-Action\\n', 'the\\tB-Entity\\n', 'malware\\tI-Entity\\n', 'and\\tO\\n', 'to\\tO\\n', 'complicate\\tO\\n', 'the\\tO\\n', 'analysis\\tO\\n', '.\\tO\\n', '\\n', 'The\\tB-Entity\\n', 'obfuscation\\tI-Entity\\n', 'is\\tB-Action\\n', 'used\\tI-Action\\n', '.\\tO\\n', '\\n', 'This\\tO\\n', 'algorithm\\tO\\n', 'can\\tO\\n', 'easily\\tO\\n', 'be\\tO\\n', 'adapted\\tO\\n', 'in\\tO\\n', 'C\\tO\\n', 'language\\tO\\n', '.\\tO\\n', '\\n', 'Fellow\\tO\\n', 'researchers\\tO\\n', 'are\\tO\\n', 'welcome\\tO\\n', 'to\\tO\\n', 'receive\\tO\\n', 'the\\tO\\n', 'code\\tO\\n', 'after\\tO\\n', 'contacting\\tO\\n', 'samplerequest@gdata.de\\tO\\n', '.\\tO\\n', '\\n', 'To\\tO\\n', 'be\\tO\\n', 'readable\\tO\\n', 'and\\tO\\n', 'easily\\tO\\n', 'usable\\tO\\n', ',\\tO\\n', 'the\\tO\\n', 'base64\\tO\\n', 'encoded\\tO\\n', 'data\\tO\\n', '(\\tO\\n', 'in\\tO\\n', 'binary\\tO\\n', 'format\\tO\\n', ')\\tO\\n', 'is\\tO\\n', 'converted\\tO\\n', 'into\\tO\\n', 'ASCII\\tO\\n', '.\\tO\\n', '\\n', 'Here\\tO\\n', 'is\\tO\\n', 'an\\tO\\n', 'example\\tO\\n', 'to\\tO\\n', 'decode\\tO\\n', 'a\\tO\\n', 'command\\tO\\n', 'and\\tO\\n', 'control\\tO\\n', '.\\tO\\n', '\\n', 'The\\tB-Entity\\n', 'malware\\tI-Entity\\n', 'uses\\tB-Action\\n', 'HTTP\\tO\\n', 'to\\tB-Modifier\\n', 'communicate\\tB-Entity\\n', 'to\\tI-Entity\\n', 'the\\tI-Entity\\n', 'command\\tI-Entity\\n', 'and\\tI-Entity\\n', 'control\\tI-Entity\\n', 'servers\\tI-Entity\\n', '.\\tO\\n', '\\n', 'Here\\tO\\n', 'is\\tO\\n', 'an\\tO\\n', 'example\\tO\\n', 'of\\tO\\n', 'a\\tB-Entity\\n', 'request\\tO\\n', 'performed\\tB-Action\\n', 'by\\tO\\n', 'an\\tO\\n', 'infected\\tO\\n', 'system\\tI-Entity\\n', '.\\tO\\n', '\\n', 'The\\tO\\n', 'relevant\\tO\\n', 'data\\tO\\n', 'is\\tO\\n', 'placed\\tO\\n', 'after\\tO\\n', 'the\\tO\\n', 'GET\\tO\\n', 'request\\tO\\n', '.\\tO\\n', '\\n', 'Here\\tO\\n', 'is\\tO\\n', 'the\\tO\\n', 'content\\tO\\n', 'of\\tO\\n', 'the\\tO\\n', 'request\\tO\\n', ',\\tO\\n', 'decoded\\tO\\n', 'by\\tO\\n', 'using\\tO\\n', 'the\\tO\\n', 'code\\tO\\n', 'mentioned\\tO\\n', 'above\\tO\\n', '.\\tO\\n', '\\n', 'Here\\tO\\n', 'are\\tO\\n', 'the\\tO\\n', 'different\\tO\\n', 'parts\\tO\\n', 'of\\tO\\n', 'the\\tO\\n', 'data\\tO\\n', 'transmitted\\tO\\n', '.\\tO\\n', '\\n', 'The\\tB-Entity\\n', 'dropper\\tI-Entity\\n', 'is\\tO\\n', 'used\\tO\\n', 'to\\tO\\n', 'install\\tB-Action\\n', 'two\\tO\\n', 'files\\tI-Entity\\n', 'and\\tI-Entity\\n', 'the\\tI-Entity\\n', 'persistence\\tI-Entity\\n', 'mechanism\\tI-Entity\\n', '.\\tO\\n', '\\n', 'The\\tO\\n', 'two\\tO\\n', 'files\\tI-Entity\\n', 'are\\tB-Action\\n', 'DirectsX.sys\\tO\\n', '(\\tO\\n', 'the\\tI-Entity\\n', 'malicious\\tO\\n', 'driver\\tO\\n', ')\\tO\\n', 'and\\tO\\n', 'directsx\\tO\\n', '(\\tO\\n', 'without\\tO\\n', 'any\\tO\\n', 'extension\\tO\\n', ')\\tO\\n', '.\\tO\\n', '\\n', 'The\\tO\\n', 'second\\tO\\n', 'file\\tO\\n', 'is\\tO\\n', 'the\\tO\\n', 'encoded\\tO\\n', 'payload\\tO\\n', 'used\\tB-Action\\n', 'by\\tO\\n', 'the\\tO\\n', 'driver\\tO\\n', '.\\tO\\n', '\\n', 'The\\tB-Entity\\n', 'persistence\\tI-Entity\\n', 'mechanism\\tI-Entity\\n', 'is\\tB-Action\\n', 'realized\\tI-Action\\n', 'by\\tO\\n', 'the\\tB-Entity\\n', 'creation\\tI-Entity\\n', 'of\\tI-Entity\\n', 'a\\tI-Entity\\n', 'service\\tI-Entity\\n', '.\\tO\\n', '\\n', 'The\\tB-Entity\\n', 'installed\\tI-Entity\\n', 'file\\tI-Entity\\n', 'and\\tI-Entity\\n', 'the\\tI-Entity\\n', 'registry\\tI-Entity\\n', 'modifications\\tI-Entity\\n', 'are\\tB-Action\\n', 'stored\\tI-Action\\n', 'in\\tB-Modifier\\n', 'a\\tB-Entity\\n', 'resource\\tI-Entity\\n', 'within\\tI-Entity\\n', 'the\\tI-Entity\\n', 'dropper\\tI-Entity\\n', '.\\tO\\n', '\\n', 'Here\\tO\\n', 'is\\tO\\n', 'a\\tO\\n', 'screenshot\\tO\\n', 'of\\tO\\n', 'the\\tO\\n', 'registry\\tO\\n', 'key\\tO\\n', 'created\\tO\\n', '.\\tO\\n', '\\n', 'The\\tO\\n', 'dropper\\tO\\n', 'and\\tO\\n', 'the\\tO\\n', 'driver\\tO\\n', 'are\\tO\\n', 'both\\tO\\n', 'signed\\tO\\n', 'by\\tO\\n', 'a\\tO\\n', 'legitimate\\tO\\n', 'certificate\\tO\\n', '.\\tO\\n', '\\n', 'The\\tO\\n', 'certificate\\tO\\n', 'is\\tO\\n', 'owned\\tO\\n', 'by\\tO\\n', '\"\\tO\\n', 'Jiangxi\\tO\\n', 'you\\tO\\n', 'ma\\tO\\n', 'chuang\\tO\\n', 'da\\tO\\n', 'software\\tO\\n', 'technology\\tO\\n', 'Co.\\tO\\n', ',\\tO\\n', 'LTD\\tO\\n', '\"\\tO\\n', ',\\tO\\n', 'has\\tO\\n', 'been\\tO\\n', 'reported\\tO\\n', 'stolen\\tO\\n', 'and\\tO\\n', 'is\\tO\\n', 'known\\tO\\n', 'to\\tO\\n', 'have\\tO\\n', 'been\\tO\\n', 'used\\tO\\n', 'in\\tO\\n', 'APT\\tO\\n', 'attacks\\tO\\n', '.\\tO\\n', '\\n', 'Here\\tO\\n', 'is\\tO\\n', 'a\\tO\\n', 'screenshot\\tO\\n', 'of\\tO\\n', 'the\\tO\\n', 'certificate\\tO\\n', '.\\tO\\n', '\\n', 'The\\tO\\n', 'main\\tO\\n', 'purpose\\tO\\n', 'of\\tO\\n', 'the\\tB-Entity\\n', 'driver\\tI-Entity\\n', 'is\\tO\\n', 'to\\tO\\n', 'decode\\tB-Action\\n', 'the\\tB-Entity\\n', 'content\\tO\\n', 'of\\tI-Entity\\n', 'the\\tI-Entity\\n', 'directsx\\tI-Entity\\n', 'file\\tI-Entity\\n', 'and\\tO\\n', 'to\\tO\\n', 'inject\\tB-Action\\n', 'the\\tB-Entity\\n', 'payload\\tI-Entity\\n', 'into\\tB-Modifier\\n', 'a\\tB-Entity\\n', 'userland\\tI-Entity\\n', 'process\\tI-Entity\\n', '.\\tO\\n', '\\n', 'The\\tO\\n', 'algorithm\\tO\\n', 'used\\tO\\n', 'to\\tO\\n', 'encode\\tO\\n', 'the\\tO\\n', 'data\\tO\\n', 'in\\tO\\n', 'the\\tO\\n', 'file\\tO\\n', 'is\\tO\\n', 'a\\tO\\n', 'XOR\\tO\\n', 'followed\\tO\\n', 'by\\tO\\n', 'a\\tO\\n', 'SUB\\tO\\n', '.\\tO\\n', '\\n', 'The\\tO\\n', 'values\\tO\\n', 'of\\tO\\n', 'the\\tO\\n', 'XOR\\tO\\n', 'and\\tO\\n', 'the\\tO\\n', 'SUB\\tO\\n', 'can\\tO\\n', 'be\\tO\\n', 'different\\tO\\n', '.\\tO\\n', '\\n', 'The\\tO\\n', 'decoding\\tI-Entity\\n', 'file\\tI-Entity\\n', 'contains\\tB-Action\\n', 'the\\tB-Entity\\n', 'configuration\\tI-Entity\\n', '(\\tI-Entity\\n', 'command\\tI-Entity\\n', 'and\\tI-Entity\\n', 'control\\tI-Entity\\n', ')\\tI-Entity\\n', 'and\\tO\\n', 'a\\tB-Entity\\n', 'library\\tI-Entity\\n', '(\\tI-Entity\\n', '.dll\\tI-Entity\\n', ')\\tO\\n', 'to\\tO\\n', 'inject\\tB-Entity\\n', 'in\\tB-Modifier\\n', 'userland\\tB-Entity\\n', '.\\tO\\n', '\\n', 'Here\\tO\\n', 'is\\tO\\n', 'an\\tO\\n', 'example\\tO\\n', 'of\\tO\\n', 'configuration\\tO\\n', '.\\tO\\n', '\\n', 'Actually\\tO\\n', ',\\tO\\n', 'the\\tB-Entity\\n', 'library\\tI-Entity\\n', 'is\\tB-Action\\n', 'injected\\tI-Action\\n', 'into\\tB-Modifier\\n', 'the\\tO\\n', 'process\\tI-Entity\\n', 'of\\tI-Entity\\n', 'BitDefender\\tI-Entity\\n', '(\\tI-Entity\\n', 'seccenter.exe\\tI-Entity\\n', ')\\tI-Entity\\n', ',\\tI-Entity\\n', 'ZoneAlarm\\tI-Entity\\n', '(\\tI-Entity\\n', 'svchost.exe\\tI-Entity\\n', ')\\tI-Entity\\n', 'or\\tI-Entity\\n', '360\\tI-Entity\\n', '(\\tI-Entity\\n', '360tray.exe\\tI-Entity\\n', ')\\tO\\n', ',\\tO\\n', 'which\\tO\\n', 'means\\tO\\n', 'that\\tO\\n', 'three\\tO\\n', 'popular\\tO\\n', 'security\\tO\\n', 'products\\tO\\n', 'are\\tO\\n', 'abused\\tO\\n', '.\\tO\\n', '\\n', 'If\\tO\\n', 'the\\tO\\n', 'processes\\tO\\n', 'are\\tO\\n', 'not\\tO\\n', 'running\\tO\\n', 'on\\tO\\n', 'the\\tO\\n', 'infected\\tO\\n', 'system\\tO\\n', ',\\tO\\n', 'the\\tB-Entity\\n', 'injection\\tI-Entity\\n', 'is\\tB-Action\\n', 'performed\\tI-Action\\n', 'into\\tB-Modifier\\n', 'explorer.exe\\tB-Entity\\n', '.\\tO\\n', '\\n', 'To\\tO\\n', 'perform\\tO\\n', 'the\\tO\\n', 'injection\\tO\\n', ',\\tO\\n', 'the\\tB-Entity\\n', 'driver\\tI-Entity\\n', 'uses\\tO\\n', 'the\\tO\\n', 'API\\tO\\n', 'KeStackAttachProcess\\tO\\n', '(\\tI-Entity\\n', ')\\tI-Entity\\n', '.\\tO\\n', '\\n', 'This\\tO\\n', 'function\\tO\\n', 'allows\\tO\\n', 'it\\tO\\n', 'to\\tO\\n', 'attach\\tO\\n', 'the\\tO\\n', 'current\\tO\\n', 'thread\\tO\\n', 'to\\tO\\n', 'an\\tO\\n', 'address\\tO\\n', 'space\\tO\\n', 'of\\tO\\n', 'a\\tO\\n', 'userland\\tO\\n', 'process\\tO\\n', '.\\tO\\n', '\\n', 'The\\tO\\n', 'name\\tO\\n', 'of\\tO\\n', 'the\\tO\\n', 'rootkit\\tO\\n', 'is\\tO\\n', 'linked\\tO\\n', 'to\\tO\\n', 'its\\tO\\n', 'device\\tO\\n', 'name\\tO\\n', ':\\tO\\n', '\\\\\\\\device\\\\DirectsX\\tO\\n', 'and\\tO\\n', 'its\\tO\\n', 'symbolic\\tO\\n', 'name\\tO\\n', ':\\tO\\n', '\\\\\\\\DosDevices\\\\DirectsX.\\tO\\n', '\\n', 'The\\tO\\n', 'injected\\tO\\n', 'dll\\tO\\n', 'is\\tO\\n', 'signed\\tO\\n', 'with\\tO\\n', 'the\\tO\\n', 'same\\tO\\n', 'certificate\\tO\\n', ',\\tO\\n', 'too\\tO\\n', '.\\tO\\n', '\\n', 'It\\tO\\n', 'is\\tO\\n', 'the\\tB-Entity\\n', 'remote\\tI-Entity\\n', 'administration\\tI-Entity\\n', 'tool\\tI-Entity\\n', 'itself\\tI-Entity\\n', ',\\tO\\n', 'injected\\tB-Action\\n', 'by\\tO\\n', 'the\\tB-Entity\\n', 'rootkit\\tI-Entity\\n', '.\\tO\\n', '\\n', 'The\\tB-Entity\\n', 'tool\\tI-Entity\\n', 'allows\\tB-Action\\n', 'the\\tB-Entity\\n', 'attackers\\tI-Entity\\n', '.\\tO\\n', '\\n', 'This\\tO\\n', 'library\\tO\\n', 'is\\tO\\n', 'a\\tO\\n', 'variant\\tO\\n', 'of\\tO\\n', 'a\\tO\\n', 'remote\\tO\\n', 'administration\\tO\\n', 'tool\\tO\\n', 'also\\tO\\n', 'known\\tO\\n', 'as\\tO\\n', 'Savit\\tO\\n', '.\\tO\\n', '\\n', 'We\\tO\\n', 'identified\\tO\\n', 'more\\tO\\n', 'than\\tO\\n', '75\\tO\\n', 'different\\tO\\n', 'servers\\tO\\n', '.\\tO\\n', '\\n', 'The\\tO\\n', 'complete\\tO\\n', 'list\\tO\\n', 'of\\tO\\n', 'domains\\tO\\n', 'is\\tO\\n', 'available\\tO\\n', 'in\\tO\\n', 'the\\tO\\n', 'appendix\\tO\\n', '.\\tO\\n', '\\n', 'The\\tO\\n', 'IP\\tO\\n', 'resolved\\tO\\n', 'by\\tO\\n', 'the\\tO\\n', 'domains\\tO\\n', 'changed\\tO\\n', 'frequently\\tO\\n', '.\\tO\\n', '\\n', 'At\\tO\\n', 'the\\tO\\n', 'time\\tO\\n', 'of\\tO\\n', 'writing\\tO\\n', 'this\\tO\\n', 'report\\tO\\n', ',\\tO\\n', 'all\\tO\\n', 'known\\tO\\n', 'C&C\\tO\\n', 'servers\\tO\\n', 'were\\tO\\n', 'mainly\\tO\\n', 'located\\tO\\n', 'in\\tO\\n', 'Hong\\tO\\n', 'Kong\\tO\\n', ',\\tO\\n', 'with\\tO\\n', 'three\\tO\\n', 'different\\tO\\n', 'host\\tO\\n', 'companies\\tO\\n', '.\\tO\\n', '\\n', 'A\\tO\\n', 'fourth\\tO\\n', 'host\\tO\\n', 'company\\tO\\n', 'used\\tO\\n', 'was\\tO\\n', 'located\\tO\\n', 'in\\tO\\n', 'the\\tO\\n', 'US\\tO\\n', '.\\tO\\n', '\\n', 'The\\tO\\n', 'IP\\tO\\n', 'ranges\\tO\\n', 'used\\tO\\n', 'by\\tO\\n', 'then\\tO\\n', '.\\tO\\n', '\\n', 'The\\tO\\n', 'choice\\tO\\n', 'of\\tO\\n', 'domain\\tO\\n', 'names\\tO\\n', 'was\\tO\\n', 'made\\tO\\n', 'to\\tO\\n', 'trick\\tO\\n', 'the\\tO\\n', 'users\\tO\\n', 'or\\tO\\n', 'the\\tO\\n', 'security\\tO\\n', 'team\\tO\\n', 'during\\tO\\n', 'their\\tO\\n', 'analysis\\tO\\n', 'of\\tO\\n', 'the\\tO\\n', 'web\\tO\\n', 'logs\\tO\\n', 'collected\\tO\\n', '.\\tO\\n', '\\n', 'Have\\tO\\n', 'a\\tO\\n', 'look\\tO\\n', 'at\\tO\\n', 'two\\tO\\n', 'examples\\tO\\n', 'used\\tO\\n', 'during\\tO\\n', 'the\\tO\\n', 'TooHash\\tO\\n', 'campaign\\tO\\n', '.\\tO\\n', '\\n', 'For\\tO\\n', 'each\\tO\\n', 'domain\\tO\\n', ',\\tO\\n', 'the\\tO\\n', 'attackers\\tO\\n', 'add\\tO\\n', 'a\\tO\\n', 'subdomain\\tO\\n', ',\\tO\\n', 'the\\tO\\n', 'subdomain\\tO\\n', 'is\\tO\\n', 'generally\\tO\\n', 'assumed\\tO\\n', 'to\\tO\\n', 'be\\tO\\n', 'the\\tO\\n', 'name\\tO\\n', '(\\tO\\n', 'or\\tO\\n', 'the\\tO\\n', 'acronym\\tO\\n', ')\\tO\\n', 'of\\tO\\n', 'the\\tO\\n', 'targeted\\tO\\n', 'entities\\tO\\n', '.\\tO\\n', '\\n', 'Here\\tO\\n', 'is\\tO\\n', 'an\\tO\\n', 'example\\tO\\n', ':\\tO\\n', 'nspo.intarnetservices.com\\tO\\n', '.\\tO\\n', '\\n', 'This\\tO\\n', 'could\\tO\\n', ',\\tO\\n', 'in\\tO\\n', 'the\\tO\\n', 'context\\tO\\n', 'of\\tO\\n', 'the\\tO\\n', 'Greater\\tO\\n', 'China\\tO\\n', 'area\\tO\\n', ',\\tO\\n', 'stand\\tO\\n', 'for\\tO\\n', 'the\\tO\\n', 'National\\tO\\n', 'Space\\tO\\n', 'Organization\\tO\\n', 'located\\tO\\n', 'in\\tO\\n', 'Taiwan\\tO\\n', '.\\tO\\n', '\\n', 'The\\tB-Entity\\n', 'attackers\\tI-Entity\\n', 'control\\tB-Action\\n', 'infected\\tO\\n', 'machines\\tI-Entity\\n', 'with\\tO\\n', 'the\\tO\\n', 'help\\tO\\n', 'of\\tO\\n', 'web\\tO\\n', 'servers\\tO\\n', 'installed\\tO\\n', 'on\\tB-Modifier\\n', 'the\\tB-Entity\\n', 'C&Cs\\tI-Entity\\n', ',\\tO\\n', 'they\\tO\\n', 'do\\tO\\n', 'not\\tO\\n', 'need\\tO\\n', 'to\\tO\\n', 'have\\tO\\n', 'remote\\tO\\n', 'access\\tO\\n', '.\\tO\\n', '\\n', 'Here\\tO\\n', 'is\\tO\\n', 'the\\tO\\n', 'authentication\\tO\\n', 'page\\tO\\n', 'of\\tO\\n', 'the\\tO\\n', 'administration\\tO\\n', 'panel\\tO\\n', 'and\\tO\\n', 'aswe\\tO\\n', 'can\\tO\\n', 'see\\tO\\n', ',\\tO\\n', 'the\\tO\\n', 'panel\\tO\\n', 'is\\tO\\n', 'partly\\tO\\n', 'written\\tO\\n', 'in\\tO\\n', 'Simplified\\tO\\n', 'Chinese\\tO\\n', '.\\tO\\n', '\\n', 'We\\tO\\n', 'did\\tO\\n', 'not\\tO\\n', 'clearly\\tO\\n', 'identify\\tO\\n', 'the\\tO\\n', 'people\\tO\\n', 'behind\\tO\\n', 'this\\tO\\n', 'campaign\\tO\\n', '.\\tO\\n', '\\n', 'The\\tO\\n', 'use\\tO\\n', 'of\\tO\\n', 'the\\tO\\n', 'stolen\\tO\\n', 'certificate\\tO\\n', 'could\\tO\\n', 'point\\tO\\n', 'the\\tO\\n', 'Shiqiang\\tO\\n', 'group\\tO\\n', ',\\tO\\n', 'but\\tO\\n', 'nothing\\tO\\n', 'can\\tO\\n', 'be\\tO\\n', 'proven\\tO\\n', '.\\tO\\n', '\\n', 'Anyway\\tO\\n', ',\\tO\\n', 'in\\tO\\n', 'our\\tO\\n', 'case\\tO\\n', ',\\tO\\n', 'the\\tO\\n', 'attackers\\tO\\n', 'clearly\\tO\\n', 'targeted\\tO\\n', 'private\\tO\\n', 'business\\tO\\n', 'and\\tO\\n', 'governmental\\tO\\n', 'organizations\\tO\\n', 'as\\tO\\n', 'well\\tO\\n', '.\\tO\\n', '\\n', 'Either\\tO\\n', 'the\\tO\\n', 'group\\tO\\n', 'decided\\tO\\n', 'to\\tO\\n', 'target\\tO\\n', 'governmental\\tO\\n', 'entities\\tO\\n', 'as\\tO\\n', 'well\\tO\\n', 'or\\tO\\n', 'the\\tO\\n', 'stolen\\tO\\n', 'certificate\\tO\\n', 'is\\tO\\n', 'used\\tO\\n', 'by\\tO\\n', 'several\\tO\\n', 'groups\\tO\\n', '.\\tO\\n', '\\n', 'In\\tO\\n', 'any\\tO\\n', 'case\\tO\\n', ',\\tO\\n', 'the\\tO\\n', 'attackers\\tO\\n', 'are\\tO\\n', 'well\\tO\\n', 'organized\\tO\\n', 'and\\tO\\n', 'use\\tO\\n', 'a\\tO\\n', 'huge\\tO\\n', 'and\\tO\\n', 'complex\\tO\\n', 'infrastructure\\tO\\n', 'to\\tO\\n', 'manage\\tO\\n', 'the\\tO\\n', 'infected\\tO\\n', 'systems\\tO\\n', '.\\tO\\n', '\\n', 'Furthermore\\tO\\n', ',\\tO\\n', 'they\\tB-Entity\\n', 'use\\tO\\n', 'two\\tO\\n', 'different\\tO\\n', 'malware\\tO\\n', 'types\\tO\\n', 'in\\tO\\n', 'order\\tO\\n', 'to\\tO\\n', 'always\\tO\\n', 'have\\tO\\n', 'access\\tI-Entity\\n', 'to\\tI-Entity\\n', 'the\\tO\\n', 'targeted\\tO\\n', 'organizations\\tO\\n', 'even\\tO\\n', 'if\\tO\\n', 'one\\tO\\n', 'malware\\tO\\n', 'is\\tO\\n', 'detected\\tO\\n', '.\\tO\\n', '\\n', 'The\\tO\\n', 'second\\tI-Entity\\n', 'malware\\tI-Entity\\n', 'becomes\\tB-Action\\n', 'a\\tO\\n', 'spare\\tI-Entity\\n', 'wheel\\tI-Entity\\n', '.\\tO\\n', '\\n', 'We\\tO\\n', 'assume\\tO\\n', 'that\\tO\\n', 'the\\tO\\n', 'people\\tO\\n', 'behind\\tO\\n', 'the\\tO\\n', 'group\\tO\\n', 'are\\tO\\n', 'professionals\\tO\\n', '.\\tO\\n', '\\n', 'This\\tO\\n', 'campaign\\tO\\n', 'showed\\tO\\n', 'us\\tO\\n', 'once\\tO\\n', 'more\\tO\\n', ',\\tO\\n', 'that\\tO\\n', 'people\\tO\\n', 'do\\tO\\n', 'not\\tO\\n', 'hesitate\\tO\\n', 'to\\tO\\n', 'use\\tO\\n', 'sophisticated\\tO\\n', 'and\\tO\\n', 'deceptive\\tO\\n', 'methods\\tO\\n', 'to\\tO\\n', 'steal\\tO\\n', 'data\\tO\\n', 'from\\tO\\n', 'companies\\tO\\n', 'or\\tO\\n', 'governmental\\tO\\n', 'organizations\\tO\\n', '.\\tO\\n', '\\n', 'The\\tO\\n', 'files\\tO\\n', 'submitted\\tO\\n', 'to\\tO\\n', 'us\\tO\\n', 'seem\\tO\\n', 'to\\tO\\n', 'have\\tO\\n', 'targeted\\tO\\n', 'companies\\tO\\n', 'in\\tO\\n', 'the\\tO\\n', 'Greater\\tO\\n', 'China\\tO\\n', 'area\\tO\\n', 'but\\tO\\n', 'this\\tO\\n', 'technology\\tO\\n', 'can\\tO\\n', 'easily\\tO\\n', 'be\\tO\\n', 'used\\tO\\n', 'against\\tO\\n', 'organizations\\tO\\n', 'in\\tO\\n', 'other\\tO\\n', 'countries\\tO\\n', 'and\\tO\\n', 'regions\\tO\\n', 'across\\tO\\n', 'the\\tO\\n', 'globe\\tO\\n', '.\\tO\\n', '\\n', 'Due\\tO\\n', 'to\\tO\\n', 'the\\tO\\n', 'increasing\\tO\\n', 'value\\tO\\n', 'of\\tO\\n', 'nowadays\\tO\\n', \"'\\tO\\n\", 'trade\\tO\\n', 'secrets\\tO\\n', 'and\\tO\\n', 'political\\tO\\n', 'secrets\\tO\\n', ',\\tO\\n', 'we\\tO\\n', 'believe\\tO\\n', 'that\\tO\\n', 'the\\tO\\n', 'use\\tO\\n', 'of\\tO\\n', 'this\\tO\\n', 'kind\\tO\\n', 'of\\tO\\n', 'sponsored\\tO\\n', 'campaign\\tO\\n', 'is\\tO\\n', 'very\\tO\\n', 'likely\\tO\\n', 'to\\tO\\n', 'increase\\tO\\n', 'in\\tO\\n', 'the\\tO\\n', 'future\\tO\\n', '.\\tO\\n', '\\n', 'Companies\\tO\\n', 'and\\tO\\n', 'other\\tO\\n', 'entities\\tO\\n', 'as\\tO\\n', 'well\\tO\\n', 'need\\tO\\n', 'to\\tO\\n', 'increase\\tO\\n', 'their\\tO\\n', 'security\\tO\\n', 'measures\\tO\\n', 'and\\tO\\n', 'to\\tO\\n', 'educate\\tO\\n', 'the\\tO\\n', 'users\\tO\\n', 'about\\tO\\n', 'the\\tO\\n', 'risks\\tO\\n', 'they\\tO\\n', 'might\\tO\\n', 'encounter\\tO\\n', 'while\\tO\\n', 'working\\tO\\n', 'with\\tO\\n', 'a\\tO\\n', 'computer\\tO\\n', '–\\tO\\n', 'ranging\\tO\\n', 'from\\tO\\n', 'social\\tO\\n', 'engineering\\tO\\n', 'to\\tO\\n', 'malware\\tO\\n', 'attacks\\tO\\n', ',\\tO\\n', 'etc\\tO\\n', '.\\tO\\n', '\\n', 'The\\tO\\n', 'exploits\\tI-Entity\\n', 'used\\tO\\n', 'during\\tO\\n', 'this\\tO\\n', 'campaign\\tO\\n', 'are\\tB-Action\\n', 'detected\\tI-Action\\n', 'by\\tO\\n', 'G\\tO\\n', 'DATA\\tO\\n', \"'s\\tI-Entity\\n\", 'exploit\\tI-Entity\\n', 'protection\\tI-Entity\\n', 'system\\tI-Entity\\n', 'and\\tO\\n', 'the\\tB-Entity\\n', 'files\\tI-Entity\\n', 'involved\\tO\\n', 'are\\tB-Action\\n', 'detected\\tI-Action\\n', 'by\\tO\\n', 'our\\tO\\n', 'antivirus\\tI-Entity\\n', 'engines\\tI-Entity\\n', '.\\tO\\n', '\\n', 'In\\tO\\n', 'case\\tO\\n', 'you\\tO\\n', 'would\\tO\\n', 'like\\tO\\n', 'to\\tO\\n', 'receive\\tO\\n', 'further\\tO\\n', 'technical\\tO\\n', 'information\\tO\\n', 'or\\tO\\n', 'would\\tO\\n', 'like\\tO\\n', 'to\\tO\\n', 'contribute\\tO\\n', 'any\\tO\\n', 'information\\tO\\n', 'to\\tO\\n', 'this\\tO\\n', 'case\\tO\\n', ',\\tO\\n', 'please\\tO\\n', 'feel\\tO\\n', 'free\\tO\\n', 'to\\tO\\n', 'contact\\tO\\n', 'us\\tO\\n', 'by\\tO\\n', 'using\\tO\\n', 'the\\tO\\n', 'following\\tO\\n', 'email\\tO\\n', 'address\\tO\\n', ':\\tO\\n', 'toohash.securityblog@gdata.de\\tO\\n', 'Documents\\tO\\n', '(\\tO\\n', 'and\\tO\\n', 'the\\tO\\n', 'original\\tO\\n', 'name\\tO\\n', ')\\tO\\n', '.\\tO\\n', '\\n', 'Cohhoc\\tO\\n', 'samples\\tO\\n', '.\\tO\\n', '\\n', 'DirectsX\\tO\\n', 'samples\\tO\\n', '.\\tO\\n', '\\n', '%\\tO\\n', 'USERPROFILE%\\\\Start\\tO\\n', 'Menu\\\\Programs\\\\Startup\\\\Internet\\tO\\n', 'Explorer\\tO\\n', '.lnk\\tO\\n', '%\\tO\\n', 'APPDATA%\\\\Roaming\\\\Microsoft\\\\Windows\\\\Start\\tO\\n', 'Menu\\\\Programs\\\\Startup\\\\Internet\\tO\\n', 'Explorer\\tO\\n', '.lnk\\tO\\n', '%\\tO\\n', 'APPDATA%\\\\Adobe\\\\ActiveX.dat\\tO\\n', '%\\tO\\n', 'APPDATA%\\\\Adobe\\\\ActiveX.bat\\tO\\n', '%\\tO\\n', 'APPDATA%\\\\Microsoft\\\\conime.exe\\tO\\n', '%\\tO\\n', 'APPDATA%\\\\Microsoft\\\\conime.exe.en\\tO\\n', '%\\tO\\n', 'TEMP%\\\\svchost.exe\\tO\\n', '%\\tO\\n', 'TEMP%\\\\war.exe\\tO\\n', '%\\tO\\n', 'TEMP%\\\\Wo.doc\\tO\\n', '%\\tO\\n', 'SystemRoot%\\\\System\\\\directsx.sys\\tO\\n', '%\\tO\\n', 'CommonProgramFiles%\\\\System\\\\directsx\\tO\\n', '\\\\\\\\Device\\\\DirectsX\\tO\\n', '\\\\\\\\DosDevices\\\\DirectsX\\tO\\n', '*\\tO\\n', '.cnnic\\tO\\n', '-\\tO\\n', 'micro.com\\tO\\n', '*\\tO\\n', '.proxydomain.org\\tO\\n', '*\\tO\\n', '.dyndns\\tO\\n', '-\\tO\\n', 'office.com\\tO\\n', '*\\tO\\n', '.kmdns.net\\tO\\n', '*\\tO\\n', '.privnsb.com\\tO\\n', '*\\tO\\n', '.adobeservice.net\\tO\\n', '*\\tO\\n', '.webmailerservices.com\\tO\\n', '*\\tO\\n', '.intarnetservice.com\\tO\\n', 'In\\tO\\n', 'case\\tO\\n', 'you\\tO\\n', 'wish\\tO\\n', 'to\\tO\\n', 'have\\tO\\n', 'information\\tO\\n', 'about\\tO\\n', 'the\\tO\\n', 'IPs\\tO\\n', 'involved\\tO\\n', ',\\tO\\n', 'please\\tO\\n', 'get\\tO\\n', 'in\\tO\\n', 'touch\\tO\\n', 'with\\tO\\n', 'us\\tO\\n', 'via\\tO\\n', 'toohash.securityblog@gdata.de\\tO\\n', '\\n', 'Disclaimer\\tO\\n', ':\\tO\\n', 'CrowdStrike\\tO\\n', 'derived\\tO\\n', 'this\\tO\\n', 'information\\tO\\n', 'from\\tO\\n', 'investigations\\tO\\n', 'in\\tO\\n', 'non\\tO\\n', '-\\tO\\n', 'classified\\tO\\n', 'environments\\tO\\n', '.\\tO\\n', '\\n', 'Since\\tO\\n', 'we\\tO\\n', 'value\\tO\\n', 'our\\tO\\n', 'client\\tO\\n', \"'s\\tO\\n\", 'privacy\\tO\\n', 'and\\tO\\n', 'interests\\tO\\n', ',\\tO\\n', 'some\\tO\\n', 'data\\tO\\n', 'has\\tO\\n', 'been\\tO\\n', 'redacted\\tO\\n', 'or\\tO\\n', 'sanitized\\tO\\n', '.\\tO\\n', '\\n', 'Crowdstrike\\tO\\n', 'presents\\tO\\n', '\"\\tO\\n', 'Mo\\tO\\n', \"'\\tX\\n\", 'Shells\\tX\\n', 'Mo\\tO\\n', \"'\\tX\\n\", 'Problems\\tO\\n', '\"\\tO\\n', '-\\tO\\n', 'A\\tO\\n', 'four\\tO\\n', 'part\\tO\\n', 'series\\tO\\n', 'featuring\\tO\\n', 'two\\tO\\n', 'unique\\tO\\n', 'web\\tO\\n', 'shells\\tO\\n', 'used\\tO\\n', 'by\\tO\\n', 'a\\tO\\n', 'Chinese\\tO\\n', 'threat\\tO\\n', 'group\\tO\\n', 'we\\tO\\n', 'call\\tO\\n', 'Deep\\tO\\n', 'Panda\\tO\\n', '.\\tO\\n', '\\n', 'The\\tO\\n', 'series\\tO\\n', 'will\\tO\\n', 'culminate\\tO\\n', 'with\\tO\\n', 'a\\tO\\n', 'CrowdCast\\tO\\n', 'in\\tO\\n', 'April\\tO\\n', '2014\\tO\\n', 'detailing\\tO\\n', 'a\\tO\\n', 'case\\tO\\n', 'study\\tO\\n', 'of\\tO\\n', 'the\\tO\\n', 'incident\\tO\\n', 'response\\tO\\n', 'investigation\\tO\\n', 'conducted\\tO\\n', 'to\\tO\\n', 'identify\\tO\\n', 'these\\tO\\n', 'web\\tO\\n', 'shells\\tO\\n', '.\\tO\\n', '\\n', 'Special\\tO\\n', 'thanks\\tO\\n', 'to\\tO\\n', 'Josh\\tO\\n', 'Phillips\\tO\\n', 'of\\tO\\n', 'the\\tO\\n', 'CrowdStrike\\tO\\n', 'Global\\tO\\n', 'Intelligence\\tO\\n', 'Team\\tO\\n', 'for\\tO\\n', 'providing\\tO\\n', 'the\\tO\\n', 'technical\\tO\\n', 'analysis\\tO\\n', 'in\\tO\\n', 'this\\tO\\n', 'blog\\tO\\n', 'post\\tO\\n', '.\\tO\\n', '\\n', 'Today\\tO\\n', 'we\\tO\\n', \"'ll\\tO\\n\", 'cover\\tO\\n', 'part\\tO\\n', 'one\\tO\\n', 'of\\tO\\n', 'this\\tO\\n', 'series\\tO\\n', ',\\tO\\n', 'which\\tO\\n', 'provides\\tO\\n', 'an\\tO\\n', 'overview\\tO\\n', 'of\\tO\\n', 'what\\tO\\n', 'web\\tO\\n', 'shells\\tO\\n', 'are\\tO\\n', ',\\tO\\n', 'functionality\\tO\\n', 'of\\tO\\n', 'two\\tO\\n', 'web\\tO\\n', 'shells\\tO\\n', 'recently\\tO\\n', 'identified\\tO\\n', 'during\\tO\\n', 'an\\tO\\n', 'incident\\tO\\n', 'response\\tO\\n', 'investigation\\tO\\n', 'and\\tO\\n', 'how\\tO\\n', 'they\\tO\\n', 'were\\tO\\n', 'leveraged\\tO\\n', 'by\\tO\\n', 'the\\tO\\n', 'attacker\\tO\\n', '.\\tO\\n', '\\n', 'Parts\\tO\\n', 'two\\tO\\n', 'through\\tO\\n', 'four\\tO\\n', 'will\\tO\\n', 'provide\\tO\\n', 'details\\tO\\n', 'on\\tO\\n', 'successful\\tO\\n', 'analytical\\tO\\n', 'techniques\\tO\\n', 'you\\tO\\n', 'can\\tO\\n', 'use\\tO\\n', 'to\\tO\\n', 'discover\\tO\\n', 'web\\tO\\n', 'shells\\tO\\n', 'within\\tO\\n', 'your\\tO\\n', 'environment\\tO\\n', '.\\tO\\n', '\\n', 'A\\tO\\n', 'Web\\tO\\n', 'Shell\\tI-Entity\\n', 'is\\tO\\n', 'a\\tO\\n', 'file\\tI-Entity\\n', 'containing\\tO\\n', 'backdoor\\tB-Entity\\n', 'functionality\\tI-Entity\\n', 'written\\tO\\n', 'in\\tO\\n', 'a\\tO\\n', 'web\\tO\\n', 'scripting\\tO\\n', 'language\\tO\\n', 'such\\tO\\n', 'ASP\\tO\\n', ',\\tO\\n', 'ASPX\\tO\\n', ',\\tO\\n', 'PHP\\tO\\n', 'or\\tO\\n', 'JSP\\tO\\n', '.\\tO\\n', '\\n', 'When\\tO\\n', 'a\\tO\\n', 'web\\tO\\n', 'shell\\tO\\n', 'is\\tO\\n', 'hosted\\tO\\n', 'on\\tO\\n', 'an\\tO\\n', 'internet\\tO\\n', 'facing\\tO\\n', 'victim\\tO\\n', 'system\\tO\\n', ',\\tO\\n', 'an\\tB-Entity\\n', 'adversary\\tI-Entity\\n', 'can\\tO\\n', 'remotely\\tO\\n', 'access\\tB-Action\\n', 'the\\tB-Entity\\n', 'system\\tI-Entity\\n', 'to\\tO\\n', 'perform\\tO\\n', 'malicious\\tB-Entity\\n', 'actions\\tI-Entity\\n', '.\\tO\\n', '\\n', 'Deep\\tO\\n', 'Panda\\tO\\n', 'is\\tO\\n', 'a\\tO\\n', 'China\\tO\\n', 'based\\tO\\n', 'threat\\tO\\n', 'group\\tO\\n', 'CrowdStrike\\tO\\n', 'has\\tO\\n', 'observed\\tO\\n', 'targeting\\tO\\n', 'companies\\tO\\n', 'in\\tO\\n', 'the\\tO\\n', 'defense\\tO\\n', ',\\tO\\n', 'legal\\tO\\n', ',\\tO\\n', 'telecommunication\\tO\\n', 'and\\tO\\n', 'financial\\tO\\n', 'industries\\tO\\n', '.\\tO\\n', '\\n', 'Crowdstrike\\tO\\n', 'has\\tO\\n', 'observed\\tO\\n', 'Deep\\tO\\n', 'Panda\\tO\\n', 'adopting\\tO\\n', 'web\\tO\\n', 'shells\\tO\\n', 'as\\tO\\n', 'their\\tO\\n', 'primary\\tO\\n', 'access\\tO\\n', 'back\\tO\\n', 'into\\tO\\n', 'a\\tO\\n', 'victim\\tO\\n', 'organization\\tO\\n', '.\\tO\\n', '\\n', 'This\\tO\\n', 'is\\tO\\n', 'an\\tO\\n', 'interesting\\tO\\n', 'shift\\tO\\n', 'as\\tO\\n', 'web\\tO\\n', 'shells\\tO\\n', 'have\\tO\\n', 'typically\\tO\\n', 'been\\tO\\n', 'seen\\tO\\n', 'as\\tO\\n', 'only\\tO\\n', 'a\\tO\\n', 'first\\tO\\n', 'stage\\tO\\n', 'into\\tO\\n', 'obtaining\\tO\\n', 'a\\tO\\n', 'persistent\\tO\\n', 'foothold\\tO\\n', 'in\\tO\\n', 'an\\tO\\n', 'environment\\tO\\n', '.\\tO\\n', '\\n', 'Previously\\tO\\n', ',\\tO\\n', 'web\\tB-Entity\\n', 'shells\\tI-Entity\\n', 'were\\tO\\n', 'quickly\\tO\\n', 'abandoned\\tI-Action\\n', 'once\\tB-Modifier\\n', 'persistent\\tB-Entity\\n', 'second\\tI-Entity\\n', 'stage\\tI-Entity\\n', 'malware\\tI-Entity\\n', 'was\\tI-Entity\\n', 'successfully\\tI-Entity\\n', 'beaconing\\tI-Entity\\n', '.\\tO\\n', '\\n', 'Using\\tB-Action\\n', 'a\\tO\\n', 'web\\tI-Entity\\n', 'shell\\tI-Entity\\n', 'as\\tB-Modifier\\n', 'a\\tO\\n', 'primary\\tI-Entity\\n', 'backdoor\\tI-Entity\\n', 'gives\\tO\\n', 'Deep\\tO\\n', 'Panda\\tO\\n', 'several\\tO\\n', 'advantages\\tO\\n', '.\\tO\\n', '\\n', 'To\\tO\\n', 'assist\\tO\\n', 'organizations\\tO\\n', 'with\\tO\\n', 'identifying\\tO\\n', 'web\\tO\\n', 'shells\\tO\\n', 'in\\tO\\n', 'their\\tO\\n', 'environment\\tO\\n', ',\\tO\\n', 'this\\tO\\n', 'post\\tO\\n', 'will\\tO\\n', 'cover\\tO\\n', 'two\\tO\\n', 'popular\\tO\\n', 'Deep\\tO\\n', 'Panda\\tO\\n', 'web\\tO\\n', 'shells\\tO\\n', '.\\tO\\n', '\\n', 'By\\tO\\n', 'gaining\\tO\\n', 'insight\\tO\\n', 'into\\tO\\n', 'their\\tO\\n', 'capabilities\\tO\\n', 'and\\tO\\n', 'footprint\\tO\\n', ',\\tO\\n', 'organizations\\tO\\n', 'should\\tO\\n', 'find\\tO\\n', 'it\\tO\\n', 'feasible\\tO\\n', 'to\\tO\\n', 'detect\\tO\\n', 'and\\tO\\n', 'remediate\\tO\\n', 'these\\tO\\n', 'backdoors\\tO\\n', '.\\tO\\n', '\\n', 'Showimg.asp\\tO\\n', 'is\\tO\\n', 'an\\tO\\n', 'example\\tO\\n', 'of\\tO\\n', 'an\\tO\\n', 'early\\tO\\n', 'stage\\tO\\n', 'web\\tO\\n', 'shell\\tO\\n', 'used\\tO\\n', 'to\\tO\\n', 'build\\tO\\n', 'an\\tO\\n', 'initial\\tO\\n', 'foothold\\tO\\n', 'within\\tO\\n', 'a\\tO\\n', 'network\\tO\\n', '.\\tO\\n', '\\n', 'After\\tO\\n', 'it\\tO\\n', 'is\\tO\\n', 'replaced\\tO\\n', 'by\\tO\\n', 'more\\tO\\n', 'robust\\tI-Entity\\n', 'backdoors\\tO\\n', ',\\tO\\n', 'it\\tO\\n', 'may\\tO\\n', 'be\\tO\\n', 'left\\tO\\n', 'in\\tO\\n', 'place\\tO\\n', 'as\\tO\\n', 'a\\tO\\n', 'last\\tO\\n', 'resort\\tO\\n', 'should\\tO\\n', 'remediation\\tO\\n', 'take\\tO\\n', 'place\\tO\\n', '.\\tO\\n', '\\n', 'At\\tO\\n', 'a\\tO\\n', 'diminutive\\tO\\n', '28\\tO\\n', 'bytes\\tO\\n', ',\\tO\\n', 'it\\tO\\n', 'is\\tO\\n', 'one\\tO\\n', 'of\\tO\\n', 'the\\tO\\n', 'smallest\\tO\\n', 'Active\\tO\\n', 'Server\\tO\\n', 'Page\\tO\\n', '(\\tO\\n', 'ASP\\tO\\n', ')\\tO\\n', 'backdoors\\tO\\n', 'in\\tO\\n', 'the\\tO\\n', 'wild\\tO\\n', '.\\tO\\n', '\\n', 'In\\tO\\n', 'a\\tO\\n', 'recent\\tO\\n', 'case\\tO\\n', ',\\tO\\n', 'we\\tO\\n', 'witnessed\\tO\\n', 'this\\tB-Entity\\n', 'web\\tI-Entity\\n', 'shell\\tO\\n', 'written\\tB-Action\\n', 'to\\tB-Modifier\\n', 'a\\tO\\n', 'standalone\\tB-Entity\\n', 'file\\tO\\n', '(\\tO\\n', 'named\\tO\\n', 'showimg.asp\\tO\\n', ')\\tO\\n', ',\\tO\\n', 'but\\tO\\n', 'it\\tO\\n', 'could\\tO\\n', 'easily\\tO\\n', 'be\\tO\\n', 'injected\\tO\\n', 'into\\tO\\n', 'an\\tO\\n', 'existing\\tO\\n', 'page\\tO\\n', ',\\tO\\n', 'making\\tO\\n', 'it\\tO\\n', 'even\\tO\\n', 'stealthier\\tO\\n', '.\\tO\\n', '\\n', 'The\\tO\\n', 'code\\tO\\n', 'for\\tO\\n', 'this\\tO\\n', 'web\\tO\\n', 'shell\\tO\\n', 'can\\tO\\n', 'be\\tO\\n', 'found\\tO\\n', 'below\\tO\\n', '.\\tO\\n', '\\n', 'ASP\\tO\\n', 'uses\\tO\\n', 'Microsoft\\tO\\n', 'Visual\\tO\\n', 'Basic\\tO\\n', '(\\tO\\n', 'VBScript\\tO\\n', ')\\tO\\n', 'as\\tO\\n', 'its\\tO\\n', 'implementation\\tO\\n', 'language\\tO\\n', '.\\tO\\n', '\\n', 'The\\tO\\n', 'code\\tO\\n', 'above\\tO\\n', 'uses\\tO\\n', 'the\\tO\\n', 'chr\\tO\\n', '(\\tO\\n', ')\\tO\\n', 'function\\tO\\n', 'to\\tO\\n', 'convert\\tO\\n', 'an\\tO\\n', 'integer\\tO\\n', 'into\\tO\\n', 'a\\tO\\n', 'character\\tO\\n', ',\\tO\\n', 'which\\tO\\n', 'is\\tO\\n', 'then\\tO\\n', 'passed\\tO\\n', 'as\\tO\\n', 'an\\tO\\n', 'argument\\tO\\n', 'to\\tO\\n', 'the\\tO\\n', 'ASP\\tO\\n', 'Request\\tO\\n', '(\\tO\\n', ')\\tO\\n', 'object\\tO\\n', '.\\tO\\n', '\\n', 'The\\tO\\n', 'Request\\tO\\n', '(\\tO\\n', ')\\tO\\n', 'object\\tO\\n', 'will\\tO\\n', 'search\\tO\\n', 'the\\tO\\n', 'Query\\tO\\n', 'String\\tO\\n', 'for\\tO\\n', 'any\\tO\\n', 'keys\\tO\\n', 'matching\\tO\\n', 'the\\tO\\n', 'input\\tO\\n', '.\\tO\\n', '\\n', 'In\\tO\\n', 'our\\tO\\n', 'case\\tO\\n', ',\\tO\\n', 'the\\tO\\n', 'code\\tO\\n', 'is\\tO\\n', 'equivalent\\tO\\n', 'to\\tO\\n', 'Request\\tO\\n', '.\\tO\\n', 'QueryString\\tO\\n', '(\\tO\\n', \"'\\tO\\n\", '*\\tO\\n', \"'\\tO\\n\", ')\\tO\\n', '.\\tO\\n', '\\n', 'The\\tO\\n', 'request\\tO\\n', 'object\\tO\\n', 'will\\tO\\n', 'look\\tO\\n', 'for\\tO\\n', 'chr(42\\tO\\n', ')\\tO\\n', 'which\\tO\\n', 'is\\tO\\n', 'an\\tO\\n', 'asterisk\\tO\\n', '(\\tO\\n', '*\\tO\\n', ')\\tO\\n', ',\\tO\\n', 'returning\\tO\\n', 'whatever\\tO\\n', 'is\\tO\\n', 'passed\\tO\\n', 'to\\tO\\n', 'it\\tO\\n', 'in\\tO\\n', 'a\\tO\\n', 'HTTP\\tO\\n', 'GET\\tO\\n', 'or\\tO\\n', 'POST\\tO\\n', '.\\tO\\n', '\\n', 'Next\\tO\\n', ',\\tO\\n', 'the\\tO\\n', 'Execute\\tI-Entity\\n', '(\\tI-Entity\\n', ')\\tI-Entity\\n', 'function\\tI-Entity\\n', 'will\\tO\\n', 'execute\\tB-Action\\n', 'any\\tO\\n', 'value\\tO\\n', 'returned\\tO\\n', 'by\\tO\\n', 'the\\tO\\n', 'lookup\\tO\\n', '.\\tO\\n', '\\n', 'Effectively\\tO\\n', ',\\tO\\n', 'an\\tO\\n', 'attacker\\tO\\n', 'can\\tO\\n', 'form\\tO\\n', 'a\\tO\\n', 'request\\tO\\n', 'that\\tO\\n', 'will\\tO\\n', 'execute\\tO\\n', 'any\\tO\\n', 'VBScript\\tO\\n', 'code\\tI-Entity\\n', '.\\tO\\n', '\\n', 'As\\tO\\n', 'you\\tO\\n', 'might\\tO\\n', 'imagine\\tO\\n', ',\\tO\\n', 'this\\tO\\n', 'is\\tO\\n', 'a\\tO\\n', 'powerful\\tO\\n', 'capability\\tO\\n', '.\\tO\\n', '\\n', 'For\\tO\\n', 'example\\tO\\n', ',\\tO\\n', 'this\\tB-Entity\\n', 'code\\tI-Entity\\n', 'can\\tO\\n', 'perform\\tO\\n', 'any\\tO\\n', 'of\\tO\\n', 'the\\tO\\n', 'following\\tO\\n', 'actions\\tO\\n', '.\\tO\\n', '\\n', 'This\\tO\\n', 'web\\tO\\n', 'shell\\tO\\n', 'is\\tO\\n', 'an\\tO\\n', 'example\\tO\\n', 'of\\tO\\n', 'a\\tO\\n', '\"\\tO\\n', 'thick\\tO\\n', 'client\\tO\\n', '\"\\tO\\n', 'shell\\tO\\n', ',\\tO\\n', 'meaning\\tO\\n', 'that\\tO\\n', 'while\\tO\\n', 'the\\tO\\n', 'server\\tO\\n', 'side\\tO\\n', 'code\\tO\\n', 'is\\tO\\n', 'quite\\tO\\n', 'small\\tO\\n', ',\\tO\\n', 'attackers\\tO\\n', 'typically\\tO\\n', 'use\\tO\\n', 'a\\tO\\n', 'larger\\tO\\n', 'GUI\\tO\\n', 'client\\tO\\n', 'to\\tO\\n', 'construct\\tO\\n', 'the\\tO\\n', 'sent\\tO\\n', 'commands\\tO\\n', '.\\tO\\n', '\\n', 'The\\tO\\n', 'client\\tO\\n', 'GUI\\tO\\n', 'runs\\tO\\n', 'on\\tO\\n', 'the\\tO\\n', 'attacker\\tO\\n', \"'s\\tO\\n\", 'system\\tO\\n', 'and\\tO\\n', 'hence\\tO\\n', 'is\\tO\\n', 'not\\tO\\n', 'typically\\tO\\n', 'found\\tO\\n', 'within\\tO\\n', 'the\\tO\\n', 'victim\\tO\\n', 'network\\tO\\n', '.\\tO\\n', '\\n', 'As\\tO\\n', 'a\\tO\\n', 'simple\\tO\\n', 'example\\tO\\n', 'of\\tO\\n', 'an\\tO\\n', 'encoded\\tO\\n', 'command\\tO\\n', ',\\tO\\n', 'the\\tB-Entity\\n', 'following\\tI-Entity\\n', 'GET\\tI-Entity\\n', 'request\\tI-Entity\\n', 'would\\tO\\n', 'cause\\tB-Action\\n', 'the\\tB-Entity\\n', 'backdoor\\tI-Entity\\n', 'to\\tB-Modifier\\n', 'execute\\tB-Action\\n', 'the\\tB-Entity\\n', 'code\\tI-Entity\\n', 'Response\\tI-Entity\\n', '.\\tX\\n', 'Write(\"\\tX\\n', '<\\tO\\n', 'h1>Hello\\tI-Entity\\n', 'World</h1\\tI-Entity\\n', '>\\tI-Entity\\n', '\"\\tI-Entity\\n', ')\\tI-Entity\\n', 'and\\tI-Entity\\n', 'would\\tO\\n', 'render\\tO\\n', '\"\\tO\\n', 'Hello\\tO\\n', 'World\\tO\\n', '\"\\tO\\n', 'to\\tO\\n', 'be\\tO\\n', 'printed\\tO\\n', 'in\\tO\\n', 'the\\tO\\n', 'web\\tO\\n', 'browser\\tO\\n', '.\\tO\\n', '\\n', 'Path\\tO\\n', ':\\tO\\n', 'C:\\\\inetpub\\\\wwwroot\\\\aspnet_client\\\\system_web\\\\<VERSION>\\\\\\tO\\n', 'MD5\\tX\\n', 'Hash\\tO\\n', ':\\tO\\n', 'cc875db104a602e6c12196fe90559fb6\\tO\\n', 'File\\tO\\n', 'Size\\tO\\n', ':\\tO\\n', '45187\\tO\\n', 'Table\\tO\\n', '4\\tO\\n', ':\\tO\\n', 'Metadata\\tO\\n', 'of\\tO\\n', '\"\\tO\\n', 'system_web.aspx\\tO\\n', '\"\\tO\\n', 'System_web.aspx\\tO\\n', 'is\\tO\\n', 'an\\tO\\n', 'excellent\\tO\\n', 'example\\tO\\n', 'of\\tO\\n', 'a\\tO\\n', 'more\\tO\\n', 'robust\\tO\\n', 'web\\tO\\n', 'shell\\tO\\n', 'used\\tO\\n', 'to\\tO\\n', 'replace\\tO\\n', 'Deep\\tO\\n', 'Panda\\tO\\n', \"'s\\tO\\n\", 'traditional\\tO\\n', 'beaconing\\tO\\n', 'command\\tO\\n', 'and\\tO\\n', 'control\\tO\\n', 'infrastructure\\tO\\n', '.\\tO\\n', '\\n', 'It\\tO\\n', 'is\\tO\\n', 'an\\tB-Entity\\n', 'ASP.NET\\tI-Entity\\n', 'backdoor\\tI-Entity\\n', 'written\\tO\\n', 'in\\tO\\n', 'C\\tO\\n', '#\\tO\\n', ',\\tO\\n', 'with\\tO\\n', 'far\\tO\\n', 'more\\tO\\n', 'capabilities\\tO\\n', 'than\\tO\\n', 'we\\tO\\n', 'saw\\tO\\n', 'with\\tO\\n', 'the\\tO\\n', 'showimage.asp\\tO\\n', 'sample\\tO\\n', '.\\tO\\n', '\\n', 'The\\tB-Entity\\n', 'web\\tI-Entity\\n', 'shell\\tI-Entity\\n', 'supports\\tB-Action\\n', 'a\\tB-Entity\\n', 'form\\tI-Entity\\n', 'of\\tI-Entity\\n', 'authentication\\tI-Entity\\n', 'to\\tB-Modifier\\n', 'protect\\tB-Entity\\n', 'against\\tI-Entity\\n', 'unauthorized\\tI-Entity\\n', 'access\\tI-Entity\\n', '.\\tO\\n', '\\n', 'This\\tB-Entity\\n', 'prevents\\tB-Action\\n', 'its\\tB-Entity\\n', 'discovery\\tB-Action\\n', 'from\\tB-Modifier\\n', 'search\\tO\\n', 'engine\\tO\\n', 'indexing\\tO\\n', ',\\tO\\n', 'vulnerability\\tO\\n', 'scanning\\tI-Entity\\n', 'tools\\tI-Entity\\n', 'and\\tO\\n', 'other\\tO\\n', 'unauthorized\\tI-Entity\\n', 'access\\tI-Entity\\n', 'to\\tI-Entity\\n', 'the\\tI-Entity\\n', 'backdoor\\tI-Entity\\n', '.\\tO\\n', '\\n', 'In\\tO\\n', 'order\\tO\\n', 'to\\tO\\n', 'bypass\\tO\\n', 'authentication\\tO\\n', ',\\tO\\n', 'a\\tO\\n', 'user\\tO\\n', 'session\\tO\\n', 'must\\tO\\n', 'satisfy\\tO\\n', 'one\\tO\\n', 'of\\tO\\n', 'three\\tO\\n', 'options\\tO\\n', '.\\tO\\n', '\\n', 'Since\\tO\\n', 'web\\tO\\n', 'shells\\tO\\n', 'are\\tO\\n', 'text\\tO\\n', '-\\tX\\n', 'based\\tX\\n', ',\\tO\\n', 'we\\tO\\n', 'can\\tO\\n', 'easily\\tO\\n', 'see\\tO\\n', 'how\\tO\\n', 'this\\tO\\n', 'authentication\\tO\\n', 'takes\\tO\\n', 'place\\tO\\n', '.\\tO\\n', '\\n', 'First\\tO\\n', ',\\tO\\n', 'the\\tB-Entity\\n', 'code\\tI-Entity\\n', 'checks\\tB-Action\\n', 'if\\tB-Modifier\\n', 'a\\tO\\n', 'cookie\\tO\\n', 'by\\tO\\n', 'the\\tO\\n', 'name\\tO\\n', 'of\\tO\\n', 'cp\\tO\\n', 'exists\\tO\\n', '.\\tO\\n', '\\n', 'If\\tO\\n', 'so\\tO\\n', ',\\tO\\n', 'the\\tB-Entity\\n', 'response\\tI-Entity\\n', 'object\\tI-Entity\\n', 'has\\tO\\n', 'its\\tO\\n', 'End\\tI-Entity\\n', '(\\tI-Entity\\n', ')\\tI-Entity\\n', 'method\\tI-Entity\\n', 'invoked\\tO\\n', ',\\tO\\n', 'denying\\tB-Action\\n', 'the\\tB-Entity\\n', 'user\\tI-Entity\\n', 'access\\tI-Entity\\n', '.\\tO\\n', '\\n', 'Next\\tO\\n', ',\\tO\\n', 'the\\tB-Entity\\n', 'code\\tI-Entity\\n', 'uses\\tO\\n', 'the\\tO\\n', 'IsValidUser()method\\tO\\n', 'and\\tO\\n', 'checks\\tB-Action\\n', 'the\\tO\\n', 'Hyper\\tI-Entity\\n', 'Text\\tI-Entity\\n', 'Transport\\tI-Entity\\n', 'Protocol\\tI-Entity\\n', '(\\tI-Entity\\n', 'HTTP\\tI-Entity\\n', ')\\tI-Entity\\n', 'headers\\tI-Entity\\n', 'for\\tB-Modifier\\n', 'the\\tB-Entity\\n', 'Keep\\tI-Entity\\n', '-\\tX\\n', 'Alive\\tX\\n', 'value\\tI-Entity\\n', ',\\tO\\n', 'which\\tO\\n', ',\\tO\\n', 'if\\tO\\n', 'equal\\tO\\n', 'to\\tO\\n', '320\\tO\\n', ',\\tO\\n', 'will\\tO\\n', 'return\\tO\\n', 'true\\tO\\n', '.\\tO\\n', '\\n', 'If\\tO\\n', 'the\\tO\\n', 'value\\tO\\n', 'does\\tO\\n', 'not\\tO\\n', 'equal\\tO\\n', '320\\tO\\n', 'the\\tO\\n', 'IsValidUser()method\\tO\\n', 'iterates\\tO\\n', 'over\\tO\\n', 'the\\tO\\n', 'Request\\tO\\n', '.\\tO\\n', 'UserLanguages\\tO\\n', 'collection\\tO\\n', 'searching\\tO\\n', 'for\\tO\\n', 'a\\tO\\n', 'language\\tO\\n', 'named\\tO\\n', 'es\\tO\\n', '-\\tX\\n', 'DN\\tO\\n', ',\\tO\\n', 'and\\tO\\n', 'if\\tO\\n', 'found\\tO\\n', ',\\tO\\n', 'the\\tO\\n', 'IsValidUser\\tO\\n', '(\\tO\\n', ')\\tO\\n', 'method\\tO\\n', 'will\\tO\\n', 'return\\tO\\n', 'true\\tO\\n', '.\\tO\\n', '\\n', 'If\\tO\\n', 'neither\\tO\\n', 'check\\tO\\n', 'passes\\tO\\n', ',\\tO\\n', 'the\\tO\\n', 'code\\tO\\n', 'returns\\tO\\n', 'false\\tO\\n', 'and\\tO\\n', 'the\\tO\\n', 'code\\tO\\n', 'will\\tO\\n', 'finally\\tO\\n', 'check\\tO\\n', 'for\\tO\\n', 'the\\tO\\n', 'presence\\tO\\n', 'of\\tO\\n', 'a\\tO\\n', 'cookie\\tO\\n', 'named\\tO\\n', '<\\tO\\n', 'REDACTED>.\\tO\\n', '\\n', 'If\\tO\\n', 'the\\tO\\n', 'cookie\\tO\\n', 'is\\tO\\n', 'present\\tO\\n', ',\\tO\\n', 'the\\tO\\n', 'authentication\\tO\\n', 'step\\tO\\n', 'is\\tO\\n', 'satisfied\\tO\\n', '.\\tO\\n', '\\n', 'If\\tO\\n', 'not\\tO\\n', ',\\tO\\n', 'a\\tO\\n', 'blank\\tO\\n', 'web\\tO\\n', 'page\\tO\\n', 'with\\tO\\n', 'no\\tO\\n', 'content\\tO\\n', 'is\\tO\\n', 'displayed\\tO\\n', '.\\tO\\n', '\\n', 'After\\tO\\n', 'successful\\tO\\n', 'authentication\\tO\\n', ',\\tO\\n', 'the\\tO\\n', 'attacker\\tO\\n', 'is\\tO\\n', 'provided\\tO\\n', 'with\\tO\\n', 'the\\tO\\n', 'following\\tO\\n', 'page\\tO\\n', '.\\tO\\n', '\\n', 'System_web.aspx\\tO\\n', 'packs\\tO\\n', 'a\\tO\\n', 'large\\tO\\n', 'amount\\tO\\n', 'of\\tO\\n', 'functionality\\tO\\n', 'into\\tO\\n', 'a\\tO\\n', 'compact\\tO\\n', 'interface\\tO\\n', '.\\tO\\n', '\\n', 'It\\tO\\n', 'provides\\tO\\n', 'the\\tO\\n', 'following\\tO\\n', 'capabilities\\tO\\n', '.\\tO\\n', '\\n', 'The\\tO\\n', 'web\\tI-Entity\\n', 'shell\\tI-Entity\\n', 'supports\\tB-Action\\n', '8\\tO\\n', 'main\\tB-Entity\\n', 'commands\\tI-Entity\\n', ',\\tO\\n', 'with\\tO\\n', 'most\\tO\\n', 'command\\tO\\n', 'execution\\tO\\n', 'via\\tO\\n', 'Transact\\tO\\n', '-\\tO\\n', 'SQL\\tO\\n', 'using\\tO\\n', 'the\\tO\\n', 'xp_cmdshell\\tO\\n', 'function\\tO\\n', '.\\tO\\n', '\\n', 'This\\tO\\n', 'command\\tO\\n', 'depends\\tO\\n', 'on\\tO\\n', 'the\\tO\\n', 'contents\\tO\\n', 'of\\tO\\n', 'the\\tO\\n', 'first\\tO\\n', 'unlabeled\\tO\\n', 'textbox1\\tO\\n', '.\\tO\\n', '\\n', 'If\\tO\\n', 'unlabeled\\tO\\n', 'textbox1\\tO\\n', 'is\\tO\\n', 'empty\\tO\\n', ',\\tO\\n', 'the\\tO\\n', 'code\\tO\\n', 'will\\tO\\n', 'enumerate\\tO\\n', 'attached\\tO\\n', 'drives\\tO\\n', '.\\tO\\n', '\\n', 'Provider=\\tO\\n', 'or\\tO\\n', 'Driver=\\tO\\n', '-\\tX\\n', 'Will\\tO\\n', 'connect\\tO\\n', 'using\\tO\\n', 'the\\tO\\n', 'OleDbConnection\\tO\\n', 'class\\tO\\n', '.\\tO\\n', '\\n', 'Data\\tO\\n', 'Source=\\tO\\n', '-\\tO\\n', 'The\\tO\\n', 'code\\tB-Entity\\n', 'will\\tO\\n', 'connect\\tB-Action\\n', 'using\\tB-Modifier\\n', 'the\\tO\\n', 'SqlConnection\\tB-Entity\\n', 'class\\tI-Entity\\n', '.\\tO\\n', '\\n', 'iis://\\tO\\n', '-\\tO\\n', 'If\\tO\\n', 'this\\tO\\n', 'appears\\tO\\n', 'in\\tO\\n', 'unlabeled\\tO\\n', 'textbox1\\tO\\n', ',\\tO\\n', 'the\\tB-Entity\\n', 'code\\tI-Entity\\n', 'will\\tO\\n', 'use\\tB-Action\\n', 'data\\tO\\n', 'from\\tB-Entity\\n', 'the\\tI-Entity\\n', 'second\\tI-Entity\\n', 'unlabeled\\tI-Entity\\n', 'textbox2\\tI-Entity\\n', 'to\\tB-Modifier\\n', 'execute\\tO\\n', 'Active\\tO\\n', 'Directory\\tI-Entity\\n', 'requests\\tI-Entity\\n', '.\\tO\\n', '\\n', 'This\\tO\\n', 'command\\tO\\n', 'also\\tO\\n', 'depends\\tO\\n', 'on\\tO\\n', 'the\\tO\\n', 'text\\tO\\n', 'contained\\tO\\n', 'in\\tO\\n', 'the\\tO\\n', 'unlabeled\\tO\\n', 'textbox1\\tO\\n', '.\\tO\\n', '\\n', 'If\\tO\\n', 'the\\tO\\n', 'field\\tO\\n', 'is\\tO\\n', 'left\\tO\\n', 'empty\\tO\\n', ',\\tO\\n', 'the\\tB-Entity\\n', 'code\\tI-Entity\\n', 'will\\tO\\n', 'assume\\tO\\n', 'a\\tO\\n', 'valid\\tO\\n', 'path\\tO\\n', 'to\\tO\\n', 'a\\tO\\n', 'file\\tO\\n', 'on\\tO\\n', 'the\\tO\\n', 'local\\tO\\n', 'machine\\tO\\n', 'and\\tO\\n', 'will\\tO\\n', 'read\\tB-Action\\n', 'and\\tO\\n', 'display\\tB-Action\\n', 'contents\\tO\\n', 'to\\tB-Modifier\\n', 'user\\tO\\n', '.\\tO\\n', '\\n', 'Data\\tO\\n', 'Source=\\tO\\n', '-\\tO\\n', 'the\\tO\\n', 'code\\tO\\n', 'will\\tO\\n', 'assume\\tO\\n', 'that\\tO\\n', 'the\\tO\\n', 'unlabeled\\tO\\n', 'textbox2\\tO\\n', 'contains\\tO\\n', 'a\\tO\\n', 'valid\\tO\\n', 'SQL\\tO\\n', 'query\\tO\\n', 'and\\tO\\n', 'will\\tO\\n', 'execute\\tO\\n', 'it\\tB-Entity\\n', 'and\\tO\\n', 'display\\tO\\n', 'the\\tO\\n', 'results\\tO\\n', '.\\tO\\n', '\\n', 'http://\\tO\\n', '-\\tX\\n', 'If\\tO\\n', 'this\\tO\\n', 'appears\\tO\\n', 'in\\tO\\n', 'unlabeled\\tO\\n', 'textbox1\\tO\\n', ',\\tO\\n', 'download\\tO\\n', 'content\\tO\\n', 'from\\tO\\n', 'the\\tO\\n', 'assumed\\tO\\n', 'URL\\tO\\n', '.\\tO\\n', '\\n', '$\\tO\\n', 'SEX\\tX\\n', '–\\tO\\n', 'If\\tO\\n', 'this\\tO\\n', 'appears\\tO\\n', 'in\\tO\\n', 'unlabeled\\tO\\n', 'textbox1\\tO\\n', ',\\tO\\n', 'pass\\tO\\n', 'the\\tO\\n', 'contents\\tO\\n', 'to\\tO\\n', 'the\\tO\\n', 'Server\\tO\\n', '.\\tX\\n', 'Execute\\tX\\n', '(\\tO\\n', ')\\tO\\n', 'method\\tO\\n', '.\\tO\\n', '\\n', 'Execute\\tO\\n', 'contents\\tO\\n', 'in\\tO\\n', 'unlabeled\\tO\\n', 'textbox1\\tO\\n', 'as\\tB-Modifier\\n', 'a\\tO\\n', 'SQL\\tI-Entity\\n', 'query\\tI-Entity\\n', 'and\\tO\\n', 'return\\tO\\n', 'binary\\tO\\n', 'data\\tO\\n', 'to\\tB-Modifier\\n', 'adversary\\tO\\n', '.\\tO\\n', '\\n', 'Execute\\tO\\n', 'contents\\tO\\n', 'in\\tO\\n', 'unlabeled\\tO\\n', 'textbox1\\tO\\n', 'as\\tO\\n', 'a\\tO\\n', 'SQL\\tO\\n', 'statement\\tO\\n', 'and\\tO\\n', 'return\\tO\\n', 'valid\\tO\\n', 'textual\\tO\\n', 'data\\tO\\n', 'to\\tO\\n', 'adversary\\tO\\n', '.\\tO\\n', '\\n', 'Upload\\tB-Action\\n', 'the\\tO\\n', 'file\\tB-Entity\\n', 'chosen\\tO\\n', 'by\\tI-Entity\\n', 'the\\tI-Entity\\n', 'Choose\\tB-Entity\\n', 'File\\tI-Entity\\n', 'button\\tI-Entity\\n', 'and\\tO\\n', 'save\\tO\\n', 'it\\tO\\n', 'to\\tO\\n', 'a\\tO\\n', 'temporary\\tO\\n', 'table\\tO\\n', 'in\\tO\\n', 'the\\tO\\n', 'database\\tO\\n', 'file\\tO\\n', 'worktbl\\tO\\n', 'in\\tO\\n', 'chunks\\tO\\n', 'of\\tO\\n', '10240\\tO\\n', 'bytes\\tO\\n', '.\\tO\\n', '\\n', 'Then\\tO\\n', 'executes\\tO\\n', 'xp_cmdshell\\tB-Entity\\n', '(\\tO\\n', 'which\\tO\\n', 'executes\\tO\\n', 'the\\tO\\n', 'Bulk\\tO\\n', 'Copy\\tO\\n', 'Program\\tO\\n', ')\\tO\\n', 'to\\tO\\n', 'copy\\tB-Action\\n', 'the\\tO\\n', 'data\\tI-Entity\\n', 'from\\tB-Modifier\\n', 'that\\tB-Entity\\n', 'table\\tI-Entity\\n', 'to\\tB-Modifier\\n', 'a\\tO\\n', 'file\\tI-Entity\\n', 'whose\\tO\\n', 'name\\tO\\n', 'is\\tO\\n', 'specified\\tO\\n', 'in\\tO\\n', 'unlabeled\\tO\\n', 'textbox2\\tO\\n', '.\\tO\\n', '\\n', 'After\\tO\\n', 'the\\tB-Entity\\n', 'file\\tI-Entity\\n', 'is\\tB-Action\\n', 'saved\\tI-Action\\n', ',\\tO\\n', 'the\\tB-Entity\\n', 'code\\tI-Entity\\n', 'deletes\\tB-Action\\n', 'the\\tO\\n', 'temporary\\tO\\n', 'table\\tO\\n', '.\\tO\\n', '\\n', 'If\\tO\\n', 'unlabeled\\tO\\n', 'textbox1\\tO\\n', 'is\\tO\\n', 'a\\tO\\n', 'local\\tO\\n', 'file\\tO\\n', 'on\\tO\\n', 'infected\\tO\\n', 'system\\tO\\n', ',\\tO\\n', 'the\\tB-Entity\\n', 'file\\tI-Entity\\n', 'is\\tB-Action\\n', 'read\\tI-Action\\n', 'and\\tO\\n', 'displayed\\tB-Action\\n', 'to\\tB-Modifier\\n', 'attacker\\tB-Entity\\n', '.\\tO\\n', '\\n', '\\\\\\\\\\tO\\n', '-\\tO\\n', 'If\\tO\\n', 'unlabeled\\tO\\n', 'textbox1\\tO\\n', 'starts\\tO\\n', 'with\\tO\\n', '\\\\\\\\\\tO\\n', ',\\tO\\n', 'use\\tO\\n', 'xp_cmdshell\\tO\\n', 'to\\tO\\n', 'execute\\tO\\n', 'the\\tO\\n', 'copy\\tB-Entity\\n', 'command\\tI-Entity\\n', 'to\\tB-Modifier\\n', 'copy\\tO\\n', 'file\\tB-Entity\\n', 'to\\tB-Modifier\\n', '%\\tO\\n', 'windir%\\\\Temp\\\\temp.bin\\tI-Entity\\n', '.\\tO\\n', '\\n', 'Then\\tO\\n', ',\\tO\\n', 'issue\\tB-Action\\n', 'the\\tB-Entity\\n', 'dir\\tI-Entity\\n', 'command\\tI-Entity\\n', 'and\\tO\\n', 'display\\tB-Action\\n', 'results\\tB-Entity\\n', 'to\\tB-Modifier\\n', 'user\\tB-Entity\\n', '.\\tO\\n', '\\n', 'Finally\\tO\\n', ',\\tO\\n', 'delete\\tO\\n', 'the\\tO\\n', 'temporary\\tO\\n', 'file\\tO\\n', '%\\tO\\n', 'windir%\\\\Temp\\\\temp.bin\\tO\\n', '.\\tO\\n', '\\n', 'Perform\\tO\\n', 'Active\\tO\\n', 'Directory\\tO\\n', 'queries\\tO\\n', '.\\tO\\n', '\\n', 'The\\tO\\n', 'code\\tO\\n', 'handles\\tB-Action\\n', 'create\\tB-Entity\\n', ',\\tO\\n', 'delete\\tB-Entity\\n', ',\\tO\\n', 'set\\tB-Entity\\n', ',\\tO\\n', 'get\\tI-Entity\\n', ',\\tO\\n', 'and\\tO\\n', 'enum\\tI-Entity\\n', 'queries\\tI-Entity\\n', ',\\tO\\n', 'while\\tO\\n', 'any\\tO\\n', 'query\\tO\\n', 'not\\tO\\n', 'matching\\tO\\n', 'those\\tO\\n', 'is\\tO\\n', 'executed\\tO\\n', 'directly\\tO\\n', '.\\tO\\n', '\\n', 'All\\tO\\n', 'commands\\tO\\n', 'are\\tO\\n', 'executed\\tO\\n', 'using\\tO\\n', 'the\\tO\\n', 'System\\tO\\n', '.\\tO\\n', 'DirectoryServices\\tO\\n', 'API\\tO\\n', '.\\tO\\n', '\\n', 'Simple\\tO\\n', 'wrapper\\tO\\n', 'around\\tO\\n', 'the\\tO\\n', 'CSharpCodeProvider\\tO\\n', 'API\\tO\\n', ',\\tO\\n', 'allowing\\tO\\n', 'the\\tO\\n', 'adversary\\tO\\n', 'to\\tO\\n', 'compile\\tO\\n', 'and\\tO\\n', 'execute\\tO\\n', 'arbitrary\\tO\\n', 'C\\tO\\n', '#\\tO\\n', 'source\\tO\\n', 'code\\tO\\n', '.\\tO\\n', '\\n', 'Login\\tO\\n', 'Checkbox\\tO\\n', 'Attempt\\tO\\n', 'to\\tO\\n', 'use\\tO\\n', 'the\\tO\\n', 'username\\tO\\n', ',\\tO\\n', 'password\\tO\\n', ',\\tO\\n', 'and\\tO\\n', 'domain\\tO\\n', 'from\\tO\\n', 'the\\tO\\n', 'User\\tO\\n', ',\\tO\\n', 'Pass\\tO\\n', 'and\\tO\\n', 'Domain\\tO\\n', 'fields\\tO\\n', 'and\\tO\\n', 'LogonUserA\\tO\\n', '(\\tO\\n', ')\\tO\\n', 'Win32\\tO\\n', 'API\\tO\\n', 'function\\tO\\n', 'to\\tO\\n', 'impersonate\\tO\\n', 'a\\tO\\n', 'specific\\tO\\n', 'user\\tO\\n', '.\\tO\\n', '\\n', 'Detatch\\tO\\n', 'Checkbox\\tO\\n', 'Specifies\\tO\\n', 'whether\\tO\\n', 'commands\\tO\\n', 'run\\tO\\n', 'from\\tO\\n', 'the\\tO\\n', 'Exec\\tO\\n', 'button\\tO\\n', 'will\\tO\\n', 'have\\tO\\n', 'their\\tO\\n', 'output\\tO\\n', 'redirected\\tO\\n', 'and\\tO\\n', 'displayed\\tO\\n', 'to\\tO\\n', 'the\\tO\\n', 'adversary\\tO\\n', 'when\\tO\\n', 'the\\tO\\n', 'command\\tO\\n', 'is\\tO\\n', 'finished\\tO\\n', 'executing\\tO\\n', '.\\tO\\n', '\\n', 'In\\tO\\n', 'short\\tO\\n', ',\\tO\\n', 'system_web.aspx\\tO\\n', 'provides\\tO\\n', 'an\\tO\\n', 'adversary\\tO\\n', 'with\\tO\\n', 'a\\tO\\n', 'very\\tO\\n', 'stealthy\\tO\\n', 'means\\tO\\n', 'of\\tO\\n', 'near\\tO\\n', 'full\\tO\\n', 'control\\tO\\n', 'of\\tO\\n', 'the\\tO\\n', 'server\\tO\\n', 'on\\tO\\n', 'which\\tO\\n', 'it\\tO\\n', 'resides\\tO\\n', '.\\tO\\n', '\\n', 'This\\tO\\n', 'stealth\\tO\\n', 'might\\tO\\n', 'be\\tO\\n', 'its\\tO\\n', 'most\\tO\\n', 'important\\tO\\n', 'attribute\\tO\\n', '.\\tO\\n', '\\n', 'As\\tO\\n', 'we\\tO\\n', 'will\\tO\\n', 'see\\tO\\n', ',\\tO\\n', 'identifying\\tO\\n', 'web\\tO\\n', 'shells\\tO\\n', 'can\\tO\\n', 'be\\tO\\n', 'much\\tO\\n', 'harder\\tO\\n', 'than\\tO\\n', 'finding\\tO\\n', 'malicious\\tO\\n', 'binaries\\tO\\n', '.\\tO\\n', '\\n', 'In\\tO\\n', 'our\\tO\\n', 'next\\tO\\n', 'post\\tO\\n', ',\\tO\\n', 'we\\tO\\n', 'will\\tO\\n', 'discuss\\tO\\n', 'techniques\\tO\\n', 'for\\tO\\n', 'identifying\\tO\\n', 'web\\tO\\n', 'shells\\tO\\n', '.\\tO\\n', '\\n', 'Stay\\tO\\n', 'tuned\\tO\\n', 'for\\tO\\n', 'Parts\\tO\\n', '2\\tO\\n', '-\\tO\\n', '4\\tO\\n', 'as\\tO\\n', 'we\\tO\\n', 'cover\\tO\\n', 'File\\tO\\n', 'Stacking\\tO\\n', ',\\tO\\n', 'Web\\tO\\n', 'Log\\tO\\n', 'Review\\tO\\n', ',\\tO\\n', 'and\\tO\\n', 'Network\\tO\\n', 'Detection\\tO\\n', '.\\tO\\n', '\\n', 'In\\tO\\n', 'the\\tO\\n', 'meantime\\tO\\n', ',\\tO\\n', 'register\\tO\\n', 'now\\tO\\n', 'for\\tO\\n', 'the\\tO\\n', 'April\\tO\\n', '1st\\tO\\n', 'CrowdCast\\tO\\n', '.\\tO\\n', '\\n']\n",
            "13698\n"
          ],
          "name": "stdout"
        },
        {
          "output_type": "execute_result",
          "data": {
            "text/plain": [
              "115591"
            ]
          },
          "metadata": {
            "tags": []
          },
          "execution_count": 326
        }
      ]
    },
    {
      "cell_type": "code",
      "metadata": {
        "id": "XT9kutbXnU_c",
        "colab_type": "code",
        "outputId": "ed32fb2f-e821-4ac0-963b-5a7603e4e216",
        "colab": {
          "base_uri": "https://localhost:8080/",
          "height": 419
        }
      },
      "source": [
        "df_test"
      ],
      "execution_count": 327,
      "outputs": [
        {
          "output_type": "execute_result",
          "data": {
            "text/html": [
              "<div>\n",
              "<style scoped>\n",
              "    .dataframe tbody tr th:only-of-type {\n",
              "        vertical-align: middle;\n",
              "    }\n",
              "\n",
              "    .dataframe tbody tr th {\n",
              "        vertical-align: top;\n",
              "    }\n",
              "\n",
              "    .dataframe thead th {\n",
              "        text-align: right;\n",
              "    }\n",
              "</style>\n",
              "<table border=\"1\" class=\"dataframe\">\n",
              "  <thead>\n",
              "    <tr style=\"text-align: right;\">\n",
              "      <th></th>\n",
              "      <th>Sentence #</th>\n",
              "      <th>Word</th>\n",
              "      <th>POS</th>\n",
              "      <th>Tag</th>\n",
              "    </tr>\n",
              "  </thead>\n",
              "  <tbody>\n",
              "    <tr>\n",
              "      <th>0</th>\n",
              "      <td>1</td>\n",
              "      <td>Low</td>\n",
              "      <td>None</td>\n",
              "      <td>O</td>\n",
              "    </tr>\n",
              "    <tr>\n",
              "      <th>1</th>\n",
              "      <td>1</td>\n",
              "      <td>-</td>\n",
              "      <td>None</td>\n",
              "      <td>O</td>\n",
              "    </tr>\n",
              "    <tr>\n",
              "      <th>2</th>\n",
              "      <td>1</td>\n",
              "      <td>profile</td>\n",
              "      <td>None</td>\n",
              "      <td>O</td>\n",
              "    </tr>\n",
              "    <tr>\n",
              "      <th>3</th>\n",
              "      <td>1</td>\n",
              "      <td>information</td>\n",
              "      <td>None</td>\n",
              "      <td>O</td>\n",
              "    </tr>\n",
              "    <tr>\n",
              "      <th>4</th>\n",
              "      <td>1</td>\n",
              "      <td>-</td>\n",
              "      <td>None</td>\n",
              "      <td>O</td>\n",
              "    </tr>\n",
              "    <tr>\n",
              "      <th>...</th>\n",
              "      <td>...</td>\n",
              "      <td>...</td>\n",
              "      <td>...</td>\n",
              "      <td>...</td>\n",
              "    </tr>\n",
              "    <tr>\n",
              "      <th>13075</th>\n",
              "      <td>618</td>\n",
              "      <td>the</td>\n",
              "      <td>None</td>\n",
              "      <td>O</td>\n",
              "    </tr>\n",
              "    <tr>\n",
              "      <th>13076</th>\n",
              "      <td>618</td>\n",
              "      <td>April</td>\n",
              "      <td>None</td>\n",
              "      <td>O</td>\n",
              "    </tr>\n",
              "    <tr>\n",
              "      <th>13077</th>\n",
              "      <td>618</td>\n",
              "      <td>1st</td>\n",
              "      <td>None</td>\n",
              "      <td>O</td>\n",
              "    </tr>\n",
              "    <tr>\n",
              "      <th>13078</th>\n",
              "      <td>618</td>\n",
              "      <td>CrowdCast</td>\n",
              "      <td>None</td>\n",
              "      <td>O</td>\n",
              "    </tr>\n",
              "    <tr>\n",
              "      <th>13079</th>\n",
              "      <td>618</td>\n",
              "      <td>.</td>\n",
              "      <td>None</td>\n",
              "      <td>O</td>\n",
              "    </tr>\n",
              "  </tbody>\n",
              "</table>\n",
              "<p>13080 rows × 4 columns</p>\n",
              "</div>"
            ],
            "text/plain": [
              "       Sentence #         Word   POS Tag\n",
              "0               1          Low  None   O\n",
              "1               1            -  None   O\n",
              "2               1      profile  None   O\n",
              "3               1  information  None   O\n",
              "4               1            -  None   O\n",
              "...           ...          ...   ...  ..\n",
              "13075         618          the  None   O\n",
              "13076         618        April  None   O\n",
              "13077         618          1st  None   O\n",
              "13078         618    CrowdCast  None   O\n",
              "13079         618            .  None   O\n",
              "\n",
              "[13080 rows x 4 columns]"
            ]
          },
          "metadata": {
            "tags": []
          },
          "execution_count": 327
        }
      ]
    }
  ]
}